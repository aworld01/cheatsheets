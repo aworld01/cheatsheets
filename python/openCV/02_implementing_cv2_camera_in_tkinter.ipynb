{
 "cells": [
  {
   "cell_type": "code",
   "execution_count": 14,
   "metadata": {},
   "outputs": [],
   "source": [
    "import cv2 #pip install opencv-python\n",
    "import numpy as np #pip install numpy\n",
    "from tkinter import *\n",
    "from PIL import Image, ImageTk #pip install pillow"
   ]
  },
  {
   "cell_type": "code",
   "execution_count": 29,
   "metadata": {},
   "outputs": [
    {
     "ename": "AttributeError",
     "evalue": "'NoneType' object has no attribute '__array_interface__'",
     "output_type": "error",
     "traceback": [
      "\u001b[1;31m---------------------------------------------------------------------------\u001b[0m",
      "\u001b[1;31mAttributeError\u001b[0m                            Traceback (most recent call last)",
      "Cell \u001b[1;32mIn[29], line 24\u001b[0m\n\u001b[0;32m     21\u001b[0m     img \u001b[38;5;241m=\u001b[39m cap\u001b[38;5;241m.\u001b[39mread()[\u001b[38;5;241m1\u001b[39m] \u001b[38;5;66;03m#to read image\u001b[39;00m\n\u001b[0;32m     22\u001b[0m \u001b[38;5;66;03m# img = cv2.cvtColor(img,cv2.COLOR_BGR2RGB) #to convert into RGB\u001b[39;00m\n\u001b[0;32m     23\u001b[0m \u001b[38;5;66;03m# img = cv2.cvtColor(img, i)\u001b[39;00m\n\u001b[1;32m---> 24\u001b[0m     img \u001b[38;5;241m=\u001b[39m ImageTk\u001b[38;5;241m.\u001b[39mPhotoImage(\u001b[43mImage\u001b[49m\u001b[38;5;241;43m.\u001b[39;49m\u001b[43mfromarray\u001b[49m\u001b[43m(\u001b[49m\u001b[43mimg\u001b[49m\u001b[43m)\u001b[49m) \u001b[38;5;66;03m#to convert image array into tkinter image\u001b[39;00m\n\u001b[0;32m     25\u001b[0m     \u001b[38;5;66;03m# l[Image] = img\u001b[39;00m\n\u001b[0;32m     28\u001b[0m     root\u001b[38;5;241m.\u001b[39mupdate()\n",
      "File \u001b[1;32mc:\\myApps\\python311\\Lib\\site-packages\\PIL\\Image.py:3087\u001b[0m, in \u001b[0;36mfromarray\u001b[1;34m(obj, mode)\u001b[0m\n\u001b[0;32m   3040\u001b[0m \u001b[38;5;28;01mdef\u001b[39;00m \u001b[38;5;21mfromarray\u001b[39m(obj, mode\u001b[38;5;241m=\u001b[39m\u001b[38;5;28;01mNone\u001b[39;00m):\n\u001b[0;32m   3041\u001b[0m \u001b[38;5;250m    \u001b[39m\u001b[38;5;124;03m\"\"\"\u001b[39;00m\n\u001b[0;32m   3042\u001b[0m \u001b[38;5;124;03m    Creates an image memory from an object exporting the array interface\u001b[39;00m\n\u001b[0;32m   3043\u001b[0m \u001b[38;5;124;03m    (using the buffer protocol)::\u001b[39;00m\n\u001b[1;32m   (...)\u001b[0m\n\u001b[0;32m   3085\u001b[0m \u001b[38;5;124;03m    .. versionadded:: 1.1.6\u001b[39;00m\n\u001b[0;32m   3086\u001b[0m \u001b[38;5;124;03m    \"\"\"\u001b[39;00m\n\u001b[1;32m-> 3087\u001b[0m     arr \u001b[38;5;241m=\u001b[39m \u001b[43mobj\u001b[49m\u001b[38;5;241;43m.\u001b[39;49m\u001b[43m__array_interface__\u001b[49m\n\u001b[0;32m   3088\u001b[0m     shape \u001b[38;5;241m=\u001b[39m arr[\u001b[38;5;124m\"\u001b[39m\u001b[38;5;124mshape\u001b[39m\u001b[38;5;124m\"\u001b[39m]\n\u001b[0;32m   3089\u001b[0m     ndim \u001b[38;5;241m=\u001b[39m \u001b[38;5;28mlen\u001b[39m(shape)\n",
      "\u001b[1;31mAttributeError\u001b[0m: 'NoneType' object has no attribute '__array_interface__'"
     ]
    }
   ],
   "source": [
    "root = Tk()\n",
    "root.geometry(\"700x540\")\n",
    "root.config(bg=\"black\")\n",
    "\n",
    "\"\"\"Creating Label for title\"\"\"\n",
    "Label(root, text=\"My cam\", font=(\"times new roman\", 30, \"bold\"), bg=\"black\", fg=\"red\").pack()\n",
    "\n",
    "\"\"\"Creating LabelFrame for Camera\"\"\"\n",
    "f = LabelFrame(root, bg=\"red\")\n",
    "f.pack()\n",
    "\n",
    "l = Label(f, fg=\"red\")\n",
    "l.pack()\n",
    "\n",
    "cap = cv2.VideoCapture(0) #to capture image\n",
    "img = cap.read()[1] #to read image\n",
    "\n",
    "# root.mainloop()\n",
    "\n",
    "while True:\n",
    "    img = cap.read()[1] #to read image\n",
    "# img = cv2.cvtColor(img,cv2.COLOR_BGR2RGB) #to convert into RGB\n",
    "# img = cv2.cvtColor(img, i)\n",
    "    img = ImageTk.PhotoImage(Image.fromarray(img)) #to convert image array into tkinter image\n",
    "    # l[Image] = img\n",
    "\n",
    "\n",
    "    root.update()"
   ]
  },
  {
   "cell_type": "code",
   "execution_count": null,
   "metadata": {},
   "outputs": [],
   "source": []
  }
 ],
 "metadata": {
  "kernelspec": {
   "display_name": "Python 3",
   "language": "python",
   "name": "python3"
  },
  "language_info": {
   "codemirror_mode": {
    "name": "ipython",
    "version": 3
   },
   "file_extension": ".py",
   "mimetype": "text/x-python",
   "name": "python",
   "nbconvert_exporter": "python",
   "pygments_lexer": "ipython3",
   "version": "3.11.7"
  }
 },
 "nbformat": 4,
 "nbformat_minor": 2
}
