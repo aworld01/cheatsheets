{
 "cells": [
  {
   "cell_type": "code",
   "execution_count": 1,
   "id": "5787c4c4-9606-444d-aba1-f5ee62aff9bf",
   "metadata": {},
   "outputs": [],
   "source": [
    "import torch"
   ]
  },
  {
   "cell_type": "code",
   "execution_count": 2,
   "id": "a1e446bc-6e1f-4922-8a6f-44b4266151da",
   "metadata": {},
   "outputs": [
    {
     "data": {
      "text/plain": [
       "'2.3.1'"
      ]
     },
     "execution_count": 2,
     "metadata": {},
     "output_type": "execute_result"
    }
   ],
   "source": [
    "torch.__version__ #to check version of pytorch"
   ]
  },
  {
   "cell_type": "markdown",
   "id": "38683527-e089-4e08-bceb-4b706996a30a",
   "metadata": {},
   "source": [
    "<h1>Introduction to tensors</h1>"
   ]
  },
  {
   "cell_type": "markdown",
   "id": "d436c633-b8a3-4b5e-ae7d-384744cd7cd7",
   "metadata": {},
   "source": [
    "<h2>Creating tensors</h2>"
   ]
  },
  {
   "cell_type": "markdown",
   "id": "5c585849-395a-4638-b341-143aead80f96",
   "metadata": {},
   "source": [
    "<h3>01.Scaler</h3>"
   ]
  },
  {
   "cell_type": "code",
   "execution_count": 3,
   "id": "936867a5-7fd5-4774-9934-06c32c18012e",
   "metadata": {},
   "outputs": [
    {
     "data": {
      "text/plain": [
       "tensor(8)"
      ]
     },
     "execution_count": 3,
     "metadata": {},
     "output_type": "execute_result"
    }
   ],
   "source": [
    "s = torch.tensor(8) #to create a scalar value\n",
    "s"
   ]
  },
  {
   "cell_type": "code",
   "execution_count": 4,
   "id": "bc037335-fdc2-4dfe-947b-e45df526fe7b",
   "metadata": {},
   "outputs": [
    {
     "data": {
      "text/plain": [
       "8"
      ]
     },
     "execution_count": 4,
     "metadata": {},
     "output_type": "execute_result"
    }
   ],
   "source": [
    "s.item() #to extract item form scaler"
   ]
  },
  {
   "cell_type": "code",
   "execution_count": 5,
   "id": "53ec7c9e-d7a6-4a98-8281-2f8357141b61",
   "metadata": {},
   "outputs": [
    {
     "data": {
      "text/plain": [
       "0"
      ]
     },
     "execution_count": 5,
     "metadata": {},
     "output_type": "execute_result"
    }
   ],
   "source": [
    "s.ndim #to check dimensons"
   ]
  },
  {
   "cell_type": "code",
   "execution_count": 6,
   "id": "fc8e60b2-ce3b-44c7-b41d-21a08f45f724",
   "metadata": {},
   "outputs": [
    {
     "data": {
      "text/plain": [
       "torch.Size([])"
      ]
     },
     "execution_count": 6,
     "metadata": {},
     "output_type": "execute_result"
    }
   ],
   "source": [
    "s.shape #to check the shape of dimention"
   ]
  },
  {
   "cell_type": "markdown",
   "id": "c17ea6df-f16e-4490-a36d-21a76513ee7c",
   "metadata": {},
   "source": [
    "<h3>02.Vector</h3>"
   ]
  },
  {
   "cell_type": "code",
   "execution_count": 7,
   "id": "02066fdf-4aec-4f8d-b694-612bc66faf9f",
   "metadata": {},
   "outputs": [
    {
     "data": {
      "text/plain": [
       "tensor([3, 4, 1])"
      ]
     },
     "execution_count": 7,
     "metadata": {},
     "output_type": "execute_result"
    }
   ],
   "source": [
    "v = torch.tensor([3,4,1])\n",
    "v"
   ]
  },
  {
   "cell_type": "code",
   "execution_count": 8,
   "id": "b8c867d2-f844-4c9c-bdc4-edae3f844aa0",
   "metadata": {},
   "outputs": [
    {
     "data": {
      "text/plain": [
       "1"
      ]
     },
     "execution_count": 8,
     "metadata": {},
     "output_type": "execute_result"
    }
   ],
   "source": [
    "v.ndim #count starting or last square brackets to know the dimension"
   ]
  },
  {
   "cell_type": "code",
   "execution_count": 9,
   "id": "99374086-1ac1-4ea8-bd7e-b57308b58fce",
   "metadata": {},
   "outputs": [
    {
     "data": {
      "text/plain": [
       "torch.Size([3])"
      ]
     },
     "execution_count": 9,
     "metadata": {},
     "output_type": "execute_result"
    }
   ],
   "source": [
    "v.shape"
   ]
  },
  {
   "cell_type": "markdown",
   "id": "a94e230e-a685-4894-9f76-1b27b354b538",
   "metadata": {},
   "source": [
    "<h3>03.Matrix</h3>"
   ]
  },
  {
   "cell_type": "code",
   "execution_count": 10,
   "id": "27b5beee-48fc-4e56-9f2f-4b75d51c9b7f",
   "metadata": {},
   "outputs": [
    {
     "data": {
      "text/plain": [
       "tensor([[1, 2, 3],\n",
       "        [4, 5, 6]])"
      ]
     },
     "execution_count": 10,
     "metadata": {},
     "output_type": "execute_result"
    }
   ],
   "source": [
    "m = torch.tensor([[1,2,3],[4,5,6]])\n",
    "m"
   ]
  },
  {
   "cell_type": "code",
   "execution_count": 11,
   "id": "012e938a-25e6-4c0f-b05f-234b557ba624",
   "metadata": {},
   "outputs": [
    {
     "data": {
      "text/plain": [
       "2"
      ]
     },
     "execution_count": 11,
     "metadata": {},
     "output_type": "execute_result"
    }
   ],
   "source": [
    "m.ndim"
   ]
  },
  {
   "cell_type": "code",
   "execution_count": 12,
   "id": "962deb68-b17b-4159-ae6b-d6fe0b963537",
   "metadata": {},
   "outputs": [
    {
     "data": {
      "text/plain": [
       "torch.Size([2, 3])"
      ]
     },
     "execution_count": 12,
     "metadata": {},
     "output_type": "execute_result"
    }
   ],
   "source": [
    "m.shape"
   ]
  },
  {
   "cell_type": "markdown",
   "id": "062f2c0d-986c-4020-928f-6fc95162b720",
   "metadata": {},
   "source": [
    "<h3>3D tensors</h3>"
   ]
  },
  {
   "cell_type": "code",
   "execution_count": 13,
   "id": "97d7966e-dca4-4fe2-894a-37090e58efba",
   "metadata": {},
   "outputs": [
    {
     "data": {
      "text/plain": [
       "tensor([[[1, 2, 3, 4],\n",
       "         [4, 5, 6, 4],\n",
       "         [7, 8, 9, 4]]])"
      ]
     },
     "execution_count": 13,
     "metadata": {},
     "output_type": "execute_result"
    }
   ],
   "source": [
    "t = torch.tensor([[[1,2,3,4],[4,5,6,4],[7,8,9,4]]])\n",
    "t"
   ]
  },
  {
   "cell_type": "code",
   "execution_count": 14,
   "id": "986230ef-fedd-423a-a9c4-a00cd1fd8ca7",
   "metadata": {},
   "outputs": [
    {
     "data": {
      "text/plain": [
       "3"
      ]
     },
     "execution_count": 14,
     "metadata": {},
     "output_type": "execute_result"
    }
   ],
   "source": [
    "t.ndim"
   ]
  },
  {
   "cell_type": "code",
   "execution_count": 15,
   "id": "5be0ca0b-b896-435b-aab9-6d1b08d15180",
   "metadata": {},
   "outputs": [
    {
     "data": {
      "text/plain": [
       "torch.Size([1, 3, 4])"
      ]
     },
     "execution_count": 15,
     "metadata": {},
     "output_type": "execute_result"
    }
   ],
   "source": [
    "t.shape"
   ]
  },
  {
   "cell_type": "markdown",
   "id": "7498ebdc-dda0-4f49-9168-e13959db47cc",
   "metadata": {},
   "source": [
    "<h3>Random tensors</h3>"
   ]
  },
  {
   "cell_type": "code",
   "execution_count": 16,
   "id": "e9672b41-1cde-41cc-9ad1-579077f502d0",
   "metadata": {},
   "outputs": [
    {
     "data": {
      "text/plain": [
       "tensor([[0.9979, 0.2914, 0.5755, 0.6319],\n",
       "        [0.5650, 0.7345, 0.6183, 0.8408],\n",
       "        [0.4807, 0.9549, 0.5928, 0.4872]])"
      ]
     },
     "execution_count": 16,
     "metadata": {},
     "output_type": "execute_result"
    }
   ],
   "source": [
    "rt = torch.rand(3,4) #rt = torch.rand(rows, columns)\n",
    "rt"
   ]
  },
  {
   "cell_type": "code",
   "execution_count": 17,
   "id": "a5f49f35-0a31-4070-92c7-1b17eed5ea16",
   "metadata": {},
   "outputs": [
    {
     "data": {
      "text/plain": [
       "tensor([[[0.9160, 0.0388, 0.6801, 0.6711],\n",
       "         [0.5324, 0.1821, 0.3738, 0.4142],\n",
       "         [0.8622, 0.3839, 0.7398, 0.0892]]])"
      ]
     },
     "execution_count": 17,
     "metadata": {},
     "output_type": "execute_result"
    }
   ],
   "source": [
    "brt = torch.rand(1,3,4)\n",
    "brt"
   ]
  },
  {
   "cell_type": "code",
   "execution_count": 18,
   "id": "7ecc93b3-d072-490b-b96a-e049decb975b",
   "metadata": {},
   "outputs": [
    {
     "data": {
      "text/plain": [
       "tensor([[[0.8800, 0.5882, 0.3411, 0.2444],\n",
       "         [0.9078, 0.3386, 0.5710, 0.5252],\n",
       "         [0.9716, 0.7031, 0.8536, 0.2265]],\n",
       "\n",
       "        [[0.6923, 0.2431, 0.6978, 0.1010],\n",
       "         [0.1075, 0.7279, 0.7855, 0.6277],\n",
       "         [0.2516, 0.5058, 0.9258, 0.8801]]])"
      ]
     },
     "execution_count": 18,
     "metadata": {},
     "output_type": "execute_result"
    }
   ],
   "source": [
    "brt2 = torch.rand(2,3,4)\n",
    "brt2"
   ]
  },
  {
   "cell_type": "markdown",
   "id": "8d49edaf-2bfb-4218-a7aa-4db36e136082",
   "metadata": {},
   "source": [
    "<h1>Zeros</h1>"
   ]
  },
  {
   "cell_type": "code",
   "execution_count": 20,
   "id": "85ed6846-31fd-4edc-8211-5549d93f5461",
   "metadata": {},
   "outputs": [
    {
     "data": {
      "text/plain": [
       "tensor([[0., 0., 0., 0.],\n",
       "        [0., 0., 0., 0.],\n",
       "        [0., 0., 0., 0.]])"
      ]
     },
     "execution_count": 20,
     "metadata": {},
     "output_type": "execute_result"
    }
   ],
   "source": [
    "z = torch.zeros(3,4)\n",
    "z"
   ]
  },
  {
   "cell_type": "markdown",
   "id": "62a886ba-f472-47b5-9452-4046566e4201",
   "metadata": {},
   "source": [
    "<h1>Ones</h1>"
   ]
  },
  {
   "cell_type": "code",
   "execution_count": 22,
   "id": "957ce278-bc71-4c59-b275-cc6d562af44f",
   "metadata": {},
   "outputs": [
    {
     "data": {
      "text/plain": [
       "tensor([[1., 1., 1., 1.],\n",
       "        [1., 1., 1., 1.],\n",
       "        [1., 1., 1., 1.]])"
      ]
     },
     "execution_count": 22,
     "metadata": {},
     "output_type": "execute_result"
    }
   ],
   "source": [
    "o = torch.ones(3,4)\n",
    "o"
   ]
  },
  {
   "cell_type": "markdown",
   "id": "358faba0-6c80-4904-afdf-a4f395badd6a",
   "metadata": {},
   "source": [
    "<h1>Creating arange</h1>"
   ]
  },
  {
   "cell_type": "code",
   "execution_count": 24,
   "id": "eeb3793d-67f6-470f-8d21-96995feca074",
   "metadata": {},
   "outputs": [
    {
     "data": {
      "text/plain": [
       "tensor([1, 2, 3, 4, 5, 6, 7, 8, 9])"
      ]
     },
     "execution_count": 24,
     "metadata": {},
     "output_type": "execute_result"
    }
   ],
   "source": [
    "a1 = torch.arange(1,10) #a = torch.arange(start, end)\n",
    "a1"
   ]
  },
  {
   "cell_type": "code",
   "execution_count": 27,
   "id": "75c06292-0636-44d9-b84e-90d2ea3b897f",
   "metadata": {},
   "outputs": [
    {
     "data": {
      "text/plain": [
       "tensor([1, 3, 5, 7, 9])"
      ]
     },
     "execution_count": 27,
     "metadata": {},
     "output_type": "execute_result"
    }
   ],
   "source": [
    "a2 = torch.arange(1,10,2) #a = torch.arange(start, end, step)\n",
    "a2"
   ]
  },
  {
   "cell_type": "markdown",
   "id": "aac30330-0a5f-41b9-ace6-f85a239edf20",
   "metadata": {},
   "source": [
    "<h1>Tensor_like</h1>"
   ]
  },
  {
   "cell_type": "code",
   "execution_count": 31,
   "id": "92700682-1a40-4f12-8f6d-9234aecc7c3c",
   "metadata": {},
   "outputs": [
    {
     "data": {
      "text/plain": [
       "tensor([[1, 3, 5, 7],\n",
       "        [5, 3, 5, 1]])"
      ]
     },
     "execution_count": 31,
     "metadata": {},
     "output_type": "execute_result"
    }
   ],
   "source": [
    "t = torch.tensor([[1,3,5,7],[5,3,5,1]])\n",
    "t"
   ]
  },
  {
   "cell_type": "code",
   "execution_count": 33,
   "id": "b43cb50f-9126-49f3-8bec-5f836aa11f4e",
   "metadata": {},
   "outputs": [
    {
     "data": {
      "text/plain": [
       "tensor([[0, 0, 0, 0],\n",
       "        [0, 0, 0, 0]])"
      ]
     },
     "execution_count": 33,
     "metadata": {},
     "output_type": "execute_result"
    }
   ],
   "source": [
    "zl = torch.zeros_like(t) #to create zeros tensor with given tensor dimension\n",
    "zl"
   ]
  },
  {
   "cell_type": "code",
   "execution_count": 35,
   "id": "e0bb3f73-049d-4399-817a-b91d906249ff",
   "metadata": {},
   "outputs": [
    {
     "data": {
      "text/plain": [
       "tensor([[1, 1, 1, 1],\n",
       "        [1, 1, 1, 1]])"
      ]
     },
     "execution_count": 35,
     "metadata": {},
     "output_type": "execute_result"
    }
   ],
   "source": [
    "ol = torch.ones_like(t) #to create ones tensor with given tensor dimension\n",
    "ol"
   ]
  },
  {
   "cell_type": "markdown",
   "id": "c6ba751d-b55d-4387-ae4b-b8dd72f5a2fb",
   "metadata": {},
   "source": [
    "<h2>torch.eye (unit / identity matrix)</h2>"
   ]
  },
  {
   "cell_type": "code",
   "execution_count": 37,
   "id": "d4ca3ea0-c279-4ef0-a344-280800c376c7",
   "metadata": {},
   "outputs": [
    {
     "data": {
      "text/plain": [
       "tensor([[1., 0., 0., 0., 0.],\n",
       "        [0., 1., 0., 0., 0.],\n",
       "        [0., 0., 1., 0., 0.],\n",
       "        [0., 0., 0., 1., 0.],\n",
       "        [0., 0., 0., 0., 1.]])"
      ]
     },
     "execution_count": 37,
     "metadata": {},
     "output_type": "execute_result"
    }
   ],
   "source": [
    "e = torch.eye(5) #to make 2D digonal one tensor\n",
    "e"
   ]
  },
  {
   "cell_type": "markdown",
   "id": "2bfa1311-40f8-4dd8-afd5-ba7a82763b0a",
   "metadata": {},
   "source": [
    "<h2>torch.full</h2>"
   ]
  },
  {
   "cell_type": "code",
   "execution_count": 40,
   "id": "f4461b3c-324c-44c2-a8e0-c93034058d45",
   "metadata": {},
   "outputs": [
    {
     "data": {
      "text/plain": [
       "tensor([[1, 1, 1, 1],\n",
       "        [1, 1, 1, 1],\n",
       "        [1, 1, 1, 1]])"
      ]
     },
     "execution_count": 40,
     "metadata": {},
     "output_type": "execute_result"
    }
   ],
   "source": [
    "f = torch.full((3,4),1) #torch.full((start, end),filling number)to create a tensor filled with a specific value\n",
    "f"
   ]
  },
  {
   "cell_type": "markdown",
   "id": "d87ce9dd-018d-40cf-aeec-e57d15779100",
   "metadata": {},
   "source": [
    "<h2>torch.linspace</h2>"
   ]
  },
  {
   "cell_type": "code",
   "execution_count": 43,
   "id": "de12a290-17a0-448f-a436-88f9f932e0ed",
   "metadata": {},
   "outputs": [
    {
     "data": {
      "text/plain": [
       "tensor([ 1.0000,  3.2500,  5.5000,  7.7500, 10.0000])"
      ]
     },
     "execution_count": 43,
     "metadata": {},
     "output_type": "execute_result"
    }
   ],
   "source": [
    "l = torch.linspace(1,10,5) #to create a tensor with linearspace => torch.linspace(start, end, total_number)\n",
    "l"
   ]
  },
  {
   "cell_type": "code",
   "execution_count": null,
   "id": "75e007a4-3414-44c1-8a27-97ff39d4595d",
   "metadata": {},
   "outputs": [],
   "source": []
  }
 ],
 "metadata": {
  "kernelspec": {
   "display_name": "Python 3 (ipykernel)",
   "language": "python",
   "name": "python3"
  },
  "language_info": {
   "codemirror_mode": {
    "name": "ipython",
    "version": 3
   },
   "file_extension": ".py",
   "mimetype": "text/x-python",
   "name": "python",
   "nbconvert_exporter": "python",
   "pygments_lexer": "ipython3",
   "version": "3.12.3"
  }
 },
 "nbformat": 4,
 "nbformat_minor": 5
}
