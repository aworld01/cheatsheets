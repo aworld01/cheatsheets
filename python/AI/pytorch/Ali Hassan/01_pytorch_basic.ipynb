{
 "cells": [
  {
   "cell_type": "code",
   "execution_count": 1,
   "id": "5787c4c4-9606-444d-aba1-f5ee62aff9bf",
   "metadata": {},
   "outputs": [],
   "source": [
    "import torch"
   ]
  },
  {
   "cell_type": "code",
   "execution_count": 2,
   "id": "a1e446bc-6e1f-4922-8a6f-44b4266151da",
   "metadata": {},
   "outputs": [
    {
     "data": {
      "text/plain": [
       "'2.3.1'"
      ]
     },
     "execution_count": 2,
     "metadata": {},
     "output_type": "execute_result"
    }
   ],
   "source": [
    "torch.__version__ #to check version of pytorch"
   ]
  },
  {
   "cell_type": "markdown",
   "id": "38683527-e089-4e08-bceb-4b706996a30a",
   "metadata": {},
   "source": [
    "<h1>Introduction to tensors</h1>"
   ]
  },
  {
   "cell_type": "markdown",
   "id": "d436c633-b8a3-4b5e-ae7d-384744cd7cd7",
   "metadata": {},
   "source": [
    "<h2>Creating tensors</h2>"
   ]
  },
  {
   "cell_type": "markdown",
   "id": "5c585849-395a-4638-b341-143aead80f96",
   "metadata": {},
   "source": [
    "<h3>01.Scaler</h3>"
   ]
  },
  {
   "cell_type": "code",
   "execution_count": 3,
   "id": "936867a5-7fd5-4774-9934-06c32c18012e",
   "metadata": {},
   "outputs": [
    {
     "data": {
      "text/plain": [
       "tensor(8)"
      ]
     },
     "execution_count": 3,
     "metadata": {},
     "output_type": "execute_result"
    }
   ],
   "source": [
    "s = torch.tensor(8) #to create a scalar value\n",
    "s"
   ]
  },
  {
   "cell_type": "code",
   "execution_count": 9,
   "id": "bc037335-fdc2-4dfe-947b-e45df526fe7b",
   "metadata": {},
   "outputs": [
    {
     "data": {
      "text/plain": [
       "8"
      ]
     },
     "execution_count": 9,
     "metadata": {},
     "output_type": "execute_result"
    }
   ],
   "source": [
    "s.item() #to extract item form scaler"
   ]
  },
  {
   "cell_type": "code",
   "execution_count": 13,
   "id": "53ec7c9e-d7a6-4a98-8281-2f8357141b61",
   "metadata": {},
   "outputs": [
    {
     "data": {
      "text/plain": [
       "0"
      ]
     },
     "execution_count": 13,
     "metadata": {},
     "output_type": "execute_result"
    }
   ],
   "source": [
    "s.ndim #to check dimensons"
   ]
  },
  {
   "cell_type": "code",
   "execution_count": 17,
   "id": "fc8e60b2-ce3b-44c7-b41d-21a08f45f724",
   "metadata": {},
   "outputs": [
    {
     "data": {
      "text/plain": [
       "torch.Size([])"
      ]
     },
     "execution_count": 17,
     "metadata": {},
     "output_type": "execute_result"
    }
   ],
   "source": [
    "s.shape #to check the shape of dimention"
   ]
  },
  {
   "cell_type": "markdown",
   "id": "c17ea6df-f16e-4490-a36d-21a76513ee7c",
   "metadata": {},
   "source": [
    "<h3>02.Vector</h3>"
   ]
  },
  {
   "cell_type": "code",
   "execution_count": 18,
   "id": "02066fdf-4aec-4f8d-b694-612bc66faf9f",
   "metadata": {},
   "outputs": [
    {
     "data": {
      "text/plain": [
       "tensor([3, 4, 1])"
      ]
     },
     "execution_count": 18,
     "metadata": {},
     "output_type": "execute_result"
    }
   ],
   "source": [
    "v = torch.tensor([3,4,1])\n",
    "v"
   ]
  },
  {
   "cell_type": "code",
   "execution_count": 19,
   "id": "b8c867d2-f844-4c9c-bdc4-edae3f844aa0",
   "metadata": {},
   "outputs": [
    {
     "data": {
      "text/plain": [
       "1"
      ]
     },
     "execution_count": 19,
     "metadata": {},
     "output_type": "execute_result"
    }
   ],
   "source": [
    "v.ndim #count starting or last square brackets to know the dimension"
   ]
  },
  {
   "cell_type": "code",
   "execution_count": 20,
   "id": "99374086-1ac1-4ea8-bd7e-b57308b58fce",
   "metadata": {},
   "outputs": [
    {
     "data": {
      "text/plain": [
       "torch.Size([3])"
      ]
     },
     "execution_count": 20,
     "metadata": {},
     "output_type": "execute_result"
    }
   ],
   "source": [
    "v.shape"
   ]
  },
  {
   "cell_type": "markdown",
   "id": "a94e230e-a685-4894-9f76-1b27b354b538",
   "metadata": {},
   "source": [
    "<h3>03.Matrix</h3>"
   ]
  },
  {
   "cell_type": "code",
   "execution_count": 21,
   "id": "27b5beee-48fc-4e56-9f2f-4b75d51c9b7f",
   "metadata": {},
   "outputs": [
    {
     "data": {
      "text/plain": [
       "tensor([[1, 2, 3],\n",
       "        [4, 5, 6]])"
      ]
     },
     "execution_count": 21,
     "metadata": {},
     "output_type": "execute_result"
    }
   ],
   "source": [
    "m = torch.tensor([[1,2,3],[4,5,6]])\n",
    "m"
   ]
  },
  {
   "cell_type": "code",
   "execution_count": 22,
   "id": "012e938a-25e6-4c0f-b05f-234b557ba624",
   "metadata": {},
   "outputs": [
    {
     "data": {
      "text/plain": [
       "2"
      ]
     },
     "execution_count": 22,
     "metadata": {},
     "output_type": "execute_result"
    }
   ],
   "source": [
    "m.ndim"
   ]
  },
  {
   "cell_type": "code",
   "execution_count": 23,
   "id": "962deb68-b17b-4159-ae6b-d6fe0b963537",
   "metadata": {},
   "outputs": [
    {
     "data": {
      "text/plain": [
       "torch.Size([2, 3])"
      ]
     },
     "execution_count": 23,
     "metadata": {},
     "output_type": "execute_result"
    }
   ],
   "source": [
    "m.shape"
   ]
  },
  {
   "cell_type": "markdown",
   "id": "062f2c0d-986c-4020-928f-6fc95162b720",
   "metadata": {},
   "source": [
    "<h3>3D tensors</h3>"
   ]
  },
  {
   "cell_type": "code",
   "execution_count": 30,
   "id": "97d7966e-dca4-4fe2-894a-37090e58efba",
   "metadata": {},
   "outputs": [
    {
     "data": {
      "text/plain": [
       "tensor([[[1, 2, 3, 4],\n",
       "         [4, 5, 6, 4],\n",
       "         [7, 8, 9, 4]]])"
      ]
     },
     "execution_count": 30,
     "metadata": {},
     "output_type": "execute_result"
    }
   ],
   "source": [
    "t = torch.tensor([[[1,2,3,4],[4,5,6,4],[7,8,9,4]]])\n",
    "t"
   ]
  },
  {
   "cell_type": "code",
   "execution_count": 31,
   "id": "986230ef-fedd-423a-a9c4-a00cd1fd8ca7",
   "metadata": {},
   "outputs": [
    {
     "data": {
      "text/plain": [
       "3"
      ]
     },
     "execution_count": 31,
     "metadata": {},
     "output_type": "execute_result"
    }
   ],
   "source": [
    "t.ndim"
   ]
  },
  {
   "cell_type": "code",
   "execution_count": 32,
   "id": "5be0ca0b-b896-435b-aab9-6d1b08d15180",
   "metadata": {},
   "outputs": [
    {
     "data": {
      "text/plain": [
       "torch.Size([1, 3, 4])"
      ]
     },
     "execution_count": 32,
     "metadata": {},
     "output_type": "execute_result"
    }
   ],
   "source": [
    "t.shape"
   ]
  },
  {
   "cell_type": "markdown",
   "id": "7498ebdc-dda0-4f49-9168-e13959db47cc",
   "metadata": {},
   "source": [
    "<h3>Random tensors</h3>"
   ]
  },
  {
   "cell_type": "code",
   "execution_count": 36,
   "id": "e9672b41-1cde-41cc-9ad1-579077f502d0",
   "metadata": {},
   "outputs": [
    {
     "data": {
      "text/plain": [
       "tensor([[0.6051, 0.3738, 0.6500, 0.7905],\n",
       "        [0.1192, 0.8127, 0.7939, 0.9664],\n",
       "        [0.5658, 0.0173, 0.7633, 0.2540]])"
      ]
     },
     "execution_count": 36,
     "metadata": {},
     "output_type": "execute_result"
    }
   ],
   "source": [
    "rt = torch.rand(3,4) #rt = torch.rand(rows, columns)\n",
    "rt"
   ]
  },
  {
   "cell_type": "code",
   "execution_count": 37,
   "id": "a5f49f35-0a31-4070-92c7-1b17eed5ea16",
   "metadata": {},
   "outputs": [
    {
     "data": {
      "text/plain": [
       "tensor([[[0.8186, 0.4968, 0.9270, 0.1388],\n",
       "         [0.8353, 0.0541, 0.3857, 0.3598],\n",
       "         [0.6299, 0.0484, 0.5401, 0.1418]]])"
      ]
     },
     "execution_count": 37,
     "metadata": {},
     "output_type": "execute_result"
    }
   ],
   "source": [
    "brt = torch.rand(1,3,4)\n",
    "brt"
   ]
  },
  {
   "cell_type": "code",
   "execution_count": 38,
   "id": "7ecc93b3-d072-490b-b96a-e049decb975b",
   "metadata": {},
   "outputs": [
    {
     "data": {
      "text/plain": [
       "tensor([[[0.5416, 0.6978, 0.5812, 0.3753],\n",
       "         [0.1765, 0.1646, 0.8545, 0.6751],\n",
       "         [0.4126, 0.4928, 0.9522, 0.1187]],\n",
       "\n",
       "        [[0.2180, 0.2381, 0.3152, 0.5759],\n",
       "         [0.4615, 0.9177, 0.9120, 0.3553],\n",
       "         [0.9490, 0.8095, 0.2599, 0.5248]]])"
      ]
     },
     "execution_count": 38,
     "metadata": {},
     "output_type": "execute_result"
    }
   ],
   "source": [
    "brt2 = torch.rand(2,3,4)\n",
    "brt2"
   ]
  },
  {
   "cell_type": "code",
   "execution_count": null,
   "id": "12407cd9-423a-4f8e-8360-43ae8b6d6d8f",
   "metadata": {},
   "outputs": [],
   "source": []
  }
 ],
 "metadata": {
  "kernelspec": {
   "display_name": "Python 3 (ipykernel)",
   "language": "python",
   "name": "python3"
  },
  "language_info": {
   "codemirror_mode": {
    "name": "ipython",
    "version": 3
   },
   "file_extension": ".py",
   "mimetype": "text/x-python",
   "name": "python",
   "nbconvert_exporter": "python",
   "pygments_lexer": "ipython3",
   "version": "3.12.3"
  }
 },
 "nbformat": 4,
 "nbformat_minor": 5
}
