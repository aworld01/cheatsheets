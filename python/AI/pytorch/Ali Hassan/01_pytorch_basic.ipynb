{
 "cells": [
  {
   "cell_type": "code",
   "execution_count": 2,
   "id": "5787c4c4-9606-444d-aba1-f5ee62aff9bf",
   "metadata": {},
   "outputs": [],
   "source": [
    "import torch"
   ]
  },
  {
   "cell_type": "code",
   "execution_count": 3,
   "id": "a1e446bc-6e1f-4922-8a6f-44b4266151da",
   "metadata": {},
   "outputs": [
    {
     "data": {
      "text/plain": [
       "'2.3.1'"
      ]
     },
     "execution_count": 3,
     "metadata": {},
     "output_type": "execute_result"
    }
   ],
   "source": [
    "torch.__version__ #to check version of pytorch"
   ]
  },
  {
   "cell_type": "markdown",
   "id": "38683527-e089-4e08-bceb-4b706996a30a",
   "metadata": {},
   "source": [
    "<h1>Introduction to tensors</h1>"
   ]
  },
  {
   "cell_type": "markdown",
   "id": "d436c633-b8a3-4b5e-ae7d-384744cd7cd7",
   "metadata": {},
   "source": [
    "<h2>Creating tensors</h2>"
   ]
  },
  {
   "cell_type": "markdown",
   "id": "5c585849-395a-4638-b341-143aead80f96",
   "metadata": {},
   "source": [
    "<h3>01.Scaler</h3>"
   ]
  },
  {
   "cell_type": "code",
   "execution_count": 4,
   "id": "936867a5-7fd5-4774-9934-06c32c18012e",
   "metadata": {},
   "outputs": [
    {
     "data": {
      "text/plain": [
       "tensor(8)"
      ]
     },
     "execution_count": 4,
     "metadata": {},
     "output_type": "execute_result"
    }
   ],
   "source": [
    "s = torch.tensor(8) #to create a scalar value\n",
    "s"
   ]
  },
  {
   "cell_type": "code",
   "execution_count": 5,
   "id": "bc037335-fdc2-4dfe-947b-e45df526fe7b",
   "metadata": {},
   "outputs": [
    {
     "data": {
      "text/plain": [
       "8"
      ]
     },
     "execution_count": 5,
     "metadata": {},
     "output_type": "execute_result"
    }
   ],
   "source": [
    "s.item() #to extract item form scaler"
   ]
  },
  {
   "cell_type": "code",
   "execution_count": 6,
   "id": "53ec7c9e-d7a6-4a98-8281-2f8357141b61",
   "metadata": {},
   "outputs": [
    {
     "data": {
      "text/plain": [
       "0"
      ]
     },
     "execution_count": 6,
     "metadata": {},
     "output_type": "execute_result"
    }
   ],
   "source": [
    "s.ndim #to check dimensons"
   ]
  },
  {
   "cell_type": "code",
   "execution_count": 7,
   "id": "fc8e60b2-ce3b-44c7-b41d-21a08f45f724",
   "metadata": {},
   "outputs": [
    {
     "data": {
      "text/plain": [
       "torch.Size([])"
      ]
     },
     "execution_count": 7,
     "metadata": {},
     "output_type": "execute_result"
    }
   ],
   "source": [
    "s.shape #to check the shape of dimention"
   ]
  },
  {
   "cell_type": "markdown",
   "id": "c17ea6df-f16e-4490-a36d-21a76513ee7c",
   "metadata": {},
   "source": [
    "<h3>02.Vector</h3>"
   ]
  },
  {
   "cell_type": "code",
   "execution_count": 8,
   "id": "02066fdf-4aec-4f8d-b694-612bc66faf9f",
   "metadata": {},
   "outputs": [
    {
     "data": {
      "text/plain": [
       "tensor([3, 4, 1])"
      ]
     },
     "execution_count": 8,
     "metadata": {},
     "output_type": "execute_result"
    }
   ],
   "source": [
    "v = torch.tensor([3,4,1])\n",
    "v"
   ]
  },
  {
   "cell_type": "code",
   "execution_count": 9,
   "id": "b8c867d2-f844-4c9c-bdc4-edae3f844aa0",
   "metadata": {},
   "outputs": [
    {
     "data": {
      "text/plain": [
       "1"
      ]
     },
     "execution_count": 9,
     "metadata": {},
     "output_type": "execute_result"
    }
   ],
   "source": [
    "v.ndim #count starting or last square brackets to know the dimension"
   ]
  },
  {
   "cell_type": "code",
   "execution_count": 10,
   "id": "99374086-1ac1-4ea8-bd7e-b57308b58fce",
   "metadata": {},
   "outputs": [
    {
     "data": {
      "text/plain": [
       "torch.Size([3])"
      ]
     },
     "execution_count": 10,
     "metadata": {},
     "output_type": "execute_result"
    }
   ],
   "source": [
    "v.shape"
   ]
  },
  {
   "cell_type": "markdown",
   "id": "a94e230e-a685-4894-9f76-1b27b354b538",
   "metadata": {},
   "source": [
    "<h3>03.Matrix</h3>"
   ]
  },
  {
   "cell_type": "code",
   "execution_count": 11,
   "id": "27b5beee-48fc-4e56-9f2f-4b75d51c9b7f",
   "metadata": {},
   "outputs": [
    {
     "data": {
      "text/plain": [
       "tensor([[1, 2, 3],\n",
       "        [4, 5, 6]])"
      ]
     },
     "execution_count": 11,
     "metadata": {},
     "output_type": "execute_result"
    }
   ],
   "source": [
    "m = torch.tensor([[1,2,3],[4,5,6]])\n",
    "m"
   ]
  },
  {
   "cell_type": "code",
   "execution_count": 12,
   "id": "012e938a-25e6-4c0f-b05f-234b557ba624",
   "metadata": {},
   "outputs": [
    {
     "data": {
      "text/plain": [
       "2"
      ]
     },
     "execution_count": 12,
     "metadata": {},
     "output_type": "execute_result"
    }
   ],
   "source": [
    "m.ndim"
   ]
  },
  {
   "cell_type": "code",
   "execution_count": 13,
   "id": "962deb68-b17b-4159-ae6b-d6fe0b963537",
   "metadata": {},
   "outputs": [
    {
     "data": {
      "text/plain": [
       "torch.Size([2, 3])"
      ]
     },
     "execution_count": 13,
     "metadata": {},
     "output_type": "execute_result"
    }
   ],
   "source": [
    "m.shape"
   ]
  },
  {
   "cell_type": "markdown",
   "id": "062f2c0d-986c-4020-928f-6fc95162b720",
   "metadata": {},
   "source": [
    "<h3>3D tensors</h3>"
   ]
  },
  {
   "cell_type": "code",
   "execution_count": 14,
   "id": "97d7966e-dca4-4fe2-894a-37090e58efba",
   "metadata": {},
   "outputs": [
    {
     "data": {
      "text/plain": [
       "tensor([[[1, 2, 3, 4],\n",
       "         [4, 5, 6, 4],\n",
       "         [7, 8, 9, 4]]])"
      ]
     },
     "execution_count": 14,
     "metadata": {},
     "output_type": "execute_result"
    }
   ],
   "source": [
    "t = torch.tensor([[[1,2,3,4],[4,5,6,4],[7,8,9,4]]])\n",
    "t"
   ]
  },
  {
   "cell_type": "code",
   "execution_count": 15,
   "id": "986230ef-fedd-423a-a9c4-a00cd1fd8ca7",
   "metadata": {},
   "outputs": [
    {
     "data": {
      "text/plain": [
       "3"
      ]
     },
     "execution_count": 15,
     "metadata": {},
     "output_type": "execute_result"
    }
   ],
   "source": [
    "t.ndim"
   ]
  },
  {
   "cell_type": "code",
   "execution_count": 16,
   "id": "5be0ca0b-b896-435b-aab9-6d1b08d15180",
   "metadata": {},
   "outputs": [
    {
     "data": {
      "text/plain": [
       "torch.Size([1, 3, 4])"
      ]
     },
     "execution_count": 16,
     "metadata": {},
     "output_type": "execute_result"
    }
   ],
   "source": [
    "t.shape"
   ]
  },
  {
   "cell_type": "markdown",
   "id": "7498ebdc-dda0-4f49-9168-e13959db47cc",
   "metadata": {},
   "source": [
    "<h3>Random tensors</h3>"
   ]
  },
  {
   "cell_type": "code",
   "execution_count": 17,
   "id": "e9672b41-1cde-41cc-9ad1-579077f502d0",
   "metadata": {},
   "outputs": [
    {
     "data": {
      "text/plain": [
       "tensor([[0.5860, 0.0482, 0.9707, 0.8545],\n",
       "        [0.4275, 0.1446, 0.6643, 0.8384],\n",
       "        [0.8370, 0.6363, 0.7001, 0.8267]])"
      ]
     },
     "execution_count": 17,
     "metadata": {},
     "output_type": "execute_result"
    }
   ],
   "source": [
    "rt = torch.rand(3,4) #rt = torch.rand(rows, columns)\n",
    "rt"
   ]
  },
  {
   "cell_type": "code",
   "execution_count": 18,
   "id": "a5f49f35-0a31-4070-92c7-1b17eed5ea16",
   "metadata": {},
   "outputs": [
    {
     "data": {
      "text/plain": [
       "tensor([[[0.0939, 0.4460, 0.1960, 0.6617],\n",
       "         [0.7826, 0.5612, 0.9983, 0.1527],\n",
       "         [0.0196, 0.3225, 0.5994, 0.0587]]])"
      ]
     },
     "execution_count": 18,
     "metadata": {},
     "output_type": "execute_result"
    }
   ],
   "source": [
    "brt = torch.rand(1,3,4)\n",
    "brt"
   ]
  },
  {
   "cell_type": "code",
   "execution_count": 19,
   "id": "7ecc93b3-d072-490b-b96a-e049decb975b",
   "metadata": {},
   "outputs": [
    {
     "data": {
      "text/plain": [
       "tensor([[[0.3132, 0.0119, 0.5649, 0.8062],\n",
       "         [0.7524, 0.6728, 0.9002, 0.8310],\n",
       "         [0.9275, 0.4126, 0.4405, 0.1383]],\n",
       "\n",
       "        [[0.4873, 0.1211, 0.0788, 0.7040],\n",
       "         [0.6398, 0.9000, 0.4906, 0.1563],\n",
       "         [0.2784, 0.2515, 0.7737, 0.5289]]])"
      ]
     },
     "execution_count": 19,
     "metadata": {},
     "output_type": "execute_result"
    }
   ],
   "source": [
    "brt2 = torch.rand(2,3,4)\n",
    "brt2"
   ]
  },
  {
   "cell_type": "markdown",
   "id": "8d49edaf-2bfb-4218-a7aa-4db36e136082",
   "metadata": {},
   "source": [
    "<h1>Zeros</h1>"
   ]
  },
  {
   "cell_type": "code",
   "execution_count": 20,
   "id": "85ed6846-31fd-4edc-8211-5549d93f5461",
   "metadata": {},
   "outputs": [
    {
     "data": {
      "text/plain": [
       "tensor([[0., 0., 0., 0.],\n",
       "        [0., 0., 0., 0.],\n",
       "        [0., 0., 0., 0.]])"
      ]
     },
     "execution_count": 20,
     "metadata": {},
     "output_type": "execute_result"
    }
   ],
   "source": [
    "z = torch.zeros(3,4)\n",
    "z"
   ]
  },
  {
   "cell_type": "markdown",
   "id": "62a886ba-f472-47b5-9452-4046566e4201",
   "metadata": {},
   "source": [
    "<h1>Ones</h1>"
   ]
  },
  {
   "cell_type": "code",
   "execution_count": 21,
   "id": "957ce278-bc71-4c59-b275-cc6d562af44f",
   "metadata": {},
   "outputs": [
    {
     "data": {
      "text/plain": [
       "tensor([[1., 1., 1., 1.],\n",
       "        [1., 1., 1., 1.],\n",
       "        [1., 1., 1., 1.]])"
      ]
     },
     "execution_count": 21,
     "metadata": {},
     "output_type": "execute_result"
    }
   ],
   "source": [
    "o = torch.ones(3,4)\n",
    "o"
   ]
  },
  {
   "cell_type": "markdown",
   "id": "358faba0-6c80-4904-afdf-a4f395badd6a",
   "metadata": {},
   "source": [
    "<h1>Creating arange</h1>"
   ]
  },
  {
   "cell_type": "code",
   "execution_count": 22,
   "id": "eeb3793d-67f6-470f-8d21-96995feca074",
   "metadata": {},
   "outputs": [
    {
     "data": {
      "text/plain": [
       "tensor([1, 2, 3, 4, 5, 6, 7, 8, 9])"
      ]
     },
     "execution_count": 22,
     "metadata": {},
     "output_type": "execute_result"
    }
   ],
   "source": [
    "a1 = torch.arange(1,10) #a = torch.arange(start, end)\n",
    "a1"
   ]
  },
  {
   "cell_type": "code",
   "execution_count": 23,
   "id": "75c06292-0636-44d9-b84e-90d2ea3b897f",
   "metadata": {},
   "outputs": [
    {
     "data": {
      "text/plain": [
       "tensor([1, 3, 5, 7, 9])"
      ]
     },
     "execution_count": 23,
     "metadata": {},
     "output_type": "execute_result"
    }
   ],
   "source": [
    "a2 = torch.arange(1,10,2) #a = torch.arange(start, end, step)\n",
    "a2"
   ]
  },
  {
   "cell_type": "markdown",
   "id": "aac30330-0a5f-41b9-ace6-f85a239edf20",
   "metadata": {},
   "source": [
    "<h1>Tensor_like</h1>"
   ]
  },
  {
   "cell_type": "code",
   "execution_count": 24,
   "id": "92700682-1a40-4f12-8f6d-9234aecc7c3c",
   "metadata": {},
   "outputs": [
    {
     "data": {
      "text/plain": [
       "tensor([[1, 3, 5, 7],\n",
       "        [5, 3, 5, 1]])"
      ]
     },
     "execution_count": 24,
     "metadata": {},
     "output_type": "execute_result"
    }
   ],
   "source": [
    "t = torch.tensor([[1,3,5,7],[5,3,5,1]])\n",
    "t"
   ]
  },
  {
   "cell_type": "code",
   "execution_count": 25,
   "id": "b43cb50f-9126-49f3-8bec-5f836aa11f4e",
   "metadata": {},
   "outputs": [
    {
     "data": {
      "text/plain": [
       "tensor([[0, 0, 0, 0],\n",
       "        [0, 0, 0, 0]])"
      ]
     },
     "execution_count": 25,
     "metadata": {},
     "output_type": "execute_result"
    }
   ],
   "source": [
    "zl = torch.zeros_like(t) #to create zeros tensor with given tensor dimension\n",
    "zl"
   ]
  },
  {
   "cell_type": "code",
   "execution_count": 26,
   "id": "e0bb3f73-049d-4399-817a-b91d906249ff",
   "metadata": {},
   "outputs": [
    {
     "data": {
      "text/plain": [
       "tensor([[1, 1, 1, 1],\n",
       "        [1, 1, 1, 1]])"
      ]
     },
     "execution_count": 26,
     "metadata": {},
     "output_type": "execute_result"
    }
   ],
   "source": [
    "ol = torch.ones_like(t) #to create ones tensor with given tensor dimension\n",
    "ol"
   ]
  },
  {
   "cell_type": "markdown",
   "id": "c6ba751d-b55d-4387-ae4b-b8dd72f5a2fb",
   "metadata": {},
   "source": [
    "<h2>torch.eye (unit / identity matrix)</h2>"
   ]
  },
  {
   "cell_type": "code",
   "execution_count": 27,
   "id": "d4ca3ea0-c279-4ef0-a344-280800c376c7",
   "metadata": {},
   "outputs": [
    {
     "data": {
      "text/plain": [
       "tensor([[1., 0., 0., 0., 0.],\n",
       "        [0., 1., 0., 0., 0.],\n",
       "        [0., 0., 1., 0., 0.],\n",
       "        [0., 0., 0., 1., 0.],\n",
       "        [0., 0., 0., 0., 1.]])"
      ]
     },
     "execution_count": 27,
     "metadata": {},
     "output_type": "execute_result"
    }
   ],
   "source": [
    "e = torch.eye(5) #to make 2D digonal one tensor\n",
    "e"
   ]
  },
  {
   "cell_type": "markdown",
   "id": "2bfa1311-40f8-4dd8-afd5-ba7a82763b0a",
   "metadata": {},
   "source": [
    "<h2>torch.full</h2>"
   ]
  },
  {
   "cell_type": "code",
   "execution_count": 28,
   "id": "f4461b3c-324c-44c2-a8e0-c93034058d45",
   "metadata": {},
   "outputs": [
    {
     "data": {
      "text/plain": [
       "tensor([[1, 1, 1, 1],\n",
       "        [1, 1, 1, 1],\n",
       "        [1, 1, 1, 1]])"
      ]
     },
     "execution_count": 28,
     "metadata": {},
     "output_type": "execute_result"
    }
   ],
   "source": [
    "f = torch.full((3,4),1) #torch.full((start, end),filling number)to create a tensor filled with a specific value\n",
    "f"
   ]
  },
  {
   "cell_type": "markdown",
   "id": "d87ce9dd-018d-40cf-aeec-e57d15779100",
   "metadata": {},
   "source": [
    "<h2>torch.linspace</h2>"
   ]
  },
  {
   "cell_type": "code",
   "execution_count": 29,
   "id": "de12a290-17a0-448f-a436-88f9f932e0ed",
   "metadata": {},
   "outputs": [
    {
     "data": {
      "text/plain": [
       "tensor([ 1.0000,  3.2500,  5.5000,  7.7500, 10.0000])"
      ]
     },
     "execution_count": 29,
     "metadata": {},
     "output_type": "execute_result"
    }
   ],
   "source": [
    "l = torch.linspace(1,10,5) #to create a tensor with linearspace => torch.linspace(start, end, total_number)\n",
    "l"
   ]
  },
  {
   "cell_type": "markdown",
   "id": "777977fb-3ebd-41da-99bb-970385e4b295",
   "metadata": {},
   "source": [
    "<h2>Tensor datatype</h2>"
   ]
  },
  {
   "cell_type": "code",
   "execution_count": 30,
   "id": "b62ff5ac-db36-47b6-9b81-a01d99bf70bd",
   "metadata": {},
   "outputs": [
    {
     "name": "stdout",
     "output_type": "stream",
     "text": [
      "tensor([[0.7856, 0.7217, 0.9691, 0.3593],\n",
      "        [0.5379, 0.6268, 0.6613, 0.8234],\n",
      "        [0.6498, 0.1105, 0.9214, 0.5293]])\n",
      "torch.float32\n"
     ]
    }
   ],
   "source": [
    "t = torch.rand(3,4) #float32\n",
    "print(t)\n",
    "print(t.dtype)"
   ]
  },
  {
   "cell_type": "code",
   "execution_count": 31,
   "id": "45f6d13b-6198-4bcf-a39d-fd99115f28d0",
   "metadata": {},
   "outputs": [
    {
     "name": "stdout",
     "output_type": "stream",
     "text": [
      "tensor([ 3,  4,  5,  6,  7,  8,  9, 10, 11, 12, 13])\n",
      "torch.int64\n"
     ]
    }
   ],
   "source": [
    "t = torch.arange(3,14)\n",
    "print(t)\n",
    "print(t.dtype)"
   ]
  },
  {
   "cell_type": "code",
   "execution_count": 32,
   "id": "b2669356-a187-4d42-bca9-a9eb1d0dadc9",
   "metadata": {},
   "outputs": [
    {
     "name": "stdout",
     "output_type": "stream",
     "text": [
      "tensor([ 3.,  4.,  5.,  6.,  7.,  8.,  9., 10., 11., 12., 13.],\n",
      "       dtype=torch.float64)\n",
      "torch.float64\n"
     ]
    }
   ],
   "source": [
    "t = torch.arange(3.,14.,dtype=float) #define datatype\n",
    "print(t)\n",
    "print(t.dtype)"
   ]
  },
  {
   "cell_type": "markdown",
   "id": "bc6d2995-a1f1-489d-9e77-417ba520d572",
   "metadata": {},
   "source": [
    "<h2>Changing tensor datatype</h2>"
   ]
  },
  {
   "cell_type": "code",
   "execution_count": 33,
   "id": "996e7a85-a4ca-49ae-b350-1a026777b47c",
   "metadata": {},
   "outputs": [
    {
     "name": "stdout",
     "output_type": "stream",
     "text": [
      "tensor([1, 2, 3, 4, 5, 6, 7, 8, 9])\n",
      "torch.int64\n"
     ]
    }
   ],
   "source": [
    "t = torch.arange(1,10) #Change datatype into floating point numbers\n",
    "print(t)\n",
    "print(t.dtype)"
   ]
  },
  {
   "cell_type": "code",
   "execution_count": 34,
   "id": "7c82d62f-a8ed-4985-b4f0-f06ff31ffb82",
   "metadata": {},
   "outputs": [
    {
     "data": {
      "text/plain": [
       "tensor([1., 2., 3., 4., 5., 6., 7., 8., 9.], dtype=torch.float16)"
      ]
     },
     "execution_count": 34,
     "metadata": {},
     "output_type": "execute_result"
    }
   ],
   "source": [
    "f16 = t.type(torch.float16) #to change datatype into float16\n",
    "f16"
   ]
  },
  {
   "cell_type": "code",
   "execution_count": 35,
   "id": "5d7cefb0-6d8f-48cf-8e89-e21771dd9a05",
   "metadata": {},
   "outputs": [
    {
     "data": {
      "text/plain": [
       "tensor([1, 2, 3, 4, 5, 6, 7, 8, 9], dtype=torch.int8)"
      ]
     },
     "execution_count": 35,
     "metadata": {},
     "output_type": "execute_result"
    }
   ],
   "source": [
    "i8 = t.type(torch.int8) #to change datatype into int8\n",
    "i8"
   ]
  },
  {
   "cell_type": "markdown",
   "id": "90757e0d-277a-4ea0-a906-b88d9ca35f20",
   "metadata": {},
   "source": [
    "<h2>Getting information from tensor</h2>"
   ]
  },
  {
   "cell_type": "code",
   "execution_count": 36,
   "id": "1f3abe35-897e-410e-b59d-6fe4c374299b",
   "metadata": {},
   "outputs": [
    {
     "data": {
      "text/plain": [
       "tensor([[0.5966, 0.8489, 0.5656, 0.1111],\n",
       "        [0.8687, 0.7447, 0.4681, 0.1419],\n",
       "        [0.2706, 0.5252, 0.2086, 0.0520]])"
      ]
     },
     "execution_count": 36,
     "metadata": {},
     "output_type": "execute_result"
    }
   ],
   "source": [
    "t = torch.rand(3,4)\n",
    "t"
   ]
  },
  {
   "cell_type": "code",
   "execution_count": 37,
   "id": "d7d5e247-ac19-4853-ab57-04a906b55517",
   "metadata": {},
   "outputs": [
    {
     "data": {
      "text/plain": [
       "torch.Size([3, 4])"
      ]
     },
     "execution_count": 37,
     "metadata": {},
     "output_type": "execute_result"
    }
   ],
   "source": [
    "t.shape"
   ]
  },
  {
   "cell_type": "code",
   "execution_count": 38,
   "id": "bd90c5fd-ddd3-4271-acaf-004e74f547d3",
   "metadata": {},
   "outputs": [
    {
     "data": {
      "text/plain": [
       "torch.float32"
      ]
     },
     "execution_count": 38,
     "metadata": {},
     "output_type": "execute_result"
    }
   ],
   "source": [
    "t.dtype"
   ]
  },
  {
   "cell_type": "code",
   "execution_count": 39,
   "id": "4b091430-22bf-4670-8805-236a4651184c",
   "metadata": {},
   "outputs": [
    {
     "data": {
      "text/plain": [
       "device(type='cpu')"
      ]
     },
     "execution_count": 39,
     "metadata": {},
     "output_type": "execute_result"
    }
   ],
   "source": [
    "t.device"
   ]
  },
  {
   "cell_type": "markdown",
   "id": "8129472c-ddac-4396-8cc7-ef445a9bfc20",
   "metadata": {},
   "source": [
    "<h2>Manipulating tensors (tensor oprations)</h2>"
   ]
  },
  {
   "cell_type": "markdown",
   "id": "ec612a8c-6029-4d96-97de-88caf689ef65",
   "metadata": {},
   "source": [
    "<h3>\n",
    "    <pre>\n",
    "    1.Addition\n",
    "    2.Substraction\n",
    "    3.Element_wise multiplication\n",
    "    4.Matrix multiplication\n",
    "    5.Division\n",
    "    </pre>\n",
    "</h3>"
   ]
  },
  {
   "cell_type": "markdown",
   "id": "b7573fa5-64bf-4daa-a844-0acc086c339b",
   "metadata": {},
   "source": [
    "<h3>1.Addition</h3>"
   ]
  },
  {
   "cell_type": "code",
   "execution_count": 40,
   "id": "90d60151-ac04-4bec-8a29-fa6c649f60a7",
   "metadata": {},
   "outputs": [
    {
     "name": "stdout",
     "output_type": "stream",
     "text": [
      "tensor([1, 2, 3])\n",
      "tensor([4, 5, 6])\n"
     ]
    }
   ],
   "source": [
    "t1 = torch.tensor([1,2,3])\n",
    "t2 = torch.tensor([4,5,6])\n",
    "print(t1)\n",
    "print(t2)"
   ]
  },
  {
   "cell_type": "code",
   "execution_count": 41,
   "id": "28dc1c57-3a5d-4757-bc6f-58159a94666a",
   "metadata": {},
   "outputs": [
    {
     "data": {
      "text/plain": [
       "tensor([5, 7, 9])"
      ]
     },
     "execution_count": 41,
     "metadata": {},
     "output_type": "execute_result"
    }
   ],
   "source": [
    "ma = t1+t2\n",
    "ma"
   ]
  },
  {
   "cell_type": "code",
   "execution_count": 42,
   "id": "2eec2911-5f33-4b58-bc33-cb9b4ef6aeef",
   "metadata": {},
   "outputs": [
    {
     "data": {
      "text/plain": [
       "tensor([5, 7, 9])"
      ]
     },
     "execution_count": 42,
     "metadata": {},
     "output_type": "execute_result"
    }
   ],
   "source": [
    "ma = torch.add(t1,t2)\n",
    "ma"
   ]
  },
  {
   "cell_type": "code",
   "execution_count": 43,
   "id": "20a9cb95-08d9-4106-8e90-51a60ef3de58",
   "metadata": {},
   "outputs": [
    {
     "data": {
      "text/plain": [
       "tensor([11, 12, 13])"
      ]
     },
     "execution_count": 43,
     "metadata": {},
     "output_type": "execute_result"
    }
   ],
   "source": [
    "sa = t1+10\n",
    "sa"
   ]
  },
  {
   "cell_type": "code",
   "execution_count": 44,
   "id": "ab02ccd3-71c1-4d38-802d-09e880586fb6",
   "metadata": {},
   "outputs": [
    {
     "data": {
      "text/plain": [
       "tensor([16, 17, 18])"
      ]
     },
     "execution_count": 44,
     "metadata": {},
     "output_type": "execute_result"
    }
   ],
   "source": [
    "sa = torch.add(t1,15)\n",
    "sa"
   ]
  },
  {
   "cell_type": "markdown",
   "id": "5b5396c0-46ea-4d02-8b06-d8fa8544a890",
   "metadata": {},
   "source": [
    "<h3>2.Substraction</h3>"
   ]
  },
  {
   "cell_type": "code",
   "execution_count": 45,
   "id": "b123042e-ee02-4579-8c74-888f79db3937",
   "metadata": {},
   "outputs": [
    {
     "name": "stdout",
     "output_type": "stream",
     "text": [
      "tensor([1, 2, 3, 4])\n",
      "tensor([4, 5, 6, 7])\n"
     ]
    }
   ],
   "source": [
    "t1 = torch.tensor([1,2,3,4])\n",
    "t2 = torch.tensor([4,5,6,7])\n",
    "print(t1)\n",
    "print(t2)"
   ]
  },
  {
   "cell_type": "code",
   "execution_count": 46,
   "id": "9adeab2f-815c-4c80-a1cf-a3194a95cfc5",
   "metadata": {},
   "outputs": [
    {
     "data": {
      "text/plain": [
       "tensor([3, 3, 3, 3])"
      ]
     },
     "execution_count": 46,
     "metadata": {},
     "output_type": "execute_result"
    }
   ],
   "source": [
    "ms = t2-t1\n",
    "ms"
   ]
  },
  {
   "cell_type": "code",
   "execution_count": 47,
   "id": "f8a4fc2d-e359-41ec-94d0-ff1fca0f0b8b",
   "metadata": {},
   "outputs": [
    {
     "data": {
      "text/plain": [
       "tensor([3, 3, 3, 3])"
      ]
     },
     "execution_count": 47,
     "metadata": {},
     "output_type": "execute_result"
    }
   ],
   "source": [
    "ms = torch.sub(t2,t1)\n",
    "ms"
   ]
  },
  {
   "cell_type": "code",
   "execution_count": 48,
   "id": "e405e4c5-e1e5-4a64-b72d-d9b9f6121610",
   "metadata": {},
   "outputs": [
    {
     "data": {
      "text/plain": [
       "tensor([2, 3, 4, 5])"
      ]
     },
     "execution_count": 48,
     "metadata": {},
     "output_type": "execute_result"
    }
   ],
   "source": [
    "ss = t2 - 2\n",
    "ss"
   ]
  },
  {
   "cell_type": "code",
   "execution_count": 49,
   "id": "ed4f6143-b8fd-423a-9852-831c7cdf3c63",
   "metadata": {},
   "outputs": [
    {
     "data": {
      "text/plain": [
       "tensor([2, 3, 4, 5])"
      ]
     },
     "execution_count": 49,
     "metadata": {},
     "output_type": "execute_result"
    }
   ],
   "source": [
    "ss = torch.sub(t2,2)\n",
    "ss"
   ]
  },
  {
   "cell_type": "markdown",
   "id": "ee8150ac-b32f-47af-bd7b-39da2791fb6b",
   "metadata": {},
   "source": [
    "<h3>3.Element-wise multiplication</h3>"
   ]
  },
  {
   "cell_type": "code",
   "execution_count": 50,
   "id": "c464f2fe-e7f2-4fa9-a1b5-7221c3170fb9",
   "metadata": {},
   "outputs": [
    {
     "name": "stdout",
     "output_type": "stream",
     "text": [
      "tensor([1, 2, 3, 4])\n",
      "tensor([4, 5, 6, 7])\n"
     ]
    }
   ],
   "source": [
    "t1 = torch.tensor([1,2,3,4])\n",
    "t2 = torch.tensor([4,5,6,7])\n",
    "print(t1)\n",
    "print(t2)"
   ]
  },
  {
   "cell_type": "code",
   "execution_count": 51,
   "id": "a172341b-b4ad-467d-87fb-b958adfafa1f",
   "metadata": {},
   "outputs": [
    {
     "data": {
      "text/plain": [
       "tensor([ 4, 10, 18, 28])"
      ]
     },
     "execution_count": 51,
     "metadata": {},
     "output_type": "execute_result"
    }
   ],
   "source": [
    "me = t1 * t2\n",
    "me"
   ]
  },
  {
   "cell_type": "code",
   "execution_count": 52,
   "id": "c0911f6d-2c58-45f2-b435-d011e3ff7c98",
   "metadata": {},
   "outputs": [
    {
     "data": {
      "text/plain": [
       "tensor([ 4, 10, 18, 28])"
      ]
     },
     "execution_count": 52,
     "metadata": {},
     "output_type": "execute_result"
    }
   ],
   "source": [
    "me = torch.mul(t1,t2)\n",
    "me"
   ]
  },
  {
   "cell_type": "code",
   "execution_count": 53,
   "id": "63278b72-ca5d-4511-a5db-3c558d54b1bc",
   "metadata": {},
   "outputs": [
    {
     "data": {
      "text/plain": [
       "tensor([ 4, 10, 18, 28])"
      ]
     },
     "execution_count": 53,
     "metadata": {},
     "output_type": "execute_result"
    }
   ],
   "source": [
    "me = torch.multiply(t1,t2)\n",
    "me"
   ]
  },
  {
   "cell_type": "code",
   "execution_count": 54,
   "id": "b293d395-9290-49f0-ac4c-22a17212de61",
   "metadata": {},
   "outputs": [
    {
     "data": {
      "text/plain": [
       "tensor([ 3,  6,  9, 12])"
      ]
     },
     "execution_count": 54,
     "metadata": {},
     "output_type": "execute_result"
    }
   ],
   "source": [
    "es = 3*t1\n",
    "es"
   ]
  },
  {
   "cell_type": "code",
   "execution_count": 55,
   "id": "b44dfb28-d30a-45ce-a80c-65cff96d7490",
   "metadata": {},
   "outputs": [
    {
     "data": {
      "text/plain": [
       "tensor([ 3,  6,  9, 12])"
      ]
     },
     "execution_count": 55,
     "metadata": {},
     "output_type": "execute_result"
    }
   ],
   "source": [
    "es = torch.mul(3,t1)\n",
    "es"
   ]
  },
  {
   "cell_type": "code",
   "execution_count": 56,
   "id": "dc446511-4bd6-424c-b36a-4f2d44a4fd44",
   "metadata": {},
   "outputs": [
    {
     "data": {
      "text/plain": [
       "tensor([ 3,  6,  9, 12])"
      ]
     },
     "execution_count": 56,
     "metadata": {},
     "output_type": "execute_result"
    }
   ],
   "source": [
    "es = torch.multiply(3,t1)\n",
    "es"
   ]
  },
  {
   "cell_type": "markdown",
   "id": "f52e56ed-547a-454f-82d3-5a8e6a294c08",
   "metadata": {},
   "source": [
    "<h3>4.Division</h3>"
   ]
  },
  {
   "cell_type": "code",
   "execution_count": 57,
   "id": "305071b0-7acd-4787-b986-2e1329896160",
   "metadata": {},
   "outputs": [
    {
     "name": "stdout",
     "output_type": "stream",
     "text": [
      "tensor([1, 2, 3, 4])\n",
      "tensor([4, 5, 6, 7])\n"
     ]
    }
   ],
   "source": [
    "t1 = torch.tensor([1,2,3,4])\n",
    "t2 = torch.tensor([4,5,6,7])\n",
    "print(t1)\n",
    "print(t2)"
   ]
  },
  {
   "cell_type": "code",
   "execution_count": 58,
   "id": "afcccd6e-4775-4f1b-b1e3-d7a9bc26af8c",
   "metadata": {},
   "outputs": [
    {
     "data": {
      "text/plain": [
       "tensor([4.0000, 2.5000, 2.0000, 1.7500])"
      ]
     },
     "execution_count": 58,
     "metadata": {},
     "output_type": "execute_result"
    }
   ],
   "source": [
    "md = t2 / t1\n",
    "md"
   ]
  },
  {
   "cell_type": "code",
   "execution_count": 62,
   "id": "fc6db708-0001-4463-8c35-038a2acc1152",
   "metadata": {},
   "outputs": [
    {
     "data": {
      "text/plain": [
       "tensor([4.0000, 2.5000, 2.0000, 1.7500])"
      ]
     },
     "execution_count": 62,
     "metadata": {},
     "output_type": "execute_result"
    }
   ],
   "source": [
    "md = torch.div(t2, t1)\n",
    "md"
   ]
  },
  {
   "cell_type": "code",
   "execution_count": 63,
   "id": "d30f8efb-082d-4504-8990-4b603222b2c8",
   "metadata": {},
   "outputs": [
    {
     "data": {
      "text/plain": [
       "tensor([5.0000, 4.0000, 3.3333, 2.8571])"
      ]
     },
     "execution_count": 63,
     "metadata": {},
     "output_type": "execute_result"
    }
   ],
   "source": [
    "sd = 20 / t2\n",
    "sd"
   ]
  },
  {
   "cell_type": "code",
   "execution_count": 64,
   "id": "818d4177-b8d0-488f-833f-d1182bf8992a",
   "metadata": {},
   "outputs": [
    {
     "data": {
      "text/plain": [
       "tensor([5.0000, 4.0000, 3.3333, 2.8571])"
      ]
     },
     "execution_count": 64,
     "metadata": {},
     "output_type": "execute_result"
    }
   ],
   "source": [
    "sd = torch.div(20, t2)\n",
    "sd"
   ]
  },
  {
   "cell_type": "markdown",
   "id": "b1cabdc2-3c23-47e8-ad31-fdcff7f27292",
   "metadata": {},
   "source": [
    "<h3>5.Matrix multiplication</h3>"
   ]
  },
  {
   "cell_type": "code",
   "execution_count": 65,
   "id": "2d4cfdf3-6a15-43e8-8bc9-4ff96af3e02d",
   "metadata": {},
   "outputs": [
    {
     "name": "stdout",
     "output_type": "stream",
     "text": [
      "tensor([[1, 2, 3, 4],\n",
      "        [5, 6, 7, 8]])\n",
      "tensor([[8, 7, 6, 5],\n",
      "        [4, 3, 2, 1]])\n"
     ]
    }
   ],
   "source": [
    "m1 = torch.tensor([[1,2,3,4],[5,6,7,8]])\n",
    "m2 = torch.tensor([[8,7,6,5],[4,3,2,1]])\n",
    "print(m1)\n",
    "print(m2)"
   ]
  },
  {
   "cell_type": "code",
   "execution_count": 66,
   "id": "a5f7f0e2-a2e9-4792-ba91-b11ac791a2a2",
   "metadata": {},
   "outputs": [
    {
     "data": {
      "text/plain": [
       "(torch.Size([2, 4]), torch.Size([2, 4]))"
      ]
     },
     "execution_count": 66,
     "metadata": {},
     "output_type": "execute_result"
    }
   ],
   "source": [
    "m1.shape, m2.shape"
   ]
  },
  {
   "cell_type": "code",
   "execution_count": 68,
   "id": "f2e98c36-989d-4d78-a4e3-1ca85edcc04b",
   "metadata": {},
   "outputs": [
    {
     "data": {
      "text/plain": [
       "tensor([[8, 4],\n",
       "        [7, 3],\n",
       "        [6, 2],\n",
       "        [5, 1]])"
      ]
     },
     "execution_count": 68,
     "metadata": {},
     "output_type": "execute_result"
    }
   ],
   "source": [
    "trans = m2.T\n",
    "trans"
   ]
  },
  {
   "cell_type": "code",
   "execution_count": 69,
   "id": "ae6e1704-fc5a-4719-b021-3821705ab0bb",
   "metadata": {},
   "outputs": [
    {
     "data": {
      "text/plain": [
       "(torch.Size([2, 4]), torch.Size([4, 2]))"
      ]
     },
     "execution_count": 69,
     "metadata": {},
     "output_type": "execute_result"
    }
   ],
   "source": [
    "m1.shape, trans.shape"
   ]
  },
  {
   "cell_type": "code",
   "execution_count": 71,
   "id": "57c64b24-4325-4b2b-9281-6c9d1682a92a",
   "metadata": {},
   "outputs": [
    {
     "data": {
      "text/plain": [
       "tensor([[ 60,  20],\n",
       "        [164,  60]])"
      ]
     },
     "execution_count": 71,
     "metadata": {},
     "output_type": "execute_result"
    }
   ],
   "source": [
    "result = m1 @ trans #to matrix multiplication\n",
    "result"
   ]
  },
  {
   "cell_type": "code",
   "execution_count": 72,
   "id": "9bc7a15a-740b-40ee-a22d-a5881103d58e",
   "metadata": {},
   "outputs": [
    {
     "data": {
      "text/plain": [
       "tensor([[ 60,  20],\n",
       "        [164,  60]])"
      ]
     },
     "execution_count": 72,
     "metadata": {},
     "output_type": "execute_result"
    }
   ],
   "source": [
    "result = torch.mm(m1, trans)\n",
    "result"
   ]
  },
  {
   "cell_type": "code",
   "execution_count": 73,
   "id": "1721f3de-3500-4aa9-808c-d4fc858b0e76",
   "metadata": {},
   "outputs": [
    {
     "data": {
      "text/plain": [
       "tensor([[ 60,  20],\n",
       "        [164,  60]])"
      ]
     },
     "execution_count": 73,
     "metadata": {},
     "output_type": "execute_result"
    }
   ],
   "source": [
    "result = torch.matmul(m1,trans)\n",
    "result"
   ]
  },
  {
   "cell_type": "code",
   "execution_count": null,
   "id": "6c1ad886-f8c6-4794-b767-b77a2d1894d5",
   "metadata": {},
   "outputs": [],
   "source": []
  }
 ],
 "metadata": {
  "kernelspec": {
   "display_name": "Python 3 (ipykernel)",
   "language": "python",
   "name": "python3"
  },
  "language_info": {
   "codemirror_mode": {
    "name": "ipython",
    "version": 3
   },
   "file_extension": ".py",
   "mimetype": "text/x-python",
   "name": "python",
   "nbconvert_exporter": "python",
   "pygments_lexer": "ipython3",
   "version": "3.12.3"
  }
 },
 "nbformat": 4,
 "nbformat_minor": 5
}
