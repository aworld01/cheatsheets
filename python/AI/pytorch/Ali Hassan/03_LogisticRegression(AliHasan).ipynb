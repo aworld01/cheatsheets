{
 "cells": [
  {
   "cell_type": "markdown",
   "id": "9c193d6e-45bf-4f6b-98bd-b2f2c288c5f9",
   "metadata": {},
   "source": [
    "<h2>3:00:00 / 3:11:52</h2>"
   ]
  },
  {
   "cell_type": "markdown",
   "id": "16b76962-202e-429b-a5ef-b5597ae4a1ba",
   "metadata": {},
   "source": [
    "<h1>Workflow</h1>"
   ]
  },
  {
   "cell_type": "markdown",
   "id": "d029981d-a7ce-4fbc-8788-d89f7ae961b9",
   "metadata": {},
   "source": [
    "<pre>\n",
    "    0. Import important liberaries\n",
    "    1. Get data ready (turn into tensors and batches)\n",
    "    2. Build a logistic regression model\n",
    "    3. Pick loss function and optimizer\n",
    "    4. Build a training loop\n",
    "    5. Evaluate your model\n",
    "    6. How to improve our model\n",
    "    7. Save your model\n",
    "</pre>"
   ]
  },
  {
   "cell_type": "markdown",
   "id": "2291e052-aa15-477d-8de3-fc21b3236ae3",
   "metadata": {},
   "source": [
    "<h2>0. Import important liberaries</h2>"
   ]
  },
  {
   "cell_type": "code",
   "execution_count": 1,
   "id": "0fb211fd-5de3-4101-8021-9e0e2db743b2",
   "metadata": {},
   "outputs": [],
   "source": [
    "import time\n",
    "import matplotlib.pyplot as plt\n",
    "import torch\n",
    "import torch.nn as nn\n",
    "import torch.nn.functional as f\n",
    "from torch.utils.data import DataLoader\n",
    "from torchvision import datasets, transforms"
   ]
  },
  {
   "cell_type": "markdown",
   "id": "8961fcb1-0c42-491f-bdcd-36a5abee87a5",
   "metadata": {},
   "source": [
    "<h2>1. Get data ready (turn into tensors and batches</h2>"
   ]
  },
  {
   "cell_type": "markdown",
   "id": "fefb117c-0a6a-460f-9984-0d76ffbdaf14",
   "metadata": {},
   "source": [
    "<h3>Download datasets</h3>"
   ]
  },
  {
   "cell_type": "code",
   "execution_count": 2,
   "id": "2c392774-4c72-46aa-a7d8-154acd6c5480",
   "metadata": {},
   "outputs": [],
   "source": [
    "train_dataset = datasets.FashionMNIST(root=\"/dataset\", train=True, transform=transforms.ToTensor(), download=True)\n",
    "test_dataset = datasets.FashionMNIST(root=\"/dataset\", train=False, transform=transforms.ToTensor())"
   ]
  },
  {
   "cell_type": "code",
   "execution_count": 3,
   "id": "bee8cda8-33da-414f-b69f-26432c64792d",
   "metadata": {},
   "outputs": [
    {
     "data": {
      "text/plain": [
       "Dataset FashionMNIST\n",
       "    Number of datapoints: 60000\n",
       "    Root location: /dataset\n",
       "    Split: Train\n",
       "    StandardTransform\n",
       "Transform: ToTensor()"
      ]
     },
     "execution_count": 3,
     "metadata": {},
     "output_type": "execute_result"
    }
   ],
   "source": [
    "train_dataset"
   ]
  },
  {
   "cell_type": "code",
   "execution_count": 4,
   "id": "2c40f7d5-ea43-4a08-b75f-e53fa654eb7c",
   "metadata": {},
   "outputs": [
    {
     "data": {
      "text/plain": [
       "Dataset FashionMNIST\n",
       "    Number of datapoints: 10000\n",
       "    Root location: /dataset\n",
       "    Split: Test\n",
       "    StandardTransform\n",
       "Transform: ToTensor()"
      ]
     },
     "execution_count": 4,
     "metadata": {},
     "output_type": "execute_result"
    }
   ],
   "source": [
    "test_dataset"
   ]
  },
  {
   "cell_type": "markdown",
   "id": "82564cc9-090b-42db-83b1-1fa13b5a0240",
   "metadata": {},
   "source": [
    "<h2>2. Convert data into batches</h2>"
   ]
  },
  {
   "cell_type": "code",
   "execution_count": 5,
   "id": "884206b3-869d-451c-a16b-4d1da1ef45c1",
   "metadata": {},
   "outputs": [],
   "source": [
    "batch_size = 64\n",
    "train_loader = DataLoader(train_dataset, batch_size=batch_size, shuffle=True)\n",
    "test_loader = DataLoader(test_dataset, batch_size=batch_size, shuffle=False)"
   ]
  },
  {
   "cell_type": "code",
   "execution_count": 6,
   "id": "1e7f926c-dbbe-41d9-92f8-7f929a91e840",
   "metadata": {},
   "outputs": [
    {
     "data": {
      "text/plain": [
       "938"
      ]
     },
     "execution_count": 6,
     "metadata": {},
     "output_type": "execute_result"
    }
   ],
   "source": [
    "len(train_loader) # 60000 / 64 = 938"
   ]
  },
  {
   "cell_type": "code",
   "execution_count": 7,
   "id": "e580af5d-dfe7-4aeb-b009-f8f090681eb2",
   "metadata": {},
   "outputs": [
    {
     "data": {
      "text/plain": [
       "157"
      ]
     },
     "execution_count": 7,
     "metadata": {},
     "output_type": "execute_result"
    }
   ],
   "source": [
    "len(test_loader) #10000 / 64 = 157"
   ]
  },
  {
   "cell_type": "markdown",
   "id": "28b2aa31-804e-4c83-80f5-ce6fe4effb09",
   "metadata": {},
   "source": [
    "<h2>3. Build logistic model</h2>"
   ]
  },
  {
   "cell_type": "code",
   "execution_count": 8,
   "id": "a1647e3c-6df3-456e-afc1-fb6b6c688d1d",
   "metadata": {},
   "outputs": [],
   "source": [
    "class LogisticRegression(nn.Module):\n",
    "    def __init__(self, in_dim, n_class):\n",
    "        super().__init__()\n",
    "        self.linear = nn.Linear(in_dim, n_class)\n",
    "\n",
    "    def forward(self, x):\n",
    "        out = self.linear(x)\n",
    "        return out"
   ]
  },
  {
   "cell_type": "code",
   "execution_count": 9,
   "id": "392d81d3-250f-4c54-b0f5-d2e40a522f10",
   "metadata": {},
   "outputs": [],
   "source": [
    "model = LogisticRegression(28*28, 10) #28*28 = 784"
   ]
  },
  {
   "cell_type": "code",
   "execution_count": 10,
   "id": "daac012b-28f8-49f9-844d-487a1e508852",
   "metadata": {},
   "outputs": [
    {
     "data": {
      "text/plain": [
       "LogisticRegression(\n",
       "  (linear): Linear(in_features=784, out_features=10, bias=True)\n",
       ")"
      ]
     },
     "execution_count": 10,
     "metadata": {},
     "output_type": "execute_result"
    }
   ],
   "source": [
    "model"
   ]
  },
  {
   "cell_type": "code",
   "execution_count": 11,
   "id": "58726021-1931-44dd-9432-1c9d74ea5a86",
   "metadata": {},
   "outputs": [
    {
     "data": {
      "text/plain": [
       "OrderedDict([('linear.weight',\n",
       "              tensor([[-0.0353, -0.0342, -0.0228,  ...,  0.0010, -0.0133,  0.0145],\n",
       "                      [-0.0303, -0.0276, -0.0166,  ...,  0.0224,  0.0346, -0.0339],\n",
       "                      [-0.0169,  0.0106,  0.0339,  ..., -0.0219, -0.0163, -0.0336],\n",
       "                      ...,\n",
       "                      [-0.0251, -0.0162, -0.0070,  ...,  0.0195, -0.0356, -0.0066],\n",
       "                      [-0.0199,  0.0050, -0.0245,  ...,  0.0321,  0.0023, -0.0148],\n",
       "                      [-0.0329,  0.0018, -0.0279,  ...,  0.0064,  0.0002, -0.0127]])),\n",
       "             ('linear.bias',\n",
       "              tensor([ 0.0065,  0.0031,  0.0255,  0.0246, -0.0024, -0.0156, -0.0190,  0.0004,\n",
       "                      -0.0280,  0.0325]))])"
      ]
     },
     "execution_count": 11,
     "metadata": {},
     "output_type": "execute_result"
    }
   ],
   "source": [
    "model.state_dict()"
   ]
  },
  {
   "cell_type": "code",
   "execution_count": 12,
   "id": "33a21165-1038-41e9-9f39-f8d2e2ca9f20",
   "metadata": {},
   "outputs": [],
   "source": [
    "device = 'cuda' if torch.cuda.is_available() else 'cpu' #Code for GPU"
   ]
  },
  {
   "cell_type": "code",
   "execution_count": 13,
   "id": "9378d62d-969b-4422-b2a0-c6977cd4ef0d",
   "metadata": {},
   "outputs": [
    {
     "data": {
      "text/plain": [
       "'cuda'"
      ]
     },
     "execution_count": 13,
     "metadata": {},
     "output_type": "execute_result"
    }
   ],
   "source": [
    "device"
   ]
  },
  {
   "cell_type": "code",
   "execution_count": 14,
   "id": "69a99d17-fab5-4b1c-b470-66f350dba5b5",
   "metadata": {},
   "outputs": [],
   "source": [
    "model = model.to(device) #Send model to tun at GPU"
   ]
  },
  {
   "cell_type": "markdown",
   "id": "be475177-a67f-4a85-99a7-ed14cc6d29f8",
   "metadata": {},
   "source": [
    "<h2>4. Pick a loss function and optimizer</h2>"
   ]
  },
  {
   "cell_type": "code",
   "execution_count": 15,
   "id": "8b09fac3-1299-40b8-af7f-f33c511b29a4",
   "metadata": {},
   "outputs": [],
   "source": [
    "learning_rate = 1e-3\n",
    "criterion = nn.CrossEntropyLoss()\n",
    "optimizer = torch.optim.SGD(model.parameters(),lr=learning_rate)"
   ]
  },
  {
   "cell_type": "code",
   "execution_count": 16,
   "id": "3371211b-0dea-42a3-b836-0d3c5bfa9684",
   "metadata": {},
   "outputs": [
    {
     "data": {
      "text/plain": [
       "[Parameter containing:\n",
       " tensor([[-0.0353, -0.0342, -0.0228,  ...,  0.0010, -0.0133,  0.0145],\n",
       "         [-0.0303, -0.0276, -0.0166,  ...,  0.0224,  0.0346, -0.0339],\n",
       "         [-0.0169,  0.0106,  0.0339,  ..., -0.0219, -0.0163, -0.0336],\n",
       "         ...,\n",
       "         [-0.0251, -0.0162, -0.0070,  ...,  0.0195, -0.0356, -0.0066],\n",
       "         [-0.0199,  0.0050, -0.0245,  ...,  0.0321,  0.0023, -0.0148],\n",
       "         [-0.0329,  0.0018, -0.0279,  ...,  0.0064,  0.0002, -0.0127]],\n",
       "        device='cuda:0', requires_grad=True),\n",
       " Parameter containing:\n",
       " tensor([ 0.0065,  0.0031,  0.0255,  0.0246, -0.0024, -0.0156, -0.0190,  0.0004,\n",
       "         -0.0280,  0.0325], device='cuda:0', requires_grad=True)]"
      ]
     },
     "execution_count": 16,
     "metadata": {},
     "output_type": "execute_result"
    }
   ],
   "source": [
    "list(model.parameters())"
   ]
  },
  {
   "cell_type": "code",
   "execution_count": 17,
   "id": "00fc0861-30db-46d8-aae0-d3962cdcdd30",
   "metadata": {},
   "outputs": [
    {
     "data": {
      "text/plain": [
       "OrderedDict([('linear.weight',\n",
       "              tensor([[-0.0353, -0.0342, -0.0228,  ...,  0.0010, -0.0133,  0.0145],\n",
       "                      [-0.0303, -0.0276, -0.0166,  ...,  0.0224,  0.0346, -0.0339],\n",
       "                      [-0.0169,  0.0106,  0.0339,  ..., -0.0219, -0.0163, -0.0336],\n",
       "                      ...,\n",
       "                      [-0.0251, -0.0162, -0.0070,  ...,  0.0195, -0.0356, -0.0066],\n",
       "                      [-0.0199,  0.0050, -0.0245,  ...,  0.0321,  0.0023, -0.0148],\n",
       "                      [-0.0329,  0.0018, -0.0279,  ...,  0.0064,  0.0002, -0.0127]],\n",
       "                     device='cuda:0')),\n",
       "             ('linear.bias',\n",
       "              tensor([ 0.0065,  0.0031,  0.0255,  0.0246, -0.0024, -0.0156, -0.0190,  0.0004,\n",
       "                      -0.0280,  0.0325], device='cuda:0'))])"
      ]
     },
     "execution_count": 17,
     "metadata": {},
     "output_type": "execute_result"
    }
   ],
   "source": [
    "model.state_dict()"
   ]
  },
  {
   "cell_type": "markdown",
   "id": "e14d340a-8152-4eb2-9dd4-e915d928fb6c",
   "metadata": {},
   "source": [
    "<h2>5. Building a training loop</h2>"
   ]
  },
  {
   "cell_type": "code",
   "execution_count": 18,
   "id": "d504135e-1ba8-4772-a2d0-ed7d5187f392",
   "metadata": {},
   "outputs": [
    {
     "name": "stdout",
     "output_type": "stream",
     "text": [
      "* * * * * * * * * * * * * * * * * * * * * * * * \n",
      "epoch 1\n",
      "[1 / 8], Loss: 2.026895, Accuracy: 0.428333\n",
      "[1 / 8], Loss: 1.838077, Accuracy: 0.525443\n",
      "[1 / 8], Loss: 1.705580, Accuracy: 0.565764\n",
      "Finish 1 Epoch, loss: 1.691357, Accu: 0.569513\n",
      "\n",
      "Test loss: 1.349159, Accu: 0.108642\n",
      "Time:23.1 s\n",
      "* * * * * * * * * * * * * * * * * * * * * * * * \n",
      "epoch 2\n",
      "[2 / 8], Loss: 1.285837, Accuracy: 0.659479\n",
      "[2 / 8], Loss: 1.236313, Accuracy: 0.663672\n",
      "[2 / 8], Loss: 1.197760, Accuracy: 0.665694\n",
      "Finish 2 Epoch, loss: 1.194135, Accu: 0.665595\n",
      "\n",
      "Test loss: 1.097152, Accu: 0.111524\n",
      "Time:22.7 s\n",
      "* * * * * * * * * * * * * * * * * * * * * * * * \n",
      "epoch 3\n",
      "[3 / 8], Loss: 1.067548, Accuracy: 0.677865\n",
      "[3 / 8], Loss: 1.045023, Accuracy: 0.678750\n",
      "[3 / 8], Loss: 1.023707, Accuracy: 0.684635\n",
      "Finish 3 Epoch, loss: 1.020899, Accu: 0.685185\n",
      "\n",
      "Test loss: 0.980327, Accu: 0.114256\n",
      "Time:23.0 s\n",
      "* * * * * * * * * * * * * * * * * * * * * * * * \n",
      "epoch 4\n",
      "[4 / 8], Loss: 0.953486, Accuracy: 0.697135\n",
      "[4 / 8], Loss: 0.942703, Accuracy: 0.700911\n",
      "[4 / 8], Loss: 0.929358, Accuracy: 0.706215\n",
      "Finish 4 Epoch, loss: 0.929277, Accu: 0.705524\n",
      "\n",
      "Test loss: 0.909986, Accu: 0.118087\n",
      "Time:23.4 s\n",
      "* * * * * * * * * * * * * * * * * * * * * * * * \n",
      "epoch 5\n",
      "[5 / 8], Loss: 0.884156, Accuracy: 0.718750\n",
      "[5 / 8], Loss: 0.879183, Accuracy: 0.721276\n",
      "[5 / 8], Loss: 0.871442, Accuracy: 0.724427\n",
      "Finish 5 Epoch, loss: 0.870393, Accu: 0.724547\n",
      "\n",
      "Test loss: 0.861976, Accu: 0.120303\n",
      "Time:23.6 s\n",
      "* * * * * * * * * * * * * * * * * * * * * * * * \n",
      "epoch 6\n",
      "[6 / 8], Loss: 0.843133, Accuracy: 0.733854\n",
      "[6 / 8], Loss: 0.835486, Accuracy: 0.735156\n",
      "[6 / 8], Loss: 0.829323, Accuracy: 0.737865\n",
      "Finish 6 Epoch, loss: 0.828049, Accu: 0.738206\n",
      "\n",
      "Test loss: 0.825761, Accu: 0.122301\n",
      "Time:24.0 s\n",
      "* * * * * * * * * * * * * * * * * * * * * * * * \n",
      "epoch 7\n",
      "[7 / 8], Loss: 0.808555, Accuracy: 0.744896\n",
      "[7 / 8], Loss: 0.799335, Accuracy: 0.747292\n",
      "[7 / 8], Loss: 0.796202, Accuracy: 0.748733\n",
      "Finish 7 Epoch, loss: 0.795589, Accu: 0.749101\n",
      "\n",
      "Test loss: 0.797562, Accu: 0.123867\n",
      "Time:23.9 s\n",
      "* * * * * * * * * * * * * * * * * * * * * * * * \n",
      "epoch 8\n",
      "[8 / 8], Loss: 0.778493, Accuracy: 0.753802\n",
      "[8 / 8], Loss: 0.774403, Accuracy: 0.756380\n",
      "[8 / 8], Loss: 0.769721, Accuracy: 0.757344\n",
      "Finish 8 Epoch, loss: 0.769655, Accu: 0.757130\n",
      "\n",
      "Test loss: 0.774808, Accu: 0.125383\n",
      "Time:23.1 s\n"
     ]
    }
   ],
   "source": [
    "num_epochs = 8\n",
    "for epoch in range(num_epochs):\n",
    "    print('* ' *24)\n",
    "    print(f'epoch {epoch +1}')\n",
    "    since = time.time()\n",
    "    running_loss = 0.0\n",
    "    running_accu = 0.0\n",
    "    model.train()\n",
    "    for i, data in enumerate(train_loader, 1): #937\n",
    "        img, label = data\n",
    "        img = img.view(img.size(0),-1)\n",
    "        img = img.to(device)\n",
    "        label = label.to(device)\n",
    "        out = model(img) #forward pass\n",
    "        loss = criterion(out, label)\n",
    "        running_loss += loss.item()\n",
    "        _,pred = torch.max(out, 1)\n",
    "        running_accu += (pred == label).float().mean()\n",
    "        optimizer.zero_grad()\n",
    "        loss.backward() #backward pass\n",
    "        optimizer.step()\n",
    "        if i % 300 == 0:\n",
    "            print(f'[{epoch+1} / {num_epochs}], Loss: {running_loss / i:.6f}, Accuracy: {running_accu/i:.6f}')\n",
    "    print(f'Finish {epoch+1} Epoch, Loss: {running_loss/i:.6f}, Accu: {running_accu/i:.6f}')\n",
    "\n",
    "    \n",
    "    \"\"\"6. Evaluate your model\"\"\"\n",
    "    model.eval()\n",
    "    eval_loss = 0.\n",
    "    eval_accu = 0.\n",
    "    for data in test_loader:\n",
    "        img,label = data\n",
    "        img = img.view(img.size(0),-1)\n",
    "        img = img.to(device)\n",
    "        label = label.to(device)\n",
    "        with torch.no_grad():\n",
    "            out = model(img)\n",
    "            loss = criterion(out,label)\n",
    "        eval_loss += loss.item()\n",
    "        _,pred = torch.max(out, 1)\n",
    "        eval_accu += (pred == label).float().mean()\n",
    "    print()\n",
    "    \n",
    "    print(f'Test loss: {eval_loss / len(test_loader):.6f}, Accu: {eval_accu / len(train_loader):.6f}')\n",
    "    print(f'Time:{(time.time() - since):.1f} s')\n"
   ]
  }
 ],
 "metadata": {
  "kernelspec": {
   "display_name": "Python 3 (ipykernel)",
   "language": "python",
   "name": "python3"
  },
  "language_info": {
   "codemirror_mode": {
    "name": "ipython",
    "version": 3
   },
   "file_extension": ".py",
   "mimetype": "text/x-python",
   "name": "python",
   "nbconvert_exporter": "python",
   "pygments_lexer": "ipython3",
   "version": "3.12.3"
  }
 },
 "nbformat": 4,
 "nbformat_minor": 5
}
