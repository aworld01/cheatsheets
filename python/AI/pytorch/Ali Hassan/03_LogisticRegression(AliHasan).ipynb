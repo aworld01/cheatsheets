{
 "cells": [
  {
   "cell_type": "markdown",
   "id": "9c193d6e-45bf-4f6b-98bd-b2f2c288c5f9",
   "metadata": {},
   "source": [
    "<h2>3:00:00 / 3:11:52</h2>"
   ]
  },
  {
   "cell_type": "markdown",
   "id": "16b76962-202e-429b-a5ef-b5597ae4a1ba",
   "metadata": {},
   "source": [
    "<h1>Workflow</h1>"
   ]
  },
  {
   "cell_type": "markdown",
   "id": "d029981d-a7ce-4fbc-8788-d89f7ae961b9",
   "metadata": {},
   "source": [
    "<pre>\n",
    "    0. Import important liberaries\n",
    "    1. Get data ready (turn into tensors and batches)\n",
    "    2. Build a logistic regression model\n",
    "    3. Pick loss function and optimizer\n",
    "    4. Build a training loop\n",
    "    5. Evaluate your model\n",
    "    6. How to improve our model\n",
    "    7. Save your model\n",
    "</pre>"
   ]
  },
  {
   "cell_type": "markdown",
   "id": "2291e052-aa15-477d-8de3-fc21b3236ae3",
   "metadata": {},
   "source": [
    "<h2>0. Import important liberaries</h2>"
   ]
  },
  {
   "cell_type": "code",
   "execution_count": 1,
   "id": "0fb211fd-5de3-4101-8021-9e0e2db743b2",
   "metadata": {},
   "outputs": [],
   "source": [
    "import time\n",
    "import matplotlib.pyplot as plt\n",
    "import torch\n",
    "import torch.nn as nn\n",
    "import torch.nn.functional as f\n",
    "from torch.utils.data import DataLoader\n",
    "from torchvision import datasets, transforms"
   ]
  },
  {
   "cell_type": "markdown",
   "id": "8961fcb1-0c42-491f-bdcd-36a5abee87a5",
   "metadata": {},
   "source": [
    "<h2>1. Get data ready (turn into tensors and batches</h2>"
   ]
  },
  {
   "cell_type": "markdown",
   "id": "fefb117c-0a6a-460f-9984-0d76ffbdaf14",
   "metadata": {},
   "source": [
    "<h3>Download datasets</h3>"
   ]
  },
  {
   "cell_type": "code",
   "execution_count": 2,
   "id": "2c392774-4c72-46aa-a7d8-154acd6c5480",
   "metadata": {},
   "outputs": [],
   "source": [
    "train_dataset = datasets.FashionMNIST(root=\"/dataset\", train=True, transform=transforms.ToTensor(), download=True)\n",
    "test_dataset = datasets.FashionMNIST(root=\"/dataset\", train=False, transform=transforms.ToTensor())"
   ]
  },
  {
   "cell_type": "code",
   "execution_count": 3,
   "id": "bee8cda8-33da-414f-b69f-26432c64792d",
   "metadata": {},
   "outputs": [
    {
     "data": {
      "text/plain": [
       "Dataset FashionMNIST\n",
       "    Number of datapoints: 60000\n",
       "    Root location: /dataset\n",
       "    Split: Train\n",
       "    StandardTransform\n",
       "Transform: ToTensor()"
      ]
     },
     "execution_count": 3,
     "metadata": {},
     "output_type": "execute_result"
    }
   ],
   "source": [
    "train_dataset"
   ]
  },
  {
   "cell_type": "code",
   "execution_count": 4,
   "id": "2c40f7d5-ea43-4a08-b75f-e53fa654eb7c",
   "metadata": {},
   "outputs": [
    {
     "data": {
      "text/plain": [
       "Dataset FashionMNIST\n",
       "    Number of datapoints: 10000\n",
       "    Root location: /dataset\n",
       "    Split: Test\n",
       "    StandardTransform\n",
       "Transform: ToTensor()"
      ]
     },
     "execution_count": 4,
     "metadata": {},
     "output_type": "execute_result"
    }
   ],
   "source": [
    "test_dataset"
   ]
  },
  {
   "cell_type": "markdown",
   "id": "82564cc9-090b-42db-83b1-1fa13b5a0240",
   "metadata": {},
   "source": [
    "<h2>2. Convert data into batches</h2>"
   ]
  },
  {
   "cell_type": "code",
   "execution_count": 5,
   "id": "884206b3-869d-451c-a16b-4d1da1ef45c1",
   "metadata": {},
   "outputs": [],
   "source": [
    "batch_size = 64\n",
    "train_loader = DataLoader(train_dataset, batch_size=batch_size, shuffle=True)\n",
    "test_loader = DataLoader(test_dataset, batch_size=batch_size, shuffle=False)"
   ]
  },
  {
   "cell_type": "code",
   "execution_count": 6,
   "id": "1e7f926c-dbbe-41d9-92f8-7f929a91e840",
   "metadata": {},
   "outputs": [
    {
     "data": {
      "text/plain": [
       "938"
      ]
     },
     "execution_count": 6,
     "metadata": {},
     "output_type": "execute_result"
    }
   ],
   "source": [
    "len(train_loader) # 60000 / 64 = 938"
   ]
  },
  {
   "cell_type": "code",
   "execution_count": 7,
   "id": "e580af5d-dfe7-4aeb-b009-f8f090681eb2",
   "metadata": {},
   "outputs": [
    {
     "data": {
      "text/plain": [
       "157"
      ]
     },
     "execution_count": 7,
     "metadata": {},
     "output_type": "execute_result"
    }
   ],
   "source": [
    "len(test_loader) #10000 / 64 = 157"
   ]
  },
  {
   "cell_type": "markdown",
   "id": "28b2aa31-804e-4c83-80f5-ce6fe4effb09",
   "metadata": {},
   "source": [
    "<h2>3. Build logistic model</h2>"
   ]
  },
  {
   "cell_type": "code",
   "execution_count": 8,
   "id": "a1647e3c-6df3-456e-afc1-fb6b6c688d1d",
   "metadata": {},
   "outputs": [],
   "source": [
    "class LogisticRegression(nn.Module):\n",
    "    def __init__(self, in_dim, n_class):\n",
    "        super().__init__()\n",
    "        self.linear = nn.Linear(in_dim, n_class)\n",
    "\n",
    "    def forward(self, x):\n",
    "        out = self.linear(x)\n",
    "        return out"
   ]
  },
  {
   "cell_type": "code",
   "execution_count": 9,
   "id": "392d81d3-250f-4c54-b0f5-d2e40a522f10",
   "metadata": {},
   "outputs": [],
   "source": [
    "model = LogisticRegression(28*28, 10) #28*28 = 784"
   ]
  },
  {
   "cell_type": "code",
   "execution_count": 10,
   "id": "daac012b-28f8-49f9-844d-487a1e508852",
   "metadata": {},
   "outputs": [
    {
     "data": {
      "text/plain": [
       "LogisticRegression(\n",
       "  (linear): Linear(in_features=784, out_features=10, bias=True)\n",
       ")"
      ]
     },
     "execution_count": 10,
     "metadata": {},
     "output_type": "execute_result"
    }
   ],
   "source": [
    "model"
   ]
  },
  {
   "cell_type": "code",
   "execution_count": 11,
   "id": "58726021-1931-44dd-9432-1c9d74ea5a86",
   "metadata": {},
   "outputs": [
    {
     "data": {
      "text/plain": [
       "OrderedDict([('linear.weight',\n",
       "              tensor([[ 1.7476e-02, -1.7340e-02,  2.0943e-02,  ..., -6.4743e-03,\n",
       "                        1.8810e-02,  1.2715e-02],\n",
       "                      [-2.8401e-03, -2.0842e-02, -1.4104e-02,  ...,  1.8945e-02,\n",
       "                        4.3889e-03,  2.6067e-02],\n",
       "                      [-3.7806e-03,  1.2813e-02,  2.9054e-02,  ...,  7.5983e-03,\n",
       "                       -1.9455e-02, -2.1282e-02],\n",
       "                      ...,\n",
       "                      [-1.5388e-02,  3.4557e-02,  2.9585e-03,  ..., -1.2275e-02,\n",
       "                       -2.1030e-03,  3.0008e-02],\n",
       "                      [-2.8176e-02,  8.1107e-03,  1.2824e-02,  ..., -5.7282e-03,\n",
       "                       -1.2861e-02,  1.7367e-02],\n",
       "                      [ 7.3392e-04, -3.2260e-02,  2.7640e-02,  ...,  2.2795e-02,\n",
       "                        5.4512e-03,  1.4555e-05]])),\n",
       "             ('linear.bias',\n",
       "              tensor([ 0.0291, -0.0236, -0.0335,  0.0231,  0.0045, -0.0119,  0.0155, -0.0187,\n",
       "                       0.0139,  0.0020]))])"
      ]
     },
     "execution_count": 11,
     "metadata": {},
     "output_type": "execute_result"
    }
   ],
   "source": [
    "model.state_dict()"
   ]
  },
  {
   "cell_type": "code",
   "execution_count": 12,
   "id": "33a21165-1038-41e9-9f39-f8d2e2ca9f20",
   "metadata": {},
   "outputs": [],
   "source": [
    "device = 'cuda' if torch.cuda.is_available() else 'cpu' #Code for GPU"
   ]
  },
  {
   "cell_type": "code",
   "execution_count": 13,
   "id": "9378d62d-969b-4422-b2a0-c6977cd4ef0d",
   "metadata": {},
   "outputs": [
    {
     "data": {
      "text/plain": [
       "'cuda'"
      ]
     },
     "execution_count": 13,
     "metadata": {},
     "output_type": "execute_result"
    }
   ],
   "source": [
    "device"
   ]
  },
  {
   "cell_type": "code",
   "execution_count": 14,
   "id": "69a99d17-fab5-4b1c-b470-66f350dba5b5",
   "metadata": {},
   "outputs": [],
   "source": [
    "model = model.to(device) #Send model to tun at GPU"
   ]
  },
  {
   "cell_type": "markdown",
   "id": "be475177-a67f-4a85-99a7-ed14cc6d29f8",
   "metadata": {},
   "source": [
    "<h2>4. Pick a loss function and optimizer</h2>"
   ]
  },
  {
   "cell_type": "code",
   "execution_count": 15,
   "id": "8b09fac3-1299-40b8-af7f-f33c511b29a4",
   "metadata": {},
   "outputs": [],
   "source": [
    "learning_rate = 1e-3\n",
    "criterion = nn.CrossEntropyLoss()\n",
    "optimizer = torch.optim.SGD(model.parameters(),lr=learning_rate)"
   ]
  },
  {
   "cell_type": "code",
   "execution_count": 16,
   "id": "3371211b-0dea-42a3-b836-0d3c5bfa9684",
   "metadata": {},
   "outputs": [
    {
     "data": {
      "text/plain": [
       "[Parameter containing:\n",
       " tensor([[ 1.7476e-02, -1.7340e-02,  2.0943e-02,  ..., -6.4743e-03,\n",
       "           1.8810e-02,  1.2715e-02],\n",
       "         [-2.8401e-03, -2.0842e-02, -1.4104e-02,  ...,  1.8945e-02,\n",
       "           4.3889e-03,  2.6067e-02],\n",
       "         [-3.7806e-03,  1.2813e-02,  2.9054e-02,  ...,  7.5983e-03,\n",
       "          -1.9455e-02, -2.1282e-02],\n",
       "         ...,\n",
       "         [-1.5388e-02,  3.4557e-02,  2.9585e-03,  ..., -1.2275e-02,\n",
       "          -2.1030e-03,  3.0008e-02],\n",
       "         [-2.8176e-02,  8.1107e-03,  1.2824e-02,  ..., -5.7282e-03,\n",
       "          -1.2861e-02,  1.7367e-02],\n",
       "         [ 7.3392e-04, -3.2260e-02,  2.7640e-02,  ...,  2.2795e-02,\n",
       "           5.4512e-03,  1.4555e-05]], device='cuda:0', requires_grad=True),\n",
       " Parameter containing:\n",
       " tensor([ 0.0291, -0.0236, -0.0335,  0.0231,  0.0045, -0.0119,  0.0155, -0.0187,\n",
       "          0.0139,  0.0020], device='cuda:0', requires_grad=True)]"
      ]
     },
     "execution_count": 16,
     "metadata": {},
     "output_type": "execute_result"
    }
   ],
   "source": [
    "list(model.parameters())"
   ]
  },
  {
   "cell_type": "code",
   "execution_count": 17,
   "id": "00fc0861-30db-46d8-aae0-d3962cdcdd30",
   "metadata": {},
   "outputs": [
    {
     "data": {
      "text/plain": [
       "OrderedDict([('linear.weight',\n",
       "              tensor([[ 1.7476e-02, -1.7340e-02,  2.0943e-02,  ..., -6.4743e-03,\n",
       "                        1.8810e-02,  1.2715e-02],\n",
       "                      [-2.8401e-03, -2.0842e-02, -1.4104e-02,  ...,  1.8945e-02,\n",
       "                        4.3889e-03,  2.6067e-02],\n",
       "                      [-3.7806e-03,  1.2813e-02,  2.9054e-02,  ...,  7.5983e-03,\n",
       "                       -1.9455e-02, -2.1282e-02],\n",
       "                      ...,\n",
       "                      [-1.5388e-02,  3.4557e-02,  2.9585e-03,  ..., -1.2275e-02,\n",
       "                       -2.1030e-03,  3.0008e-02],\n",
       "                      [-2.8176e-02,  8.1107e-03,  1.2824e-02,  ..., -5.7282e-03,\n",
       "                       -1.2861e-02,  1.7367e-02],\n",
       "                      [ 7.3392e-04, -3.2260e-02,  2.7640e-02,  ...,  2.2795e-02,\n",
       "                        5.4512e-03,  1.4555e-05]], device='cuda:0')),\n",
       "             ('linear.bias',\n",
       "              tensor([ 0.0291, -0.0236, -0.0335,  0.0231,  0.0045, -0.0119,  0.0155, -0.0187,\n",
       "                       0.0139,  0.0020], device='cuda:0'))])"
      ]
     },
     "execution_count": 17,
     "metadata": {},
     "output_type": "execute_result"
    }
   ],
   "source": [
    "model.state_dict()"
   ]
  },
  {
   "cell_type": "markdown",
   "id": "e14d340a-8152-4eb2-9dd4-e915d928fb6c",
   "metadata": {},
   "source": [
    "<h2>5. Building a training loop</h2>"
   ]
  },
  {
   "cell_type": "code",
   "execution_count": 18,
   "id": "d504135e-1ba8-4772-a2d0-ed7d5187f392",
   "metadata": {},
   "outputs": [
    {
     "name": "stdout",
     "output_type": "stream",
     "text": [
      "* * * * * * * * * * * * * * * * * * * * * * * * \n",
      "epoch 1\n",
      "[1 / 8], Loss: 2.044868, Accuracy: 0.339323\n",
      "[1 / 8], Loss: 1.863166, Accuracy: 0.464141\n",
      "[1 / 8], Loss: 1.729100, Accuracy: 0.524444\n",
      "Finish 1 Epoch, Loss: 1.713695, Accu: 0.530217\n",
      "\n",
      "Test loss: 1.367545, Accu: 0.107476\n",
      "Time:10.5 s\n",
      "* * * * * * * * * * * * * * * * * * * * * * * * \n",
      "epoch 2\n",
      "[2 / 8], Loss: 1.297172, Accuracy: 0.662917\n",
      "[2 / 8], Loss: 1.251356, Accuracy: 0.664036\n",
      "[2 / 8], Loss: 1.210180, Accuracy: 0.666944\n",
      "Finish 2 Epoch, Loss: 1.206483, Accu: 0.666828\n",
      "\n",
      "Test loss: 1.105362, Accu: 0.111457\n",
      "Time:10.6 s\n",
      "* * * * * * * * * * * * * * * * * * * * * * * * \n",
      "epoch 3\n",
      "[3 / 8], Loss: 1.066264, Accuracy: 0.683281\n",
      "[3 / 8], Loss: 1.047992, Accuracy: 0.685547\n",
      "[3 / 8], Loss: 1.029327, Accuracy: 0.687483\n",
      "Finish 3 Epoch, Loss: 1.026755, Accu: 0.688166\n",
      "\n",
      "Test loss: 0.984126, Accu: 0.114989\n",
      "Time:10.8 s\n",
      "* * * * * * * * * * * * * * * * * * * * * * * * \n",
      "epoch 4\n",
      "[4 / 8], Loss: 0.952178, Accuracy: 0.702812\n",
      "[4 / 8], Loss: 0.944634, Accuracy: 0.705104\n",
      "[4 / 8], Loss: 0.933856, Accuracy: 0.709549\n",
      "Finish 4 Epoch, Loss: 0.932360, Accu: 0.709622\n",
      "\n",
      "Test loss: 0.912128, Accu: 0.118487\n",
      "Time:10.6 s\n",
      "* * * * * * * * * * * * * * * * * * * * * * * * \n",
      "epoch 5\n",
      "[5 / 8], Loss: 0.883861, Accuracy: 0.723333\n",
      "[5 / 8], Loss: 0.879884, Accuracy: 0.726432\n",
      "[5 / 8], Loss: 0.873508, Accuracy: 0.726858\n",
      "Finish 5 Epoch, Loss: 0.871775, Accu: 0.727312\n",
      "\n",
      "Test loss: 0.862939, Accu: 0.120936\n",
      "Time:10.6 s\n",
      "* * * * * * * * * * * * * * * * * * * * * * * * \n",
      "epoch 6\n",
      "[6 / 8], Loss: 0.849141, Accuracy: 0.735938\n",
      "[6 / 8], Loss: 0.837869, Accuracy: 0.739349\n",
      "[6 / 8], Loss: 0.828622, Accuracy: 0.740799\n",
      "Finish 6 Epoch, Loss: 0.828829, Accu: 0.740838\n",
      "\n",
      "Test loss: 0.826233, Accu: 0.122768\n",
      "Time:10.9 s\n",
      "* * * * * * * * * * * * * * * * * * * * * * * * \n",
      "epoch 7\n",
      "[7 / 8], Loss: 0.809195, Accuracy: 0.747552\n",
      "[7 / 8], Loss: 0.802224, Accuracy: 0.750182\n",
      "[7 / 8], Loss: 0.796252, Accuracy: 0.752292\n",
      "Finish 7 Epoch, Loss: 0.795891, Accu: 0.752299\n",
      "\n",
      "Test loss: 0.797772, Accu: 0.123984\n",
      "Time:10.7 s\n",
      "* * * * * * * * * * * * * * * * * * * * * * * * \n",
      "epoch 8\n",
      "[8 / 8], Loss: 0.782708, Accuracy: 0.755833\n",
      "[8 / 8], Loss: 0.774219, Accuracy: 0.758255\n",
      "[8 / 8], Loss: 0.770305, Accuracy: 0.758906\n",
      "Finish 8 Epoch, Loss: 0.769783, Accu: 0.758945\n",
      "\n",
      "Test loss: 0.774408, Accu: 0.125450\n",
      "Time:9.9 s\n"
     ]
    }
   ],
   "source": [
    "num_epochs = 8\n",
    "for epoch in range(num_epochs):\n",
    "    print('* ' *24)\n",
    "    print(f'epoch {epoch +1}')\n",
    "    since = time.time()\n",
    "    running_loss = 0.0\n",
    "    running_accu = 0.0\n",
    "    model.train()\n",
    "    for i, data in enumerate(train_loader, 1): #937\n",
    "        img, label = data\n",
    "        img = img.view(img.size(0),-1)\n",
    "        img = img.to(device)\n",
    "        label = label.to(device)\n",
    "        out = model(img) #forward pass\n",
    "        loss = criterion(out, label)\n",
    "        running_loss += loss.item()\n",
    "        _,pred = torch.max(out, 1)\n",
    "        running_accu += (pred == label).float().mean()\n",
    "        optimizer.zero_grad()\n",
    "        loss.backward() #backward pass\n",
    "        optimizer.step()\n",
    "        if i % 300 == 0:\n",
    "            print(f'[{epoch+1} / {num_epochs}], Loss: {running_loss / i:.6f}, Accuracy: {running_accu/i:.6f}')\n",
    "    print(f'Finish {epoch+1} Epoch, Loss: {running_loss/i:.6f}, Accu: {running_accu/i:.6f}')\n",
    "\n",
    "    \n",
    "    \"\"\"6. Evaluate your model\"\"\"\n",
    "    model.eval()\n",
    "    eval_loss = 0.\n",
    "    eval_accu = 0.\n",
    "    for data in test_loader:\n",
    "        img,label = data\n",
    "        img = img.view(img.size(0),-1)\n",
    "        img = img.to(device)\n",
    "        label = label.to(device)\n",
    "        with torch.no_grad():\n",
    "            out = model(img)\n",
    "            loss = criterion(out,label)\n",
    "        eval_loss += loss.item()\n",
    "        _,pred = torch.max(out, 1)\n",
    "        eval_accu += (pred == label).float().mean()\n",
    "    print()\n",
    "    \n",
    "    print(f'Test loss: {eval_loss / len(test_loader):.6f}, Accu: {eval_accu / len(train_loader):.6f}')\n",
    "    print(f'Time:{(time.time() - since):.1f} s')\n"
   ]
  },
  {
   "cell_type": "markdown",
   "id": "80c4de22-419d-40d9-8a9c-dd0aaf6a8987",
   "metadata": {},
   "source": [
    "<h2>7. Visualize how model is doing</h2>"
   ]
  },
  {
   "cell_type": "code",
   "execution_count": 22,
   "id": "26ad034b-c9f1-47e4-9162-e4ae163367a0",
   "metadata": {},
   "outputs": [
    {
     "data": {
      "image/png": "[encoded data removed]",
      "text/plain": [
       "<Figure size 1500x300 with 5 Axes>"
      ]
     },
     "metadata": {},
     "output_type": "display_data"
    }
   ],
   "source": [
    "images, labels = next(iter(test_loader))\n",
    "images = images.reshape(-1,28*28).to(device)\n",
    "labels = labels.to(device)\n",
    "outputs = model(images)\n",
    "_,predicted = torch.max(outputs,1)\n",
    "fig,ax = plt.subplots(1,5,figsize=(15,3))\n",
    "for i in range(5):\n",
    "    ax[i].imshow(images[i].reshape(28,28).cpu(),cmap='gray')\n",
    "    ax[i].set_title(f'True : {labels[i].item()},pred {predicted[i].item()}')\n",
    "    ax[i].axis('off')\n",
    "plt.show()"
   ]
  },
  {
   "cell_type": "markdown",
   "id": "d5aeb3d8-fba0-4568-b7b2-39bdf629296a",
   "metadata": {},
   "source": [
    "<h2>7. Save the model</h2>"
   ]
  },
  {
   "cell_type": "code",
   "execution_count": 23,
   "id": "16c32244-d14f-46d1-a792-5a91e4fbc0fc",
   "metadata": {},
   "outputs": [
    {
     "data": {
      "text/plain": [
       "OrderedDict([('linear.weight',\n",
       "              tensor([[ 1.7476e-02, -1.7314e-02,  2.1110e-02,  ..., -1.0286e-02,\n",
       "                        1.7673e-02,  1.2647e-02],\n",
       "                      [-2.8411e-03, -2.0844e-02, -1.4124e-02,  ...,  1.7927e-02,\n",
       "                        4.0824e-03,  2.6032e-02],\n",
       "                      [-3.7830e-03,  1.2813e-02,  2.9050e-02,  ...,  1.2801e-02,\n",
       "                       -1.8833e-02, -2.1187e-02],\n",
       "                      ...,\n",
       "                      [-1.5388e-02,  3.4554e-02,  2.9455e-03,  ..., -1.3931e-02,\n",
       "                       -2.6679e-03,  2.9951e-02],\n",
       "                      [-2.8176e-02,  8.1043e-03,  1.2749e-02,  ..., -8.3920e-03,\n",
       "                       -1.3435e-02,  1.7340e-02],\n",
       "                      [ 7.3313e-04, -3.2261e-02,  2.7618e-02,  ...,  2.3309e-02,\n",
       "                        5.9440e-03,  7.8882e-05]], device='cuda:0')),\n",
       "             ('linear.bias',\n",
       "              tensor([ 0.0250, -0.0181, -0.0702,  0.0131, -0.0974,  0.2473,  0.0239,  0.0042,\n",
       "                      -0.0479, -0.0795], device='cuda:0'))])"
      ]
     },
     "execution_count": 23,
     "metadata": {},
     "output_type": "execute_result"
    }
   ],
   "source": [
    "model.state_dict()"
   ]
  },
  {
   "cell_type": "code",
   "execution_count": 24,
   "id": "3b2c2cd9-c8f1-48fa-8340-40a282782e08",
   "metadata": {},
   "outputs": [],
   "source": [
    "torch.save(model.state_dict(),'./LogisticRegression_model.pth')"
   ]
  }
 ],
 "metadata": {
  "kernelspec": {
   "display_name": "Python 3 (ipykernel)",
   "language": "python",
   "name": "python3"
  },
  "language_info": {
   "codemirror_mode": {
    "name": "ipython",
    "version": 3
   },
   "file_extension": ".py",
   "mimetype": "text/x-python",
   "name": "python",
   "nbconvert_exporter": "python",
   "pygments_lexer": "ipython3",
   "version": "3.12.3"
  }
 },
 "nbformat": 4,
 "nbformat_minor": 5
}
