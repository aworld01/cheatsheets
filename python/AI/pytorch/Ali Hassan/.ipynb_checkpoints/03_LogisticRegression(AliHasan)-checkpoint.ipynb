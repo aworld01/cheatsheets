{
 "cells": [
  {
   "cell_type": "markdown",
   "id": "9c193d6e-45bf-4f6b-98bd-b2f2c288c5f9",
   "metadata": {},
   "source": [
    "<h2>00:54:00 / 3:11:52</h2>"
   ]
  },
  {
   "cell_type": "markdown",
   "id": "16b76962-202e-429b-a5ef-b5597ae4a1ba",
   "metadata": {},
   "source": [
    "<h1>Workflow</h1>"
   ]
  },
  {
   "cell_type": "markdown",
   "id": "d029981d-a7ce-4fbc-8788-d89f7ae961b9",
   "metadata": {},
   "source": [
    "<pre>\n",
    "    0. Import important liberaries\n",
    "    1. Get data ready (turn into tensors and batches)\n",
    "    2. Build a logistic regression model\n",
    "    3. Pick loss function and optimizer\n",
    "    4. Build a training loop\n",
    "    5. Evaluate your model\n",
    "    6. How to improve our model\n",
    "    7. Save your model\n",
    "</pre>"
   ]
  },
  {
   "cell_type": "markdown",
   "id": "2291e052-aa15-477d-8de3-fc21b3236ae3",
   "metadata": {},
   "source": [
    "<h2>0. Import important liberaries</h2>"
   ]
  },
  {
   "cell_type": "code",
   "execution_count": 15,
   "id": "0fb211fd-5de3-4101-8021-9e0e2db743b2",
   "metadata": {},
   "outputs": [],
   "source": [
    "import time\n",
    "import matplotlib.pyplot as plt\n",
    "import torch\n",
    "import torch.nn as nn\n",
    "import torch.nn.functional as f\n",
    "from torch.utils.data import DataLoader\n",
    "from torchvision import datasets, transforms"
   ]
  },
  {
   "cell_type": "markdown",
   "id": "8961fcb1-0c42-491f-bdcd-36a5abee87a5",
   "metadata": {},
   "source": [
    "<h2>1. Get data ready (turn into tensors and batches</h2>"
   ]
  },
  {
   "cell_type": "markdown",
   "id": "fefb117c-0a6a-460f-9984-0d76ffbdaf14",
   "metadata": {},
   "source": [
    "<h3>Download datasets</h3>"
   ]
  },
  {
   "cell_type": "code",
   "execution_count": 16,
   "id": "2c392774-4c72-46aa-a7d8-154acd6c5480",
   "metadata": {},
   "outputs": [],
   "source": [
    "train_dataset = datasets.FashionMNIST(root=\"/dataset\", train=True, transform=transforms.ToTensor(), download=True)\n",
    "test_dataset = datasets.FashionMNIST(root=\"/dataset\", train=False, transform=transforms.ToTensor())"
   ]
  },
  {
   "cell_type": "code",
   "execution_count": 17,
   "id": "bee8cda8-33da-414f-b69f-26432c64792d",
   "metadata": {},
   "outputs": [
    {
     "data": {
      "text/plain": [
       "Dataset FashionMNIST\n",
       "    Number of datapoints: 60000\n",
       "    Root location: /dataset\n",
       "    Split: Train\n",
       "    StandardTransform\n",
       "Transform: ToTensor()"
      ]
     },
     "execution_count": 17,
     "metadata": {},
     "output_type": "execute_result"
    }
   ],
   "source": [
    "train_dataset"
   ]
  },
  {
   "cell_type": "code",
   "execution_count": 18,
   "id": "2c40f7d5-ea43-4a08-b75f-e53fa654eb7c",
   "metadata": {},
   "outputs": [
    {
     "data": {
      "text/plain": [
       "Dataset FashionMNIST\n",
       "    Number of datapoints: 10000\n",
       "    Root location: /dataset\n",
       "    Split: Test\n",
       "    StandardTransform\n",
       "Transform: ToTensor()"
      ]
     },
     "execution_count": 18,
     "metadata": {},
     "output_type": "execute_result"
    }
   ],
   "source": [
    "test_dataset"
   ]
  },
  {
   "cell_type": "markdown",
   "id": "82564cc9-090b-42db-83b1-1fa13b5a0240",
   "metadata": {},
   "source": [
    "<h2>2. Convert data into batches</h2>"
   ]
  },
  {
   "cell_type": "code",
   "execution_count": 19,
   "id": "884206b3-869d-451c-a16b-4d1da1ef45c1",
   "metadata": {},
   "outputs": [],
   "source": [
    "batch_size = 64\n",
    "train_loader = DataLoader(train_dataset, batch_size=batch_size, shuffle=True)\n",
    "test_loader = DataLoader(test_dataset, batch_size=batch_size, shuffle=False)"
   ]
  },
  {
   "cell_type": "code",
   "execution_count": 20,
   "id": "1e7f926c-dbbe-41d9-92f8-7f929a91e840",
   "metadata": {},
   "outputs": [
    {
     "data": {
      "text/plain": [
       "938"
      ]
     },
     "execution_count": 20,
     "metadata": {},
     "output_type": "execute_result"
    }
   ],
   "source": [
    "len(train_loader) # 60000 / 64 = 938"
   ]
  },
  {
   "cell_type": "code",
   "execution_count": 21,
   "id": "e580af5d-dfe7-4aeb-b009-f8f090681eb2",
   "metadata": {},
   "outputs": [
    {
     "data": {
      "text/plain": [
       "157"
      ]
     },
     "execution_count": 21,
     "metadata": {},
     "output_type": "execute_result"
    }
   ],
   "source": [
    "len(test_loader) #10000 / 64 = 157"
   ]
  },
  {
   "cell_type": "markdown",
   "id": "28b2aa31-804e-4c83-80f5-ce6fe4effb09",
   "metadata": {},
   "source": [
    "<h2>3. Build logistic model</h2>"
   ]
  },
  {
   "cell_type": "code",
   "execution_count": 22,
   "id": "a1647e3c-6df3-456e-afc1-fb6b6c688d1d",
   "metadata": {},
   "outputs": [],
   "source": [
    "class LogisticRegression(nn.Module):\n",
    "    def __init__(self, in_dim, n_class):\n",
    "        super().__init__()\n",
    "        self.linear = nn.Linear(in_dim, n_class)\n",
    "\n",
    "    def forward(self, x):\n",
    "        out = self.linear(x)\n",
    "        return out"
   ]
  },
  {
   "cell_type": "code",
   "execution_count": 25,
   "id": "392d81d3-250f-4c54-b0f5-d2e40a522f10",
   "metadata": {},
   "outputs": [],
   "source": [
    "model = LogisticRegression(28*28, 10) #28*28 = 784"
   ]
  },
  {
   "cell_type": "code",
   "execution_count": 24,
   "id": "daac012b-28f8-49f9-844d-487a1e508852",
   "metadata": {},
   "outputs": [
    {
     "data": {
      "text/plain": [
       "LogisticRegression(\n",
       "  (linear): Linear(in_features=784, out_features=10, bias=True)\n",
       ")"
      ]
     },
     "execution_count": 24,
     "metadata": {},
     "output_type": "execute_result"
    }
   ],
   "source": [
    "model"
   ]
  },
  {
   "cell_type": "code",
   "execution_count": 26,
   "id": "58726021-1931-44dd-9432-1c9d74ea5a86",
   "metadata": {},
   "outputs": [
    {
     "data": {
      "text/plain": [
       "OrderedDict([('linear.weight',\n",
       "              tensor([[ 0.0042,  0.0135, -0.0173,  ...,  0.0233,  0.0131,  0.0019],\n",
       "                      [ 0.0057,  0.0257,  0.0239,  ...,  0.0051, -0.0142,  0.0343],\n",
       "                      [ 0.0184, -0.0172,  0.0193,  ..., -0.0135,  0.0209, -0.0148],\n",
       "                      ...,\n",
       "                      [-0.0095,  0.0017, -0.0333,  ..., -0.0030, -0.0013,  0.0014],\n",
       "                      [ 0.0234,  0.0187,  0.0068,  ..., -0.0022, -0.0141, -0.0189],\n",
       "                      [ 0.0063,  0.0082, -0.0010,  ..., -0.0051,  0.0015, -0.0112]])),\n",
       "             ('linear.bias',\n",
       "              tensor([ 2.0366e-02,  5.7564e-03, -3.1674e-02, -1.9992e-03, -2.2707e-02,\n",
       "                      -2.2842e-02,  1.0032e-02,  5.3674e-05,  2.2783e-02, -2.5559e-02]))])"
      ]
     },
     "execution_count": 26,
     "metadata": {},
     "output_type": "execute_result"
    }
   ],
   "source": [
    "model.state_dict()"
   ]
  },
  {
   "cell_type": "code",
   "execution_count": null,
   "id": "d6ea8c63-3336-4be3-bd24-28cc0883f344",
   "metadata": {},
   "outputs": [],
   "source": []
  }
 ],
 "metadata": {
  "kernelspec": {
   "display_name": "Python 3 (ipykernel)",
   "language": "python",
   "name": "python3"
  },
  "language_info": {
   "codemirror_mode": {
    "name": "ipython",
    "version": 3
   },
   "file_extension": ".py",
   "mimetype": "text/x-python",
   "name": "python",
   "nbconvert_exporter": "python",
   "pygments_lexer": "ipython3",
   "version": "3.12.3"
  }
 },
 "nbformat": 4,
 "nbformat_minor": 5
}
