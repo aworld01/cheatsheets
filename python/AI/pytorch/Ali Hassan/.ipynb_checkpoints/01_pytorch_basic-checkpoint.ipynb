{
 "cells": [
  {
   "cell_type": "code",
   "execution_count": 250,
   "id": "5787c4c4-9606-444d-aba1-f5ee62aff9bf",
   "metadata": {},
   "outputs": [],
   "source": [
    "import torch"
   ]
  },
  {
   "cell_type": "code",
   "execution_count": 251,
   "id": "a1e446bc-6e1f-4922-8a6f-44b4266151da",
   "metadata": {},
   "outputs": [
    {
     "data": {
      "text/plain": [
       "'2.3.1'"
      ]
     },
     "execution_count": 251,
     "metadata": {},
     "output_type": "execute_result"
    }
   ],
   "source": [
    "torch.__version__ #to check version of pytorch"
   ]
  },
  {
   "cell_type": "markdown",
   "id": "38683527-e089-4e08-bceb-4b706996a30a",
   "metadata": {},
   "source": [
    "<h1>Introduction to tensors</h1>"
   ]
  },
  {
   "cell_type": "markdown",
   "id": "d436c633-b8a3-4b5e-ae7d-384744cd7cd7",
   "metadata": {},
   "source": [
    "<h2>Creating tensors</h2>"
   ]
  },
  {
   "cell_type": "markdown",
   "id": "5c585849-395a-4638-b341-143aead80f96",
   "metadata": {},
   "source": [
    "<h3>01.Scaler</h3>"
   ]
  },
  {
   "cell_type": "code",
   "execution_count": 252,
   "id": "936867a5-7fd5-4774-9934-06c32c18012e",
   "metadata": {},
   "outputs": [
    {
     "data": {
      "text/plain": [
       "tensor(8)"
      ]
     },
     "execution_count": 252,
     "metadata": {},
     "output_type": "execute_result"
    }
   ],
   "source": [
    "s = torch.tensor(8) #to create a scalar value\n",
    "s"
   ]
  },
  {
   "cell_type": "code",
   "execution_count": 253,
   "id": "bc037335-fdc2-4dfe-947b-e45df526fe7b",
   "metadata": {},
   "outputs": [
    {
     "data": {
      "text/plain": [
       "8"
      ]
     },
     "execution_count": 253,
     "metadata": {},
     "output_type": "execute_result"
    }
   ],
   "source": [
    "s.item() #to extract item form scaler"
   ]
  },
  {
   "cell_type": "code",
   "execution_count": 254,
   "id": "53ec7c9e-d7a6-4a98-8281-2f8357141b61",
   "metadata": {},
   "outputs": [
    {
     "data": {
      "text/plain": [
       "0"
      ]
     },
     "execution_count": 254,
     "metadata": {},
     "output_type": "execute_result"
    }
   ],
   "source": [
    "s.ndim #to check dimensons"
   ]
  },
  {
   "cell_type": "code",
   "execution_count": 255,
   "id": "fc8e60b2-ce3b-44c7-b41d-21a08f45f724",
   "metadata": {},
   "outputs": [
    {
     "data": {
      "text/plain": [
       "torch.Size([])"
      ]
     },
     "execution_count": 255,
     "metadata": {},
     "output_type": "execute_result"
    }
   ],
   "source": [
    "s.shape #to check the shape of dimention"
   ]
  },
  {
   "cell_type": "markdown",
   "id": "c17ea6df-f16e-4490-a36d-21a76513ee7c",
   "metadata": {},
   "source": [
    "<h3>02.Vector</h3>"
   ]
  },
  {
   "cell_type": "code",
   "execution_count": 256,
   "id": "02066fdf-4aec-4f8d-b694-612bc66faf9f",
   "metadata": {},
   "outputs": [
    {
     "data": {
      "text/plain": [
       "tensor([3, 4, 1])"
      ]
     },
     "execution_count": 256,
     "metadata": {},
     "output_type": "execute_result"
    }
   ],
   "source": [
    "v = torch.tensor([3,4,1])\n",
    "v"
   ]
  },
  {
   "cell_type": "code",
   "execution_count": 257,
   "id": "b8c867d2-f844-4c9c-bdc4-edae3f844aa0",
   "metadata": {},
   "outputs": [
    {
     "data": {
      "text/plain": [
       "1"
      ]
     },
     "execution_count": 257,
     "metadata": {},
     "output_type": "execute_result"
    }
   ],
   "source": [
    "v.ndim #count starting or last square brackets to know the dimension"
   ]
  },
  {
   "cell_type": "code",
   "execution_count": 258,
   "id": "99374086-1ac1-4ea8-bd7e-b57308b58fce",
   "metadata": {},
   "outputs": [
    {
     "data": {
      "text/plain": [
       "torch.Size([3])"
      ]
     },
     "execution_count": 258,
     "metadata": {},
     "output_type": "execute_result"
    }
   ],
   "source": [
    "v.shape"
   ]
  },
  {
   "cell_type": "markdown",
   "id": "a94e230e-a685-4894-9f76-1b27b354b538",
   "metadata": {},
   "source": [
    "<h3>03.Matrix</h3>"
   ]
  },
  {
   "cell_type": "code",
   "execution_count": 259,
   "id": "27b5beee-48fc-4e56-9f2f-4b75d51c9b7f",
   "metadata": {},
   "outputs": [
    {
     "data": {
      "text/plain": [
       "tensor([[1, 2, 3],\n",
       "        [4, 5, 6]])"
      ]
     },
     "execution_count": 259,
     "metadata": {},
     "output_type": "execute_result"
    }
   ],
   "source": [
    "m = torch.tensor([[1,2,3],[4,5,6]])\n",
    "m"
   ]
  },
  {
   "cell_type": "code",
   "execution_count": 260,
   "id": "012e938a-25e6-4c0f-b05f-234b557ba624",
   "metadata": {},
   "outputs": [
    {
     "data": {
      "text/plain": [
       "2"
      ]
     },
     "execution_count": 260,
     "metadata": {},
     "output_type": "execute_result"
    }
   ],
   "source": [
    "m.ndim"
   ]
  },
  {
   "cell_type": "code",
   "execution_count": 261,
   "id": "962deb68-b17b-4159-ae6b-d6fe0b963537",
   "metadata": {},
   "outputs": [
    {
     "data": {
      "text/plain": [
       "torch.Size([2, 3])"
      ]
     },
     "execution_count": 261,
     "metadata": {},
     "output_type": "execute_result"
    }
   ],
   "source": [
    "m.shape"
   ]
  },
  {
   "cell_type": "markdown",
   "id": "062f2c0d-986c-4020-928f-6fc95162b720",
   "metadata": {},
   "source": [
    "<h3>3D tensors</h3>"
   ]
  },
  {
   "cell_type": "code",
   "execution_count": 262,
   "id": "97d7966e-dca4-4fe2-894a-37090e58efba",
   "metadata": {},
   "outputs": [
    {
     "data": {
      "text/plain": [
       "tensor([[[1, 2, 3, 4],\n",
       "         [4, 5, 6, 4],\n",
       "         [7, 8, 9, 4]]])"
      ]
     },
     "execution_count": 262,
     "metadata": {},
     "output_type": "execute_result"
    }
   ],
   "source": [
    "t = torch.tensor([[[1,2,3,4],[4,5,6,4],[7,8,9,4]]])\n",
    "t"
   ]
  },
  {
   "cell_type": "code",
   "execution_count": 263,
   "id": "986230ef-fedd-423a-a9c4-a00cd1fd8ca7",
   "metadata": {},
   "outputs": [
    {
     "data": {
      "text/plain": [
       "3"
      ]
     },
     "execution_count": 263,
     "metadata": {},
     "output_type": "execute_result"
    }
   ],
   "source": [
    "t.ndim"
   ]
  },
  {
   "cell_type": "code",
   "execution_count": 264,
   "id": "5be0ca0b-b896-435b-aab9-6d1b08d15180",
   "metadata": {},
   "outputs": [
    {
     "data": {
      "text/plain": [
       "torch.Size([1, 3, 4])"
      ]
     },
     "execution_count": 264,
     "metadata": {},
     "output_type": "execute_result"
    }
   ],
   "source": [
    "t.shape"
   ]
  },
  {
   "cell_type": "markdown",
   "id": "7498ebdc-dda0-4f49-9168-e13959db47cc",
   "metadata": {},
   "source": [
    "<h3>Random tensors</h3>"
   ]
  },
  {
   "cell_type": "code",
   "execution_count": 265,
   "id": "e9672b41-1cde-41cc-9ad1-579077f502d0",
   "metadata": {},
   "outputs": [
    {
     "data": {
      "text/plain": [
       "tensor([[0.4018, 0.6124, 0.5652, 0.7365],\n",
       "        [0.9504, 0.5146, 0.6894, 0.3159],\n",
       "        [0.2009, 0.3792, 0.9497, 0.6282]])"
      ]
     },
     "execution_count": 265,
     "metadata": {},
     "output_type": "execute_result"
    }
   ],
   "source": [
    "rt = torch.rand(3,4) #rt = torch.rand(rows, columns)\n",
    "rt"
   ]
  },
  {
   "cell_type": "code",
   "execution_count": 266,
   "id": "a5f49f35-0a31-4070-92c7-1b17eed5ea16",
   "metadata": {},
   "outputs": [
    {
     "data": {
      "text/plain": [
       "tensor([[[0.6528, 0.9761, 0.1058, 0.4249],\n",
       "         [0.3143, 0.1591, 0.7910, 0.3515],\n",
       "         [0.2636, 0.8517, 0.2872, 0.9958]]])"
      ]
     },
     "execution_count": 266,
     "metadata": {},
     "output_type": "execute_result"
    }
   ],
   "source": [
    "brt = torch.rand(1,3,4)\n",
    "brt"
   ]
  },
  {
   "cell_type": "code",
   "execution_count": 267,
   "id": "7ecc93b3-d072-490b-b96a-e049decb975b",
   "metadata": {},
   "outputs": [
    {
     "data": {
      "text/plain": [
       "tensor([[[0.2463, 0.4398, 0.2433, 0.4197],\n",
       "         [0.1893, 0.1646, 0.4066, 0.3045],\n",
       "         [0.0262, 0.0729, 0.3766, 0.7772]],\n",
       "\n",
       "        [[0.1028, 0.8787, 0.6390, 0.9509],\n",
       "         [0.5824, 0.7025, 0.2578, 0.6365],\n",
       "         [0.4150, 0.2814, 0.9263, 0.2487]]])"
      ]
     },
     "execution_count": 267,
     "metadata": {},
     "output_type": "execute_result"
    }
   ],
   "source": [
    "brt2 = torch.rand(2,3,4)\n",
    "brt2"
   ]
  },
  {
   "cell_type": "markdown",
   "id": "8d49edaf-2bfb-4218-a7aa-4db36e136082",
   "metadata": {},
   "source": [
    "<h1>Zeros</h1>"
   ]
  },
  {
   "cell_type": "code",
   "execution_count": 268,
   "id": "85ed6846-31fd-4edc-8211-5549d93f5461",
   "metadata": {},
   "outputs": [
    {
     "data": {
      "text/plain": [
       "tensor([[0., 0., 0., 0.],\n",
       "        [0., 0., 0., 0.],\n",
       "        [0., 0., 0., 0.]])"
      ]
     },
     "execution_count": 268,
     "metadata": {},
     "output_type": "execute_result"
    }
   ],
   "source": [
    "z = torch.zeros(3,4)\n",
    "z"
   ]
  },
  {
   "cell_type": "markdown",
   "id": "62a886ba-f472-47b5-9452-4046566e4201",
   "metadata": {},
   "source": [
    "<h1>Ones</h1>"
   ]
  },
  {
   "cell_type": "code",
   "execution_count": 269,
   "id": "957ce278-bc71-4c59-b275-cc6d562af44f",
   "metadata": {},
   "outputs": [
    {
     "data": {
      "text/plain": [
       "tensor([[1., 1., 1., 1.],\n",
       "        [1., 1., 1., 1.],\n",
       "        [1., 1., 1., 1.]])"
      ]
     },
     "execution_count": 269,
     "metadata": {},
     "output_type": "execute_result"
    }
   ],
   "source": [
    "o = torch.ones(3,4)\n",
    "o"
   ]
  },
  {
   "cell_type": "markdown",
   "id": "358faba0-6c80-4904-afdf-a4f395badd6a",
   "metadata": {},
   "source": [
    "<h1>Creating arange</h1>"
   ]
  },
  {
   "cell_type": "code",
   "execution_count": 270,
   "id": "eeb3793d-67f6-470f-8d21-96995feca074",
   "metadata": {},
   "outputs": [
    {
     "data": {
      "text/plain": [
       "tensor([1, 2, 3, 4, 5, 6, 7, 8, 9])"
      ]
     },
     "execution_count": 270,
     "metadata": {},
     "output_type": "execute_result"
    }
   ],
   "source": [
    "a1 = torch.arange(1,10) #a = torch.arange(start, end)\n",
    "a1"
   ]
  },
  {
   "cell_type": "code",
   "execution_count": 271,
   "id": "75c06292-0636-44d9-b84e-90d2ea3b897f",
   "metadata": {},
   "outputs": [
    {
     "data": {
      "text/plain": [
       "tensor([1, 3, 5, 7, 9])"
      ]
     },
     "execution_count": 271,
     "metadata": {},
     "output_type": "execute_result"
    }
   ],
   "source": [
    "a2 = torch.arange(1,10,2) #a = torch.arange(start, end, step)\n",
    "a2"
   ]
  },
  {
   "cell_type": "markdown",
   "id": "aac30330-0a5f-41b9-ace6-f85a239edf20",
   "metadata": {},
   "source": [
    "<h1>Tensor_like</h1>"
   ]
  },
  {
   "cell_type": "code",
   "execution_count": 272,
   "id": "92700682-1a40-4f12-8f6d-9234aecc7c3c",
   "metadata": {},
   "outputs": [
    {
     "data": {
      "text/plain": [
       "tensor([[1, 3, 5, 7],\n",
       "        [5, 3, 5, 1]])"
      ]
     },
     "execution_count": 272,
     "metadata": {},
     "output_type": "execute_result"
    }
   ],
   "source": [
    "t = torch.tensor([[1,3,5,7],[5,3,5,1]])\n",
    "t"
   ]
  },
  {
   "cell_type": "code",
   "execution_count": 273,
   "id": "b43cb50f-9126-49f3-8bec-5f836aa11f4e",
   "metadata": {},
   "outputs": [
    {
     "data": {
      "text/plain": [
       "tensor([[0, 0, 0, 0],\n",
       "        [0, 0, 0, 0]])"
      ]
     },
     "execution_count": 273,
     "metadata": {},
     "output_type": "execute_result"
    }
   ],
   "source": [
    "zl = torch.zeros_like(t) #to create zeros tensor with given tensor dimension\n",
    "zl"
   ]
  },
  {
   "cell_type": "code",
   "execution_count": 274,
   "id": "e0bb3f73-049d-4399-817a-b91d906249ff",
   "metadata": {},
   "outputs": [
    {
     "data": {
      "text/plain": [
       "tensor([[1, 1, 1, 1],\n",
       "        [1, 1, 1, 1]])"
      ]
     },
     "execution_count": 274,
     "metadata": {},
     "output_type": "execute_result"
    }
   ],
   "source": [
    "ol = torch.ones_like(t) #to create ones tensor with given tensor dimension\n",
    "ol"
   ]
  },
  {
   "cell_type": "markdown",
   "id": "c6ba751d-b55d-4387-ae4b-b8dd72f5a2fb",
   "metadata": {},
   "source": [
    "<h2>torch.eye (unit / identity matrix)</h2>"
   ]
  },
  {
   "cell_type": "code",
   "execution_count": 275,
   "id": "d4ca3ea0-c279-4ef0-a344-280800c376c7",
   "metadata": {},
   "outputs": [
    {
     "data": {
      "text/plain": [
       "tensor([[1., 0., 0., 0., 0.],\n",
       "        [0., 1., 0., 0., 0.],\n",
       "        [0., 0., 1., 0., 0.],\n",
       "        [0., 0., 0., 1., 0.],\n",
       "        [0., 0., 0., 0., 1.]])"
      ]
     },
     "execution_count": 275,
     "metadata": {},
     "output_type": "execute_result"
    }
   ],
   "source": [
    "e = torch.eye(5) #to make 2D digonal one tensor\n",
    "e"
   ]
  },
  {
   "cell_type": "markdown",
   "id": "2bfa1311-40f8-4dd8-afd5-ba7a82763b0a",
   "metadata": {},
   "source": [
    "<h2>torch.full</h2>"
   ]
  },
  {
   "cell_type": "code",
   "execution_count": 276,
   "id": "f4461b3c-324c-44c2-a8e0-c93034058d45",
   "metadata": {},
   "outputs": [
    {
     "data": {
      "text/plain": [
       "tensor([[1, 1, 1, 1],\n",
       "        [1, 1, 1, 1],\n",
       "        [1, 1, 1, 1]])"
      ]
     },
     "execution_count": 276,
     "metadata": {},
     "output_type": "execute_result"
    }
   ],
   "source": [
    "f = torch.full((3,4),1) #torch.full((start, end),filling number)to create a tensor filled with a specific value\n",
    "f"
   ]
  },
  {
   "cell_type": "markdown",
   "id": "d87ce9dd-018d-40cf-aeec-e57d15779100",
   "metadata": {},
   "source": [
    "<h2>torch.linspace</h2>"
   ]
  },
  {
   "cell_type": "code",
   "execution_count": 277,
   "id": "de12a290-17a0-448f-a436-88f9f932e0ed",
   "metadata": {},
   "outputs": [
    {
     "data": {
      "text/plain": [
       "tensor([ 1.0000,  3.2500,  5.5000,  7.7500, 10.0000])"
      ]
     },
     "execution_count": 277,
     "metadata": {},
     "output_type": "execute_result"
    }
   ],
   "source": [
    "l = torch.linspace(1,10,5) #to create a tensor with linearspace => torch.linspace(start, end, total_number)\n",
    "l"
   ]
  },
  {
   "cell_type": "markdown",
   "id": "777977fb-3ebd-41da-99bb-970385e4b295",
   "metadata": {},
   "source": [
    "<h2>Tensor datatype</h2>"
   ]
  },
  {
   "cell_type": "code",
   "execution_count": 278,
   "id": "b62ff5ac-db36-47b6-9b81-a01d99bf70bd",
   "metadata": {},
   "outputs": [
    {
     "name": "stdout",
     "output_type": "stream",
     "text": [
      "tensor([[0.4619, 0.1252, 0.8295, 0.3661],\n",
      "        [0.1755, 0.8727, 0.6880, 0.0171],\n",
      "        [0.8565, 0.0940, 0.7749, 0.1984]])\n",
      "torch.float32\n"
     ]
    }
   ],
   "source": [
    "t = torch.rand(3,4) #float32\n",
    "print(t)\n",
    "print(t.dtype)"
   ]
  },
  {
   "cell_type": "code",
   "execution_count": 279,
   "id": "45f6d13b-6198-4bcf-a39d-fd99115f28d0",
   "metadata": {},
   "outputs": [
    {
     "name": "stdout",
     "output_type": "stream",
     "text": [
      "tensor([ 3,  4,  5,  6,  7,  8,  9, 10, 11, 12, 13])\n",
      "torch.int64\n"
     ]
    }
   ],
   "source": [
    "t = torch.arange(3,14)\n",
    "print(t)\n",
    "print(t.dtype)"
   ]
  },
  {
   "cell_type": "code",
   "execution_count": 280,
   "id": "b2669356-a187-4d42-bca9-a9eb1d0dadc9",
   "metadata": {},
   "outputs": [
    {
     "name": "stdout",
     "output_type": "stream",
     "text": [
      "tensor([ 3.,  4.,  5.,  6.,  7.,  8.,  9., 10., 11., 12., 13.],\n",
      "       dtype=torch.float64)\n",
      "torch.float64\n"
     ]
    }
   ],
   "source": [
    "t = torch.arange(3.,14.,dtype=float) #define datatype\n",
    "print(t)\n",
    "print(t.dtype)"
   ]
  },
  {
   "cell_type": "markdown",
   "id": "bc6d2995-a1f1-489d-9e77-417ba520d572",
   "metadata": {},
   "source": [
    "<h2>Changing tensor datatype</h2>"
   ]
  },
  {
   "cell_type": "code",
   "execution_count": 281,
   "id": "996e7a85-a4ca-49ae-b350-1a026777b47c",
   "metadata": {},
   "outputs": [
    {
     "name": "stdout",
     "output_type": "stream",
     "text": [
      "tensor([1, 2, 3, 4, 5, 6, 7, 8, 9])\n",
      "torch.int64\n"
     ]
    }
   ],
   "source": [
    "t = torch.arange(1,10) #Change datatype into floating point numbers\n",
    "print(t)\n",
    "print(t.dtype)"
   ]
  },
  {
   "cell_type": "code",
   "execution_count": 282,
   "id": "7c82d62f-a8ed-4985-b4f0-f06ff31ffb82",
   "metadata": {},
   "outputs": [
    {
     "data": {
      "text/plain": [
       "tensor([1., 2., 3., 4., 5., 6., 7., 8., 9.], dtype=torch.float16)"
      ]
     },
     "execution_count": 282,
     "metadata": {},
     "output_type": "execute_result"
    }
   ],
   "source": [
    "f16 = t.type(torch.float16) #to change datatype into float16\n",
    "f16"
   ]
  },
  {
   "cell_type": "code",
   "execution_count": 283,
   "id": "5d7cefb0-6d8f-48cf-8e89-e21771dd9a05",
   "metadata": {},
   "outputs": [
    {
     "data": {
      "text/plain": [
       "tensor([1, 2, 3, 4, 5, 6, 7, 8, 9], dtype=torch.int8)"
      ]
     },
     "execution_count": 283,
     "metadata": {},
     "output_type": "execute_result"
    }
   ],
   "source": [
    "i8 = t.type(torch.int8) #to change datatype into int8\n",
    "i8"
   ]
  },
  {
   "cell_type": "markdown",
   "id": "90757e0d-277a-4ea0-a906-b88d9ca35f20",
   "metadata": {},
   "source": [
    "<h2>Getting information from tensor</h2>"
   ]
  },
  {
   "cell_type": "code",
   "execution_count": 284,
   "id": "1f3abe35-897e-410e-b59d-6fe4c374299b",
   "metadata": {},
   "outputs": [
    {
     "data": {
      "text/plain": [
       "tensor([[0.4779, 0.9977, 0.9403, 0.7644],\n",
       "        [0.6305, 0.0636, 0.6158, 0.6252],\n",
       "        [0.8320, 0.9966, 0.5234, 0.1006]])"
      ]
     },
     "execution_count": 284,
     "metadata": {},
     "output_type": "execute_result"
    }
   ],
   "source": [
    "t = torch.rand(3,4)\n",
    "t"
   ]
  },
  {
   "cell_type": "code",
   "execution_count": 285,
   "id": "d7d5e247-ac19-4853-ab57-04a906b55517",
   "metadata": {},
   "outputs": [
    {
     "data": {
      "text/plain": [
       "torch.Size([3, 4])"
      ]
     },
     "execution_count": 285,
     "metadata": {},
     "output_type": "execute_result"
    }
   ],
   "source": [
    "t.shape"
   ]
  },
  {
   "cell_type": "code",
   "execution_count": 286,
   "id": "bd90c5fd-ddd3-4271-acaf-004e74f547d3",
   "metadata": {},
   "outputs": [
    {
     "data": {
      "text/plain": [
       "torch.float32"
      ]
     },
     "execution_count": 286,
     "metadata": {},
     "output_type": "execute_result"
    }
   ],
   "source": [
    "t.dtype"
   ]
  },
  {
   "cell_type": "code",
   "execution_count": 287,
   "id": "4b091430-22bf-4670-8805-236a4651184c",
   "metadata": {},
   "outputs": [
    {
     "data": {
      "text/plain": [
       "device(type='cpu')"
      ]
     },
     "execution_count": 287,
     "metadata": {},
     "output_type": "execute_result"
    }
   ],
   "source": [
    "t.device"
   ]
  },
  {
   "cell_type": "markdown",
   "id": "8129472c-ddac-4396-8cc7-ef445a9bfc20",
   "metadata": {},
   "source": [
    "<h2>Manipulating tensors (tensor oprations)</h2>"
   ]
  },
  {
   "cell_type": "markdown",
   "id": "ec612a8c-6029-4d96-97de-88caf689ef65",
   "metadata": {},
   "source": [
    "<h3>\n",
    "    <pre>\n",
    "    1.Addition\n",
    "    2.Substraction\n",
    "    3.Element_wise multiplication\n",
    "    4.Matrix multiplication\n",
    "    5.Division\n",
    "    </pre>\n",
    "</h3>"
   ]
  },
  {
   "cell_type": "markdown",
   "id": "b7573fa5-64bf-4daa-a844-0acc086c339b",
   "metadata": {},
   "source": [
    "<h3>1.Addition</h3>"
   ]
  },
  {
   "cell_type": "code",
   "execution_count": 288,
   "id": "90d60151-ac04-4bec-8a29-fa6c649f60a7",
   "metadata": {},
   "outputs": [
    {
     "name": "stdout",
     "output_type": "stream",
     "text": [
      "tensor([1, 2, 3])\n",
      "tensor([4, 5, 6])\n"
     ]
    }
   ],
   "source": [
    "t1 = torch.tensor([1,2,3])\n",
    "t2 = torch.tensor([4,5,6])\n",
    "print(t1)\n",
    "print(t2)"
   ]
  },
  {
   "cell_type": "code",
   "execution_count": 289,
   "id": "28dc1c57-3a5d-4757-bc6f-58159a94666a",
   "metadata": {},
   "outputs": [
    {
     "data": {
      "text/plain": [
       "tensor([5, 7, 9])"
      ]
     },
     "execution_count": 289,
     "metadata": {},
     "output_type": "execute_result"
    }
   ],
   "source": [
    "ma = t1+t2\n",
    "ma"
   ]
  },
  {
   "cell_type": "code",
   "execution_count": 290,
   "id": "2eec2911-5f33-4b58-bc33-cb9b4ef6aeef",
   "metadata": {},
   "outputs": [
    {
     "data": {
      "text/plain": [
       "tensor([5, 7, 9])"
      ]
     },
     "execution_count": 290,
     "metadata": {},
     "output_type": "execute_result"
    }
   ],
   "source": [
    "ma = torch.add(t1,t2)\n",
    "ma"
   ]
  },
  {
   "cell_type": "code",
   "execution_count": 291,
   "id": "20a9cb95-08d9-4106-8e90-51a60ef3de58",
   "metadata": {},
   "outputs": [
    {
     "data": {
      "text/plain": [
       "tensor([11, 12, 13])"
      ]
     },
     "execution_count": 291,
     "metadata": {},
     "output_type": "execute_result"
    }
   ],
   "source": [
    "sa = t1+10\n",
    "sa"
   ]
  },
  {
   "cell_type": "code",
   "execution_count": 292,
   "id": "ab02ccd3-71c1-4d38-802d-09e880586fb6",
   "metadata": {},
   "outputs": [
    {
     "data": {
      "text/plain": [
       "tensor([16, 17, 18])"
      ]
     },
     "execution_count": 292,
     "metadata": {},
     "output_type": "execute_result"
    }
   ],
   "source": [
    "sa = torch.add(t1,15)\n",
    "sa"
   ]
  },
  {
   "cell_type": "markdown",
   "id": "5b5396c0-46ea-4d02-8b06-d8fa8544a890",
   "metadata": {},
   "source": [
    "<h3>2.Substraction</h3>"
   ]
  },
  {
   "cell_type": "code",
   "execution_count": 293,
   "id": "b123042e-ee02-4579-8c74-888f79db3937",
   "metadata": {},
   "outputs": [
    {
     "name": "stdout",
     "output_type": "stream",
     "text": [
      "tensor([1, 2, 3, 4])\n",
      "tensor([4, 5, 6, 7])\n"
     ]
    }
   ],
   "source": [
    "t1 = torch.tensor([1,2,3,4])\n",
    "t2 = torch.tensor([4,5,6,7])\n",
    "print(t1)\n",
    "print(t2)"
   ]
  },
  {
   "cell_type": "code",
   "execution_count": 294,
   "id": "9adeab2f-815c-4c80-a1cf-a3194a95cfc5",
   "metadata": {},
   "outputs": [
    {
     "data": {
      "text/plain": [
       "tensor([3, 3, 3, 3])"
      ]
     },
     "execution_count": 294,
     "metadata": {},
     "output_type": "execute_result"
    }
   ],
   "source": [
    "ms = t2-t1\n",
    "ms"
   ]
  },
  {
   "cell_type": "code",
   "execution_count": 295,
   "id": "f8a4fc2d-e359-41ec-94d0-ff1fca0f0b8b",
   "metadata": {},
   "outputs": [
    {
     "data": {
      "text/plain": [
       "tensor([3, 3, 3, 3])"
      ]
     },
     "execution_count": 295,
     "metadata": {},
     "output_type": "execute_result"
    }
   ],
   "source": [
    "ms = torch.sub(t2,t1)\n",
    "ms"
   ]
  },
  {
   "cell_type": "code",
   "execution_count": 296,
   "id": "e405e4c5-e1e5-4a64-b72d-d9b9f6121610",
   "metadata": {},
   "outputs": [
    {
     "data": {
      "text/plain": [
       "tensor([2, 3, 4, 5])"
      ]
     },
     "execution_count": 296,
     "metadata": {},
     "output_type": "execute_result"
    }
   ],
   "source": [
    "ss = t2 - 2\n",
    "ss"
   ]
  },
  {
   "cell_type": "code",
   "execution_count": 297,
   "id": "ed4f6143-b8fd-423a-9852-831c7cdf3c63",
   "metadata": {},
   "outputs": [
    {
     "data": {
      "text/plain": [
       "tensor([2, 3, 4, 5])"
      ]
     },
     "execution_count": 297,
     "metadata": {},
     "output_type": "execute_result"
    }
   ],
   "source": [
    "ss = torch.sub(t2,2)\n",
    "ss"
   ]
  },
  {
   "cell_type": "markdown",
   "id": "ee8150ac-b32f-47af-bd7b-39da2791fb6b",
   "metadata": {},
   "source": [
    "<h3>3.Element-wise multiplication</h3>"
   ]
  },
  {
   "cell_type": "code",
   "execution_count": 298,
   "id": "c464f2fe-e7f2-4fa9-a1b5-7221c3170fb9",
   "metadata": {},
   "outputs": [
    {
     "name": "stdout",
     "output_type": "stream",
     "text": [
      "tensor([1, 2, 3, 4])\n",
      "tensor([4, 5, 6, 7])\n"
     ]
    }
   ],
   "source": [
    "t1 = torch.tensor([1,2,3,4])\n",
    "t2 = torch.tensor([4,5,6,7])\n",
    "print(t1)\n",
    "print(t2)"
   ]
  },
  {
   "cell_type": "code",
   "execution_count": 299,
   "id": "a172341b-b4ad-467d-87fb-b958adfafa1f",
   "metadata": {},
   "outputs": [
    {
     "data": {
      "text/plain": [
       "tensor([ 4, 10, 18, 28])"
      ]
     },
     "execution_count": 299,
     "metadata": {},
     "output_type": "execute_result"
    }
   ],
   "source": [
    "me = t1 * t2\n",
    "me"
   ]
  },
  {
   "cell_type": "code",
   "execution_count": 300,
   "id": "c0911f6d-2c58-45f2-b435-d011e3ff7c98",
   "metadata": {},
   "outputs": [
    {
     "data": {
      "text/plain": [
       "tensor([ 4, 10, 18, 28])"
      ]
     },
     "execution_count": 300,
     "metadata": {},
     "output_type": "execute_result"
    }
   ],
   "source": [
    "me = torch.mul(t1,t2)\n",
    "me"
   ]
  },
  {
   "cell_type": "code",
   "execution_count": 301,
   "id": "63278b72-ca5d-4511-a5db-3c558d54b1bc",
   "metadata": {},
   "outputs": [
    {
     "data": {
      "text/plain": [
       "tensor([ 4, 10, 18, 28])"
      ]
     },
     "execution_count": 301,
     "metadata": {},
     "output_type": "execute_result"
    }
   ],
   "source": [
    "me = torch.multiply(t1,t2)\n",
    "me"
   ]
  },
  {
   "cell_type": "code",
   "execution_count": 302,
   "id": "b293d395-9290-49f0-ac4c-22a17212de61",
   "metadata": {},
   "outputs": [
    {
     "data": {
      "text/plain": [
       "tensor([ 3,  6,  9, 12])"
      ]
     },
     "execution_count": 302,
     "metadata": {},
     "output_type": "execute_result"
    }
   ],
   "source": [
    "es = 3*t1\n",
    "es"
   ]
  },
  {
   "cell_type": "code",
   "execution_count": 303,
   "id": "b44dfb28-d30a-45ce-a80c-65cff96d7490",
   "metadata": {},
   "outputs": [
    {
     "data": {
      "text/plain": [
       "tensor([ 3,  6,  9, 12])"
      ]
     },
     "execution_count": 303,
     "metadata": {},
     "output_type": "execute_result"
    }
   ],
   "source": [
    "es = torch.mul(3,t1)\n",
    "es"
   ]
  },
  {
   "cell_type": "code",
   "execution_count": 304,
   "id": "dc446511-4bd6-424c-b36a-4f2d44a4fd44",
   "metadata": {},
   "outputs": [
    {
     "data": {
      "text/plain": [
       "tensor([ 3,  6,  9, 12])"
      ]
     },
     "execution_count": 304,
     "metadata": {},
     "output_type": "execute_result"
    }
   ],
   "source": [
    "es = torch.multiply(3,t1)\n",
    "es"
   ]
  },
  {
   "cell_type": "markdown",
   "id": "f52e56ed-547a-454f-82d3-5a8e6a294c08",
   "metadata": {},
   "source": [
    "<h3>4.Division</h3>"
   ]
  },
  {
   "cell_type": "code",
   "execution_count": 305,
   "id": "305071b0-7acd-4787-b986-2e1329896160",
   "metadata": {},
   "outputs": [
    {
     "name": "stdout",
     "output_type": "stream",
     "text": [
      "tensor([1, 2, 3, 4])\n",
      "tensor([4, 5, 6, 7])\n"
     ]
    }
   ],
   "source": [
    "t1 = torch.tensor([1,2,3,4])\n",
    "t2 = torch.tensor([4,5,6,7])\n",
    "print(t1)\n",
    "print(t2)"
   ]
  },
  {
   "cell_type": "code",
   "execution_count": 306,
   "id": "afcccd6e-4775-4f1b-b1e3-d7a9bc26af8c",
   "metadata": {},
   "outputs": [
    {
     "data": {
      "text/plain": [
       "tensor([4.0000, 2.5000, 2.0000, 1.7500])"
      ]
     },
     "execution_count": 306,
     "metadata": {},
     "output_type": "execute_result"
    }
   ],
   "source": [
    "md = t2 / t1\n",
    "md"
   ]
  },
  {
   "cell_type": "code",
   "execution_count": 307,
   "id": "fc6db708-0001-4463-8c35-038a2acc1152",
   "metadata": {},
   "outputs": [
    {
     "data": {
      "text/plain": [
       "tensor([4.0000, 2.5000, 2.0000, 1.7500])"
      ]
     },
     "execution_count": 307,
     "metadata": {},
     "output_type": "execute_result"
    }
   ],
   "source": [
    "md = torch.div(t2, t1)\n",
    "md"
   ]
  },
  {
   "cell_type": "code",
   "execution_count": 308,
   "id": "d30f8efb-082d-4504-8990-4b603222b2c8",
   "metadata": {},
   "outputs": [
    {
     "data": {
      "text/plain": [
       "tensor([5.0000, 4.0000, 3.3333, 2.8571])"
      ]
     },
     "execution_count": 308,
     "metadata": {},
     "output_type": "execute_result"
    }
   ],
   "source": [
    "sd = 20 / t2\n",
    "sd"
   ]
  },
  {
   "cell_type": "code",
   "execution_count": 309,
   "id": "818d4177-b8d0-488f-833f-d1182bf8992a",
   "metadata": {},
   "outputs": [
    {
     "data": {
      "text/plain": [
       "tensor([5.0000, 4.0000, 3.3333, 2.8571])"
      ]
     },
     "execution_count": 309,
     "metadata": {},
     "output_type": "execute_result"
    }
   ],
   "source": [
    "sd = torch.div(20, t2)\n",
    "sd"
   ]
  },
  {
   "cell_type": "markdown",
   "id": "b1cabdc2-3c23-47e8-ad31-fdcff7f27292",
   "metadata": {},
   "source": [
    "<h3>5.Matrix multiplication</h3>"
   ]
  },
  {
   "cell_type": "code",
   "execution_count": 310,
   "id": "2d4cfdf3-6a15-43e8-8bc9-4ff96af3e02d",
   "metadata": {},
   "outputs": [
    {
     "name": "stdout",
     "output_type": "stream",
     "text": [
      "tensor([[1, 2, 3, 4],\n",
      "        [5, 6, 7, 8]])\n",
      "tensor([[8, 7, 6, 5],\n",
      "        [4, 3, 2, 1]])\n"
     ]
    }
   ],
   "source": [
    "m1 = torch.tensor([[1,2,3,4],[5,6,7,8]])\n",
    "m2 = torch.tensor([[8,7,6,5],[4,3,2,1]])\n",
    "print(m1)\n",
    "print(m2)"
   ]
  },
  {
   "cell_type": "code",
   "execution_count": 311,
   "id": "a5f7f0e2-a2e9-4792-ba91-b11ac791a2a2",
   "metadata": {},
   "outputs": [
    {
     "data": {
      "text/plain": [
       "(torch.Size([2, 4]), torch.Size([2, 4]))"
      ]
     },
     "execution_count": 311,
     "metadata": {},
     "output_type": "execute_result"
    }
   ],
   "source": [
    "m1.shape, m2.shape"
   ]
  },
  {
   "cell_type": "code",
   "execution_count": 312,
   "id": "f2e98c36-989d-4d78-a4e3-1ca85edcc04b",
   "metadata": {},
   "outputs": [
    {
     "data": {
      "text/plain": [
       "tensor([[8, 4],\n",
       "        [7, 3],\n",
       "        [6, 2],\n",
       "        [5, 1]])"
      ]
     },
     "execution_count": 312,
     "metadata": {},
     "output_type": "execute_result"
    }
   ],
   "source": [
    "trans = m2.T\n",
    "trans"
   ]
  },
  {
   "cell_type": "code",
   "execution_count": 313,
   "id": "ae6e1704-fc5a-4719-b021-3821705ab0bb",
   "metadata": {},
   "outputs": [
    {
     "data": {
      "text/plain": [
       "(torch.Size([2, 4]), torch.Size([4, 2]))"
      ]
     },
     "execution_count": 313,
     "metadata": {},
     "output_type": "execute_result"
    }
   ],
   "source": [
    "m1.shape, trans.shape"
   ]
  },
  {
   "cell_type": "code",
   "execution_count": 314,
   "id": "57c64b24-4325-4b2b-9281-6c9d1682a92a",
   "metadata": {},
   "outputs": [
    {
     "data": {
      "text/plain": [
       "tensor([[ 60,  20],\n",
       "        [164,  60]])"
      ]
     },
     "execution_count": 314,
     "metadata": {},
     "output_type": "execute_result"
    }
   ],
   "source": [
    "result = m1 @ trans #to matrix multiplication\n",
    "result"
   ]
  },
  {
   "cell_type": "code",
   "execution_count": 315,
   "id": "9bc7a15a-740b-40ee-a22d-a5881103d58e",
   "metadata": {},
   "outputs": [
    {
     "data": {
      "text/plain": [
       "tensor([[ 60,  20],\n",
       "        [164,  60]])"
      ]
     },
     "execution_count": 315,
     "metadata": {},
     "output_type": "execute_result"
    }
   ],
   "source": [
    "result = torch.mm(m1, trans)\n",
    "result"
   ]
  },
  {
   "cell_type": "code",
   "execution_count": 316,
   "id": "1721f3de-3500-4aa9-808c-d4fc858b0e76",
   "metadata": {},
   "outputs": [
    {
     "data": {
      "text/plain": [
       "tensor([[ 60,  20],\n",
       "        [164,  60]])"
      ]
     },
     "execution_count": 316,
     "metadata": {},
     "output_type": "execute_result"
    }
   ],
   "source": [
    "result = torch.matmul(m1,trans)\n",
    "result"
   ]
  },
  {
   "cell_type": "markdown",
   "id": "8c63a5b3-2d3f-4fac-a587-ef0c8add37db",
   "metadata": {},
   "source": [
    "<h2>Finding the Mean, Min,, Max, and Sum</h2>"
   ]
  },
  {
   "cell_type": "code",
   "execution_count": 317,
   "id": "3340458c-bef0-4634-ae56-1b28f02fb12d",
   "metadata": {},
   "outputs": [
    {
     "data": {
      "text/plain": [
       "tensor([[1., 2., 3., 4.],\n",
       "        [4., 5., 6., 7.]])"
      ]
     },
     "execution_count": 317,
     "metadata": {},
     "output_type": "execute_result"
    }
   ],
   "source": [
    "x = torch.tensor([[1.,2,3,4],[4,5,6,7]]) #it's alwas works with floating point numbers\n",
    "x"
   ]
  },
  {
   "cell_type": "code",
   "execution_count": 318,
   "id": "0ece7ccb-0684-47fb-83bc-72a2afeff951",
   "metadata": {},
   "outputs": [
    {
     "data": {
      "text/plain": [
       "tensor(4.)"
      ]
     },
     "execution_count": 318,
     "metadata": {},
     "output_type": "execute_result"
    }
   ],
   "source": [
    "x.mean() #to find mean value"
   ]
  },
  {
   "cell_type": "code",
   "execution_count": 319,
   "id": "fe8db347-e4a4-4dba-adb7-7fbb6bf2e3e5",
   "metadata": {},
   "outputs": [
    {
     "data": {
      "text/plain": [
       "tensor(1.)"
      ]
     },
     "execution_count": 319,
     "metadata": {},
     "output_type": "execute_result"
    }
   ],
   "source": [
    "x.min() #to find minimum value"
   ]
  },
  {
   "cell_type": "code",
   "execution_count": 320,
   "id": "fafbcc63-5183-460b-b413-7953eb0b6504",
   "metadata": {},
   "outputs": [
    {
     "data": {
      "text/plain": [
       "tensor(7.)"
      ]
     },
     "execution_count": 320,
     "metadata": {},
     "output_type": "execute_result"
    }
   ],
   "source": [
    "x.max() #to find maximum value"
   ]
  },
  {
   "cell_type": "code",
   "execution_count": 321,
   "id": "a684418f-26d2-4aa0-b32a-2f8f70d62eb4",
   "metadata": {},
   "outputs": [
    {
     "data": {
      "text/plain": [
       "tensor(32.)"
      ]
     },
     "execution_count": 321,
     "metadata": {},
     "output_type": "execute_result"
    }
   ],
   "source": [
    "x.sum() #to sum all of the values"
   ]
  },
  {
   "cell_type": "code",
   "execution_count": 322,
   "id": "634777be-50df-44e2-bad4-723e59c949cc",
   "metadata": {},
   "outputs": [
    {
     "data": {
      "text/plain": [
       "tensor(4.)"
      ]
     },
     "execution_count": 322,
     "metadata": {},
     "output_type": "execute_result"
    }
   ],
   "source": [
    "torch.mean(x) #to find mean value"
   ]
  },
  {
   "cell_type": "code",
   "execution_count": 323,
   "id": "2d699c09-d930-458c-ae64-02adb3799215",
   "metadata": {},
   "outputs": [
    {
     "data": {
      "text/plain": [
       "tensor(1.)"
      ]
     },
     "execution_count": 323,
     "metadata": {},
     "output_type": "execute_result"
    }
   ],
   "source": [
    "torch.min(x) #to find minimum value"
   ]
  },
  {
   "cell_type": "code",
   "execution_count": 324,
   "id": "580c0db9-f3ed-4298-8518-5021b2e5466c",
   "metadata": {},
   "outputs": [
    {
     "data": {
      "text/plain": [
       "tensor(7.)"
      ]
     },
     "execution_count": 324,
     "metadata": {},
     "output_type": "execute_result"
    }
   ],
   "source": [
    "torch.max(x) #to find maximum value"
   ]
  },
  {
   "cell_type": "code",
   "execution_count": 325,
   "id": "190bdbbe-4edb-4cdd-893f-5f8b6732de61",
   "metadata": {},
   "outputs": [
    {
     "data": {
      "text/plain": [
       "tensor(32.)"
      ]
     },
     "execution_count": 325,
     "metadata": {},
     "output_type": "execute_result"
    }
   ],
   "source": [
    "torch.sum(x) #to sum all of the values"
   ]
  },
  {
   "cell_type": "markdown",
   "id": "34cf6fd1-41e0-4aac-9f34-1679f0874966",
   "metadata": {},
   "source": [
    "<h2>Positional Min and Max</h2>"
   ]
  },
  {
   "cell_type": "code",
   "execution_count": 326,
   "id": "9ae741f6-e1bc-4dc1-9611-662ef091cef3",
   "metadata": {},
   "outputs": [
    {
     "data": {
      "text/plain": [
       "tensor(0)"
      ]
     },
     "execution_count": 326,
     "metadata": {},
     "output_type": "execute_result"
    }
   ],
   "source": [
    "x.argmin() #to find index of minimum number"
   ]
  },
  {
   "cell_type": "code",
   "execution_count": 327,
   "id": "3d090faf-3be4-4d61-a48e-bc03442e92cd",
   "metadata": {},
   "outputs": [
    {
     "data": {
      "text/plain": [
       "tensor(7)"
      ]
     },
     "execution_count": 327,
     "metadata": {},
     "output_type": "execute_result"
    }
   ],
   "source": [
    "x.argmax() #to find index of maximum number"
   ]
  },
  {
   "cell_type": "markdown",
   "id": "00bf90c0-8c46-4ed9-bfde-df2f29216352",
   "metadata": {},
   "source": [
    "<h3>Reshaping</h3>"
   ]
  },
  {
   "cell_type": "code",
   "execution_count": 328,
   "id": "1785350e-a29e-4b99-aba9-5b7dbe38d5be",
   "metadata": {},
   "outputs": [
    {
     "data": {
      "text/plain": [
       "tensor([1, 2, 3, 4, 5, 6, 7, 8])"
      ]
     },
     "execution_count": 328,
     "metadata": {},
     "output_type": "execute_result"
    }
   ],
   "source": [
    "x = torch.arange(1,9)\n",
    "x"
   ]
  },
  {
   "cell_type": "code",
   "execution_count": 329,
   "id": "44eb7753-f5ff-496e-80e0-4dbd6a271b0c",
   "metadata": {},
   "outputs": [
    {
     "data": {
      "text/plain": [
       "tensor([[1, 2, 3, 4],\n",
       "        [5, 6, 7, 8]])"
      ]
     },
     "execution_count": 329,
     "metadata": {},
     "output_type": "execute_result"
    }
   ],
   "source": [
    "x_reshaped = x.reshape(2,4)\n",
    "x_reshaped"
   ]
  },
  {
   "cell_type": "code",
   "execution_count": 330,
   "id": "04b350c9-2271-40cf-acc1-b20d9e4fae0a",
   "metadata": {},
   "outputs": [
    {
     "data": {
      "text/plain": [
       "tensor([[[1, 2],\n",
       "         [3, 4]],\n",
       "\n",
       "        [[5, 6],\n",
       "         [7, 8]]])"
      ]
     },
     "execution_count": 330,
     "metadata": {},
     "output_type": "execute_result"
    }
   ],
   "source": [
    "x_reshaped1 = x.reshape(2,2,2)\n",
    "x_reshaped1"
   ]
  },
  {
   "cell_type": "code",
   "execution_count": 331,
   "id": "54df5e65-c9f7-48bc-a09a-01286b8d6997",
   "metadata": {},
   "outputs": [
    {
     "data": {
      "text/plain": [
       "tensor([1, 2, 3, 4, 5, 6, 7, 8])"
      ]
     },
     "execution_count": 331,
     "metadata": {},
     "output_type": "execute_result"
    }
   ],
   "source": [
    "y = torch.arange(1,9)\n",
    "y"
   ]
  },
  {
   "cell_type": "code",
   "execution_count": 332,
   "id": "3eda467e-d632-48ab-9299-dcf680ede47c",
   "metadata": {},
   "outputs": [
    {
     "data": {
      "text/plain": [
       "tensor([[1, 2, 3, 4],\n",
       "        [5, 6, 7, 8]])"
      ]
     },
     "execution_count": 332,
     "metadata": {},
     "output_type": "execute_result"
    }
   ],
   "source": [
    "y_view = y.view(2,4)\n",
    "y_view"
   ]
  },
  {
   "cell_type": "markdown",
   "id": "dace239f-e0f7-415f-a93f-15f795dc07cf",
   "metadata": {},
   "source": [
    "<h3>Stacking</h3>"
   ]
  },
  {
   "cell_type": "code",
   "execution_count": 333,
   "id": "ba5f8710-bd8a-4554-b0d2-51918b39a777",
   "metadata": {},
   "outputs": [
    {
     "data": {
      "text/plain": [
       "tensor([1, 2, 3, 4, 5, 6, 7, 8])"
      ]
     },
     "execution_count": 333,
     "metadata": {},
     "output_type": "execute_result"
    }
   ],
   "source": [
    "t = torch.arange(1,9)\n",
    "t"
   ]
  },
  {
   "cell_type": "code",
   "execution_count": 334,
   "id": "0ba9cec9-8ce8-4d79-9924-7fcc51bd3d38",
   "metadata": {},
   "outputs": [
    {
     "data": {
      "text/plain": [
       "tensor([[1, 2, 3, 4, 5, 6, 7, 8],\n",
       "        [1, 2, 3, 4, 5, 6, 7, 8],\n",
       "        [1, 2, 3, 4, 5, 6, 7, 8]])"
      ]
     },
     "execution_count": 334,
     "metadata": {},
     "output_type": "execute_result"
    }
   ],
   "source": [
    "t_stack = torch.stack([t,t,t]) #add row-wise (default \"dim=0\")\n",
    "t_stack"
   ]
  },
  {
   "cell_type": "code",
   "execution_count": 335,
   "id": "d7f95ca1-cfef-402f-a780-dd3d8e09e217",
   "metadata": {},
   "outputs": [
    {
     "data": {
      "text/plain": [
       "tensor([[1, 1, 1],\n",
       "        [2, 2, 2],\n",
       "        [3, 3, 3],\n",
       "        [4, 4, 4],\n",
       "        [5, 5, 5],\n",
       "        [6, 6, 6],\n",
       "        [7, 7, 7],\n",
       "        [8, 8, 8]])"
      ]
     },
     "execution_count": 335,
     "metadata": {},
     "output_type": "execute_result"
    }
   ],
   "source": [
    "t_stack = torch.stack([t,t,t], dim=1) #add columnwise\n",
    "t_stack"
   ]
  },
  {
   "cell_type": "markdown",
   "id": "104b8d33-ee4f-4be5-b209-71099025a43a",
   "metadata": {},
   "source": [
    "<h3>Unsqueeze</h3>"
   ]
  },
  {
   "cell_type": "code",
   "execution_count": 336,
   "id": "f09a1c27-0bb6-4c24-8d8a-62db836bf8d1",
   "metadata": {},
   "outputs": [
    {
     "data": {
      "text/plain": [
       "tensor([1, 2, 3, 4, 5, 6])"
      ]
     },
     "execution_count": 336,
     "metadata": {},
     "output_type": "execute_result"
    }
   ],
   "source": [
    "x = torch.tensor([1,2,3,4,5,6])\n",
    "x"
   ]
  },
  {
   "cell_type": "code",
   "execution_count": 337,
   "id": "ee7f4947-e962-4077-9817-ee14ad44825e",
   "metadata": {},
   "outputs": [
    {
     "name": "stdout",
     "output_type": "stream",
     "text": [
      "torch.Size([6])\n",
      "1\n"
     ]
    }
   ],
   "source": [
    "print(x.shape)\n",
    "print(x.ndim)"
   ]
  },
  {
   "cell_type": "code",
   "execution_count": 338,
   "id": "034e9135-552e-4a67-9981-651805caf535",
   "metadata": {},
   "outputs": [
    {
     "data": {
      "text/plain": [
       "tensor([[1, 2, 3, 4, 5, 6]])"
      ]
     },
     "execution_count": 338,
     "metadata": {},
     "output_type": "execute_result"
    }
   ],
   "source": [
    "ur = torch.unsqueeze(x,dim=0) #to add 1D (row-wise)\n",
    "ur"
   ]
  },
  {
   "cell_type": "code",
   "execution_count": 339,
   "id": "4a769527-af5b-4f75-835f-d2d145d40b94",
   "metadata": {},
   "outputs": [
    {
     "name": "stdout",
     "output_type": "stream",
     "text": [
      "torch.Size([1, 6])\n",
      "2\n"
     ]
    }
   ],
   "source": [
    "print(ur.shape)\n",
    "print(ur.ndim)"
   ]
  },
  {
   "cell_type": "code",
   "execution_count": 340,
   "id": "c92c8821-d0f0-44db-9d44-668a9854c7c1",
   "metadata": {},
   "outputs": [
    {
     "data": {
      "text/plain": [
       "tensor([[1],\n",
       "        [2],\n",
       "        [3],\n",
       "        [4],\n",
       "        [5],\n",
       "        [6]])"
      ]
     },
     "execution_count": 340,
     "metadata": {},
     "output_type": "execute_result"
    }
   ],
   "source": [
    "uc = torch.unsqueeze(x,dim=1) #to add 1D (column-wise)\n",
    "uc"
   ]
  },
  {
   "cell_type": "code",
   "execution_count": 345,
   "id": "38af2a98-dc42-40ad-bf53-46a4c28b7801",
   "metadata": {},
   "outputs": [
    {
     "name": "stdout",
     "output_type": "stream",
     "text": [
      "torch.Size([6, 1])\n",
      "2\n"
     ]
    }
   ],
   "source": [
    "print(uc.shape)\n",
    "print(uc.ndim)"
   ]
  },
  {
   "cell_type": "markdown",
   "id": "af213e02-3853-4d99-9ae8-3b215315153f",
   "metadata": {},
   "source": [
    "<h3>Squeeze</h3>"
   ]
  },
  {
   "cell_type": "code",
   "execution_count": 346,
   "id": "1f69ec2c-90c4-4ea9-aaff-dabf97c3de85",
   "metadata": {},
   "outputs": [
    {
     "data": {
      "text/plain": [
       "tensor([[1, 2, 3, 4, 5, 6, 7]])"
      ]
     },
     "execution_count": 346,
     "metadata": {},
     "output_type": "execute_result"
    }
   ],
   "source": [
    "x = torch.tensor([[1,2,3,4,5,6,7]])\n",
    "x"
   ]
  },
  {
   "cell_type": "code",
   "execution_count": 347,
   "id": "450d6016-ff14-4efd-b912-8c9382aad949",
   "metadata": {},
   "outputs": [
    {
     "name": "stdout",
     "output_type": "stream",
     "text": [
      "torch.Size([1, 7])\n",
      "2\n"
     ]
    }
   ],
   "source": [
    "print(x.shape)\n",
    "print(x.ndim)"
   ]
  },
  {
   "cell_type": "code",
   "execution_count": 348,
   "id": "39e363c3-9546-4885-8d3b-c0c1ed0c8dc8",
   "metadata": {},
   "outputs": [
    {
     "data": {
      "text/plain": [
       "tensor([1, 2, 3, 4, 5, 6, 7])"
      ]
     },
     "execution_count": 348,
     "metadata": {},
     "output_type": "execute_result"
    }
   ],
   "source": [
    "sr = x.squeeze() #to remove 1D\n",
    "sr"
   ]
  },
  {
   "cell_type": "code",
   "execution_count": 349,
   "id": "64feff70-e97e-4199-b129-94d0cfb316ff",
   "metadata": {},
   "outputs": [
    {
     "name": "stdout",
     "output_type": "stream",
     "text": [
      "torch.Size([7])\n",
      "1\n"
     ]
    }
   ],
   "source": [
    "print(sr.shape)\n",
    "print(sr.ndim)"
   ]
  },
  {
   "cell_type": "markdown",
   "id": "d863490d-a9c5-4cd5-929d-bf4f1484e6fe",
   "metadata": {},
   "source": [
    "<h3>Permute</h3>"
   ]
  },
  {
   "cell_type": "code",
   "execution_count": 368,
   "id": "6b57c529-36af-476b-8626-3d8397ed838b",
   "metadata": {},
   "outputs": [
    {
     "data": {
      "text/plain": [
       "tensor([[[0.6751, 0.4230, 0.8945, 0.3697],\n",
       "         [0.6494, 0.1663, 0.1637, 0.3273],\n",
       "         [0.4207, 0.4221, 0.5655, 0.3692]],\n",
       "\n",
       "        [[0.2735, 0.2803, 0.7662, 0.7867],\n",
       "         [0.8595, 0.9336, 0.1081, 0.4574],\n",
       "         [0.5993, 0.7946, 0.3801, 0.1449]]])"
      ]
     },
     "execution_count": 368,
     "metadata": {},
     "output_type": "execute_result"
    }
   ],
   "source": [
    "x = torch.rand(2,3,4)\n",
    "x"
   ]
  },
  {
   "cell_type": "code",
   "execution_count": 369,
   "id": "5c634912-1bff-411e-adc5-1a85a34b1a87",
   "metadata": {},
   "outputs": [
    {
     "name": "stdout",
     "output_type": "stream",
     "text": [
      "torch.Size([2, 3, 4])\n",
      "3\n"
     ]
    }
   ],
   "source": [
    "print(x.shape)\n",
    "print(x.ndim)"
   ]
  },
  {
   "cell_type": "code",
   "execution_count": 373,
   "id": "a4d371d8-3afc-4298-9889-b2019424c51b",
   "metadata": {},
   "outputs": [
    {
     "data": {
      "text/plain": [
       "tensor([[[0.6751, 0.6494, 0.4207],\n",
       "         [0.2735, 0.8595, 0.5993]],\n",
       "\n",
       "        [[0.4230, 0.1663, 0.4221],\n",
       "         [0.2803, 0.9336, 0.7946]],\n",
       "\n",
       "        [[0.8945, 0.1637, 0.5655],\n",
       "         [0.7662, 0.1081, 0.3801]],\n",
       "\n",
       "        [[0.3697, 0.3273, 0.3692],\n",
       "         [0.7867, 0.4574, 0.1449]]])"
      ]
     },
     "execution_count": 373,
     "metadata": {},
     "output_type": "execute_result"
    }
   ],
   "source": [
    "x_permute = torch.permute(x,[2,0,1]) #to rearrange the dimension of tensor (it takes the index of item as argument\n",
    "x_permute"
   ]
  },
  {
   "cell_type": "code",
   "execution_count": 374,
   "id": "19a3c505-b68f-4b29-a490-1920f7886753",
   "metadata": {},
   "outputs": [
    {
     "name": "stdout",
     "output_type": "stream",
     "text": [
      "torch.Size([4, 2, 3])\n",
      "3\n"
     ]
    }
   ],
   "source": [
    "print(x_permute.shape)\n",
    "print(x_permute.ndim)"
   ]
  },
  {
   "cell_type": "markdown",
   "id": "28fe39e7-4509-4428-9ad9-628cc45ac48d",
   "metadata": {},
   "source": [
    "<h3>Indexing (Selecting data from tensors)</h3>"
   ]
  },
  {
   "cell_type": "code",
   "execution_count": 375,
   "id": "8e5680d5-3e82-4562-90f5-4e8238a03d93",
   "metadata": {},
   "outputs": [
    {
     "data": {
      "text/plain": [
       "tensor([[[1, 2, 3],\n",
       "         [4, 5, 6],\n",
       "         [7, 8, 9]]])"
      ]
     },
     "execution_count": 375,
     "metadata": {},
     "output_type": "execute_result"
    }
   ],
   "source": [
    "x = torch.arange(1,10).reshape(1,3,3)\n",
    "x"
   ]
  },
  {
   "cell_type": "code",
   "execution_count": 376,
   "id": "c074a5ee-a0bc-4c1a-8354-aa8f680a9c84",
   "metadata": {},
   "outputs": [
    {
     "data": {
      "text/plain": [
       "tensor([[1, 2, 3],\n",
       "        [4, 5, 6],\n",
       "        [7, 8, 9]])"
      ]
     },
     "execution_count": 376,
     "metadata": {},
     "output_type": "execute_result"
    }
   ],
   "source": [
    "x[0]"
   ]
  },
  {
   "cell_type": "code",
   "execution_count": 377,
   "id": "4c81f52b-94fc-4b7b-a222-c8661de39b6d",
   "metadata": {},
   "outputs": [
    {
     "data": {
      "text/plain": [
       "tensor([1, 2, 3])"
      ]
     },
     "execution_count": 377,
     "metadata": {},
     "output_type": "execute_result"
    }
   ],
   "source": [
    "x[0,0]"
   ]
  },
  {
   "cell_type": "code",
   "execution_count": 378,
   "id": "7babc03c-145c-4db3-b45d-c676b054056c",
   "metadata": {},
   "outputs": [
    {
     "data": {
      "text/plain": [
       "tensor(1)"
      ]
     },
     "execution_count": 378,
     "metadata": {},
     "output_type": "execute_result"
    }
   ],
   "source": [
    "x[0,0,0]"
   ]
  },
  {
   "cell_type": "code",
   "execution_count": 379,
   "id": "00978b29-f3c6-4a7f-8842-a763f7c671cc",
   "metadata": {},
   "outputs": [
    {
     "data": {
      "text/plain": [
       "tensor(6)"
      ]
     },
     "execution_count": 379,
     "metadata": {},
     "output_type": "execute_result"
    }
   ],
   "source": [
    "x[0,1,2]"
   ]
  },
  {
   "cell_type": "markdown",
   "id": "d139c817-c140-4b6b-9843-335c75225bc8",
   "metadata": {},
   "source": [
    "<h3>Pytorch tensor and Numpy array</h3>"
   ]
  },
  {
   "cell_type": "code",
   "execution_count": 380,
   "id": "b6b9873d-0023-4c4b-b208-db2a15d83225",
   "metadata": {},
   "outputs": [],
   "source": [
    "import numpy as np"
   ]
  },
  {
   "cell_type": "code",
   "execution_count": 381,
   "id": "f1c0e22c-b345-4488-acd4-0ca270ae8ebb",
   "metadata": {},
   "outputs": [
    {
     "data": {
      "text/plain": [
       "array([1, 2, 3, 4, 5, 6, 7, 8])"
      ]
     },
     "execution_count": 381,
     "metadata": {},
     "output_type": "execute_result"
    }
   ],
   "source": [
    "n = np.arange(1,9)\n",
    "n"
   ]
  },
  {
   "cell_type": "code",
   "execution_count": 382,
   "id": "8bdad30d-0781-4c5f-be93-b162900043c5",
   "metadata": {},
   "outputs": [
    {
     "data": {
      "text/plain": [
       "tensor([1, 2, 3, 4, 5, 6, 7, 8], dtype=torch.int32)"
      ]
     },
     "execution_count": 382,
     "metadata": {},
     "output_type": "execute_result"
    }
   ],
   "source": [
    "t = torch.from_numpy(n) #to convert numpy array into pytorch tensor\n",
    "t"
   ]
  },
  {
   "cell_type": "code",
   "execution_count": 384,
   "id": "3e87fd35-3f91-450c-8310-77c7a5d2c111",
   "metadata": {},
   "outputs": [
    {
     "data": {
      "text/plain": [
       "array([1, 2, 3, 4, 5, 6, 7, 8])"
      ]
     },
     "execution_count": 384,
     "metadata": {},
     "output_type": "execute_result"
    }
   ],
   "source": [
    "n = t.numpy() #to convet pytorch tensor into numpy array\n",
    "n"
   ]
  },
  {
   "cell_type": "markdown",
   "id": "8eb8693d-0321-4e88-ad70-afa2da1b177d",
   "metadata": {},
   "source": [
    "<h2>Reproducibility</h2>"
   ]
  },
  {
   "cell_type": "markdown",
   "id": "003c0be9-ebb3-4bbe-9676-9f12a7bbdfed",
   "metadata": {},
   "source": [
    "<h3>This will not return you a fix value</h3>"
   ]
  },
  {
   "cell_type": "code",
   "execution_count": 386,
   "id": "3625712e-f175-4fad-af77-110b2ee3d514",
   "metadata": {},
   "outputs": [
    {
     "name": "stdout",
     "output_type": "stream",
     "text": [
      "tensor([[0.3627, 0.5803, 0.1501, 0.2350],\n",
      "        [0.5167, 0.6301, 0.3388, 0.3225],\n",
      "        [0.8569, 0.1224, 0.8921, 0.8772]])\n",
      "tensor([[0.2440, 0.4476, 0.7665, 0.5416],\n",
      "        [0.9303, 0.0459, 0.1686, 0.6646],\n",
      "        [0.8471, 0.7710, 0.6335, 0.5842]])\n"
     ]
    }
   ],
   "source": [
    "r1 = torch.rand(3,4)\n",
    "r2 = torch.rand(3,4)\n",
    "print(r1)\n",
    "print(r2)"
   ]
  },
  {
   "cell_type": "markdown",
   "id": "af3b2391-2dcc-42e3-aa8a-73564ff68adc",
   "metadata": {},
   "source": [
    "<h3>This will return you a fix value</h3>"
   ]
  },
  {
   "cell_type": "code",
   "execution_count": 388,
   "id": "7ff3b7c8-da2e-4711-9526-4d97bd48978d",
   "metadata": {},
   "outputs": [
    {
     "name": "stdout",
     "output_type": "stream",
     "text": [
      "tensor([[0.8823, 0.9150, 0.3829, 0.9593],\n",
      "        [0.3904, 0.6009, 0.2566, 0.7936],\n",
      "        [0.9408, 0.1332, 0.9346, 0.5936]])\n"
     ]
    }
   ],
   "source": [
    "torch.manual_seed(42)\n",
    "r1 = torch.rand(3,4)\n",
    "print(r1)"
   ]
  },
  {
   "cell_type": "code",
   "execution_count": 389,
   "id": "a197c9ac-6efd-487d-9fd9-0a68e41d7a6e",
   "metadata": {},
   "outputs": [
    {
     "data": {
      "text/plain": [
       "tensor([[0.8823, 0.9150, 0.3829, 0.9593],\n",
       "        [0.3904, 0.6009, 0.2566, 0.7936],\n",
       "        [0.9408, 0.1332, 0.9346, 0.5936]])"
      ]
     },
     "execution_count": 389,
     "metadata": {},
     "output_type": "execute_result"
    }
   ],
   "source": [
    "torch.manual_seed(42)\n",
    "r2 = torch.rand(3,4)\n",
    "r2"
   ]
  },
  {
   "cell_type": "markdown",
   "id": "4e186678-cf81-4306-92ba-8c5515dadd1a",
   "metadata": {},
   "source": [
    "<h2>Running Tensor on GPU</h2>"
   ]
  },
  {
   "cell_type": "code",
   "execution_count": 390,
   "id": "73df2a05-7200-430c-8a27-c4b5f57b18e7",
   "metadata": {},
   "outputs": [
    {
     "data": {
      "text/plain": [
       "True"
      ]
     },
     "execution_count": 390,
     "metadata": {},
     "output_type": "execute_result"
    }
   ],
   "source": [
    "torch.cuda.is_available() #if false, there is not any GPU"
   ]
  },
  {
   "cell_type": "code",
   "execution_count": 391,
   "id": "e8bfa685-4907-45fe-be76-8d4b7f2d3b2b",
   "metadata": {},
   "outputs": [
    {
     "data": {
      "text/plain": [
       "1"
      ]
     },
     "execution_count": 391,
     "metadata": {},
     "output_type": "execute_result"
    }
   ],
   "source": [
    "torch.cuda.device_count() #to count available devices"
   ]
  },
  {
   "cell_type": "code",
   "execution_count": 407,
   "id": "23001ce4-72a5-47fe-8d10-f46f2356f52f",
   "metadata": {},
   "outputs": [
    {
     "data": {
      "text/plain": [
       "'cuda'"
      ]
     },
     "execution_count": 407,
     "metadata": {},
     "output_type": "execute_result"
    }
   ],
   "source": [
    "device = \"cuda\" if torch.cuda.is_available() else \"cpu\"\n",
    "device"
   ]
  },
  {
   "cell_type": "code",
   "execution_count": 408,
   "id": "06b2540c-af4d-4546-aaba-49dfd385cc59",
   "metadata": {},
   "outputs": [
    {
     "data": {
      "text/plain": [
       "tensor([ 1,  2,  3,  4,  5,  6,  7,  8,  9, 10])"
      ]
     },
     "execution_count": 408,
     "metadata": {},
     "output_type": "execute_result"
    }
   ],
   "source": [
    "t = torch.arange(1,11)\n",
    "t"
   ]
  },
  {
   "cell_type": "code",
   "execution_count": 409,
   "id": "94277980-e703-4f0a-ba06-98f0a37133f3",
   "metadata": {},
   "outputs": [
    {
     "data": {
      "text/plain": [
       "device(type='cpu')"
      ]
     },
     "execution_count": 409,
     "metadata": {},
     "output_type": "execute_result"
    }
   ],
   "source": [
    "t.device #to check tensor running on cpu or gpu"
   ]
  },
  {
   "cell_type": "code",
   "execution_count": 410,
   "id": "817459f7-aa53-4d57-8c40-b69afa3cae14",
   "metadata": {},
   "outputs": [
    {
     "data": {
      "text/plain": [
       "device(type='cuda', index=0)"
      ]
     },
     "execution_count": 410,
     "metadata": {},
     "output_type": "execute_result"
    }
   ],
   "source": [
    "tg = t.to(device) #to send on gpu\n",
    "tg.device"
   ]
  },
  {
   "cell_type": "code",
   "execution_count": null,
   "id": "ec3e66d1-9de8-4362-ad9d-32ae47974a63",
   "metadata": {},
   "outputs": [],
   "source": []
  }
 ],
 "metadata": {
  "kernelspec": {
   "display_name": "Python 3 (ipykernel)",
   "language": "python",
   "name": "python3"
  },
  "language_info": {
   "codemirror_mode": {
    "name": "ipython",
    "version": 3
   },
   "file_extension": ".py",
   "mimetype": "text/x-python",
   "name": "python",
   "nbconvert_exporter": "python",
   "pygments_lexer": "ipython3",
   "version": "3.12.3"
  }
 },
 "nbformat": 4,
 "nbformat_minor": 5
}
