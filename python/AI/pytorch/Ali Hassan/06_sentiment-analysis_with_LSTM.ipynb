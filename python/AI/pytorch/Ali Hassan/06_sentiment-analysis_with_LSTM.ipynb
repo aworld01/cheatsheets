{
 "cells": [
  {
   "cell_type": "markdown",
   "id": "7ef614f7-82aa-4fe4-a9e2-7b1b4c5dc59f",
   "metadata": {},
   "source": [
    "1:00:08 / 2:40:20"
   ]
  },
  {
   "cell_type": "markdown",
   "id": "f166da00-f865-4914-8445-cb1a216dfafe",
   "metadata": {},
   "source": [
    "0 Import important liberaries <br>\n",
    "1 Prepare your data <br>\n",
    "    1.1 Loading datasets <br>\n",
    "    1.2 Tokenize data <br>\n",
    "    1.3 Split data <br>\n",
    "    1.4 Creating vocabulary <br>\n",
    "    1.5 Numericalizing data <br>\n",
    "    1.6 Converting data into tensors <br>\n",
    "    1.7 Creating dataloaders <br>\n",
    "2. Build a model <br>\n",
    "3. Pick a loss function and optimizer <br>\n",
    "4. Training and evaluation loop functions <br>\n",
    "5. Start training loop <br>\n",
    "6. Visulize your model <br>\n",
    "7. Testing model with new sentence (sentiment analysis)"
   ]
  },
  {
   "cell_type": "markdown",
   "id": "caefdf8d-6d58-4717-9179-9c27525b3d3c",
   "metadata": {},
   "source": [
    "<h2>0 Import important liberaries</h2>"
   ]
  },
  {
   "cell_type": "code",
   "execution_count": 4,
   "id": "cd5030c4-34e8-4cc1-a401-9167541758c2",
   "metadata": {},
   "outputs": [
    {
     "name": "stderr",
     "output_type": "stream",
     "text": [
      "C:\\myApps\\anaconda3\\Lib\\site-packages\\torchtext\\data\\__init__.py:4: UserWarning: \n",
      "/!\\ IMPORTANT WARNING ABOUT TORCHTEXT STATUS /!\\ \n",
      "Torchtext is deprecated and the last released version will be 0.18 (this one). You can silence this warning by calling the following at the beginnign of your scripts: `import torchtext; torchtext.disable_torchtext_deprecation_warning()`\n",
      "  warnings.warn(torchtext._TORCHTEXT_DEPRECATION_MSG)\n"
     ]
    }
   ],
   "source": [
    "import collections\n",
    "import datasets #!pip install datasets\n",
    "import matplotlib.pyplot as plt\n",
    "import numpy as np\n",
    "import torch\n",
    "import torch.nn as nn\n",
    "import torch.optim as optim\n",
    "import torchtext\n",
    "from torchtext.data import get_tokenizer\n",
    "import tqdm"
   ]
  },
  {
   "cell_type": "markdown",
   "id": "5e83ba51-bb9b-4277-83a1-22bfbd1070f0",
   "metadata": {},
   "source": [
    "<h2>1 Prepare our data</h2>"
   ]
  },
  {
   "cell_type": "markdown",
   "id": "1c14ec2b-861b-4122-a3a9-1169add3c551",
   "metadata": {},
   "source": [
    " <h3>1.1 Loading datasets<h3>"
   ]
  },
  {
   "cell_type": "code",
   "execution_count": 7,
   "id": "e7e87935-8401-4218-8af3-2d22e1143aed",
   "metadata": {},
   "outputs": [
    {
     "name": "stderr",
     "output_type": "stream",
     "text": [
      "Using the latest cached version of the dataset since imdb couldn't be found on the Hugging Face Hub\n",
      "Found the latest cached dataset configuration 'plain_text' at C:\\Users\\Abdul Zoha\\.cache\\huggingface\\datasets\\imdb\\plain_text\\0.0.0\\e6281661ce1c48d982bc483cf8a173c1bbeb5d31 (last modified on Tue Jan 14 10:03:38 2025).\n"
     ]
    }
   ],
   "source": [
    "train_data,test_data = datasets.load_dataset('imdb',split=['train','test'])"
   ]
  },
  {
   "cell_type": "code",
   "execution_count": 8,
   "id": "5a449938-7464-4a3c-882a-f7c22e4f932e",
   "metadata": {},
   "outputs": [
    {
     "data": {
      "text/plain": [
       "Dataset({\n",
       "    features: ['text', 'label'],\n",
       "    num_rows: 25000\n",
       "})"
      ]
     },
     "execution_count": 8,
     "metadata": {},
     "output_type": "execute_result"
    }
   ],
   "source": [
    "train_data"
   ]
  },
  {
   "cell_type": "markdown",
   "id": "980ad174-2998-44b4-8b29-5a08be2df541",
   "metadata": {},
   "source": [
    "<h3>1.2 Tokenize data</h3>"
   ]
  },
  {
   "cell_type": "code",
   "execution_count": 10,
   "id": "f31ed360-3f24-47a2-9763-1a6b391cc95a",
   "metadata": {},
   "outputs": [],
   "source": [
    "tokenizer = get_tokenizer('basic_english')"
   ]
  },
  {
   "cell_type": "code",
   "execution_count": 11,
   "id": "1b737135-2ebd-4164-b5dc-277de3c1ef6b",
   "metadata": {},
   "outputs": [],
   "source": [
    "def tokenize_example(example,tokenizer,max_length):\n",
    "    tokens = tokenizer(example['text'])[:max_length]\n",
    "    length = len(tokens)\n",
    "    return {'tokens': tokens,'length': length}"
   ]
  },
  {
   "cell_type": "code",
   "execution_count": 12,
   "id": "e2664b7e-98a4-43d5-b71c-1fe76f75a415",
   "metadata": {},
   "outputs": [],
   "source": [
    "max_length = 256\n",
    "train_data = train_data.map(\n",
    "    tokenize_example,fn_kwargs={'tokenizer': tokenizer, 'max_length': max_length}\n",
    ")\n",
    "test_data = test_data.map(\n",
    "    tokenize_example,fn_kwargs={'tokenizer': tokenizer,'max_length': max_length}\n",
    ")"
   ]
  },
  {
   "cell_type": "markdown",
   "id": "f06adb0b-7534-49db-b4e2-354fdde39ba8",
   "metadata": {},
   "source": [
    "<h3>1.3 Creating validation data</h3>"
   ]
  },
  {
   "cell_type": "code",
   "execution_count": 14,
   "id": "82fa0e95-50d5-4834-8eea-91c1fa0ca9e5",
   "metadata": {},
   "outputs": [],
   "source": [
    "test_size = 0.25\n",
    "train_valid_data = train_data.train_test_split(test_size = test_size)\n",
    "train_data = train_valid_data['train']\n",
    "valid_data = train_valid_data['test']"
   ]
  },
  {
   "cell_type": "markdown",
   "id": "fbddd580-4d2e-4fa4-be17-4d94e5b8d10e",
   "metadata": {},
   "source": [
    "<h3>1.4 Creating vocabulary</h3>"
   ]
  },
  {
   "cell_type": "code",
   "execution_count": 16,
   "id": "9610a360-737d-48f9-b609-c93915cb88be",
   "metadata": {},
   "outputs": [
    {
     "name": "stderr",
     "output_type": "stream",
     "text": [
      "C:\\myApps\\anaconda3\\Lib\\site-packages\\torchtext\\vocab\\__init__.py:4: UserWarning: \n",
      "/!\\ IMPORTANT WARNING ABOUT TORCHTEXT STATUS /!\\ \n",
      "Torchtext is deprecated and the last released version will be 0.18 (this one). You can silence this warning by calling the following at the beginnign of your scripts: `import torchtext; torchtext.disable_torchtext_deprecation_warning()`\n",
      "  warnings.warn(torchtext._TORCHTEXT_DEPRECATION_MSG)\n",
      "C:\\myApps\\anaconda3\\Lib\\site-packages\\torchtext\\utils.py:4: UserWarning: \n",
      "/!\\ IMPORTANT WARNING ABOUT TORCHTEXT STATUS /!\\ \n",
      "Torchtext is deprecated and the last released version will be 0.18 (this one). You can silence this warning by calling the following at the beginnign of your scripts: `import torchtext; torchtext.disable_torchtext_deprecation_warning()`\n",
      "  warnings.warn(torchtext._TORCHTEXT_DEPRECATION_MSG)\n"
     ]
    }
   ],
   "source": [
    "from torchtext.vocab import build_vocab_from_iterator as bi"
   ]
  },
  {
   "cell_type": "code",
   "execution_count": 17,
   "id": "025a6196-2360-4e34-91b9-38c43fa955cc",
   "metadata": {},
   "outputs": [],
   "source": [
    "min_freq = 5\n",
    "special_tokens = [\"<unk>\",\"<pad>\"]\n",
    "vocab = bi(\n",
    "    train_data[\"tokens\"],\n",
    "    min_freq = min_freq,\n",
    "    specials = special_tokens,\n",
    ")"
   ]
  },
  {
   "cell_type": "code",
   "execution_count": 18,
   "id": "5b61ab61-9cbd-471d-9fac-b68c22a0f0f5",
   "metadata": {},
   "outputs": [],
   "source": [
    "unk_index = vocab[\"<unk>\"]\n",
    "pad_index = vocab[\"<pad>\"]"
   ]
  },
  {
   "cell_type": "code",
   "execution_count": 19,
   "id": "dc3e6b8c-a242-47ca-ba1e-65ce8c442d28",
   "metadata": {},
   "outputs": [],
   "source": [
    "vocab.set_default_index(unk_index)"
   ]
  },
  {
   "cell_type": "code",
   "execution_count": 20,
   "id": "4d58dc37-66e8-4891-8837-d17484a21fae",
   "metadata": {},
   "outputs": [],
   "source": [
    "def numericalize_example(example,vocab):\n",
    "    ids = vocab.lookup_indices(example[\"tokens\"])\n",
    "    return {\"ids\": ids}"
   ]
  },
  {
   "cell_type": "code",
   "execution_count": 21,
   "id": "56e736f7-2e67-4a0a-854c-5bd0f9c53b4e",
   "metadata": {},
   "outputs": [
    {
     "data": {
      "application/vnd.jupyter.widget-view+json": {
       "model_id": "95b2e5c0201c440b88e81117bd08985b",
       "version_major": 2,
       "version_minor": 0
      },
      "text/plain": [
       "Map:   0%|          | 0/18750 [00:00<?, ? examples/s]"
      ]
     },
     "metadata": {},
     "output_type": "display_data"
    },
    {
     "data": {
      "application/vnd.jupyter.widget-view+json": {
       "model_id": "1aed560a6522444b9c21c3a44c5ad23f",
       "version_major": 2,
       "version_minor": 0
      },
      "text/plain": [
       "Map:   0%|          | 0/6250 [00:00<?, ? examples/s]"
      ]
     },
     "metadata": {},
     "output_type": "display_data"
    },
    {
     "data": {
      "application/vnd.jupyter.widget-view+json": {
       "model_id": "4ae6848ab430426a8ea7c8ca695dba4b",
       "version_major": 2,
       "version_minor": 0
      },
      "text/plain": [
       "Map:   0%|          | 0/25000 [00:00<?, ? examples/s]"
      ]
     },
     "metadata": {},
     "output_type": "display_data"
    }
   ],
   "source": [
    "train_data = train_data.map(numericalize_example,fn_kwargs={\"vocab\":vocab})\n",
    "valid_data = valid_data.map(numericalize_example,fn_kwargs={\"vocab\":vocab})\n",
    "test_data = data = test_data.map(numericalize_example,fn_kwargs={\"vocab\":vocab})"
   ]
  },
  {
   "cell_type": "markdown",
   "id": "93d73e79-78c4-4674-8be7-c8eca3288037",
   "metadata": {},
   "source": [
    "<h2>1.6 Converting into tensors</h2>"
   ]
  },
  {
   "cell_type": "code",
   "execution_count": 23,
   "id": "0599fdc1-e721-40ef-bcaa-b570d062ff56",
   "metadata": {},
   "outputs": [],
   "source": [
    "train_data = train_data.with_format(type=\"torch\", columns=[\"ids\",\"label\",\"length\"])\n",
    "valid_data = valid_data.with_format(type=\"torch\", columns=[\"ids\",\"label\",\"length\"])\n",
    "test_data = test_data.with_format(type=\"torch\", columns=[\"ids\",\"label\",\"length\"])"
   ]
  },
  {
   "cell_type": "code",
   "execution_count": 24,
   "id": "48c45daa-647a-4ec3-a63b-917dce06df4d",
   "metadata": {},
   "outputs": [
    {
     "data": {
      "text/plain": [
       "{'label': tensor(1),\n",
       " 'length': tensor(256),\n",
       " 'ids': tensor([   92,     9,    27,    87,    76,   345,     3, 16674,    17,  4339,\n",
       "             6,    10,   404,     2,   122, 20105,   485,     8,    35,   434,\n",
       "            28,     2, 14992,  3093,     3,    22,     2,   202,    72,  2809,\n",
       "            97,     5, 20105, 15892,     3,  2328,   293,    50,   166,     4,\n",
       "            74,  1347,  1806,    13,     0,     3,    60,    12,  1033,    61,\n",
       "           983,   671,    21,    44,  4709,    20,   121,     4,    12,    72,\n",
       "          1620,     0,     6,    48,   565, 19992,     6,  6894, 19992,     5,\n",
       "           237, 15452,     3,    66,   165,     0,   404,    51,     2,  1447,\n",
       "            13,  4775,     6,  4174,     2,  3177,     7,     2,    18,  3093,\n",
       "             4, 19992,   404,    10,  1779,    13,  1285,     7,  9275,  6835,\n",
       "             6, 12005,  2478,     3,  9328,  2428,    44,  1252,     0,     8,\n",
       "          2046,    41, 13908,     4,  2046,    41,     0,  1407,     4,  2046,\n",
       "             5,     0,    15,    10,     0,     8,  7633,     4,     0,   119,\n",
       "           273,  2111,     7, 11674,     5,  1131, 16674,     4,  2812,     5,\n",
       "          7885,     4,  1671,     5,  4682,     4,     0,   212,     5, 14776,\n",
       "          9255,    39,  7661,     0,     4,     6,   928,  1448,   102,     5,\n",
       "             0,  7401,     3,   245,     4,  2304,  6835,    30,     5,   128,\n",
       "          4115,     4,    22,     2,  1884,   137,    10,     2,  2478,     3,\n",
       "            19,    18,  4643,     4, 16674,     6,     0,    75,    37,    15,\n",
       "            12,   101,    31,  3074,    21,     3,    22, 19992,     9,    16,\n",
       "           194,   658,  1617,     8,     2,   541,     7,  7029,     5,   538,\n",
       "          1806,  1098,     3,    14,    10,  1583,    39,     2,  1229,   182,\n",
       "          1009,     7,  9116,     0,     4,  8726,  2432,     4,     0,     0,\n",
       "             4,     6,     0,     0,     3, 10413,  8575,     6,   291,  8295,\n",
       "         12252,    77,    18,   546,     7,   144,     6,  4150,     4,  6309,\n",
       "             4,     6,  4472,  2986,     4,   147])}"
      ]
     },
     "execution_count": 24,
     "metadata": {},
     "output_type": "execute_result"
    }
   ],
   "source": [
    "train_data[0]"
   ]
  },
  {
   "cell_type": "markdown",
   "id": "6253c455-b28a-4d44-bd9d-920589a55af8",
   "metadata": {},
   "source": [
    "<h2>1.7 Creating DataLoader</h2>"
   ]
  },
  {
   "cell_type": "code",
   "execution_count": 26,
   "id": "3bfd7cca-7da0-403d-85e0-ed591f092f7e",
   "metadata": {},
   "outputs": [],
   "source": [
    "def get_collate_fn(pad_index):\n",
    "    def collate_fn(batch):\n",
    "        batch_ids = [i[\"ids\"] for i in batch]\n",
    "        batch_ids = nn.utils.rnn.pad_sequence(\n",
    "            batch_ids,padding_value = pad_index,batch_first = True\n",
    "        )\n",
    "        batch_length = [i[\"length\"] for i in batch]\n",
    "        batch_length = torch.stack(batch_length)\n",
    "        batch_label = [i[\"label\"] for i in batch]\n",
    "        batch_label = torch.stack(batch_label)\n",
    "        batch = {\"ids\": batch_ids, \"length\": batch_length, \"label\": batch_label}\n",
    "        return batch\n",
    "    return collate_fn"
   ]
  },
  {
   "cell_type": "code",
   "execution_count": 27,
   "id": "16bc7b05-5f6d-4547-9c9b-580370f93696",
   "metadata": {},
   "outputs": [],
   "source": [
    "def get_data_loader(dataset,batch_size,pad_index,shuffle=False):\n",
    "    collate_fn = get_collate_fn(pad_index)\n",
    "    data_loader = torch.utils.data.DataLoader(\n",
    "        dataset = dataset,\n",
    "        batch_size = batch_size,\n",
    "        collate_fn = collate_fn,\n",
    "        shuffle = shuffle\n",
    "    )\n",
    "    return data_loader"
   ]
  },
  {
   "cell_type": "code",
   "execution_count": 28,
   "id": "b330f7a2-8f8c-41c7-959c-37916b75b832",
   "metadata": {},
   "outputs": [],
   "source": [
    "batch_size = 512\n",
    "train_data_loader = get_data_loader(train_data,batch_size,pad_index,shuffle=True)\n",
    "valid_data_loader = get_data_loader(valid_data,batch_size,pad_index)\n",
    "test_data_loader = get_data_loader(test_data,batch_size,pad_index)"
   ]
  },
  {
   "cell_type": "markdown",
   "id": "e38f23a9-2eba-4c32-a823-d5a4569783f5",
   "metadata": {},
   "source": [
    "<h2>2 Build LSTM model</h2>"
   ]
  },
  {
   "cell_type": "code",
   "execution_count": null,
   "id": "00b251b1-bf60-4360-8a9c-ad4ee6b49d70",
   "metadata": {},
   "outputs": [],
   "source": []
  }
 ],
 "metadata": {
  "kernelspec": {
   "display_name": "Python [conda env:base] *",
   "language": "python",
   "name": "conda-base-py"
  },
  "language_info": {
   "codemirror_mode": {
    "name": "ipython",
    "version": 3
   },
   "file_extension": ".py",
   "mimetype": "text/x-python",
   "name": "python",
   "nbconvert_exporter": "python",
   "pygments_lexer": "ipython3",
   "version": "3.12.7"
  }
 },
 "nbformat": 4,
 "nbformat_minor": 5
}
