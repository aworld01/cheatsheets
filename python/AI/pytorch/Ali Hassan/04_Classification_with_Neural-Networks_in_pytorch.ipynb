{
 "cells": [
  {
   "cell_type": "markdown",
   "id": "6f202c68-6a7e-45ce-8fbd-26c925f6c24f",
   "metadata": {},
   "source": [
    "<h1>1:00:00/1:23:15</h1>"
   ]
  },
  {
   "cell_type": "markdown",
   "id": "d9f45794-8bdf-4418-8b9a-d2c73e78402d",
   "metadata": {},
   "source": [
    "<h1>Workflow</h1>"
   ]
  },
  {
   "cell_type": "markdown",
   "id": "fdd49570-f7b3-4e5d-ada0-6c0d5b448056",
   "metadata": {},
   "source": [
    "<h2>\n",
    "    0. Import important libraries<br>\n",
    "    1. Get dataset ready (turn into tensor and batches)<br>\n",
    "    2. Build a NeuralNetwork model for classification<br>\n",
    "    3. Pick a loss function and optimizer<br>\n",
    "    4. Build a training loop<br>\n",
    "    5. Evaluate your model<br>\n",
    "    6. Improve your model<br>\n",
    "    7. Save the model\n",
    "</h2>"
   ]
  },
  {
   "cell_type": "markdown",
   "id": "987f0b7e-5270-427e-b150-0574d7344094",
   "metadata": {},
   "source": [
    "<h2>0. Import important libraries</h2>"
   ]
  },
  {
   "cell_type": "code",
   "execution_count": 48,
   "id": "b63d2a9c-904b-4020-a408-065b5198f447",
   "metadata": {},
   "outputs": [],
   "source": [
    "import torch\n",
    "import torch.nn as nn\n",
    "from torch.utils.data import DataLoader\n",
    "from torchvision import datasets, transforms\n",
    "import matplotlib.pyplot as plt"
   ]
  },
  {
   "cell_type": "markdown",
   "id": "f2dec84e-5a64-4a1f-9d70-a7a41dfb934e",
   "metadata": {},
   "source": [
    "<h2>1. Get dataset ready (turn into tensor and batches)</h2>"
   ]
  },
  {
   "cell_type": "code",
   "execution_count": 49,
   "id": "cd435765-2141-4d17-8b5c-7038c59efd13",
   "metadata": {},
   "outputs": [],
   "source": [
    "train_dataset = datasets.FashionMNIST(root='/dataset',train=True,transform=transforms.ToTensor(),download=True)\n",
    "test_dataset = datasets.FashionMNIST(root='/dataset',train=False,transform=transforms.ToTensor())"
   ]
  },
  {
   "cell_type": "code",
   "execution_count": 50,
   "id": "e1a7dd70-4be5-4566-b3c7-12a801fe60ae",
   "metadata": {},
   "outputs": [
    {
     "data": {
      "text/plain": [
       "Dataset FashionMNIST\n",
       "    Number of datapoints: 60000\n",
       "    Root location: /dataset\n",
       "    Split: Train\n",
       "    StandardTransform\n",
       "Transform: ToTensor()"
      ]
     },
     "execution_count": 50,
     "metadata": {},
     "output_type": "execute_result"
    }
   ],
   "source": [
    "train_dataset #to check dataset items"
   ]
  },
  {
   "cell_type": "code",
   "execution_count": 51,
   "id": "9e51e47f-8209-4cbc-9914-b6f6d5edae11",
   "metadata": {},
   "outputs": [
    {
     "data": {
      "text/plain": [
       "Dataset FashionMNIST\n",
       "    Number of datapoints: 10000\n",
       "    Root location: /dataset\n",
       "    Split: Test\n",
       "    StandardTransform\n",
       "Transform: ToTensor()"
      ]
     },
     "execution_count": 51,
     "metadata": {},
     "output_type": "execute_result"
    }
   ],
   "source": [
    "test_dataset #to check dataset items"
   ]
  },
  {
   "cell_type": "code",
   "execution_count": 52,
   "id": "06bd1589-be7b-4194-8ef2-5b35f7cf6c27",
   "metadata": {},
   "outputs": [
    {
     "data": {
      "text/plain": [
       "(60000, 10000)"
      ]
     },
     "execution_count": 52,
     "metadata": {},
     "output_type": "execute_result"
    }
   ],
   "source": [
    "len(train_dataset), len(test_dataset)"
   ]
  },
  {
   "cell_type": "markdown",
   "id": "bc83527e-3bb2-4e10-a207-fdd68be4c535",
   "metadata": {},
   "source": [
    "<h3>1.2 Conveting data into batches</h3>"
   ]
  },
  {
   "cell_type": "code",
   "execution_count": 53,
   "id": "719061ae-4852-4e2f-be74-32be1a952b53",
   "metadata": {},
   "outputs": [],
   "source": [
    "batch_size = 64\n",
    "train_loader = DataLoader(train_dataset,batch_size=batch_size,shuffle=True)\n",
    "test_loader = DataLoader(test_dataset,batch_size=batch_size,shuffle=False)"
   ]
  },
  {
   "cell_type": "code",
   "execution_count": 54,
   "id": "d20313e0-5275-4d52-a9d2-9361bee598fd",
   "metadata": {},
   "outputs": [
    {
     "name": "stdout",
     "output_type": "stream",
     "text": [
      "938\n",
      "157\n"
     ]
    }
   ],
   "source": [
    "print(len(train_loader)) #60000 / 64 = 938\n",
    "print(len(test_loader)) #10000 / 64 = 157"
   ]
  },
  {
   "cell_type": "markdown",
   "id": "b4cb0069-010f-4e05-9ac5-61ea13fc1918",
   "metadata": {},
   "source": [
    "<h2>2. Build a Neural Network model</h2>"
   ]
  },
  {
   "cell_type": "code",
   "execution_count": 55,
   "id": "53db2484-bc27-4fdf-80e7-4f578e514523",
   "metadata": {},
   "outputs": [],
   "source": [
    "class NeuralNetwork(nn.Module):\n",
    "    def __init__(self,in_dim,n_hidden_1,n_hidden_2,out_dim):\n",
    "        super().__init__()\n",
    "        self.layer1 = nn.Sequential(\n",
    "            nn.Linear(in_dim,n_hidden_1),\n",
    "            nn.ReLU(True),\n",
    "        )\n",
    "        self.layer2 = nn.Sequential(\n",
    "            nn.Linear(n_hidden_1,n_hidden_2),\n",
    "            nn.ReLU(True),\n",
    "        )\n",
    "        self.layer3 = nn.Sequential(\n",
    "            nn.Linear(n_hidden_2,out_dim),\n",
    "            nn.ReLU(True),\n",
    "        )\n",
    "    def forward(self,x):\n",
    "        a = self.layer1(x)\n",
    "        b = self.layer2(a)\n",
    "        c = self.layer3(b)\n",
    "        return c"
   ]
  },
  {
   "cell_type": "code",
   "execution_count": 56,
   "id": "338a444f-a89f-4add-831f-88443d01919e",
   "metadata": {},
   "outputs": [],
   "source": [
    "in_dim = 28*28 #784\n",
    "n_hidden_1 = 300\n",
    "n_hidden_2 = 100\n",
    "out_dim = 10"
   ]
  },
  {
   "cell_type": "code",
   "execution_count": 57,
   "id": "61c265ce-10ca-4130-8b92-348cd6df192b",
   "metadata": {},
   "outputs": [],
   "source": [
    "model = NeuralNetwork(in_dim,n_hidden_1,n_hidden_2,out_dim)"
   ]
  },
  {
   "cell_type": "code",
   "execution_count": 58,
   "id": "4edc4607-5a10-4b22-830a-92f7171239ac",
   "metadata": {},
   "outputs": [
    {
     "data": {
      "text/plain": [
       "NeuralNetwork(\n",
       "  (layer1): Sequential(\n",
       "    (0): Linear(in_features=784, out_features=300, bias=True)\n",
       "    (1): ReLU(inplace=True)\n",
       "  )\n",
       "  (layer2): Sequential(\n",
       "    (0): Linear(in_features=300, out_features=100, bias=True)\n",
       "    (1): ReLU(inplace=True)\n",
       "  )\n",
       "  (layer3): Sequential(\n",
       "    (0): Linear(in_features=100, out_features=10, bias=True)\n",
       "    (1): ReLU(inplace=True)\n",
       "  )\n",
       ")"
      ]
     },
     "execution_count": 58,
     "metadata": {},
     "output_type": "execute_result"
    }
   ],
   "source": [
    "model"
   ]
  },
  {
   "cell_type": "code",
   "execution_count": 59,
   "id": "317f5612-d6b4-4f70-af5e-882765ea81be",
   "metadata": {},
   "outputs": [
    {
     "data": {
      "text/plain": [
       "OrderedDict([('layer1.0.weight',\n",
       "              tensor([[ 0.0199, -0.0118,  0.0318,  ...,  0.0037, -0.0020, -0.0247],\n",
       "                      [-0.0352, -0.0242, -0.0014,  ..., -0.0326, -0.0239, -0.0294],\n",
       "                      [ 0.0014, -0.0107,  0.0117,  ...,  0.0284, -0.0334, -0.0120],\n",
       "                      ...,\n",
       "                      [ 0.0282,  0.0144,  0.0339,  ...,  0.0158, -0.0274,  0.0315],\n",
       "                      [ 0.0342,  0.0111,  0.0122,  ..., -0.0326, -0.0202,  0.0274],\n",
       "                      [ 0.0001,  0.0172,  0.0092,  ...,  0.0207, -0.0071,  0.0106]])),\n",
       "             ('layer1.0.bias',\n",
       "              tensor([ 3.4237e-02, -4.7148e-03,  3.1770e-02, -9.2099e-04, -3.4861e-02,\n",
       "                      -3.2221e-02,  3.1155e-02,  1.1015e-02, -2.1837e-02, -2.8381e-02,\n",
       "                      -2.6451e-02, -2.8578e-02,  6.3222e-03, -1.8590e-02, -2.1644e-02,\n",
       "                       1.4677e-02,  2.3620e-02,  2.8055e-02,  1.3657e-02, -3.8357e-03,\n",
       "                       1.3007e-03,  3.0306e-02,  1.6828e-02,  5.4313e-03,  4.0592e-03,\n",
       "                       1.2658e-02, -3.0419e-02, -2.7991e-02, -8.1827e-03,  5.9628e-04,\n",
       "                       2.5107e-02, -3.0706e-02, -4.6718e-03, -3.5884e-03,  1.7519e-02,\n",
       "                      -1.0843e-02, -1.9573e-03,  2.9814e-02,  3.5356e-02,  3.3736e-02,\n",
       "                      -2.4059e-02, -1.2901e-02, -1.9636e-03, -3.0090e-02, -9.4029e-03,\n",
       "                       7.0302e-04,  9.7332e-03,  1.9188e-02, -2.1501e-02, -2.0035e-02,\n",
       "                      -2.3130e-02, -1.4271e-02,  1.1629e-02,  3.4981e-02,  1.1105e-05,\n",
       "                       3.1440e-02,  2.0351e-02, -5.5595e-03,  1.3973e-02, -1.1702e-02,\n",
       "                       1.1104e-03,  2.8868e-02, -7.1532e-03, -3.0212e-03,  5.9957e-03,\n",
       "                      -2.8799e-02,  2.9381e-02, -1.5220e-02,  2.8620e-02, -2.4890e-02,\n",
       "                      -4.6778e-03,  1.3650e-02,  3.0558e-02, -1.0028e-02, -1.5035e-02,\n",
       "                       3.3684e-02,  9.0885e-04,  2.7758e-02, -1.9838e-02,  8.1082e-03,\n",
       "                      -3.2622e-02,  2.9135e-02,  4.2835e-03, -3.3052e-02,  2.4007e-02,\n",
       "                       1.2780e-02,  2.4241e-02,  3.3981e-02,  2.8277e-02,  1.8068e-03,\n",
       "                       1.7726e-02, -5.5274e-03, -3.9668e-03, -1.9298e-02, -2.1093e-03,\n",
       "                       2.7458e-02,  3.5493e-02,  2.3989e-03, -2.5202e-02, -2.2434e-02,\n",
       "                      -3.4658e-02, -1.9825e-02, -2.6222e-02,  3.3252e-03,  1.3865e-02,\n",
       "                       6.6702e-03,  2.2112e-03, -1.7305e-02, -3.2016e-02,  2.9947e-02,\n",
       "                      -2.2350e-03,  3.2876e-02,  3.4869e-02,  6.2026e-03, -3.1997e-02,\n",
       "                      -1.7092e-02,  1.4278e-02, -2.9073e-02, -2.4667e-02,  9.6297e-03,\n",
       "                       1.8962e-02,  1.7699e-02, -1.9909e-02, -2.7871e-02,  2.2121e-03,\n",
       "                      -1.8961e-02, -2.3964e-02, -1.1174e-02,  1.2306e-02, -2.2326e-02,\n",
       "                       2.8034e-02,  2.6533e-02,  2.3810e-02, -5.3294e-03, -1.8964e-02,\n",
       "                      -1.1352e-02, -1.5272e-02, -9.8848e-04, -1.4447e-02,  1.6709e-02,\n",
       "                      -1.0092e-02, -1.5359e-02, -2.4402e-02,  2.8838e-02, -2.4938e-02,\n",
       "                      -2.7367e-02, -1.4070e-02, -3.4393e-02, -1.7152e-02, -2.9635e-02,\n",
       "                      -1.4841e-02, -2.9375e-03,  1.6804e-02,  1.2002e-02,  1.1237e-02,\n",
       "                      -1.6641e-03,  2.7300e-02,  9.1085e-03, -2.6073e-02, -7.9252e-03,\n",
       "                      -9.4416e-03, -7.7478e-04, -6.1481e-03, -2.3476e-03,  6.4565e-03,\n",
       "                      -2.3480e-02,  9.3039e-03, -2.4052e-02, -3.4796e-02, -2.6606e-02,\n",
       "                       1.8228e-03,  3.3120e-02, -1.3865e-02, -4.6369e-03, -1.4760e-02,\n",
       "                       2.5070e-02,  3.0641e-02, -1.0067e-02, -8.9310e-03, -3.1595e-02,\n",
       "                      -3.5886e-03,  1.3214e-02, -4.6688e-03, -1.4139e-02, -4.5065e-03,\n",
       "                      -1.6382e-02,  2.9162e-02, -1.8602e-02,  2.5401e-02, -2.2410e-02,\n",
       "                      -2.5126e-02,  2.8826e-02, -9.8846e-03,  2.6422e-02, -3.3460e-02,\n",
       "                      -1.3216e-02,  5.8835e-03, -1.9633e-03,  1.1830e-02,  2.1865e-02,\n",
       "                      -2.0227e-02, -2.4497e-02,  6.0187e-03, -1.5466e-02, -2.8134e-03,\n",
       "                       8.3565e-03, -3.3820e-02,  2.1166e-02, -6.2676e-03, -1.5256e-02,\n",
       "                      -1.5585e-02,  2.4136e-02, -1.8299e-02,  1.9737e-02, -9.6493e-03,\n",
       "                      -5.3379e-03,  3.3273e-02,  1.2021e-02, -2.7986e-02,  1.9388e-02,\n",
       "                      -1.6707e-02, -2.1408e-03, -4.0534e-03, -1.8210e-03,  1.3252e-02,\n",
       "                       1.2195e-02, -1.5734e-02, -7.4640e-04, -1.2216e-04, -1.9503e-02,\n",
       "                       1.8734e-02, -1.9418e-02, -1.8230e-02,  3.0622e-02,  1.7651e-02,\n",
       "                       2.1868e-02,  2.0996e-02,  3.3240e-02,  2.8897e-02, -1.5150e-02,\n",
       "                      -9.5796e-04, -1.1937e-02, -1.1340e-02, -3.1302e-02, -1.7968e-03,\n",
       "                       1.7123e-02,  3.4269e-02,  2.1249e-02, -1.7300e-02,  2.2856e-03,\n",
       "                      -7.9635e-03,  2.1242e-02,  2.6748e-02,  2.0275e-02, -2.9162e-02,\n",
       "                       3.3909e-02, -2.4063e-02,  9.6988e-03,  2.3212e-02, -3.2544e-02,\n",
       "                      -9.8913e-03, -1.0021e-02, -2.6282e-02,  3.3118e-02, -5.1165e-03,\n",
       "                      -2.2142e-02, -8.9474e-03,  1.5483e-02,  1.5587e-02, -8.1981e-03,\n",
       "                      -1.4107e-02, -1.7620e-02, -2.1292e-02, -2.4466e-02,  3.2711e-03,\n",
       "                      -1.5122e-02, -4.2406e-03, -2.3565e-02,  9.0579e-04,  1.8241e-02,\n",
       "                       1.5767e-02, -2.2379e-02,  4.7998e-03, -1.3831e-02, -6.3137e-03,\n",
       "                       3.5536e-02, -3.3749e-02, -1.6241e-03,  2.6464e-02, -1.2394e-02,\n",
       "                      -9.6646e-03, -1.2224e-02, -1.6463e-03,  1.3338e-02, -1.0410e-02,\n",
       "                      -2.4217e-02, -3.3221e-02,  2.8953e-02,  9.1634e-03,  1.3192e-02])),\n",
       "             ('layer2.0.weight',\n",
       "              tensor([[ 0.0135, -0.0011, -0.0395,  ...,  0.0450, -0.0021, -0.0050],\n",
       "                      [-0.0033, -0.0433,  0.0422,  ...,  0.0151, -0.0384,  0.0158],\n",
       "                      [ 0.0110,  0.0323,  0.0551,  ...,  0.0074,  0.0278,  0.0541],\n",
       "                      ...,\n",
       "                      [-0.0187,  0.0474,  0.0521,  ...,  0.0295, -0.0570,  0.0256],\n",
       "                      [-0.0230, -0.0398, -0.0462,  ...,  0.0313, -0.0112, -0.0394],\n",
       "                      [-0.0175,  0.0155, -0.0147,  ..., -0.0252, -0.0134,  0.0010]])),\n",
       "             ('layer2.0.bias',\n",
       "              tensor([ 1.7533e-02, -8.1032e-03, -3.3006e-02, -6.3975e-03,  4.8583e-02,\n",
       "                       3.3215e-02, -4.2804e-02, -4.7330e-02, -5.4564e-02,  6.4156e-04,\n",
       "                      -5.6783e-02, -2.1626e-02, -1.1655e-02,  4.8513e-02,  4.4748e-02,\n",
       "                      -4.3761e-02, -2.7058e-02,  2.4107e-02,  5.6627e-02, -9.1061e-03,\n",
       "                       4.5296e-02,  3.4872e-02,  4.7084e-03,  1.8732e-02,  5.0780e-03,\n",
       "                       4.2669e-02,  1.9875e-02,  9.2216e-03, -4.0660e-02, -3.1524e-02,\n",
       "                      -2.9119e-02,  1.4937e-02, -9.2632e-03, -1.1458e-03,  3.8486e-02,\n",
       "                       2.7125e-02, -4.0415e-02, -3.8010e-02,  2.0746e-02,  1.6726e-02,\n",
       "                      -5.1850e-02, -4.2677e-02, -3.5598e-02, -2.5352e-02, -9.2773e-04,\n",
       "                       4.3477e-02, -5.1271e-02,  8.4621e-03, -5.2944e-02, -5.0147e-02,\n",
       "                      -4.2027e-02, -2.6187e-02, -5.2593e-03,  1.7810e-02,  2.8490e-02,\n",
       "                       4.4282e-02,  5.0382e-02, -2.6783e-02,  3.3463e-03,  5.3045e-02,\n",
       "                      -1.5653e-02,  9.0644e-03, -5.3303e-02, -1.1645e-03,  3.3643e-02,\n",
       "                      -2.2795e-02,  4.1203e-02,  2.8881e-02, -3.7594e-02,  8.4326e-05,\n",
       "                      -1.7247e-02, -5.4574e-02,  3.4785e-02, -1.3601e-02,  5.3099e-02,\n",
       "                      -4.3645e-03,  4.2674e-02,  6.4707e-03,  4.1197e-02,  5.6007e-02,\n",
       "                       3.2621e-02, -3.9676e-02,  2.1854e-02, -3.4371e-02,  3.1295e-02,\n",
       "                      -1.0289e-02,  4.2026e-02, -1.3481e-02,  4.5796e-02,  5.4880e-02,\n",
       "                       2.0311e-02,  7.2563e-03,  2.8264e-02,  2.6922e-02,  1.5570e-02,\n",
       "                       4.1421e-02,  3.6432e-02,  4.3154e-02, -1.2321e-02,  5.6302e-02])),\n",
       "             ('layer3.0.weight',\n",
       "              tensor([[-0.0383, -0.0414,  0.0546, -0.0862,  0.0127,  0.0116, -0.0097, -0.0977,\n",
       "                       -0.0466, -0.0439, -0.0537,  0.0591,  0.0595, -0.0446, -0.0358, -0.0933,\n",
       "                        0.0470, -0.0505, -0.0733, -0.0300,  0.0593, -0.0486, -0.0238,  0.0430,\n",
       "                        0.0469,  0.0879,  0.0079, -0.0604, -0.0314, -0.0428, -0.0532, -0.0613,\n",
       "                       -0.0698,  0.0790, -0.0803,  0.0825, -0.0313, -0.0101, -0.0455, -0.0839,\n",
       "                       -0.0936,  0.0334, -0.0925,  0.0931, -0.0376, -0.0357,  0.0230,  0.0219,\n",
       "                        0.0285,  0.0179,  0.0069, -0.0581,  0.0949, -0.0121, -0.0333,  0.0347,\n",
       "                        0.0931, -0.0711, -0.0112,  0.0797, -0.0088, -0.0753, -0.0727, -0.0231,\n",
       "                       -0.0395, -0.0138,  0.0120, -0.0335,  0.0068, -0.0231, -0.0946,  0.0267,\n",
       "                       -0.0200,  0.0259,  0.0770, -0.0236, -0.0253,  0.0066, -0.0575, -0.0261,\n",
       "                       -0.0054,  0.0674,  0.0315,  0.0209,  0.0315, -0.0731, -0.0544, -0.0807,\n",
       "                        0.0971,  0.0076,  0.0136, -0.0027, -0.0358,  0.0353, -0.0329,  0.0881,\n",
       "                        0.0104, -0.0887, -0.0429, -0.0158],\n",
       "                      [-0.0141,  0.0203, -0.0759, -0.0855,  0.0612,  0.0139, -0.0611,  0.0380,\n",
       "                       -0.0497,  0.0662,  0.0279, -0.0422,  0.0877,  0.0526, -0.0625,  0.0574,\n",
       "                       -0.0036, -0.0527,  0.0197, -0.0781, -0.0479,  0.0437, -0.0784,  0.0961,\n",
       "                        0.0771, -0.0186,  0.0712, -0.0850, -0.0717,  0.0399, -0.0351,  0.0081,\n",
       "                        0.0304, -0.0215,  0.0334,  0.0164, -0.0560, -0.0382, -0.0228,  0.0351,\n",
       "                        0.0453,  0.0905, -0.0078,  0.0397,  0.0913,  0.0795,  0.0185,  0.0287,\n",
       "                       -0.0181,  0.0410,  0.0272,  0.0250, -0.0376,  0.0290,  0.0309, -0.0880,\n",
       "                       -0.0450,  0.0078, -0.0694,  0.0768, -0.0652, -0.0957, -0.0503,  0.0674,\n",
       "                        0.0601,  0.0070,  0.0967,  0.0977, -0.0735, -0.0601,  0.0929, -0.0761,\n",
       "                        0.0875,  0.0088,  0.0975,  0.0941,  0.0127, -0.0240,  0.0066, -0.0253,\n",
       "                       -0.0088, -0.0113, -0.0567, -0.0120,  0.0727,  0.0339, -0.0582, -0.0245,\n",
       "                       -0.0356,  0.0174, -0.0962,  0.0132, -0.0235, -0.0737,  0.0195,  0.0444,\n",
       "                        0.0073,  0.0397,  0.0338, -0.0099],\n",
       "                      [ 0.0232,  0.0978, -0.0436,  0.0628,  0.0773,  0.0353,  0.0715,  0.0179,\n",
       "                        0.0945, -0.0313,  0.0348,  0.0573,  0.0894, -0.0702, -0.0923,  0.0198,\n",
       "                       -0.0298,  0.0046, -0.0525,  0.0296, -0.0566, -0.0557, -0.0505, -0.0112,\n",
       "                        0.0136, -0.0586,  0.0914,  0.0337, -0.0789,  0.0310,  0.0456,  0.0330,\n",
       "                        0.0812, -0.0391,  0.0480,  0.0676, -0.0151,  0.0559, -0.0119, -0.0796,\n",
       "                       -0.0980, -0.0330,  0.0931,  0.0861,  0.0850,  0.0805,  0.0368, -0.0777,\n",
       "                        0.0397,  0.0313, -0.0427, -0.0502,  0.0867, -0.0109,  0.0139,  0.0760,\n",
       "                        0.0866, -0.0010, -0.0738,  0.0482, -0.0594,  0.0913,  0.0248,  0.0440,\n",
       "                        0.0147, -0.0854,  0.0254, -0.0536, -0.0162,  0.0897,  0.0993, -0.0618,\n",
       "                        0.0866,  0.0908,  0.0961, -0.0015,  0.0847,  0.0231,  0.0576, -0.0277,\n",
       "                       -0.0313,  0.0825, -0.0597,  0.0839,  0.0952, -0.0085,  0.0328,  0.0084,\n",
       "                        0.0047, -0.0511, -0.0170,  0.0281, -0.0711, -0.0272,  0.0311, -0.0390,\n",
       "                        0.0622, -0.0702,  0.0149, -0.0385],\n",
       "                      [-0.0566, -0.0492, -0.0483, -0.0553,  0.0054, -0.0181, -0.0666,  0.0691,\n",
       "                        0.0297, -0.0550,  0.0666, -0.0406,  0.0439,  0.0925,  0.0357,  0.0077,\n",
       "                        0.0166, -0.0802,  0.0210,  0.0693, -0.0330,  0.0684, -0.0247, -0.0172,\n",
       "                        0.0994,  0.0877, -0.0168,  0.0837, -0.0770, -0.0944, -0.0754, -0.0857,\n",
       "                       -0.0379, -0.0784, -0.0729,  0.0720,  0.0341,  0.0396, -0.0074,  0.0570,\n",
       "                       -0.0283,  0.0965, -0.0858, -0.0364, -0.0160,  0.0979,  0.0360, -0.0172,\n",
       "                       -0.0159, -0.0756, -0.0493,  0.0505,  0.0662, -0.0318,  0.0075,  0.0012,\n",
       "                        0.0758,  0.0292,  0.0701, -0.0741, -0.0314,  0.0408, -0.0524, -0.0296,\n",
       "                        0.0222, -0.0659,  0.0295, -0.0257, -0.0906, -0.0462,  0.0478,  0.0626,\n",
       "                        0.0519,  0.0310,  0.0832,  0.0631, -0.0766,  0.0787,  0.0394,  0.0690,\n",
       "                        0.0926,  0.0172, -0.0140, -0.0919,  0.0823,  0.0249,  0.0564, -0.0920,\n",
       "                        0.0189, -0.0485, -0.0433, -0.0989, -0.0483, -0.0756,  0.0100,  0.0375,\n",
       "                        0.0376, -0.0802,  0.0022,  0.0809],\n",
       "                      [-0.0607,  0.0799,  0.0853,  0.0648,  0.0892,  0.0712, -0.0161,  0.0460,\n",
       "                       -0.0577,  0.0373, -0.0744,  0.0465, -0.0116, -0.0635, -0.0828,  0.0945,\n",
       "                        0.0731,  0.0866,  0.0806,  0.0228,  0.0351, -0.0432,  0.0455,  0.0012,\n",
       "                       -0.0280,  0.0482,  0.0594,  0.0624, -0.0981,  0.0776,  0.0079,  0.0130,\n",
       "                       -0.0379, -0.0856, -0.0743, -0.0176, -0.0737,  0.0078,  0.0741,  0.0132,\n",
       "                       -0.0566,  0.0427, -0.0872,  0.0674, -0.0183, -0.0697,  0.0952, -0.0575,\n",
       "                        0.0514, -0.0971,  0.0193,  0.0236, -0.0449, -0.0446,  0.0268,  0.0553,\n",
       "                        0.0421,  0.0309,  0.0158,  0.0529,  0.0038, -0.0930,  0.0111, -0.0234,\n",
       "                       -0.0315, -0.0554,  0.0064, -0.0298,  0.0836,  0.0064,  0.0402, -0.0558,\n",
       "                       -0.0733, -0.0937, -0.0257,  0.0878,  0.0668,  0.0944,  0.0068, -0.0673,\n",
       "                       -0.0298,  0.0715,  0.0809, -0.0377, -0.0946,  0.0533, -0.0960, -0.0229,\n",
       "                       -0.0948,  0.0071,  0.0320, -0.0754, -0.0086, -0.0556,  0.0820, -0.0533,\n",
       "                       -0.0550, -0.0882,  0.0896,  0.0894],\n",
       "                      [ 0.0422,  0.0380,  0.0797,  0.0533,  0.0737,  0.0953, -0.0404,  0.0295,\n",
       "                       -0.0112,  0.0446,  0.0565, -0.0447,  0.0698, -0.0549, -0.0271, -0.0581,\n",
       "                        0.0470, -0.0306, -0.0470,  0.0360, -0.0268,  0.0932, -0.0963, -0.0879,\n",
       "                       -0.0613,  0.0258, -0.0268,  0.0783, -0.0263,  0.0189, -0.0842,  0.0223,\n",
       "                       -0.0104, -0.0384, -0.0314, -0.0938,  0.0239, -0.0769,  0.0642,  0.0266,\n",
       "                       -0.0439, -0.0323,  0.0397, -0.0865,  0.0459,  0.0474, -0.0015, -0.0007,\n",
       "                       -0.0629, -0.0337, -0.0591, -0.0350,  0.0200, -0.0655, -0.0483, -0.0952,\n",
       "                       -0.0216, -0.0894,  0.0035, -0.0828, -0.0540, -0.0862, -0.0015, -0.0746,\n",
       "                        0.0778,  0.0326, -0.0999, -0.0229,  0.0907,  0.0238,  0.0638,  0.0842,\n",
       "                       -0.0299, -0.0324,  0.0960,  0.0751, -0.0567, -0.0459,  0.0111, -0.0606,\n",
       "                       -0.0659,  0.0283,  0.0398,  0.0386, -0.0463,  0.0142,  0.0606, -0.0186,\n",
       "                       -0.0411, -0.0390, -0.0061, -0.0312, -0.0135, -0.0798, -0.0460,  0.0406,\n",
       "                        0.0128,  0.0519, -0.0354,  0.0375],\n",
       "                      [ 0.0420, -0.0477,  0.0958, -0.0188, -0.0276, -0.0659, -0.0136,  0.0265,\n",
       "                        0.0518,  0.0789, -0.0759,  0.0887, -0.0359,  0.0607, -0.0771, -0.0630,\n",
       "                        0.0089, -0.0007,  0.0156,  0.0306, -0.0149, -0.0436,  0.0673,  0.0605,\n",
       "                        0.0248, -0.0618,  0.0678,  0.0421,  0.0417,  0.0863, -0.0457, -0.0204,\n",
       "                        0.0062, -0.0116, -0.0425, -0.0051, -0.0029, -0.0186, -0.0657,  0.0145,\n",
       "                       -0.0514, -0.0593, -0.0427, -0.0638, -0.0366,  0.0996,  0.0204,  0.0965,\n",
       "                       -0.0340,  0.0921, -0.0133, -0.0451, -0.0910,  0.0788,  0.0363, -0.0226,\n",
       "                        0.0497, -0.0603,  0.0665,  0.0269, -0.0770, -0.0761,  0.0757,  0.0363,\n",
       "                        0.0623,  0.0282,  0.0673, -0.0955,  0.0912,  0.0314, -0.0097, -0.0687,\n",
       "                        0.0034, -0.0780, -0.0751, -0.0122, -0.0622, -0.0089,  0.0328, -0.0499,\n",
       "                        0.0794,  0.0144, -0.0702,  0.0663,  0.0484,  0.0045,  0.0647,  0.0627,\n",
       "                        0.0607,  0.0752, -0.0440, -0.0255, -0.0805,  0.0617,  0.0276,  0.0794,\n",
       "                       -0.0625,  0.0244, -0.0394, -0.0679],\n",
       "                      [-0.0366, -0.0500, -0.0039, -0.0795,  0.0161,  0.0581,  0.0685, -0.0297,\n",
       "                       -0.0893, -0.0373, -0.0764,  0.0104,  0.0077, -0.0817, -0.0172, -0.0251,\n",
       "                       -0.0059,  0.0390,  0.0688,  0.0498, -0.0209,  0.0086, -0.0694,  0.0479,\n",
       "                        0.0135, -0.0724,  0.0705, -0.0192, -0.0429,  0.0179,  0.0504,  0.0280,\n",
       "                        0.0675,  0.0511,  0.0539, -0.0568,  0.0508,  0.0984,  0.0807,  0.0267,\n",
       "                        0.0669,  0.0798,  0.0019, -0.0012,  0.0833, -0.0432,  0.0235,  0.0252,\n",
       "                       -0.0129,  0.0268,  0.0066,  0.0743,  0.0828, -0.0757,  0.0885,  0.0617,\n",
       "                       -0.0574,  0.0885,  0.0822,  0.0395, -0.0983, -0.0257,  0.0837,  0.0846,\n",
       "                       -0.0006, -0.0149,  0.0159,  0.0124, -0.0062, -0.0778, -0.0247,  0.0280,\n",
       "                       -0.0462, -0.0600, -0.0700, -0.0773,  0.0359,  0.0214,  0.0461, -0.0649,\n",
       "                        0.0484,  0.0379,  0.0271,  0.0622, -0.0111,  0.0607,  0.0813,  0.0173,\n",
       "                        0.0360,  0.0467,  0.0493, -0.0258, -0.0638,  0.0487, -0.0780,  0.0361,\n",
       "                       -0.0107,  0.0930, -0.0675, -0.0641],\n",
       "                      [ 0.0430,  0.0411,  0.0910,  0.0359,  0.0218,  0.0436,  0.0952,  0.0506,\n",
       "                       -0.0320, -0.0523,  0.0428, -0.0866,  0.0202, -0.0899, -0.0772,  0.0959,\n",
       "                       -0.0901, -0.0819,  0.0005,  0.0833, -0.0275,  0.0528,  0.0211, -0.0199,\n",
       "                       -0.0573, -0.0939,  0.0305, -0.0624,  0.0800,  0.0675, -0.0492,  0.0327,\n",
       "                        0.0785,  0.0542, -0.0386,  0.0205, -0.0579, -0.0082, -0.0017,  0.0848,\n",
       "                       -0.0545, -0.0398, -0.0084, -0.0350,  0.0327,  0.0268, -0.0774,  0.0100,\n",
       "                        0.0429,  0.0672,  0.0930, -0.0221, -0.0399, -0.0814, -0.0296,  0.0293,\n",
       "                       -0.0640, -0.0544,  0.0231,  0.0518, -0.0229, -0.0337, -0.0407,  0.0579,\n",
       "                       -0.0772,  0.0064,  0.0760, -0.0208,  0.0786,  0.0437, -0.0479, -0.0872,\n",
       "                        0.0406,  0.0587, -0.0206,  0.0568,  0.0745,  0.0683,  0.0717,  0.0451,\n",
       "                        0.0505,  0.0162,  0.0872, -0.0036, -0.0333, -0.0648,  0.0467,  0.0030,\n",
       "                       -0.0372, -0.0059, -0.0417, -0.0110,  0.0472,  0.0932,  0.0006,  0.0193,\n",
       "                       -0.0782, -0.0434,  0.0187,  0.0345],\n",
       "                      [ 0.0386, -0.0881, -0.0692,  0.0287,  0.0337,  0.0262,  0.0899,  0.0897,\n",
       "                        0.0170,  0.0181, -0.0243,  0.0516, -0.0694, -0.0633,  0.0235, -0.0255,\n",
       "                       -0.0553, -0.0668, -0.0196,  0.0513,  0.0792, -0.0466, -0.0301,  0.0220,\n",
       "                       -0.0109, -0.0158,  0.0233,  0.0087,  0.0341, -0.0294,  0.0601, -0.0210,\n",
       "                        0.0895,  0.0970, -0.0263, -0.0188, -0.0758, -0.0311, -0.0550, -0.0113,\n",
       "                       -0.0248, -0.0357,  0.0431, -0.0721,  0.0067, -0.0512,  0.0108,  0.0801,\n",
       "                        0.0759,  0.0498,  0.0771, -0.0349,  0.0600, -0.0897, -0.0800, -0.0850,\n",
       "                       -0.0293, -0.0619, -0.0329,  0.0644, -0.0083, -0.0231, -0.0800, -0.0675,\n",
       "                        0.0879, -0.0243, -0.0228,  0.0972,  0.0842, -0.0814,  0.0152, -0.0346,\n",
       "                        0.0076,  0.0261,  0.0188,  0.0867, -0.0495,  0.0578, -0.0345,  0.0570,\n",
       "                       -0.0056,  0.0938,  0.0548, -0.0032,  0.0310, -0.0133, -0.0480,  0.0066,\n",
       "                       -0.0216, -0.0659, -0.0954,  0.0218,  0.0062, -0.0711,  0.0645,  0.0415,\n",
       "                        0.0759, -0.0707, -0.0820,  0.0902]])),\n",
       "             ('layer3.0.bias',\n",
       "              tensor([-0.1000, -0.0192,  0.0037, -0.0739, -0.0736,  0.0933, -0.0545,  0.0212,\n",
       "                      -0.0071, -0.0121]))])"
      ]
     },
     "execution_count": 59,
     "metadata": {},
     "output_type": "execute_result"
    }
   ],
   "source": [
    "model.state_dict()"
   ]
  },
  {
   "cell_type": "code",
   "execution_count": 60,
   "id": "41f456e6-0da5-4895-b69b-4662c958b9d5",
   "metadata": {},
   "outputs": [
    {
     "data": {
      "text/plain": [
       "'cuda'"
      ]
     },
     "execution_count": 60,
     "metadata": {},
     "output_type": "execute_result"
    }
   ],
   "source": [
    "device = 'cuda' if torch.cuda.is_available() else 'cpu'\n",
    "device"
   ]
  },
  {
   "cell_type": "code",
   "execution_count": 61,
   "id": "24c0b39a-a78b-453e-aa44-19f1ef7d7675",
   "metadata": {},
   "outputs": [
    {
     "data": {
      "text/plain": [
       "NeuralNetwork(\n",
       "  (layer1): Sequential(\n",
       "    (0): Linear(in_features=784, out_features=300, bias=True)\n",
       "    (1): ReLU(inplace=True)\n",
       "  )\n",
       "  (layer2): Sequential(\n",
       "    (0): Linear(in_features=300, out_features=100, bias=True)\n",
       "    (1): ReLU(inplace=True)\n",
       "  )\n",
       "  (layer3): Sequential(\n",
       "    (0): Linear(in_features=100, out_features=10, bias=True)\n",
       "    (1): ReLU(inplace=True)\n",
       "  )\n",
       ")"
      ]
     },
     "execution_count": 61,
     "metadata": {},
     "output_type": "execute_result"
    }
   ],
   "source": [
    "model.to(device)"
   ]
  },
  {
   "cell_type": "markdown",
   "id": "42658718-9329-4639-83cf-96082646fdee",
   "metadata": {},
   "source": [
    "<h2>3. Pick a loss function and optimizer</h2>"
   ]
  },
  {
   "cell_type": "code",
   "execution_count": 62,
   "id": "2615fb84-4220-4797-9e4e-48e45549a14a",
   "metadata": {},
   "outputs": [],
   "source": [
    "\"\"\"\n",
    "torch.optim.SGD\n",
    "torch.optim.Adam\n",
    "\"\"\"\n",
    "learning_rate = 1e-3\n",
    "criterion = nn.CrossEntropyLoss()\n",
    "optimizer = torch.optim.Adam(model.parameters(),lr=learning_rate)"
   ]
  },
  {
   "cell_type": "markdown",
   "id": "6c5e70d7-978b-42af-b433-9cee68d5de8b",
   "metadata": {},
   "source": [
    "<h2>4. Building training loop</h2>"
   ]
  },
  {
   "cell_type": "code",
   "execution_count": 63,
   "id": "3188696a-d605-4f1e-a109-abeb7a482320",
   "metadata": {},
   "outputs": [
    {
     "name": "stdout",
     "output_type": "stream",
     "text": [
      "**********\n",
      "Epoch 1\n",
      "Epoch 1 / 10, Loss: 0.974820, Accu: 0.693438\n",
      "Epoch 1 / 10, Loss: 0.830420, Accu: 0.738229\n",
      "Epoch 1 / 10, Loss: 0.763204, Accu: 0.761719\n",
      "Finish: 1 Epoch, Loss 0.758417, Accu: 0.763826\n",
      "**********\n",
      "Epoch 2\n",
      "Epoch 2 / 10, Loss: 0.594009, Accu: 0.824323\n",
      "Epoch 2 / 10, Loss: 0.586754, Accu: 0.829792\n",
      "Epoch 2 / 10, Loss: 0.585533, Accu: 0.833264\n",
      "Finish: 2 Epoch, Loss 0.585493, Accu: 0.833406\n",
      "**********\n",
      "Epoch 3\n",
      "Epoch 3 / 10, Loss: 0.557316, Accu: 0.845417\n",
      "Epoch 3 / 10, Loss: 0.549994, Accu: 0.850313\n",
      "Epoch 3 / 10, Loss: 0.549699, Accu: 0.849983\n",
      "Finish: 3 Epoch, Loss 0.549751, Accu: 0.850130\n",
      "**********\n",
      "Epoch 4\n",
      "Epoch 4 / 10, Loss: 0.531917, Accu: 0.857500\n",
      "Epoch 4 / 10, Loss: 0.532628, Accu: 0.860417\n",
      "Epoch 4 / 10, Loss: 0.528948, Accu: 0.861441\n",
      "Finish: 4 Epoch, Loss 0.528152, Accu: 0.861807\n",
      "**********\n",
      "Epoch 5\n",
      "Epoch 5 / 10, Loss: 0.499521, Accu: 0.869531\n",
      "Epoch 5 / 10, Loss: 0.511043, Accu: 0.867448\n",
      "Epoch 5 / 10, Loss: 0.507223, Accu: 0.868594\n",
      "Finish: 5 Epoch, Loss 0.507425, Accu: 0.868770\n",
      "**********\n",
      "Epoch 6\n",
      "Epoch 6 / 10, Loss: 0.487545, Accu: 0.876510\n",
      "Epoch 6 / 10, Loss: 0.492452, Accu: 0.874870\n",
      "Epoch 6 / 10, Loss: 0.492945, Accu: 0.875608\n",
      "Finish: 6 Epoch, Loss 0.492812, Accu: 0.875600\n",
      "**********\n",
      "Epoch 7\n",
      "Epoch 7 / 10, Loss: 0.483442, Accu: 0.880417\n",
      "Epoch 7 / 10, Loss: 0.480103, Accu: 0.879141\n",
      "Epoch 7 / 10, Loss: 0.482006, Accu: 0.879080\n",
      "Finish: 7 Epoch, Loss 0.481129, Accu: 0.878998\n",
      "**********\n",
      "Epoch 8\n",
      "Epoch 8 / 10, Loss: 0.468507, Accu: 0.885156\n",
      "Epoch 8 / 10, Loss: 0.469783, Accu: 0.884792\n",
      "Epoch 8 / 10, Loss: 0.471419, Accu: 0.884566\n",
      "Finish: 8 Epoch, Loss 0.471716, Accu: 0.884945\n",
      "**********\n",
      "Epoch 9\n",
      "Epoch 9 / 10, Loss: 0.458934, Accu: 0.888750\n",
      "Epoch 9 / 10, Loss: 0.456027, Accu: 0.888854\n",
      "Epoch 9 / 10, Loss: 0.460734, Accu: 0.889010\n",
      "Finish: 9 Epoch, Loss 0.461449, Accu: 0.888759\n",
      "**********\n",
      "Epoch 10\n",
      "Epoch 10 / 10, Loss: 0.450060, Accu: 0.895729\n",
      "Epoch 10 / 10, Loss: 0.448096, Accu: 0.895260\n",
      "Epoch 10 / 10, Loss: 0.451506, Accu: 0.894427\n",
      "Finish: 10 Epoch, Loss 0.452084, Accu: 0.894190\n"
     ]
    }
   ],
   "source": [
    "num_epochs = 10\n",
    "for epoch in range(num_epochs):\n",
    "    print('*' * 10)\n",
    "    print(f'Epoch {epoch + 1}')\n",
    "    running_loss = 0.0\n",
    "    running_accu = 0.0\n",
    "    for i,data in enumerate(train_loader,1):\n",
    "        img,label = data\n",
    "        img = img.view(img.size(0),-1)\n",
    "        img = img.to(device)\n",
    "        label = label.to(device)\n",
    "        out = model(img)\n",
    "        loss = criterion(out,label)\n",
    "        running_loss += loss.item()\n",
    "        _,pred = torch.max(out,1) #64,10\n",
    "        running_accu += (pred == label).float().mean()\n",
    "        optimizer.zero_grad()\n",
    "        loss.backward()\n",
    "        optimizer.step()\n",
    "        if i % 300 == 0:\n",
    "            print(f'Epoch {epoch + 1} / {num_epochs}, Loss: {running_loss / i:.6f}, Accu: {running_accu / i:.6f}')\n",
    "    print(f'Finish: {epoch + 1} Epoch, Loss {running_loss / i:.6f}, Accu: {running_accu / i:.6f}')\n",
    "        "
   ]
  },
  {
   "cell_type": "markdown",
   "id": "645197f6-54b0-48c7-9cf0-fc201e219175",
   "metadata": {},
   "source": [
    "<h2>5. Evaluate your model</h2>"
   ]
  },
  {
   "cell_type": "code",
   "execution_count": 65,
   "id": "407e8f47-f6fb-469c-b7e7-d1661e843346",
   "metadata": {},
   "outputs": [
    {
     "name": "stdout",
     "output_type": "stream",
     "text": [
      "Test loss: 0.5487263063621369, Accu: 0.8565883636474609\n"
     ]
    }
   ],
   "source": [
    "model.eval()\n",
    "eval_loss = 0.\n",
    "eval_accu = 0.\n",
    "for data in test_loader:\n",
    "    img,label = data\n",
    "    img = img.view(img.size(0),-1)\n",
    "    img = img.to(device)\n",
    "    label = label.to(device)\n",
    "    with torch.no_grad():\n",
    "        out = model(img)\n",
    "        loss = criterion(out,label)\n",
    "        eval_loss += loss.item()\n",
    "        _,pred = torch.max(out,1)\n",
    "        eval_accu += (pred == label).float().mean()\n",
    "print(f'Test loss: {eval_loss / len(test_loader)}, Accu: {eval_accu / len(test_loader)}')"
   ]
  },
  {
   "cell_type": "markdown",
   "id": "31d06a43-31a5-48ee-8c3c-e5156a53896e",
   "metadata": {},
   "source": [
    "<h2>6. Visualize your model</h2>"
   ]
  },
  {
   "cell_type": "code",
   "execution_count": 71,
   "id": "95ce8a35-702f-4c66-a9f3-e5206d4057c4",
   "metadata": {},
   "outputs": [
    {
     "data": {
      "image/png": "[encoded data removed]",
      "text/plain": [
       "<Figure size 1000x500 with 5 Axes>"
      ]
     },
     "metadata": {},
     "output_type": "display_data"
    }
   ],
   "source": [
    "images,labels = next(iter(test_loader))\n",
    "images = images.reshape(-1,28*28).to(device)\n",
    "outputs = model(images)\n",
    "_,pred = torch.max(outputs,1)\n",
    "fig,ax = plt.subplots(1,5,figsize=(10,5))\n",
    "for i in range(5):\n",
    "    ax[i].imshow(images[i].reshape(28,28).cpu(),cmap='gray')\n",
    "    ax[i].set_title(f'True: {labels[i].item()}, Pred: {pred[i].item()}')\n",
    "    ax[i].axis('off')\n",
    "plt.show()"
   ]
  },
  {
   "cell_type": "markdown",
   "id": "8a650d9c-8d54-4083-a8a3-7c7f11a2e657",
   "metadata": {},
   "source": [
    "<h2>7. Save the model</h2>"
   ]
  },
  {
   "cell_type": "code",
   "execution_count": 73,
   "id": "29588894-8842-444c-8e21-8a20f0abf4aa",
   "metadata": {},
   "outputs": [],
   "source": [
    "torch.save(model.state_dict(),'./Classification_with_Neural_Network.pth')"
   ]
  }
 ],
 "metadata": {
  "kernelspec": {
   "display_name": "Python 3 (ipykernel)",
   "language": "python",
   "name": "python3"
  },
  "language_info": {
   "codemirror_mode": {
    "name": "ipython",
    "version": 3
   },
   "file_extension": ".py",
   "mimetype": "text/x-python",
   "name": "python",
   "nbconvert_exporter": "python",
   "pygments_lexer": "ipython3",
   "version": "3.12.3"
  }
 },
 "nbformat": 4,
 "nbformat_minor": 5
}
