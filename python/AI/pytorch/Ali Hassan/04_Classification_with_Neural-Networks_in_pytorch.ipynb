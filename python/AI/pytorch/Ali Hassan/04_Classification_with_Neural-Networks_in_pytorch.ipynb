{
 "cells": [
  {
   "cell_type": "markdown",
   "id": "6f202c68-6a7e-45ce-8fbd-26c925f6c24f",
   "metadata": {},
   "source": [
    "<h1>10:11/1:23:15</h1>"
   ]
  },
  {
   "cell_type": "markdown",
   "id": "d9f45794-8bdf-4418-8b9a-d2c73e78402d",
   "metadata": {},
   "source": [
    "<h1>Workflow</h1>"
   ]
  },
  {
   "cell_type": "markdown",
   "id": "fdd49570-f7b3-4e5d-ada0-6c0d5b448056",
   "metadata": {},
   "source": [
    "<h2>\n",
    "    0. Import important libraries<br>\n",
    "    1. Get dataset ready (turn into tensor and batches)<br>\n",
    "    2. Build a NeuralNetwork model for classification<br>\n",
    "    3. Pick a loss function and optimizer<br>\n",
    "    4. Build a training loop<br>\n",
    "    5. Evaluate your model<br>\n",
    "    6. Improve your model<br>\n",
    "    7. Save the model\n",
    "</h2>"
   ]
  },
  {
   "cell_type": "markdown",
   "id": "987f0b7e-5270-427e-b150-0574d7344094",
   "metadata": {},
   "source": [
    "<h2>0. Import important libraries</h2>"
   ]
  },
  {
   "cell_type": "code",
   "execution_count": 3,
   "id": "b63d2a9c-904b-4020-a408-065b5198f447",
   "metadata": {},
   "outputs": [],
   "source": [
    "import torch\n",
    "import torch.nn as nn\n",
    "from torch.utils.data import DataLoader\n",
    "from torchvision import datasets, transforms\n",
    "import matplotlib.pyplot as plt"
   ]
  },
  {
   "cell_type": "markdown",
   "id": "f2dec84e-5a64-4a1f-9d70-a7a41dfb934e",
   "metadata": {},
   "source": [
    "<h2>1. Get dataset ready (turn into tensor and batches)</h2>"
   ]
  },
  {
   "cell_type": "code",
   "execution_count": 2,
   "id": "cd435765-2141-4d17-8b5c-7038c59efd13",
   "metadata": {},
   "outputs": [
    {
     "ename": "RuntimeError",
     "evalue": "Dataset not found. You can use download=True to download it",
     "output_type": "error",
     "traceback": [
      "\u001b[1;31m---------------------------------------------------------------------------\u001b[0m",
      "\u001b[1;31mRuntimeError\u001b[0m                              Traceback (most recent call last)",
      "Cell \u001b[1;32mIn[2], line 2\u001b[0m\n\u001b[0;32m      1\u001b[0m train_dataset \u001b[38;5;241m=\u001b[39m datasets\u001b[38;5;241m.\u001b[39mFashionMNIST(root\u001b[38;5;241m=\u001b[39m\u001b[38;5;124m'\u001b[39m\u001b[38;5;124m/dataset\u001b[39m\u001b[38;5;124m'\u001b[39m,train\u001b[38;5;241m=\u001b[39m\u001b[38;5;28;01mTrue\u001b[39;00m,transform\u001b[38;5;241m=\u001b[39mtransforms\u001b[38;5;241m.\u001b[39mToTensor(), download\u001b[38;5;241m=\u001b[39m\u001b[38;5;28;01mTrue\u001b[39;00m)\n\u001b[1;32m----> 2\u001b[0m test_dataset \u001b[38;5;241m=\u001b[39m datasets\u001b[38;5;241m.\u001b[39mFashionMNIST(root\u001b[38;5;241m=\u001b[39m\u001b[38;5;124m'\u001b[39m\u001b[38;5;124mdataset\u001b[39m\u001b[38;5;124m'\u001b[39m,train\u001b[38;5;241m=\u001b[39m\u001b[38;5;28;01mFalse\u001b[39;00m,transform\u001b[38;5;241m=\u001b[39mtransforms\u001b[38;5;241m.\u001b[39mToTensor())\n",
      "File \u001b[1;32mC:\\myApps\\anaconda3\\envs\\python3.12\\Lib\\site-packages\\torchvision\\datasets\\mnist.py:103\u001b[0m, in \u001b[0;36mMNIST.__init__\u001b[1;34m(self, root, train, transform, target_transform, download)\u001b[0m\n\u001b[0;32m    100\u001b[0m     \u001b[38;5;28mself\u001b[39m\u001b[38;5;241m.\u001b[39mdownload()\n\u001b[0;32m    102\u001b[0m \u001b[38;5;28;01mif\u001b[39;00m \u001b[38;5;129;01mnot\u001b[39;00m \u001b[38;5;28mself\u001b[39m\u001b[38;5;241m.\u001b[39m_check_exists():\n\u001b[1;32m--> 103\u001b[0m     \u001b[38;5;28;01mraise\u001b[39;00m \u001b[38;5;167;01mRuntimeError\u001b[39;00m(\u001b[38;5;124m\"\u001b[39m\u001b[38;5;124mDataset not found. You can use download=True to download it\u001b[39m\u001b[38;5;124m\"\u001b[39m)\n\u001b[0;32m    105\u001b[0m \u001b[38;5;28mself\u001b[39m\u001b[38;5;241m.\u001b[39mdata, \u001b[38;5;28mself\u001b[39m\u001b[38;5;241m.\u001b[39mtargets \u001b[38;5;241m=\u001b[39m \u001b[38;5;28mself\u001b[39m\u001b[38;5;241m.\u001b[39m_load_data()\n",
      "\u001b[1;31mRuntimeError\u001b[0m: Dataset not found. You can use download=True to download it"
     ]
    }
   ],
   "source": [
    "train_dataset = datasets.FashionMNIST(root='/dataset',train=True,transform=transforms.ToTensor(), download=True)\n",
    "test_dataset = datasets.FashionMNIST(root='dataset',train=False,transform=transforms.ToTensor())"
   ]
  },
  {
   "cell_type": "code",
   "execution_count": null,
   "id": "e1a7dd70-4be5-4566-b3c7-12a801fe60ae",
   "metadata": {},
   "outputs": [],
   "source": []
  }
 ],
 "metadata": {
  "kernelspec": {
   "display_name": "Python 3 (ipykernel)",
   "language": "python",
   "name": "python3"
  },
  "language_info": {
   "codemirror_mode": {
    "name": "ipython",
    "version": 3
   },
   "file_extension": ".py",
   "mimetype": "text/x-python",
   "name": "python",
   "nbconvert_exporter": "python",
   "pygments_lexer": "ipython3",
   "version": "3.12.3"
  }
 },
 "nbformat": 4,
 "nbformat_minor": 5
}
