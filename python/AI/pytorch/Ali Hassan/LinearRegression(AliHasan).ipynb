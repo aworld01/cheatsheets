{
 "cells": [
  {
   "cell_type": "markdown",
   "id": "62b80a46-916a-4b99-ae7b-56ebaeb588d6",
   "metadata": {},
   "source": [
    "<h1>Workflow</h1>"
   ]
  },
  {
   "cell_type": "markdown",
   "id": "16193665-0e0a-4863-a49d-eab40866450e",
   "metadata": {},
   "source": [
    "<pre>Import important libraries<br>\n",
    "Get data ready (turn into tensors)<br>\n",
    "Built a LinearRegression model<br>\n",
    "Pick a loss function and optimizer<br>\n",
    "Build a training loop<br>\n",
    "Evaluate your model<br>\n",
    "Test modrl with a new data point<br>\n",
    "Save the model</pre>"
   ]
  },
  {
   "cell_type": "markdown",
   "id": "a8bf88e7-6a03-40ec-b7dc-f3d9976cbb67",
   "metadata": {},
   "source": [
    "<h2>Import important libraries</h2>"
   ]
  },
  {
   "cell_type": "code",
   "execution_count": 66,
   "id": "470c45a3-080a-458b-8ccb-626085085fdd",
   "metadata": {},
   "outputs": [],
   "source": [
    "import torch\n",
    "import torch.nn as nn\n",
    "import numpy as np\n",
    "import pandas as pd\n",
    "import matplotlib.pyplot as plt"
   ]
  },
  {
   "cell_type": "markdown",
   "id": "809fd368-c14b-48be-9435-afb66e7e33ed",
   "metadata": {},
   "source": [
    "<h3>Get Data ready (turn into tensors)</h3>"
   ]
  },
  {
   "cell_type": "code",
   "execution_count": 67,
   "id": "384b9986-5395-45f2-97b2-9e38294c0bc2",
   "metadata": {},
   "outputs": [
    {
     "data": {
      "text/html": [
       "<div>\n",
       "<style scoped>\n",
       "    .dataframe tbody tr th:only-of-type {\n",
       "        vertical-align: middle;\n",
       "    }\n",
       "\n",
       "    .dataframe tbody tr th {\n",
       "        vertical-align: top;\n",
       "    }\n",
       "\n",
       "    .dataframe thead th {\n",
       "        text-align: right;\n",
       "    }\n",
       "</style>\n",
       "<table border=\"1\" class=\"dataframe\">\n",
       "  <thead>\n",
       "    <tr style=\"text-align: right;\">\n",
       "      <th></th>\n",
       "      <th>Hours Studied (x_train)</th>\n",
       "      <th>Exam Score (y_train)</th>\n",
       "    </tr>\n",
       "  </thead>\n",
       "  <tbody>\n",
       "    <tr>\n",
       "      <th>0</th>\n",
       "      <td>3.300</td>\n",
       "      <td>1.700</td>\n",
       "    </tr>\n",
       "    <tr>\n",
       "      <th>1</th>\n",
       "      <td>4.400</td>\n",
       "      <td>2.760</td>\n",
       "    </tr>\n",
       "    <tr>\n",
       "      <th>2</th>\n",
       "      <td>5.500</td>\n",
       "      <td>2.090</td>\n",
       "    </tr>\n",
       "    <tr>\n",
       "      <th>3</th>\n",
       "      <td>6.710</td>\n",
       "      <td>3.190</td>\n",
       "    </tr>\n",
       "    <tr>\n",
       "      <th>4</th>\n",
       "      <td>6.930</td>\n",
       "      <td>1.694</td>\n",
       "    </tr>\n",
       "    <tr>\n",
       "      <th>5</th>\n",
       "      <td>4.168</td>\n",
       "      <td>1.573</td>\n",
       "    </tr>\n",
       "    <tr>\n",
       "      <th>6</th>\n",
       "      <td>9.779</td>\n",
       "      <td>3.366</td>\n",
       "    </tr>\n",
       "    <tr>\n",
       "      <th>7</th>\n",
       "      <td>6.182</td>\n",
       "      <td>2.596</td>\n",
       "    </tr>\n",
       "    <tr>\n",
       "      <th>8</th>\n",
       "      <td>7.590</td>\n",
       "      <td>2.530</td>\n",
       "    </tr>\n",
       "    <tr>\n",
       "      <th>9</th>\n",
       "      <td>2.167</td>\n",
       "      <td>1.221</td>\n",
       "    </tr>\n",
       "    <tr>\n",
       "      <th>10</th>\n",
       "      <td>7.042</td>\n",
       "      <td>2.827</td>\n",
       "    </tr>\n",
       "    <tr>\n",
       "      <th>11</th>\n",
       "      <td>10.791</td>\n",
       "      <td>3.465</td>\n",
       "    </tr>\n",
       "    <tr>\n",
       "      <th>12</th>\n",
       "      <td>5.313</td>\n",
       "      <td>1.650</td>\n",
       "    </tr>\n",
       "    <tr>\n",
       "      <th>13</th>\n",
       "      <td>7.997</td>\n",
       "      <td>2.904</td>\n",
       "    </tr>\n",
       "    <tr>\n",
       "      <th>14</th>\n",
       "      <td>3.100</td>\n",
       "      <td>1.300</td>\n",
       "    </tr>\n",
       "  </tbody>\n",
       "</table>\n",
       "</div>"
      ],
      "text/plain": [
       "    Hours Studied (x_train)  Exam Score (y_train)\n",
       "0                     3.300                 1.700\n",
       "1                     4.400                 2.760\n",
       "2                     5.500                 2.090\n",
       "3                     6.710                 3.190\n",
       "4                     6.930                 1.694\n",
       "5                     4.168                 1.573\n",
       "6                     9.779                 3.366\n",
       "7                     6.182                 2.596\n",
       "8                     7.590                 2.530\n",
       "9                     2.167                 1.221\n",
       "10                    7.042                 2.827\n",
       "11                   10.791                 3.465\n",
       "12                    5.313                 1.650\n",
       "13                    7.997                 2.904\n",
       "14                    3.100                 1.300"
      ]
     },
     "execution_count": 67,
     "metadata": {},
     "output_type": "execute_result"
    }
   ],
   "source": [
    "df = pd.read_csv(\"practice.csv\")\n",
    "df"
   ]
  },
  {
   "cell_type": "code",
   "execution_count": 68,
   "id": "28378b7d-18fd-472a-a67a-b797e97ee192",
   "metadata": {},
   "outputs": [
    {
     "data": {
      "text/html": [
       "<div>\n",
       "<style scoped>\n",
       "    .dataframe tbody tr th:only-of-type {\n",
       "        vertical-align: middle;\n",
       "    }\n",
       "\n",
       "    .dataframe tbody tr th {\n",
       "        vertical-align: top;\n",
       "    }\n",
       "\n",
       "    .dataframe thead th {\n",
       "        text-align: right;\n",
       "    }\n",
       "</style>\n",
       "<table border=\"1\" class=\"dataframe\">\n",
       "  <thead>\n",
       "    <tr style=\"text-align: right;\">\n",
       "      <th></th>\n",
       "      <th>Hours Studied (x_train)</th>\n",
       "    </tr>\n",
       "  </thead>\n",
       "  <tbody>\n",
       "    <tr>\n",
       "      <th>0</th>\n",
       "      <td>3.300</td>\n",
       "    </tr>\n",
       "    <tr>\n",
       "      <th>1</th>\n",
       "      <td>4.400</td>\n",
       "    </tr>\n",
       "    <tr>\n",
       "      <th>2</th>\n",
       "      <td>5.500</td>\n",
       "    </tr>\n",
       "    <tr>\n",
       "      <th>3</th>\n",
       "      <td>6.710</td>\n",
       "    </tr>\n",
       "    <tr>\n",
       "      <th>4</th>\n",
       "      <td>6.930</td>\n",
       "    </tr>\n",
       "    <tr>\n",
       "      <th>5</th>\n",
       "      <td>4.168</td>\n",
       "    </tr>\n",
       "    <tr>\n",
       "      <th>6</th>\n",
       "      <td>9.779</td>\n",
       "    </tr>\n",
       "    <tr>\n",
       "      <th>7</th>\n",
       "      <td>6.182</td>\n",
       "    </tr>\n",
       "    <tr>\n",
       "      <th>8</th>\n",
       "      <td>7.590</td>\n",
       "    </tr>\n",
       "    <tr>\n",
       "      <th>9</th>\n",
       "      <td>2.167</td>\n",
       "    </tr>\n",
       "    <tr>\n",
       "      <th>10</th>\n",
       "      <td>7.042</td>\n",
       "    </tr>\n",
       "    <tr>\n",
       "      <th>11</th>\n",
       "      <td>10.791</td>\n",
       "    </tr>\n",
       "    <tr>\n",
       "      <th>12</th>\n",
       "      <td>5.313</td>\n",
       "    </tr>\n",
       "    <tr>\n",
       "      <th>13</th>\n",
       "      <td>7.997</td>\n",
       "    </tr>\n",
       "    <tr>\n",
       "      <th>14</th>\n",
       "      <td>3.100</td>\n",
       "    </tr>\n",
       "  </tbody>\n",
       "</table>\n",
       "</div>"
      ],
      "text/plain": [
       "    Hours Studied (x_train)\n",
       "0                     3.300\n",
       "1                     4.400\n",
       "2                     5.500\n",
       "3                     6.710\n",
       "4                     6.930\n",
       "5                     4.168\n",
       "6                     9.779\n",
       "7                     6.182\n",
       "8                     7.590\n",
       "9                     2.167\n",
       "10                    7.042\n",
       "11                   10.791\n",
       "12                    5.313\n",
       "13                    7.997\n",
       "14                    3.100"
      ]
     },
     "execution_count": 68,
     "metadata": {},
     "output_type": "execute_result"
    }
   ],
   "source": [
    "x_train = df.drop(\"Exam Score (y_train)\",axis=1)\n",
    "x_train"
   ]
  },
  {
   "cell_type": "code",
   "execution_count": 69,
   "id": "1e53f23e-585c-49c0-b615-fe69f815acb1",
   "metadata": {},
   "outputs": [
    {
     "data": {
      "text/html": [
       "<div>\n",
       "<style scoped>\n",
       "    .dataframe tbody tr th:only-of-type {\n",
       "        vertical-align: middle;\n",
       "    }\n",
       "\n",
       "    .dataframe tbody tr th {\n",
       "        vertical-align: top;\n",
       "    }\n",
       "\n",
       "    .dataframe thead th {\n",
       "        text-align: right;\n",
       "    }\n",
       "</style>\n",
       "<table border=\"1\" class=\"dataframe\">\n",
       "  <thead>\n",
       "    <tr style=\"text-align: right;\">\n",
       "      <th></th>\n",
       "      <th>Exam Score (y_train)</th>\n",
       "    </tr>\n",
       "  </thead>\n",
       "  <tbody>\n",
       "    <tr>\n",
       "      <th>0</th>\n",
       "      <td>1.700</td>\n",
       "    </tr>\n",
       "    <tr>\n",
       "      <th>1</th>\n",
       "      <td>2.760</td>\n",
       "    </tr>\n",
       "    <tr>\n",
       "      <th>2</th>\n",
       "      <td>2.090</td>\n",
       "    </tr>\n",
       "    <tr>\n",
       "      <th>3</th>\n",
       "      <td>3.190</td>\n",
       "    </tr>\n",
       "    <tr>\n",
       "      <th>4</th>\n",
       "      <td>1.694</td>\n",
       "    </tr>\n",
       "    <tr>\n",
       "      <th>5</th>\n",
       "      <td>1.573</td>\n",
       "    </tr>\n",
       "    <tr>\n",
       "      <th>6</th>\n",
       "      <td>3.366</td>\n",
       "    </tr>\n",
       "    <tr>\n",
       "      <th>7</th>\n",
       "      <td>2.596</td>\n",
       "    </tr>\n",
       "    <tr>\n",
       "      <th>8</th>\n",
       "      <td>2.530</td>\n",
       "    </tr>\n",
       "    <tr>\n",
       "      <th>9</th>\n",
       "      <td>1.221</td>\n",
       "    </tr>\n",
       "    <tr>\n",
       "      <th>10</th>\n",
       "      <td>2.827</td>\n",
       "    </tr>\n",
       "    <tr>\n",
       "      <th>11</th>\n",
       "      <td>3.465</td>\n",
       "    </tr>\n",
       "    <tr>\n",
       "      <th>12</th>\n",
       "      <td>1.650</td>\n",
       "    </tr>\n",
       "    <tr>\n",
       "      <th>13</th>\n",
       "      <td>2.904</td>\n",
       "    </tr>\n",
       "    <tr>\n",
       "      <th>14</th>\n",
       "      <td>1.300</td>\n",
       "    </tr>\n",
       "  </tbody>\n",
       "</table>\n",
       "</div>"
      ],
      "text/plain": [
       "    Exam Score (y_train)\n",
       "0                  1.700\n",
       "1                  2.760\n",
       "2                  2.090\n",
       "3                  3.190\n",
       "4                  1.694\n",
       "5                  1.573\n",
       "6                  3.366\n",
       "7                  2.596\n",
       "8                  2.530\n",
       "9                  1.221\n",
       "10                 2.827\n",
       "11                 3.465\n",
       "12                 1.650\n",
       "13                 2.904\n",
       "14                 1.300"
      ]
     },
     "execution_count": 69,
     "metadata": {},
     "output_type": "execute_result"
    }
   ],
   "source": [
    "y_train = df.drop(\"Hours Studied (x_train)\",axis=1)\n",
    "y_train"
   ]
  },
  {
   "cell_type": "markdown",
   "id": "6ba73888-c98c-45e7-85e4-075e410859a6",
   "metadata": {},
   "source": [
    "<h3>Convert into numpy array</h3>"
   ]
  },
  {
   "cell_type": "code",
   "execution_count": 70,
   "id": "6f00641f-1875-40d1-9db4-13cb9786e6bc",
   "metadata": {},
   "outputs": [
    {
     "data": {
      "text/plain": [
       "array([[ 3.3  ],\n",
       "       [ 4.4  ],\n",
       "       [ 5.5  ],\n",
       "       [ 6.71 ],\n",
       "       [ 6.93 ],\n",
       "       [ 4.168],\n",
       "       [ 9.779],\n",
       "       [ 6.182],\n",
       "       [ 7.59 ],\n",
       "       [ 2.167],\n",
       "       [ 7.042],\n",
       "       [10.791],\n",
       "       [ 5.313],\n",
       "       [ 7.997],\n",
       "       [ 3.1  ]])"
      ]
     },
     "execution_count": 70,
     "metadata": {},
     "output_type": "execute_result"
    }
   ],
   "source": [
    "x_train = x_train.to_numpy()\n",
    "x_train"
   ]
  },
  {
   "cell_type": "code",
   "execution_count": 71,
   "id": "682de92e-23a5-4f48-9b0a-dcfc720bf492",
   "metadata": {},
   "outputs": [
    {
     "data": {
      "text/plain": [
       "(array([[1.7  ],\n",
       "        [2.76 ],\n",
       "        [2.09 ],\n",
       "        [3.19 ],\n",
       "        [1.694],\n",
       "        [1.573],\n",
       "        [3.366],\n",
       "        [2.596],\n",
       "        [2.53 ],\n",
       "        [1.221],\n",
       "        [2.827],\n",
       "        [3.465],\n",
       "        [1.65 ],\n",
       "        [2.904],\n",
       "        [1.3  ]]),\n",
       " dtype('float64'))"
      ]
     },
     "execution_count": 71,
     "metadata": {},
     "output_type": "execute_result"
    }
   ],
   "source": [
    "y_train = y_train.to_numpy()\n",
    "y_train, y_train.dtype"
   ]
  },
  {
   "cell_type": "markdown",
   "id": "a78f6a31-0b1f-4310-8fbf-d2706ca78a48",
   "metadata": {},
   "source": [
    "<h3>Plot into pyplot</h3>"
   ]
  },
  {
   "cell_type": "code",
   "execution_count": 72,
   "id": "bfb6ed63-d6f8-4e3f-ba2f-eb225dce282c",
   "metadata": {},
   "outputs": [
    {
     "data": {
      "image/png": "[encoded data removed]",
      "text/plain": [
       "<Figure size 1000x500 with 1 Axes>"
      ]
     },
     "metadata": {},
     "output_type": "display_data"
    }
   ],
   "source": [
    "fig = plt.figure(figsize=(10,5))\n",
    "plt.plot(x_train,y_train,'ro',label='Original Data')\n",
    "plt.xlabel('Hours Studied')\n",
    "plt.ylabel('Exam Score')\n",
    "plt.legend()\n",
    "plt.title('Exam Score Prediction')\n",
    "plt.show()"
   ]
  },
  {
   "cell_type": "markdown",
   "id": "d44b2416-3200-4e04-ae26-f0c18e1c282c",
   "metadata": {},
   "source": [
    "<h3>Convert into pytorch tensor</h3>"
   ]
  },
  {
   "cell_type": "code",
   "execution_count": 73,
   "id": "f85b0c6b-dc51-4327-ab64-a9e2da27fa66",
   "metadata": {},
   "outputs": [],
   "source": [
    "x_train = torch.from_numpy(x_train)\n",
    "y_train = torch.from_numpy(y_train)"
   ]
  },
  {
   "cell_type": "code",
   "execution_count": 74,
   "id": "89f5136a-e7e8-48f3-8315-b2612f689fa0",
   "metadata": {},
   "outputs": [
    {
     "data": {
      "text/plain": [
       "(tensor([[ 3.3000],\n",
       "         [ 4.4000],\n",
       "         [ 5.5000],\n",
       "         [ 6.7100],\n",
       "         [ 6.9300],\n",
       "         [ 4.1680],\n",
       "         [ 9.7790],\n",
       "         [ 6.1820],\n",
       "         [ 7.5900],\n",
       "         [ 2.1670],\n",
       "         [ 7.0420],\n",
       "         [10.7910],\n",
       "         [ 5.3130],\n",
       "         [ 7.9970],\n",
       "         [ 3.1000]], dtype=torch.float64),\n",
       " tensor([[1.7000],\n",
       "         [2.7600],\n",
       "         [2.0900],\n",
       "         [3.1900],\n",
       "         [1.6940],\n",
       "         [1.5730],\n",
       "         [3.3660],\n",
       "         [2.5960],\n",
       "         [2.5300],\n",
       "         [1.2210],\n",
       "         [2.8270],\n",
       "         [3.4650],\n",
       "         [1.6500],\n",
       "         [2.9040],\n",
       "         [1.3000]], dtype=torch.float64))"
      ]
     },
     "execution_count": 74,
     "metadata": {},
     "output_type": "execute_result"
    }
   ],
   "source": [
    "x_train, y_train"
   ]
  },
  {
   "cell_type": "code",
   "execution_count": 76,
   "id": "59cc5750-86d5-436e-b9f0-4dadba2e5a15",
   "metadata": {},
   "outputs": [],
   "source": [
    "x_train = x_train.type(torch.FloatTensor) #to change into 32-bit\n",
    "y_train = y_train.type(torch.FloatTensor)"
   ]
  },
  {
   "cell_type": "markdown",
   "id": "95d8de37-1157-45f5-8155-51c1689b7fb2",
   "metadata": {},
   "source": [
    "<h3>Using the type() method:</h3>\n",
    "<p>\n",
    "x = x.type(torch.FloatTensor) <br>\n",
    "\n",
    "torch.FloatTesor = torch.float32 <br> \n",
    "torch.DoubleTensor = torch.float64 <br>\n",
    "torch.IntTensor = torch.int32 <br>\n",
    "</p>\n",
    "\n",
    "\n",
    "<h3>Using the to() method:</h3>\n",
    "<p>\n",
    "x = x.to(torch.float16) <br>\n",
    "</p>"
   ]
  },
  {
   "cell_type": "markdown",
   "id": "4e23e6d1-c823-4344-861a-9d036de752b7",
   "metadata": {},
   "source": [
    "<h3>2 .Build a Linear Regresson model</h3>"
   ]
  },
  {
   "cell_type": "code",
   "execution_count": 79,
   "id": "467e748c-7ce7-4133-9e56-08224d20bedb",
   "metadata": {},
   "outputs": [],
   "source": [
    "class LinearRegresson(nn.Module):\n",
    "    def __init__(self):\n",
    "        super().__init__()\n",
    "        self.linear = nn.Linear(1,1)\n",
    "    def forward(self,x):\n",
    "        out = self.linear(x)\n",
    "        return out"
   ]
  },
  {
   "cell_type": "code",
   "execution_count": 80,
   "id": "a647fe46-a6ec-4eeb-9ff7-f53c8aea7b16",
   "metadata": {},
   "outputs": [],
   "source": [
    "model = LinearRegresson()"
   ]
  },
  {
   "cell_type": "code",
   "execution_count": 81,
   "id": "432c6639-2247-442d-a198-76aeef4391d5",
   "metadata": {},
   "outputs": [
    {
     "data": {
      "text/plain": [
       "LinearRegresson(\n",
       "  (linear): Linear(in_features=1, out_features=1, bias=True)\n",
       ")"
      ]
     },
     "execution_count": 81,
     "metadata": {},
     "output_type": "execute_result"
    }
   ],
   "source": [
    "model"
   ]
  },
  {
   "cell_type": "code",
   "execution_count": 82,
   "id": "d25d6109-4e87-4353-a042-415a43290066",
   "metadata": {},
   "outputs": [
    {
     "data": {
      "text/plain": [
       "OrderedDict([('linear.weight', tensor([[-0.6019]])),\n",
       "             ('linear.bias', tensor([-0.9197]))])"
      ]
     },
     "execution_count": 82,
     "metadata": {},
     "output_type": "execute_result"
    }
   ],
   "source": [
    "model.state_dict()"
   ]
  },
  {
   "cell_type": "markdown",
   "id": "167c7798-24a5-4631-8277-16df05e252c4",
   "metadata": {},
   "source": [
    "<h3>3. Pick a loss Function and Optimizer</h3>"
   ]
  },
  {
   "cell_type": "code",
   "execution_count": 83,
   "id": "d348376d-c48f-4cd9-8079-36c1f978b83e",
   "metadata": {},
   "outputs": [],
   "source": [
    "criterion = nn.MSELoss()\n",
    "optimizer = torch.optim.SGD(model.parameters(), lr = 1e-4) #0.0001"
   ]
  },
  {
   "cell_type": "markdown",
   "id": "d30cd542-7a95-453d-b499-72b97abecae2",
   "metadata": {},
   "source": [
    "<h3>4. Build a training loop</h3>"
   ]
  },
  {
   "cell_type": "code",
   "execution_count": 84,
   "id": "a846d010-dbf0-4f4d-8f61-09af03ed87f5",
   "metadata": {},
   "outputs": [],
   "source": [
    "num_epochs = 1000"
   ]
  },
  {
   "cell_type": "code",
   "execution_count": 85,
   "id": "665dc619-24f1-4ac7-85aa-e4384c21116b",
   "metadata": {},
   "outputs": [
    {
     "name": "stdout",
     "output_type": "stream",
     "text": [
      "Epoch: [20 / 1000], loss: 37.398743\n",
      "Epoch: [40 / 1000], loss: 26.568399\n",
      "Epoch: [60 / 1000], loss: 18.914032\n",
      "Epoch: [80 / 1000], loss: 13.504257\n",
      "Epoch: [100 / 1000], loss: 9.680836\n",
      "Epoch: [120 / 1000], loss: 6.978564\n",
      "Epoch: [140 / 1000], loss: 5.068659\n",
      "Epoch: [160 / 1000], loss: 3.718755\n",
      "Epoch: [180 / 1000], loss: 2.764627\n",
      "Epoch: [200 / 1000], loss: 2.090213\n",
      "Epoch: [220 / 1000], loss: 1.613486\n",
      "Epoch: [240 / 1000], loss: 1.276473\n",
      "Epoch: [260 / 1000], loss: 1.038201\n",
      "Epoch: [280 / 1000], loss: 0.869714\n",
      "Epoch: [300 / 1000], loss: 0.750550\n",
      "Epoch: [320 / 1000], loss: 0.666242\n",
      "Epoch: [340 / 1000], loss: 0.606569\n",
      "Epoch: [360 / 1000], loss: 0.564306\n",
      "Epoch: [380 / 1000], loss: 0.534349\n",
      "Epoch: [400 / 1000], loss: 0.513089\n",
      "Epoch: [420 / 1000], loss: 0.497976\n",
      "Epoch: [440 / 1000], loss: 0.487206\n",
      "Epoch: [460 / 1000], loss: 0.479507\n",
      "Epoch: [480 / 1000], loss: 0.473977\n",
      "Epoch: [500 / 1000], loss: 0.469981\n",
      "Epoch: [520 / 1000], loss: 0.467070\n",
      "Epoch: [540 / 1000], loss: 0.464924\n",
      "Epoch: [560 / 1000], loss: 0.463320\n",
      "Epoch: [580 / 1000], loss: 0.462099\n",
      "Epoch: [600 / 1000], loss: 0.461149\n",
      "Epoch: [620 / 1000], loss: 0.460390\n",
      "Epoch: [640 / 1000], loss: 0.459766\n",
      "Epoch: [660 / 1000], loss: 0.459238\n",
      "Epoch: [680 / 1000], loss: 0.458778\n",
      "Epoch: [700 / 1000], loss: 0.458366\n",
      "Epoch: [720 / 1000], loss: 0.457988\n",
      "Epoch: [740 / 1000], loss: 0.457634\n",
      "Epoch: [760 / 1000], loss: 0.457297\n",
      "Epoch: [780 / 1000], loss: 0.456972\n",
      "Epoch: [800 / 1000], loss: 0.456656\n",
      "Epoch: [820 / 1000], loss: 0.456347\n",
      "Epoch: [840 / 1000], loss: 0.456041\n",
      "Epoch: [860 / 1000], loss: 0.455740\n",
      "Epoch: [880 / 1000], loss: 0.455440\n",
      "Epoch: [900 / 1000], loss: 0.455142\n",
      "Epoch: [920 / 1000], loss: 0.454846\n",
      "Epoch: [940 / 1000], loss: 0.454550\n",
      "Epoch: [960 / 1000], loss: 0.454256\n",
      "Epoch: [980 / 1000], loss: 0.453962\n",
      "Epoch: [1000 / 1000], loss: 0.453669\n"
     ]
    }
   ],
   "source": [
    "for epoch in range(num_epochs):\n",
    "    model.train()\n",
    "    out = model(x_train)\n",
    "    loss = criterion(out, y_train)\n",
    "    optimizer.zero_grad()\n",
    "    loss.backward()\n",
    "    optimizer.step()\n",
    "    if (epoch +1) % 20 == 0:\n",
    "        print(f\"Epoch: [{epoch+1} / {num_epochs}], loss: {loss.item():.6f}\")"
   ]
  },
  {
   "cell_type": "code",
   "execution_count": null,
   "id": "af1545b8-24ac-4a30-a032-d5bbf1e74d96",
   "metadata": {},
   "outputs": [],
   "source": []
  },
  {
   "cell_type": "code",
   "execution_count": null,
   "id": "38268f34-c5f5-4337-9789-51eff5cf46c3",
   "metadata": {},
   "outputs": [],
   "source": []
  },
  {
   "cell_type": "code",
   "execution_count": null,
   "id": "5b6d74c4-7a33-46ca-a622-02edf7e4f910",
   "metadata": {},
   "outputs": [],
   "source": []
  },
  {
   "cell_type": "code",
   "execution_count": null,
   "id": "f9395ee9-81dc-48e8-834c-d74606cd6bb9",
   "metadata": {},
   "outputs": [],
   "source": []
  },
  {
   "cell_type": "code",
   "execution_count": null,
   "id": "e8239f49-e09a-47a9-b1ec-57f161903ab1",
   "metadata": {},
   "outputs": [],
   "source": []
  },
  {
   "cell_type": "code",
   "execution_count": null,
   "id": "12e18838-4433-4d5a-9fff-b3d2732d70d9",
   "metadata": {},
   "outputs": [],
   "source": []
  },
  {
   "cell_type": "code",
   "execution_count": null,
   "id": "7ea7e367-d091-49c1-b373-4ee7dbd762f5",
   "metadata": {},
   "outputs": [],
   "source": []
  },
  {
   "cell_type": "code",
   "execution_count": null,
   "id": "d78562bb-b9a7-461b-b8d2-fb44412040d7",
   "metadata": {},
   "outputs": [],
   "source": []
  },
  {
   "cell_type": "code",
   "execution_count": null,
   "id": "647b59af-8efc-44d0-9cc5-9514d52f98fd",
   "metadata": {},
   "outputs": [],
   "source": [
    "\"\"\"1:37:00 / 2:56:17\"\"\""
   ]
  },
  {
   "cell_type": "markdown",
   "id": "e0fa9cb5-dc61-407a-8307-720798b98699",
   "metadata": {},
   "source": []
  },
  {
   "cell_type": "code",
   "execution_count": null,
   "id": "f85b9f80-b919-465e-a8e7-e7260820f930",
   "metadata": {},
   "outputs": [],
   "source": [
    "a\n",
    "s2+"
   ]
  }
 ],
 "metadata": {
  "kernelspec": {
   "display_name": "Python 3 (ipykernel)",
   "language": "python",
   "name": "python3"
  },
  "language_info": {
   "codemirror_mode": {
    "name": "ipython",
    "version": 3
   },
   "file_extension": ".py",
   "mimetype": "text/x-python",
   "name": "python",
   "nbconvert_exporter": "python",
   "pygments_lexer": "ipython3",
   "version": "3.12.3"
  }
 },
 "nbformat": 4,
 "nbformat_minor": 5
}
