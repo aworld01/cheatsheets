{
 "cells": [
  {
   "cell_type": "code",
   "execution_count": 58,
   "metadata": {},
   "outputs": [],
   "source": [
    "import torch as t"
   ]
  },
  {
   "cell_type": "code",
   "execution_count": 59,
   "metadata": {},
   "outputs": [
    {
     "data": {
      "text/plain": [
       "tensor([3.5873e-43])"
      ]
     },
     "execution_count": 59,
     "metadata": {},
     "output_type": "execute_result"
    }
   ],
   "source": [
    "x = t.empty(1) #1D\n",
    "x"
   ]
  },
  {
   "cell_type": "code",
   "execution_count": 60,
   "metadata": {},
   "outputs": [
    {
     "data": {
      "text/plain": [
       "tensor([0.7940])"
      ]
     },
     "execution_count": 60,
     "metadata": {},
     "output_type": "execute_result"
    }
   ],
   "source": [
    "x = t.rand(1) #1D\n",
    "x"
   ]
  },
  {
   "cell_type": "code",
   "execution_count": 61,
   "metadata": {},
   "outputs": [
    {
     "data": {
      "text/plain": [
       "tensor([[ 1.4013e-45,  0.0000e+00,  0.0000e+00],\n",
       "        [-7.3487e+14,  2.2030e-20, -1.5817e+10],\n",
       "        [ 1.7810e-17, -1.4377e-42, -3.8736e-03],\n",
       "        [ 4.5908e-41,  0.0000e+00,  0.0000e+00],\n",
       "        [ 1.4013e-45,  0.0000e+00,  0.0000e+00]])"
      ]
     },
     "execution_count": 61,
     "metadata": {},
     "output_type": "execute_result"
    }
   ],
   "source": [
    "x = t.empty(5,3) #2D\n",
    "x"
   ]
  },
  {
   "cell_type": "code",
   "execution_count": 62,
   "metadata": {},
   "outputs": [
    {
     "data": {
      "text/plain": [
       "tensor([[[1.4013e-45, 0.0000e+00, 9.9601e-35],\n",
       "         [6.6702e-43, 0.0000e+00, 0.0000e+00],\n",
       "         [0.0000e+00, 0.0000e+00, 1.6922e+25],\n",
       "         [6.6702e-43, 0.0000e+00, 0.0000e+00],\n",
       "         [0.0000e+00, 0.0000e+00, 0.0000e+00]],\n",
       "\n",
       "        [[0.0000e+00, 0.0000e+00, 0.0000e+00],\n",
       "         [0.0000e+00, 0.0000e+00, 0.0000e+00],\n",
       "         [0.0000e+00, 0.0000e+00, 0.0000e+00],\n",
       "         [0.0000e+00, 0.0000e+00, 1.4013e-45],\n",
       "         [0.0000e+00, 0.0000e+00, 0.0000e+00]]])"
      ]
     },
     "execution_count": 62,
     "metadata": {},
     "output_type": "execute_result"
    }
   ],
   "source": [
    "x = t.empty(2,5,3) #3D\n",
    "x"
   ]
  },
  {
   "cell_type": "code",
   "execution_count": 63,
   "metadata": {},
   "outputs": [
    {
     "data": {
      "text/plain": [
       "tensor([[[[ 3.5598e-34,  6.6702e-43,  3.5599e-34],\n",
       "          [ 6.6702e-43, -3.7793e-05,  4.5908e-41],\n",
       "          [-3.7793e-05,  4.5908e-41,  7.8889e-35],\n",
       "          [ 6.6702e-43,  2.9120e-36,  6.6702e-43],\n",
       "          [ 7.8890e-35,  6.6702e-43,  3.5599e-34]],\n",
       "\n",
       "         [[ 6.6702e-43,  3.5599e-34,  6.6702e-43],\n",
       "          [-3.7793e-05,  4.5908e-41,  3.6191e-34],\n",
       "          [ 6.6702e-43,  3.6191e-34,  6.6702e-43],\n",
       "          [ 7.8890e-35,  6.6702e-43,  7.8891e-35],\n",
       "          [ 6.6702e-43, -3.7793e-05,  4.5908e-41]]],\n",
       "\n",
       "\n",
       "        [[[ 3.6191e-34,  6.6702e-43,  3.6059e-34],\n",
       "          [ 6.6702e-43,  2.9103e-36,  6.6702e-43],\n",
       "          [-3.7793e-05,  4.5908e-41, -3.7793e-05],\n",
       "          [ 4.5908e-41,  3.5599e-34,  6.6702e-43],\n",
       "          [ 3.5599e-34,  6.6702e-43,  3.5600e-34]],\n",
       "\n",
       "         [[ 6.6702e-43,  2.9105e-36,  6.6702e-43],\n",
       "          [-3.7793e-05,  4.5908e-41, -3.7793e-05],\n",
       "          [ 4.5908e-41,  3.5600e-34,  6.6702e-43],\n",
       "          [ 3.6192e-34,  6.6702e-43,  3.6059e-34],\n",
       "          [ 6.6702e-43,  2.9108e-36,  6.6702e-43]]]])"
      ]
     },
     "execution_count": 63,
     "metadata": {},
     "output_type": "execute_result"
    }
   ],
   "source": [
    "x = t.empty(2,2,5,3) #4D\n",
    "x"
   ]
  },
  {
   "cell_type": "code",
   "execution_count": 64,
   "metadata": {},
   "outputs": [
    {
     "data": {
      "text/plain": [
       "tensor([[0., 0., 0.],\n",
       "        [0., 0., 0.],\n",
       "        [0., 0., 0.],\n",
       "        [0., 0., 0.],\n",
       "        [0., 0., 0.]])"
      ]
     },
     "execution_count": 64,
     "metadata": {},
     "output_type": "execute_result"
    }
   ],
   "source": [
    "x = t.zeros(5,3)\n",
    "x"
   ]
  },
  {
   "cell_type": "code",
   "execution_count": 65,
   "metadata": {},
   "outputs": [
    {
     "data": {
      "text/plain": [
       "tensor([[1., 1., 1.],\n",
       "        [1., 1., 1.],\n",
       "        [1., 1., 1.],\n",
       "        [1., 1., 1.],\n",
       "        [1., 1., 1.]])"
      ]
     },
     "execution_count": 65,
     "metadata": {},
     "output_type": "execute_result"
    }
   ],
   "source": [
    "x = t.ones(5,3)\n",
    "x"
   ]
  },
  {
   "cell_type": "code",
   "execution_count": 66,
   "metadata": {},
   "outputs": [],
   "source": [
    "x = t.rand(1,2)\n",
    "y = t.rand(2,2)\n",
    "z = x+y"
   ]
  },
  {
   "cell_type": "code",
   "execution_count": 67,
   "metadata": {},
   "outputs": [
    {
     "data": {
      "text/plain": [
       "tensor([[0.5483, 0.7292]])"
      ]
     },
     "execution_count": 67,
     "metadata": {},
     "output_type": "execute_result"
    }
   ],
   "source": [
    "x"
   ]
  },
  {
   "cell_type": "code",
   "execution_count": 68,
   "metadata": {},
   "outputs": [
    {
     "data": {
      "text/plain": [
       "tensor([[0.4583, 0.1062],\n",
       "        [0.2540, 0.8316]])"
      ]
     },
     "execution_count": 68,
     "metadata": {},
     "output_type": "execute_result"
    }
   ],
   "source": [
    "y"
   ]
  },
  {
   "cell_type": "code",
   "execution_count": 69,
   "metadata": {},
   "outputs": [
    {
     "data": {
      "text/plain": [
       "tensor([[1.0066, 0.8354],\n",
       "        [0.8023, 1.5608]])"
      ]
     },
     "execution_count": 69,
     "metadata": {},
     "output_type": "execute_result"
    }
   ],
   "source": [
    "z"
   ]
  },
  {
   "cell_type": "code",
   "execution_count": 70,
   "metadata": {},
   "outputs": [
    {
     "data": {
      "text/plain": [
       "tensor([[0.2453, 0.7188],\n",
       "        [0.7593, 0.3908],\n",
       "        [0.1705, 0.4381],\n",
       "        [0.6888, 0.1356],\n",
       "        [0.4252, 0.3395]])"
      ]
     },
     "execution_count": 70,
     "metadata": {},
     "output_type": "execute_result"
    }
   ],
   "source": [
    "x = t.rand(5,2)\n",
    "x"
   ]
  },
  {
   "cell_type": "code",
   "execution_count": 71,
   "metadata": {},
   "outputs": [
    {
     "data": {
      "text/plain": [
       "tensor([0.2453, 0.7188, 0.7593, 0.3908, 0.1705, 0.4381, 0.6888, 0.1356, 0.4252,\n",
       "        0.3395])"
      ]
     },
     "execution_count": 71,
     "metadata": {},
     "output_type": "execute_result"
    }
   ],
   "source": [
    "y = x.view(10) #to convert into 1D (the number should be == all element of x) like reshape in numpy\n",
    "y"
   ]
  },
  {
   "cell_type": "code",
   "execution_count": 72,
   "metadata": {},
   "outputs": [
    {
     "data": {
      "text/plain": [
       "tensor([[0.2453, 0.7188, 0.7593, 0.3908, 0.1705],\n",
       "        [0.4381, 0.6888, 0.1356, 0.4252, 0.3395]])"
      ]
     },
     "execution_count": 72,
     "metadata": {},
     "output_type": "execute_result"
    }
   ],
   "source": [
    "y = x.view(-1,5) #to make 2D array\n",
    "y"
   ]
  },
  {
   "cell_type": "code",
   "execution_count": 73,
   "metadata": {},
   "outputs": [
    {
     "data": {
      "text/plain": [
       "tensor([[0.3813, 0.3286, 0.4848, 0.4822, 0.9881, 0.2212],\n",
       "        [0.7930, 0.0206, 0.6274, 0.3428, 0.0064, 0.2200]])"
      ]
     },
     "execution_count": 73,
     "metadata": {},
     "output_type": "execute_result"
    }
   ],
   "source": [
    "x = t.rand(2,6)\n",
    "x"
   ]
  },
  {
   "cell_type": "code",
   "execution_count": 74,
   "metadata": {},
   "outputs": [
    {
     "data": {
      "text/plain": [
       "tensor([[0.3813, 0.3286, 0.4848, 0.4822],\n",
       "        [0.9881, 0.2212, 0.7930, 0.0206],\n",
       "        [0.6274, 0.3428, 0.0064, 0.2200]])"
      ]
     },
     "execution_count": 74,
     "metadata": {},
     "output_type": "execute_result"
    }
   ],
   "source": [
    "y = x.view(3,4)\n",
    "y"
   ]
  }
 ],
 "metadata": {
  "kernelspec": {
   "display_name": "Python 3",
   "language": "python",
   "name": "python3"
  },
  "language_info": {
   "codemirror_mode": {
    "name": "ipython",
    "version": 3
   },
   "file_extension": ".py",
   "mimetype": "text/x-python",
   "name": "python",
   "nbconvert_exporter": "python",
   "pygments_lexer": "ipython3",
   "version": "3.11.1"
  },
  "orig_nbformat": 4
 },
 "nbformat": 4,
 "nbformat_minor": 2
}
