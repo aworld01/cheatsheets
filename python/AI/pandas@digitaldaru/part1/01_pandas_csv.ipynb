{
 "cells": [
  {
   "cell_type": "code",
   "execution_count": null,
   "metadata": {},
   "outputs": [],
   "source": [
    "\"\"\"\n",
    "use pandas only use for structured Data otherwise don't use it\n",
    "\n",
    "df = dataFrame\n",
    "csv = comma seperated value\n",
    "xlsx = excel file\n",
    "\n",
    "Reading different file formats with Pandas:\n",
    "    df = pd.read_csv(file_csv) #to read csv file\n",
    "    df = pd.read_json(file_xlsx) #to read json file\n",
    "    df = pd.read_html(file_html) #to read html file\n",
    "    df = pd.read_excel(file_xlsx) #to read excel file\n",
    "\n",
    "    print(df.sheet_names) #to check available sheets (only for excel file)\n",
    "    df = pd.read_excel(file_xlsx, sheet_name=\"survivors\") #if sheets are available\n",
    "\n",
    "\"\"\""
   ]
  },
  {
   "cell_type": "code",
   "execution_count": 1,
   "metadata": {},
   "outputs": [],
   "source": [
    "import pandas as pd #pip install pandas\n",
    "\n",
    "file_csv = r\"titanic.csv\" #for csv file"
   ]
  },
  {
   "cell_type": "code",
   "execution_count": 2,
   "metadata": {},
   "outputs": [
    {
     "name": "stdout",
     "output_type": "stream",
     "text": [
      "   PassengerId  Survived  Pclass  \\\n",
      "0            1         0       3   \n",
      "1            2         1       1   \n",
      "2            3         1       3   \n",
      "3            4         1       1   \n",
      "\n",
      "                                                Name     Sex   Age  SibSp  \\\n",
      "0                            Braund, Mr. Owen Harris    male  22.0      1   \n",
      "1  Cumings, Mrs. John Bradley (Florence Briggs Th...  female  38.0      1   \n",
      "2                             Heikkinen, Miss. Laina  female  26.0      0   \n",
      "3       Futrelle, Mrs. Jacques Heath (Lily May Peel)  female  35.0      1   \n",
      "\n",
      "   Parch            Ticket     Fare Cabin Embarked  \n",
      "0      0         A/5 21171   7.2500   NaN        S  \n",
      "1      0          PC 17599  71.2833   C85        C  \n",
      "2      0  STON/O2. 3101282   7.9250   NaN        S  \n",
      "3      0            113803  53.1000  C123        S  \n"
     ]
    }
   ],
   "source": [
    "df = pd.read_csv(file_csv)\n",
    "head = df.head() #to read only five rows from top\n",
    "tail = df.tail() #to read only five rows from bottom\n",
    "head4 = df.head(4) #to read desired numbers of rows from top\n",
    "\n",
    "# print(df)\n",
    "# print(tail)\n",
    "print(head4)"
   ]
  }
 ],
 "metadata": {
  "kernelspec": {
   "display_name": "Python 3",
   "language": "python",
   "name": "python3"
  },
  "language_info": {
   "codemirror_mode": {
    "name": "ipython",
    "version": 3
   },
   "file_extension": ".py",
   "mimetype": "text/x-python",
   "name": "python",
   "nbconvert_exporter": "python",
   "pygments_lexer": "ipython3",
   "version": "3.11.1"
  },
  "orig_nbformat": 4
 },
 "nbformat": 4,
 "nbformat_minor": 2
}
