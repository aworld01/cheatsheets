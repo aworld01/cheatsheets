{
 "cells": [
  {
   "cell_type": "code",
   "execution_count": 1,
   "metadata": {},
   "outputs": [],
   "source": [
    "\"\"\"\n",
    "df = pd.read_csv(file, header=None) #to give header in numbers\n",
    "\n",
    "names = [\"PassengerID\", \"Survived\", \"Pclass\", \"Name\", \"Sex\", \"Age\", \"SibSp\", \"Parch\", \"Ticket\", \"Fare\", \"Cabin\", \"Embarked\"]\n",
    "df = pd.read_csv(file, names=names) to give column names\n",
    "\n",
    "df = pd.read_csv(file, sep=\"@\") #to read file with any specific seperator\n",
    "\n",
    "df = pd.read_csv(file, skiprows=[2, 4, 6]) #to skip rows\n",
    "\n",
    "07:35 / 16:57\n",
    "\"\"\"\n",
    "import pandas as pd"
   ]
  },
  {
   "cell_type": "code",
   "execution_count": 3,
   "metadata": {},
   "outputs": [
    {
     "name": "stdout",
     "output_type": "stream",
     "text": [
      "   PassengerId  Survived  Pclass  \\\n",
      "0            1         0       3   \n",
      "1            2         1       1   \n",
      "2            3         1       3   \n",
      "3            4         1       1   \n",
      "4            5         0       3   \n",
      "\n",
      "                                                Name     Sex   Age  SibSp  \\\n",
      "0                            Braund, Mr. Owen Harris    male  22.0      1   \n",
      "1  Cumings, Mrs. John Bradley (Florence Briggs Th...  female  38.0      1   \n",
      "2                             Heikkinen, Miss. Laina  female  26.0      0   \n",
      "3       Futrelle, Mrs. Jacques Heath (Lily May Peel)  female  35.0      1   \n",
      "4                           Allen, Mr. William Henry    male  35.0      0   \n",
      "\n",
      "   Parch            Ticket     Fare Cabin Embarked  \n",
      "0      0         A/5 21171   7.2500   NaN        S  \n",
      "1      0          PC 17599  71.2833   C85        C  \n",
      "2      0  STON/O2. 3101282   7.9250   NaN        S  \n",
      "3      0            113803  53.1000  C123        S  \n",
      "4      0            373450   8.0500   NaN        S  \n"
     ]
    }
   ],
   "source": [
    "file = \"titanic.csv\"\n",
    "df = pd.read_csv(file)\n",
    "\n",
    "print(df.head())"
   ]
  },
  {
   "cell_type": "code",
   "execution_count": 6,
   "metadata": {},
   "outputs": [
    {
     "name": "stdout",
     "output_type": "stream",
     "text": [
      "            0         1       2   \\\n",
      "0  PassengerId  Survived  Pclass   \n",
      "1            1         0       3   \n",
      "2            2         1       1   \n",
      "3            3         1       3   \n",
      "4            4         1       1   \n",
      "\n",
      "                                                  3       4    5      6   \\\n",
      "0                                               Name     Sex  Age  SibSp   \n",
      "1                            Braund, Mr. Owen Harris    male   22      1   \n",
      "2  Cumings, Mrs. John Bradley (Florence Briggs Th...  female   38      1   \n",
      "3                             Heikkinen, Miss. Laina  female   26      0   \n",
      "4       Futrelle, Mrs. Jacques Heath (Lily May Peel)  female   35      1   \n",
      "\n",
      "      7                 8        9      10        11  \n",
      "0  Parch            Ticket     Fare  Cabin  Embarked  \n",
      "1      0         A/5 21171     7.25    NaN         S  \n",
      "2      0          PC 17599  71.2833    C85         C  \n",
      "3      0  STON/O2. 3101282    7.925    NaN         S  \n",
      "4      0            113803     53.1   C123         S  \n"
     ]
    }
   ],
   "source": [
    "df = pd.read_csv(file, header=None) #to give header into numbers\n",
    "print(df.head())"
   ]
  },
  {
   "cell_type": "code",
   "execution_count": 9,
   "metadata": {},
   "outputs": [
    {
     "name": "stdout",
     "output_type": "stream",
     "text": [
      "   PassengerID  Survived  Pclass  \\\n",
      "0  PassengerId  Survived  Pclass   \n",
      "1            1         0       3   \n",
      "2            2         1       1   \n",
      "3            3         1       3   \n",
      "4            4         1       1   \n",
      "\n",
      "                                                Name     Sex  Age  SibSp  \\\n",
      "0                                               Name     Sex  Age  SibSp   \n",
      "1                            Braund, Mr. Owen Harris    male   22      1   \n",
      "2  Cumings, Mrs. John Bradley (Florence Briggs Th...  female   38      1   \n",
      "3                             Heikkinen, Miss. Laina  female   26      0   \n",
      "4       Futrelle, Mrs. Jacques Heath (Lily May Peel)  female   35      1   \n",
      "\n",
      "   Parch            Ticket     Fare  Cabin  Embarked  \n",
      "0  Parch            Ticket     Fare  Cabin  Embarked  \n",
      "1      0         A/5 21171     7.25    NaN         S  \n",
      "2      0          PC 17599  71.2833    C85         C  \n",
      "3      0  STON/O2. 3101282    7.925    NaN         S  \n",
      "4      0            113803     53.1   C123         S  \n"
     ]
    }
   ],
   "source": [
    "names = [\"PassengerID\", \"Survived\", \"Pclass\", \"Name\", \"Sex\", \"Age\", \"SibSp\", \"Parch\", \"Ticket\", \"Fare\", \"Cabin\", \"Embarked\"]\n",
    "df = pd.read_csv(file, names=names)\n",
    "print(df.head())"
   ]
  },
  {
   "cell_type": "code",
   "execution_count": 19,
   "metadata": {},
   "outputs": [
    {
     "name": "stdout",
     "output_type": "stream",
     "text": [
      "   PassengerId  Survived  Pclass                            Name     Sex  \\\n",
      "0            1         0       3         Braund, Mr. Owen Harris    male   \n",
      "1            3         1       3          Heikkinen, Miss. Laina  female   \n",
      "2            5         0       3        Allen, Mr. William Henry    male   \n",
      "3            7         0       1         McCarthy, Mr. Timothy J    male   \n",
      "4            8         0       3  Palsson, Master. Gosta Leonard    male   \n",
      "\n",
      "    Age  SibSp  Parch            Ticket     Fare Cabin Embarked  \n",
      "0  22.0      1      0         A/5 21171   7.2500   NaN        S  \n",
      "1  26.0      0      0  STON/O2. 3101282   7.9250   NaN        S  \n",
      "2  35.0      0      0            373450   8.0500   NaN        S  \n",
      "3  54.0      0      0             17463  51.8625   E46        S  \n",
      "4   2.0      3      1            349909  21.0750   NaN        S  \n"
     ]
    }
   ],
   "source": [
    "df = pd.read_csv(file, skiprows=[2, 4, 6])\n",
    "print(df.head())"
   ]
  },
  {
   "cell_type": "code",
   "execution_count": null,
   "metadata": {},
   "outputs": [],
   "source": []
  }
 ],
 "metadata": {
  "kernelspec": {
   "display_name": "Python 3",
   "language": "python",
   "name": "python3"
  },
  "language_info": {
   "codemirror_mode": {
    "name": "ipython",
    "version": 3
   },
   "file_extension": ".py",
   "mimetype": "text/x-python",
   "name": "python",
   "nbconvert_exporter": "python",
   "pygments_lexer": "ipython3",
   "version": "3.11.1"
  },
  "orig_nbformat": 4
 },
 "nbformat": 4,
 "nbformat_minor": 2
}
