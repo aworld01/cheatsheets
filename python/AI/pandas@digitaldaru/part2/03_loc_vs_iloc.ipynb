{
 "cells": [
  {
   "cell_type": "code",
   "execution_count": 1,
   "metadata": {},
   "outputs": [
    {
     "name": "stdout",
     "output_type": "stream",
     "text": [
      "   PassengerId  Survived  Pclass  \\\n",
      "0            1         0       3   \n",
      "1            2         1       1   \n",
      "2            3         1       3   \n",
      "3            4         1       1   \n",
      "4            5         0       3   \n",
      "\n",
      "                                                Name     Sex   Age  SibSp  \\\n",
      "0                            Braund, Mr. Owen Harris    male  22.0      1   \n",
      "1  Cumings, Mrs. John Bradley (Florence Briggs Th...  female  38.0      1   \n",
      "2                             Heikkinen, Miss. Laina  female  26.0      0   \n",
      "3       Futrelle, Mrs. Jacques Heath (Lily May Peel)  female  35.0      1   \n",
      "4                           Allen, Mr. William Henry    male  35.0      0   \n",
      "\n",
      "   Parch            Ticket     Fare Cabin Embarked  \n",
      "0      0         A/5 21171   7.2500   NaN        S  \n",
      "1      0          PC 17599  71.2833   C85        C  \n",
      "2      0  STON/O2. 3101282   7.9250   NaN        S  \n",
      "3      0            113803  53.1000  C123        S  \n",
      "4      0            373450   8.0500   NaN        S  \n"
     ]
    }
   ],
   "source": [
    "import pandas as pd\n",
    "\n",
    "file = \"titanic.csv\"\n",
    "df = pd.read_csv(file)\n",
    "\n",
    "print(df.head())"
   ]
  },
  {
   "cell_type": "code",
   "execution_count": 2,
   "metadata": {},
   "outputs": [
    {
     "name": "stdout",
     "output_type": "stream",
     "text": [
      "     PassengerId  Survived  Pclass  \\\n",
      "0              1         0       3   \n",
      "1              2         1       1   \n",
      "2              3         1       3   \n",
      "3              4         1       1   \n",
      "4              5         0       3   \n",
      "..           ...       ...     ...   \n",
      "886          887         0       2   \n",
      "887          888         1       1   \n",
      "888          889         0       3   \n",
      "889          890         1       1   \n",
      "890          891         0       3   \n",
      "\n",
      "                                                  Name  \n",
      "0                              Braund, Mr. Owen Harris  \n",
      "1    Cumings, Mrs. John Bradley (Florence Briggs Th...  \n",
      "2                               Heikkinen, Miss. Laina  \n",
      "3         Futrelle, Mrs. Jacques Heath (Lily May Peel)  \n",
      "4                             Allen, Mr. William Henry  \n",
      "..                                                 ...  \n",
      "886                              Montvila, Rev. Juozas  \n",
      "887                       Graham, Miss. Margaret Edith  \n",
      "888           Johnston, Miss. Catherine Helen \"Carrie\"  \n",
      "889                              Behr, Mr. Karl Howell  \n",
      "890                                Dooley, Mr. Patrick  \n",
      "\n",
      "[891 rows x 4 columns]\n"
     ]
    }
   ],
   "source": [
    "\"\"\"Loc\"\"\"\n",
    "x = df.loc[:, \"PassengerId\":\"Name\"] #to select specific columns\n",
    "print(x)"
   ]
  },
  {
   "cell_type": "code",
   "execution_count": 3,
   "metadata": {},
   "outputs": [
    {
     "name": "stdout",
     "output_type": "stream",
     "text": [
      "[[1 0 3 'Braund, Mr. Owen Harris']\n",
      " [2 1 1 'Cumings, Mrs. John Bradley (Florence Briggs Thayer)']\n",
      " [3 1 3 'Heikkinen, Miss. Laina']\n",
      " ...\n",
      " [889 0 3 'Johnston, Miss. Catherine Helen \"Carrie\"']\n",
      " [890 1 1 'Behr, Mr. Karl Howell']\n",
      " [891 0 3 'Dooley, Mr. Patrick']]\n"
     ]
    }
   ],
   "source": [
    "x = df.loc[:, \"PassengerId\":\"Name\"].values #to convert column name into numpy array\n",
    "print(x)"
   ]
  },
  {
   "cell_type": "code",
   "execution_count": 4,
   "metadata": {},
   "outputs": [
    {
     "name": "stdout",
     "output_type": "stream",
     "text": [
      "   PassengerId  Survived  Pclass  \\\n",
      "0            1         0       3   \n",
      "1            2         1       1   \n",
      "2            3         1       3   \n",
      "3            4         1       1   \n",
      "\n",
      "                                                Name  \n",
      "0                            Braund, Mr. Owen Harris  \n",
      "1  Cumings, Mrs. John Bradley (Florence Briggs Th...  \n",
      "2                             Heikkinen, Miss. Laina  \n",
      "3       Futrelle, Mrs. Jacques Heath (Lily May Peel)  \n"
     ]
    }
   ],
   "source": [
    "x = df.loc[0:3, \"PassengerId\":\"Name\"]\n",
    "print(x)"
   ]
  },
  {
   "cell_type": "code",
   "execution_count": 5,
   "metadata": {},
   "outputs": [
    {
     "name": "stdout",
     "output_type": "stream",
     "text": [
      "     PassengerId  Survived  Pclass  \\\n",
      "0              1         0       3   \n",
      "1              2         1       1   \n",
      "2              3         1       3   \n",
      "3              4         1       1   \n",
      "4              5         0       3   \n",
      "..           ...       ...     ...   \n",
      "886          887         0       2   \n",
      "887          888         1       1   \n",
      "888          889         0       3   \n",
      "889          890         1       1   \n",
      "890          891         0       3   \n",
      "\n",
      "                                                  Name     Sex   Age  \n",
      "0                              Braund, Mr. Owen Harris    male  22.0  \n",
      "1    Cumings, Mrs. John Bradley (Florence Briggs Th...  female  38.0  \n",
      "2                               Heikkinen, Miss. Laina  female  26.0  \n",
      "3         Futrelle, Mrs. Jacques Heath (Lily May Peel)  female  35.0  \n",
      "4                             Allen, Mr. William Henry    male  35.0  \n",
      "..                                                 ...     ...   ...  \n",
      "886                              Montvila, Rev. Juozas    male  27.0  \n",
      "887                       Graham, Miss. Margaret Edith  female  19.0  \n",
      "888           Johnston, Miss. Catherine Helen \"Carrie\"  female   NaN  \n",
      "889                              Behr, Mr. Karl Howell    male  26.0  \n",
      "890                                Dooley, Mr. Patrick    male  32.0  \n",
      "\n",
      "[891 rows x 6 columns]\n"
     ]
    }
   ],
   "source": [
    "\"\"\"iLoc\"\"\"\n",
    "print(df.iloc[:, 0:6]) #df.iloc[:, startingColumns:endingColumns]"
   ]
  }
 ],
 "metadata": {
  "kernelspec": {
   "display_name": "Python 3",
   "language": "python",
   "name": "python3"
  },
  "language_info": {
   "codemirror_mode": {
    "name": "ipython",
    "version": 3
   },
   "file_extension": ".py",
   "mimetype": "text/x-python",
   "name": "python",
   "nbconvert_exporter": "python",
   "pygments_lexer": "ipython3",
   "version": "3.11.1"
  },
  "orig_nbformat": 4
 },
 "nbformat": 4,
 "nbformat_minor": 2
}
