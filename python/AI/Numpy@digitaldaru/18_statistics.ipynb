{
 "cells": [
  {
   "cell_type": "code",
   "execution_count": 2,
   "metadata": {},
   "outputs": [],
   "source": [
    "import numpy as np"
   ]
  },
  {
   "cell_type": "code",
   "execution_count": 10,
   "metadata": {},
   "outputs": [
    {
     "name": "stdout",
     "output_type": "stream",
     "text": [
      "1\n",
      "3\n",
      "[2. 5.]\n",
      "1.9148542155126762\n"
     ]
    }
   ],
   "source": [
    "a = np.array([1, 2, 3, 1])\n",
    "b = np.array([[1, 2, 3], [5, 6, 1]])\n",
    "\n",
    "print(np.min(a))\n",
    "print(np.max(a))\n",
    "print(np.median(b, axis=-1)) #last axis\n",
    "print(b.std()) #full population standard dev."
   ]
  }
 ],
 "metadata": {
  "kernelspec": {
   "display_name": "Python 3",
   "language": "python",
   "name": "python3"
  },
  "language_info": {
   "codemirror_mode": {
    "name": "ipython",
    "version": 3
   },
   "file_extension": ".py",
   "mimetype": "text/x-python",
   "name": "python",
   "nbconvert_exporter": "python",
   "pygments_lexer": "ipython3",
   "version": "3.11.1"
  },
  "orig_nbformat": 4
 },
 "nbformat": 4,
 "nbformat_minor": 2
}
