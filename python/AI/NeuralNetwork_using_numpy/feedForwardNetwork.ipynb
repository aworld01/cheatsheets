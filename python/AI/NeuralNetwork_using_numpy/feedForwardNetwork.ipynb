{
 "cells": [
  {
   "cell_type": "code",
   "execution_count": 5,
   "id": "7593c9e6-ad5f-490a-ad20-11aa7a8144f9",
   "metadata": {},
   "outputs": [],
   "source": [
    "import numpy as np"
   ]
  },
  {
   "cell_type": "code",
   "execution_count": 9,
   "id": "a3a19bc8-a839-4ecb-baf1-bdd0bdb4a1e0",
   "metadata": {},
   "outputs": [],
   "source": [
    "x = np.array([\n",
    "    [1,0,1,0],\n",
    "    [1,0,1,1],\n",
    "    [0,1,0,1]\n",
    "])\n",
    "y = np.array([[1],[1],[0]])"
   ]
  },
  {
   "cell_type": "code",
   "execution_count": 13,
   "id": "2b57f1ba-f3fc-41ef-8f8a-4128ca26b513",
   "metadata": {},
   "outputs": [
    {
     "name": "stdout",
     "output_type": "stream",
     "text": [
      "[[1 0 1 0]\n",
      " [1 0 1 1]\n",
      " [0 1 0 1]]\n",
      "\n",
      "[[1]\n",
      " [1]\n",
      " [0]]\n"
     ]
    }
   ],
   "source": [
    "print(x)\n",
    "print()\n",
    "print(y)"
   ]
  },
  {
   "cell_type": "code",
   "execution_count": 18,
   "id": "fde31291-a292-40f9-b1a4-4aa6fb49f034",
   "metadata": {},
   "outputs": [
    {
     "data": {
      "text/plain": [
       "(3, 4)"
      ]
     },
     "execution_count": 18,
     "metadata": {},
     "output_type": "execute_result"
    }
   ],
   "source": [
    "x.shape #(numRows, numColumns)"
   ]
  },
  {
   "cell_type": "markdown",
   "id": "098e74f5-db6a-4911-a485-8a1b3b4f3602",
   "metadata": {},
   "source": [
    "<h3>input layer neurons will be equals to the numbers of columns</h3>"
   ]
  },
  {
   "cell_type": "code",
   "execution_count": 41,
   "id": "45429591-6db9-4bb2-b4ec-32bca8030d2d",
   "metadata": {},
   "outputs": [
    {
     "data": {
      "text/plain": [
       "4"
      ]
     },
     "execution_count": 41,
     "metadata": {},
     "output_type": "execute_result"
    }
   ],
   "source": [
    "inputNeurons = x.shape[1] #to get No. of columns\n",
    "inputNeurons"
   ]
  },
  {
   "cell_type": "markdown",
   "id": "782e7f80-cbe1-4830-8a42-32b20527b2ed",
   "metadata": {},
   "source": [
    "<h3>hidden layer neurons we can decide by hit and trial</h3>"
   ]
  },
  {
   "cell_type": "code",
   "execution_count": 44,
   "id": "1bc84a6b-7346-4121-b12e-908b42151b70",
   "metadata": {},
   "outputs": [],
   "source": [
    "hiddenNeurons = 4"
   ]
  },
  {
   "cell_type": "markdown",
   "id": "fd8e4b9c-5dac-4872-8999-2b1206d91920",
   "metadata": {},
   "source": [
    "<h3>output layer neuron depends on number of classes we have in target columns</h3>"
   ]
  },
  {
   "cell_type": "code",
   "execution_count": 47,
   "id": "dc07ec8b-7a3b-496b-9f37-55f46fd35c69",
   "metadata": {},
   "outputs": [],
   "source": [
    "outputNeuron = 1"
   ]
  },
  {
   "cell_type": "code",
   "execution_count": 49,
   "id": "1239d8df-be2e-4bac-ad4e-439232ba2370",
   "metadata": {},
   "outputs": [],
   "source": [
    "hiddenWeights = np.random.uniform(size=(inputNeurons,hiddenNeurons))"
   ]
  },
  {
   "cell_type": "code",
   "execution_count": 51,
   "id": "5086c6a0-47ca-48e6-bf41-a342b622cadb",
   "metadata": {},
   "outputs": [],
   "source": [
    "hiddenBias = np.random.uniform(size=(1,hiddenNeurons))"
   ]
  },
  {
   "cell_type": "code",
   "execution_count": 55,
   "id": "cae640c8-5d45-438d-b93b-5ded790b29ff",
   "metadata": {},
   "outputs": [],
   "source": [
    "outputWeights = np.random.uniform(size=(hiddenNeurons,outputNeuron))"
   ]
  },
  {
   "cell_type": "code",
   "execution_count": 57,
   "id": "ca9787a3-3ac2-4868-8252-1883d251dbfe",
   "metadata": {},
   "outputs": [],
   "source": [
    "outputBias = np.random.uniform(size=(1,outputNeuron))"
   ]
  },
  {
   "cell_type": "markdown",
   "id": "07936912-ab40-4094-9073-574466d5a400",
   "metadata": {},
   "source": [
    "<h2>Feedforward Network</h2>"
   ]
  },
  {
   "cell_type": "markdown",
   "id": "ae66dd23-c99b-476b-93d5-b600ec7c7419",
   "metadata": {},
   "source": [
    "<h3>step1=> apply dot product and add bias for hidden layer: x.hW+hB</h3>"
   ]
  },
  {
   "cell_type": "code",
   "execution_count": 114,
   "id": "6ae02232-011a-4b2a-a278-e7e5dbdc2ca0",
   "metadata": {},
   "outputs": [
    {
     "data": {
      "text/plain": [
       "array([[0.9429891 , 1.1143779 , 0.83551259, 1.41147099],\n",
       "       [1.82912642, 1.33696111, 0.86861731, 2.22711387],\n",
       "       [1.90441533, 0.8604878 , 0.73554074, 1.68112193]])"
      ]
     },
     "execution_count": 114,
     "metadata": {},
     "output_type": "execute_result"
    }
   ],
   "source": [
    "fx = np.dot(x,hiddenWeights)+hiddenBias\n",
    "fx"
   ]
  },
  {
   "cell_type": "markdown",
   "id": "cac06ca5-2fd3-4732-991a-b93bd055b89d",
   "metadata": {},
   "source": [
    "<h3>Define sigmoid Activation function</h3>"
   ]
  },
  {
   "cell_type": "code",
   "execution_count": 117,
   "id": "15171ba1-ff9e-4b56-b4f7-e452449afc02",
   "metadata": {},
   "outputs": [],
   "source": [
    "def sigmoid(x):\n",
    "    return 1/(1+np.exp(-x))"
   ]
  },
  {
   "cell_type": "markdown",
   "id": "f9467e3d-eb8a-42ee-abde-15783c5eea8c",
   "metadata": {},
   "source": [
    "<h3>step2=> apply activation function for hiddenLayer</h3>"
   ]
  },
  {
   "cell_type": "code",
   "execution_count": 130,
   "id": "9b4baf56-4eb9-426f-bcdb-009de41564f6",
   "metadata": {},
   "outputs": [
    {
     "data": {
      "text/plain": [
       "array([[0.71970305, 0.75294439, 0.69751928, 0.80399785],\n",
       "       [0.86165763, 0.79198975, 0.70445791, 0.90265806],\n",
       "       [0.87039044, 0.70276256, 0.67601997, 0.84305304]])"
      ]
     },
     "execution_count": 130,
     "metadata": {},
     "output_type": "execute_result"
    }
   ],
   "source": [
    "hiddenLayer = sigmoid(fx)\n",
    "hiddenLayer"
   ]
  },
  {
   "cell_type": "markdown",
   "id": "bd954f9a-311b-4b0d-9a76-4a26aa4105e0",
   "metadata": {},
   "source": [
    "<h3>step3=> apply dot product and add bias for output layer: hiddenLayer.oW+oB</h3>"
   ]
  },
  {
   "cell_type": "code",
   "execution_count": 133,
   "id": "e38cd883-84e6-47f8-8daa-08f17b5d440d",
   "metadata": {},
   "outputs": [
    {
     "data": {
      "text/plain": [
       "array([[1.67466385],\n",
       "       [1.75556398],\n",
       "       [1.70575918]])"
      ]
     },
     "execution_count": 133,
     "metadata": {},
     "output_type": "execute_result"
    }
   ],
   "source": [
    "fx_ = np.dot(hiddenLayer,outputWeights)+outputBias\n",
    "fx_"
   ]
  },
  {
   "cell_type": "markdown",
   "id": "132a5878-0333-4275-9f22-85bae3f45308",
   "metadata": {},
   "source": [
    "<h3>step4=> apply activation function for outputLayer</h3>"
   ]
  },
  {
   "cell_type": "code",
   "execution_count": 137,
   "id": "07c0e724-925d-4bce-bded-148ce1393cef",
   "metadata": {},
   "outputs": [
    {
     "data": {
      "text/plain": [
       "array([[0.84219664],\n",
       "       [0.85265321],\n",
       "       [0.84628542]])"
      ]
     },
     "execution_count": 137,
     "metadata": {},
     "output_type": "execute_result"
    }
   ],
   "source": [
    "outputLayer = sigmoid(fx_)\n",
    "outputLayer"
   ]
  }
 ],
 "metadata": {
  "kernelspec": {
   "display_name": "Python [conda env:base] *",
   "language": "python",
   "name": "conda-base-py"
  },
  "language_info": {
   "codemirror_mode": {
    "name": "ipython",
    "version": 3
   },
   "file_extension": ".py",
   "mimetype": "text/x-python",
   "name": "python",
   "nbconvert_exporter": "python",
   "pygments_lexer": "ipython3",
   "version": "3.12.7"
  }
 },
 "nbformat": 4,
 "nbformat_minor": 5
}
