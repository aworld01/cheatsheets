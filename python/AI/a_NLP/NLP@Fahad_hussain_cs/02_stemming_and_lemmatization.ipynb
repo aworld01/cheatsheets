{
 "cells": [
  {
   "cell_type": "code",
   "execution_count": 1,
   "metadata": {},
   "outputs": [],
   "source": [
    "import spacy\n"
   ]
  },
  {
   "cell_type": "code",
   "execution_count": 2,
   "metadata": {},
   "outputs": [],
   "source": [
    "nlp = spacy.load(\"en_core_web_sm\")"
   ]
  },
  {
   "cell_type": "code",
   "execution_count": 8,
   "metadata": {},
   "outputs": [
    {
     "name": "stdout",
     "output_type": "stream",
     "text": [
      "We\n",
      "'re\n",
      "here\n",
      "to\n",
      "help\n",
      "!\n",
      "Send\n",
      "snail\n",
      "-\n",
      "mail\n",
      ",\n",
      "email\n",
      "fahad@gmail.com\n",
      "or\n",
      "visit\n",
      "us\n",
      "at\n",
      "http://www.fahadhussaincs.blogspot.com\n"
     ]
    }
   ],
   "source": [
    "doc1 = nlp(u\"We're here to help! Send snail-mail, email fahad@gmail.com or visit us at http://www.fahadhussaincs.blogspot.com\")\n",
    "for t in doc1:\n",
    "    print(t)"
   ]
  },
  {
   "cell_type": "code",
   "execution_count": 9,
   "metadata": {},
   "outputs": [
    {
     "name": "stdout",
     "output_type": "stream",
     "text": [
      "A\n",
      "5KM\n",
      "NYC\n",
      "cab\n",
      "ride\n",
      "costs\n",
      "$\n",
      "10.30\n"
     ]
    }
   ],
   "source": [
    "doc2 = nlp(u\"A 5KM NYC cab ride costs $10.30\")\n",
    "for t in doc2:\n",
    "    print(t)"
   ]
  },
  {
   "cell_type": "code",
   "execution_count": 10,
   "metadata": {},
   "outputs": [
    {
     "name": "stdout",
     "output_type": "stream",
     "text": [
      "Let\n",
      "'s\n",
      "visit\n",
      "St.\n",
      "Louis\n",
      "in\n",
      "the\n",
      "U.S.\n",
      "next\n",
      "year\n",
      ".\n"
     ]
    }
   ],
   "source": [
    "doc3 = nlp(u\"Let's visit St. Louis in the U.S. next year.\")\n",
    "for t in doc3:\n",
    "    print(t)"
   ]
  },
  {
   "cell_type": "code",
   "execution_count": 16,
   "metadata": {},
   "outputs": [],
   "source": [
    "# Import the toolkit and the full Porter Stemmer library\n",
    "import nltk\n",
    "from nltk.stem.porter import*\n",
    "\n",
    "p_stemmer = PorterStemmer()"
   ]
  },
  {
   "cell_type": "code",
   "execution_count": 17,
   "metadata": {},
   "outputs": [
    {
     "name": "stdout",
     "output_type": "stream",
     "text": [
      "run ---> run\n",
      "runner ---> runner\n",
      "running ---> run\n",
      "ran ---> ran\n",
      "runs ---> run\n",
      "easily ---> easili\n",
      "fairly ---> fairli\n"
     ]
    }
   ],
   "source": [
    "words = [\"run\", \"runner\", \"running\", \"ran\", \"runs\", \"easily\", \"fairly\"]\n",
    "for word in words:\n",
    "    print(f\"{word} ---> {p_stemmer.stem(word)}\")\n"
   ]
  },
  {
   "cell_type": "code",
   "execution_count": 18,
   "metadata": {},
   "outputs": [],
   "source": [
    "#SnowballStemmer\n",
    "from nltk.stem.snowball import SnowballStemmer\n",
    "#The Snowball Stemmer requires that you pass a language parameter\n",
    "s_stemmer = SnowballStemmer(language=\"english\")"
   ]
  },
  {
   "cell_type": "code",
   "execution_count": 19,
   "metadata": {},
   "outputs": [
    {
     "name": "stdout",
     "output_type": "stream",
     "text": [
      "run ---> run\n",
      "runner ---> runner\n",
      "running ---> run\n",
      "ran ---> ran\n",
      "runs ---> run\n",
      "easily ---> easili\n",
      "fairly ---> fair\n"
     ]
    }
   ],
   "source": [
    "words = [\"run\", \"runner\", \"running\", \"ran\", \"runs\", \"easily\", \"fairly\"]\n",
    "# words2 = [\"generous\", \"generation\", \"generously\", \"generate\"]\n",
    "\n",
    "for word in words:\n",
    "    print(f\"{word} ---> {s_stemmer.stem(word)}\")"
   ]
  },
  {
   "cell_type": "code",
   "execution_count": 20,
   "metadata": {},
   "outputs": [
    {
     "name": "stdout",
     "output_type": "stream",
     "text": [
      "PorterStemmer:\n",
      "consolingly --> consolingli\n"
     ]
    }
   ],
   "source": [
    "words4 = [\"consolingly\"]\n",
    "\n",
    "print(\"PorterStemmer:\")\n",
    "for word in words4:\n",
    "    print(f\"{word} --> {p_stemmer.stem(word)}\")"
   ]
  },
  {
   "cell_type": "code",
   "execution_count": 23,
   "metadata": {},
   "outputs": [
    {
     "name": "stdout",
     "output_type": "stream",
     "text": [
      "Porter2 Stemmer:\n",
      "consolingly ---> consol\n"
     ]
    }
   ],
   "source": [
    "print(\"Porter2 Stemmer:\")\n",
    "for word in words4:\n",
    "    print(f\"{word} ---> {s_stemmer.stem(word)}\")"
   ]
  },
  {
   "cell_type": "code",
   "execution_count": 24,
   "metadata": {},
   "outputs": [
    {
     "name": "stdout",
     "output_type": "stream",
     "text": [
      "I ---> i\n",
      "am ---> am\n",
      "meeting ---> meet\n",
      "him ---> him\n",
      "tomorrow ---> tomorrow\n",
      "at ---> at\n",
      "the ---> the\n",
      "meeting ---> meet\n"
     ]
    }
   ],
   "source": [
    "phrase = \"I am meeting him tomorrow at the meeting\"\n",
    "for word in phrase.split():\n",
    "    print(f\"{word} ---> {p_stemmer.stem(word)}\")"
   ]
  },
  {
   "cell_type": "code",
   "execution_count": null,
   "metadata": {},
   "outputs": [],
   "source": []
  }
 ],
 "metadata": {
  "kernelspec": {
   "display_name": "base",
   "language": "python",
   "name": "python3"
  },
  "language_info": {
   "codemirror_mode": {
    "name": "ipython",
    "version": 3
   },
   "file_extension": ".py",
   "mimetype": "text/x-python",
   "name": "python",
   "nbconvert_exporter": "python",
   "pygments_lexer": "ipython3",
   "version": "3.9.13 (main, Aug 25 2022, 23:26:10) \n[GCC 11.2.0]"
  },
  "orig_nbformat": 4,
  "vscode": {
   "interpreter": {
    "hash": "734bfd3f775eda32afe1fae967da9bc0eb3536e0538071373cc48dbb7aaa4395"
   }
  }
 },
 "nbformat": 4,
 "nbformat_minor": 2
}
