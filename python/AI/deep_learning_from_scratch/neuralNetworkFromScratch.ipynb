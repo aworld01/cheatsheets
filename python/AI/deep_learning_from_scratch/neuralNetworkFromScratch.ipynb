{
 "cells": [
  {
   "cell_type": "markdown",
   "id": "3d146d34-be1a-460b-8da6-d33d99e97a2d",
   "metadata": {},
   "source": [
    "Import libraries"
   ]
  },
  {
   "cell_type": "code",
   "execution_count": 54,
   "id": "a2a96519-e3de-4503-8ee1-5728f57244bf",
   "metadata": {},
   "outputs": [],
   "source": [
    "import numpy as np"
   ]
  },
  {
   "cell_type": "markdown",
   "id": "93aa104f-e98c-4b4b-9932-44e11baaaa50",
   "metadata": {},
   "source": [
    "Define sigmoidActivationFunction"
   ]
  },
  {
   "cell_type": "code",
   "execution_count": 55,
   "id": "1b1adfdc-ddb7-42b8-8e2a-f680add6561d",
   "metadata": {},
   "outputs": [],
   "source": [
    "def sigmoid(x):\n",
    "    return 1/(1+np.exp(-x))"
   ]
  },
  {
   "cell_type": "markdown",
   "id": "339688da-e057-4fb9-99a3-264cfe4c6483",
   "metadata": {},
   "source": [
    "Define derivative of sigmoid function"
   ]
  },
  {
   "cell_type": "code",
   "execution_count": 56,
   "id": "a48dc046-1a27-4e88-a318-f2fe29b094de",
   "metadata": {},
   "outputs": [],
   "source": [
    "def sigmoid_derivative(x):\n",
    "    return x*(1-x)"
   ]
  },
  {
   "cell_type": "markdown",
   "id": "3d92d7c2-e642-4480-8e7a-490c7b24101e",
   "metadata": {},
   "source": [
    "Input Data"
   ]
  },
  {
   "cell_type": "code",
   "execution_count": 57,
   "id": "51dcf5fb-cd3a-4c71-a288-393bbf776c0e",
   "metadata": {},
   "outputs": [],
   "source": [
    "inputs = np.array([[0,0,1],\n",
    "                   [1,1,1],\n",
    "                   [1,0,1],\n",
    "                   [0,1,1]])"
   ]
  },
  {
   "cell_type": "markdown",
   "id": "a3587711-dc6c-4ba6-a763-0a4fc5d27508",
   "metadata": {},
   "source": [
    "Output Data"
   ]
  },
  {
   "cell_type": "code",
   "execution_count": 58,
   "id": "af418336-788b-451d-b71e-931451ff6373",
   "metadata": {},
   "outputs": [],
   "source": [
    "outputs = np.array([[0],[1],[1],[0]])"
   ]
  },
  {
   "cell_type": "markdown",
   "id": "a3b29c26-b8ce-434d-a3c1-6192d9a2e755",
   "metadata": {},
   "source": [
    "Seed random numbers to make calculation deterministic"
   ]
  },
  {
   "cell_type": "code",
   "execution_count": 59,
   "id": "49d53b73-f1f8-4aaf-a90a-d5e7e02ce1df",
   "metadata": {},
   "outputs": [],
   "source": [
    "np.random.seed(1)"
   ]
  },
  {
   "cell_type": "markdown",
   "id": "14a81b07-6d43-4be6-aa3d-4b308778b481",
   "metadata": {},
   "source": [
    "Initialize weights randomly with mean 0"
   ]
  },
  {
   "cell_type": "code",
   "execution_count": 60,
   "id": "35784c28-0d9a-43a7-be63-41fa27b95540",
   "metadata": {},
   "outputs": [],
   "source": [
    "weights = 2*np.random.random((3,1))-1"
   ]
  },
  {
   "cell_type": "markdown",
   "id": "cb2212bc-b466-4df7-bfb7-36750f4911c8",
   "metadata": {},
   "source": [
    "Training process"
   ]
  },
  {
   "cell_type": "code",
   "execution_count": 61,
   "id": "cd7586a8-a106-4090-a029-ffcfa39bf34c",
   "metadata": {},
   "outputs": [
    {
     "name": "stdout",
     "output_type": "stream",
     "text": [
      "Predicted outputs after training:\n",
      "[[0.00158387]\n",
      " [0.99074007]\n",
      " [0.98505277]\n",
      " [0.00256889]]\n"
     ]
    }
   ],
   "source": [
    "for epoch in range(10000):\n",
    "    \"\"\"Forward propagation\"\"\"\n",
    "    input_layer = inputs\n",
    "    outputs_pred = sigmoid(np.dot(input_layer, weights))\n",
    "    \"\"\"Calculating the error\"\"\"\n",
    "    error = outputs - output_pred\n",
    "    \"\"\"Backpropagation\"\"\"\n",
    "    adjustments = error * sigmoid_derivative(output_pred)\n",
    "    \"\"\"update weights\"\"\"\n",
    "    weights += np.dot(input_layer.T, adjustments)\n",
    "print(\"Predicted outputs after training:\")\n",
    "print(outputs_pred)"
   ]
  },
  {
   "cell_type": "code",
   "execution_count": null,
   "id": "be8e8cf7-939f-4c8d-9965-a154d73e0086",
   "metadata": {},
   "outputs": [],
   "source": []
  }
 ],
 "metadata": {
  "kernelspec": {
   "display_name": "Python [conda env:base] *",
   "language": "python",
   "name": "conda-base-py"
  },
  "language_info": {
   "codemirror_mode": {
    "name": "ipython",
    "version": 3
   },
   "file_extension": ".py",
   "mimetype": "text/x-python",
   "name": "python",
   "nbconvert_exporter": "python",
   "pygments_lexer": "ipython3",
   "version": "3.12.7"
  }
 },
 "nbformat": 4,
 "nbformat_minor": 5
}
