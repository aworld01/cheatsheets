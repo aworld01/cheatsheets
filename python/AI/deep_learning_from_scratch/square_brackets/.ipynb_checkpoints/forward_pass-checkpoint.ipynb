{
 "cells": [
  {
   "cell_type": "code",
   "execution_count": 1,
   "id": "66f39a56-076b-4aa3-bac7-8c2f6b038eaf",
   "metadata": {},
   "outputs": [],
   "source": [
    "import numpy as np"
   ]
  },
  {
   "cell_type": "markdown",
   "id": "8e58d640-1b42-42ab-bd00-acad50d4f83e",
   "metadata": {},
   "source": [
    "<h2>Sigmoid Activation Function</h2>"
   ]
  },
  {
   "cell_type": "code",
   "execution_count": 3,
   "id": "394d074e-0a82-4017-a3cd-3fd44bfdb73e",
   "metadata": {},
   "outputs": [],
   "source": [
    "def sigmoid(x):\n",
    "    return 1/(1+np.exp(-x))"
   ]
  },
  {
   "cell_type": "code",
   "execution_count": 4,
   "id": "ff681637-e950-43b1-8cd9-8f73c5b30e6c",
   "metadata": {},
   "outputs": [],
   "source": [
    "x = np.array([\n",
    "    [1,0,1,0],\n",
    "    [1,0,1,1],\n",
    "    [0,1,0,1]\n",
    "])\n",
    "             \n",
    "y = np.array([[1],[1],[0]])"
   ]
  },
  {
   "cell_type": "code",
   "execution_count": 5,
   "id": "64a9f82d-c869-4696-ae83-0d22115640a5",
   "metadata": {},
   "outputs": [
    {
     "data": {
      "text/plain": [
       "array([[1, 0, 1, 0],\n",
       "       [1, 0, 1, 1],\n",
       "       [0, 1, 0, 1]])"
      ]
     },
     "execution_count": 5,
     "metadata": {},
     "output_type": "execute_result"
    }
   ],
   "source": [
    "x"
   ]
  },
  {
   "cell_type": "code",
   "execution_count": 6,
   "id": "1cf097db-62e1-4ed0-b344-22395e63a1be",
   "metadata": {},
   "outputs": [
    {
     "data": {
      "text/plain": [
       "(3, 4)"
      ]
     },
     "execution_count": 6,
     "metadata": {},
     "output_type": "execute_result"
    }
   ],
   "source": [
    "x.shape"
   ]
  },
  {
   "cell_type": "code",
   "execution_count": 7,
   "id": "8b2b2758-c5da-4515-bd8a-14fac7583a8c",
   "metadata": {},
   "outputs": [
    {
     "data": {
      "text/plain": [
       "array([[1],\n",
       "       [1],\n",
       "       [0]])"
      ]
     },
     "execution_count": 7,
     "metadata": {},
     "output_type": "execute_result"
    }
   ],
   "source": [
    "y"
   ]
  },
  {
   "cell_type": "code",
   "execution_count": 8,
   "id": "006c3692-a149-4604-b413-0454885f531d",
   "metadata": {},
   "outputs": [
    {
     "data": {
      "text/plain": [
       "(3, 1)"
      ]
     },
     "execution_count": 8,
     "metadata": {},
     "output_type": "execute_result"
    }
   ],
   "source": [
    "y.shape"
   ]
  },
  {
   "cell_type": "code",
   "execution_count": 9,
   "id": "db008391-ee24-404f-8bf0-2ded42fac961",
   "metadata": {},
   "outputs": [
    {
     "data": {
      "text/plain": [
       "4"
      ]
     },
     "execution_count": 9,
     "metadata": {},
     "output_type": "execute_result"
    }
   ],
   "source": [
    "\"\"\"input layer neurons will be always equals to the number of columns\"\"\"\n",
    "inputNeurons = x.shape[1] #to get No. of columns\n",
    "inputNeurons"
   ]
  },
  {
   "cell_type": "code",
   "execution_count": 10,
   "id": "9aeb1840-8c0f-4d1a-849c-ad4e7ed0e6fc",
   "metadata": {},
   "outputs": [],
   "source": [
    "\"\"\"hidden layer neurons we can decide by hit and trail\"\"\"\n",
    "hiddenNeurons = 3"
   ]
  },
  {
   "cell_type": "code",
   "execution_count": 11,
   "id": "09245a88-f13e-46b6-8ad3-8921d9f1f2b1",
   "metadata": {},
   "outputs": [],
   "source": [
    "\"\"\"output layer neuron depends on number of classes we have in target columns\"\"\"\n",
    "outputNeurons = 1"
   ]
  },
  {
   "cell_type": "markdown",
   "id": "7fbfb3a9-577c-4bad-9dc1-9a555837bd18",
   "metadata": {},
   "source": [
    "<img src=\"neurons.png\" width=300>"
   ]
  },
  {
   "cell_type": "markdown",
   "id": "05b957ce-968c-4e9f-ad05-9c06c3fa7f0a",
   "metadata": {},
   "source": [
    "<p>\n",
    "    weightsHidden = [4,3] <br>\n",
    "    biasHidden = [1,3] <br>\n",
    "    weightsOutput = [3,1] <br>\n",
    "    biasOutput = [1,1]\n",
    "</p>"
   ]
  },
  {
   "cell_type": "code",
   "execution_count": 14,
   "id": "8e2e32c1-dff2-40a1-8e5f-5a5a2db260ab",
   "metadata": {},
   "outputs": [],
   "source": [
    "weightsHidden = np.random.uniform(size=(inputNeurons,hiddenNeurons))\n",
    "biasHidden = np.random.uniform(size=(1,hiddenNeurons))\n",
    "weightsOutput = np.random.uniform(size=(hiddenNeurons,outputNeurons))\n",
    "biasOutput = np.random.uniform(size=(1,outputNeurons))"
   ]
  },
  {
   "cell_type": "markdown",
   "id": "76fe79fe-5efb-46b2-9f92-cb38f26e354e",
   "metadata": {},
   "source": [
    "<h2>Feedforward</h2>"
   ]
  },
  {
   "cell_type": "markdown",
   "id": "30d2fd74-7bf6-441f-815d-19fbbaf651dc",
   "metadata": {},
   "source": [
    "<h3>Step-1 => apply dot product and add bias: f(x) = x.wh+bh</h3>"
   ]
  },
  {
   "cell_type": "code",
   "execution_count": 17,
   "id": "316eea66-ec9c-4b99-9bda-5a8d2fa48826",
   "metadata": {},
   "outputs": [
    {
     "data": {
      "text/plain": [
       "array([[1.71643314, 1.16996622, 1.72557858],\n",
       "       [2.35973865, 2.14191323, 2.55290399],\n",
       "       [1.60693266, 2.03809089, 1.8575043 ]])"
      ]
     },
     "execution_count": 17,
     "metadata": {},
     "output_type": "execute_result"
    }
   ],
   "source": [
    "fx = np.dot(x,weightsHidden)+biasHidden\n",
    "fx"
   ]
  },
  {
   "cell_type": "markdown",
   "id": "1fb2ad1a-e1c8-4a09-8ace-1b9391c808bd",
   "metadata": {},
   "source": [
    "<h3>step-2 => apply activation function</h3>"
   ]
  },
  {
   "cell_type": "code",
   "execution_count": 19,
   "id": "9dd05284-4db5-4b7f-bf33-c8c027488ded",
   "metadata": {},
   "outputs": [
    {
     "data": {
      "text/plain": [
       "array([[0.84766883, 0.76313891, 0.848846  ],\n",
       "       [0.9137052 , 0.89491068, 0.92776837],\n",
       "       [0.83298509, 0.88473873, 0.86500579]])"
      ]
     },
     "execution_count": 19,
     "metadata": {},
     "output_type": "execute_result"
    }
   ],
   "source": [
    "hiddenLayer = sigmoid(fx)\n",
    "hiddenLayer"
   ]
  },
  {
   "cell_type": "markdown",
   "id": "797f6cb5-87cb-4d00-bae8-245bcd73f3a3",
   "metadata": {},
   "source": [
    "<h3>step-3 => apply dot product and add bias: f(x) = hiddenLayer.wo+bo</h3>"
   ]
  },
  {
   "cell_type": "code",
   "execution_count": 21,
   "id": "818743ff-a98c-4ac1-b46c-2b9984b72058",
   "metadata": {},
   "outputs": [
    {
     "data": {
      "text/plain": [
       "array([[1.5964936 ],\n",
       "       [1.7635589 ],\n",
       "       [1.69662302]])"
      ]
     },
     "execution_count": 21,
     "metadata": {},
     "output_type": "execute_result"
    }
   ],
   "source": [
    "fx_ = np.dot(hiddenLayer,weightsOutput)+biasOutput\n",
    "fx_"
   ]
  },
  {
   "cell_type": "markdown",
   "id": "93ea085b-712a-4846-a63b-3eaf0c5a46b3",
   "metadata": {},
   "source": [
    "<h3>step-4 => apply activation function</h3>"
   ]
  },
  {
   "cell_type": "code",
   "execution_count": 23,
   "id": "0373a582-3081-4d6e-bd38-684f1d1eff96",
   "metadata": {},
   "outputs": [
    {
     "data": {
      "text/plain": [
       "array([[0.83152775],\n",
       "       [0.85365483],\n",
       "       [0.84509317]])"
      ]
     },
     "execution_count": 23,
     "metadata": {},
     "output_type": "execute_result"
    }
   ],
   "source": [
    "outputLayer = sigmoid(fx_)\n",
    "outputLayer"
   ]
  },
  {
   "cell_type": "markdown",
   "id": "53e4dab4-afc1-4c79-9cc9-8c1fa47a5b92",
   "metadata": {},
   "source": [
    "<h1>Back propagation</h1>"
   ]
  },
  {
   "cell_type": "markdown",
   "id": "1c3fd243-db43-4e74-a58e-60b35c6c0f9b",
   "metadata": {},
   "source": [
    "<h2>There are two steps of Backpropagation:-</h2>\n",
    "<ol>\n",
    "    <li>Loss / Cost calculation</li>\n",
    "    <li>Optimization</li>\n",
    "</ol>\n",
    "<p>\n",
    "    loss = y - y_pred<br>\n",
    "    slop = derivative = dy/dx<br>\n",
    "    delta = loss * slop\n",
    "</p>"
   ]
  },
  {
   "cell_type": "code",
   "execution_count": 26,
   "id": "b810d940-57da-4595-aa83-6bc12de7934f",
   "metadata": {},
   "outputs": [],
   "source": [
    "\"\"\"derivative of sigmoid function\"\"\"\n",
    "def derSigmoid(x):\n",
    "    return x*(1-x)"
   ]
  },
  {
   "cell_type": "code",
   "execution_count": 27,
   "id": "94d051d5-fbeb-4303-9cc3-219c4dce6a9c",
   "metadata": {},
   "outputs": [
    {
     "data": {
      "text/plain": [
       "array([[-0.16847225],\n",
       "       [-0.14634517],\n",
       "       [ 0.84509317]])"
      ]
     },
     "execution_count": 27,
     "metadata": {},
     "output_type": "execute_result"
    }
   ],
   "source": [
    "\"\"\"1. Error on outputLayer\"\"\"\n",
    "errorOutput = outputLayer - y\n",
    "errorOutput"
   ]
  },
  {
   "cell_type": "code",
   "execution_count": 28,
   "id": "c5a4681d-e648-47f4-80a2-645ff077807f",
   "metadata": {},
   "outputs": [
    {
     "data": {
      "text/plain": [
       "array([[0.14008935],\n",
       "       [0.12492826],\n",
       "       [0.13091071]])"
      ]
     },
     "execution_count": 28,
     "metadata": {},
     "output_type": "execute_result"
    }
   ],
   "source": [
    "\"\"\"2. Slop on outputLayer - derivative of activation function applied on this layer\"\"\"\n",
    "slopeOutput = derSigmoid(outputLayer)\n",
    "slopeOutput"
   ]
  },
  {
   "cell_type": "code",
   "execution_count": 29,
   "id": "de00e380-e619-401d-aef9-777d0d528e49",
   "metadata": {},
   "outputs": [
    {
     "data": {
      "text/plain": [
       "array([[-0.02360117],\n",
       "       [-0.01828265],\n",
       "       [ 0.11063174]])"
      ]
     },
     "execution_count": 29,
     "metadata": {},
     "output_type": "execute_result"
    }
   ],
   "source": [
    "\"\"\"delta = error * slop\"\"\"\n",
    "deltaOutput = errorOutput * slopeOutput\n",
    "deltaOutput"
   ]
  },
  {
   "cell_type": "code",
   "execution_count": 30,
   "id": "bff9f455-5690-44f3-8cc1-55ddb3f77098",
   "metadata": {},
   "outputs": [
    {
     "data": {
      "text/plain": [
       "array([[-0.00646288, -0.0183697 , -0.01388128],\n",
       "       [-0.00500647, -0.01423009, -0.01075314],\n",
       "       [ 0.03029509,  0.08610894,  0.06506926]])"
      ]
     },
     "execution_count": 30,
     "metadata": {},
     "output_type": "execute_result"
    }
   ],
   "source": [
    "errorHidden = np.dot(deltaOutput, weightsOutput.T)\n",
    "errorHidden"
   ]
  },
  {
   "cell_type": "code",
   "execution_count": 31,
   "id": "83ae10b3-92af-4764-ae3d-7f0ab788f024",
   "metadata": {},
   "outputs": [
    {
     "data": {
      "text/plain": [
       "array([[0.12912638, 0.18075791, 0.12830647],\n",
       "       [0.07884801, 0.09404556, 0.06701423],\n",
       "       [0.13912093, 0.10197611, 0.11677077]])"
      ]
     },
     "execution_count": 31,
     "metadata": {},
     "output_type": "execute_result"
    }
   ],
   "source": [
    "slopeHidden = derSigmoid(hiddenLayer)\n",
    "slopeHidden"
   ]
  },
  {
   "cell_type": "code",
   "execution_count": 32,
   "id": "8666f390-63d1-4254-b633-9fc874a4254e",
   "metadata": {},
   "outputs": [
    {
     "data": {
      "text/plain": [
       "array([[-0.00083453, -0.00332047, -0.00178106],\n",
       "       [-0.00039475, -0.00133828, -0.00072061],\n",
       "       [ 0.00421468,  0.00878106,  0.00759819]])"
      ]
     },
     "execution_count": 32,
     "metadata": {},
     "output_type": "execute_result"
    }
   ],
   "source": [
    "deltaHidden = errorHidden * slopeHidden\n",
    "deltaHidden"
   ]
  },
  {
   "cell_type": "code",
   "execution_count": null,
   "id": "f97a4d9e-6338-496b-852b-5772f40eb4e4",
   "metadata": {},
   "outputs": [],
   "source": []
  }
 ],
 "metadata": {
  "kernelspec": {
   "display_name": "Python [conda env:base] *",
   "language": "python",
   "name": "conda-base-py"
  },
  "language_info": {
   "codemirror_mode": {
    "name": "ipython",
    "version": 3
   },
   "file_extension": ".py",
   "mimetype": "text/x-python",
   "name": "python",
   "nbconvert_exporter": "python",
   "pygments_lexer": "ipython3",
   "version": "3.12.7"
  }
 },
 "nbformat": 4,
 "nbformat_minor": 5
}
