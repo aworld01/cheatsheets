{
 "cells": [
  {
   "cell_type": "code",
   "execution_count": 1,
   "metadata": {},
   "outputs": [],
   "source": [
    "from tensorflow.keras.preprocessing.text import Tokenizer"
   ]
  },
  {
   "cell_type": "code",
   "execution_count": 2,
   "metadata": {},
   "outputs": [
    {
     "name": "stdout",
     "output_type": "stream",
     "text": [
      "{'i': 1, 'love': 2, 'my': 3, 'dog': 4, 'cat': 5, 'horse': 6}\n"
     ]
    }
   ],
   "source": [
    "sentences = [\"I love my dog.\", \"I love my cat.\", \"I love my horse?\"]\n",
    "token = Tokenizer(num_words=100)\n",
    "token.fit_on_texts(sentences)\n",
    "index = token.word_index\n",
    "print(index)"
   ]
  },
  {
   "cell_type": "code",
   "execution_count": 3,
   "metadata": {},
   "outputs": [
    {
     "name": "stdout",
     "output_type": "stream",
     "text": [
      "[[1, 2, 3, 4], [1, 2, 3, 5], [1, 2, 3, 6]]\n"
     ]
    }
   ],
   "source": [
    "sequences = token.texts_to_sequences(sentences) #to change in sequence\n",
    "print(sequences)"
   ]
  },
  {
   "cell_type": "code",
   "execution_count": 4,
   "metadata": {},
   "outputs": [
    {
     "name": "stdout",
     "output_type": "stream",
     "text": [
      "[[1, 2, 3, 4], [3, 4, 3]]\n"
     ]
    }
   ],
   "source": [
    "\"\"\"example2 (data loss)\"\"\"\n",
    "test = [\"I love my dog.\", \"My dog loves my manatee\"]\n",
    "test_seq = token.texts_to_sequences(test) #it drops the next uniqe words\n",
    "print(test_seq)"
   ]
  },
  {
   "cell_type": "code",
   "execution_count": 5,
   "metadata": {},
   "outputs": [
    {
     "name": "stdout",
     "output_type": "stream",
     "text": [
      "['I love my dog.', 'I love my cat.', 'Do you think my dog is amazing?']\n",
      "{'<OOV>': 1, 'my': 2, 'i': 3, 'love': 4, 'dog': 5, 'cat': 6, 'do': 7, 'you': 8, 'think': 9, 'is': 10, 'amazing': 11}\n",
      "[[3, 4, 2, 5], [3, 4, 2, 6], [7, 8, 9, 2, 5, 10, 11]]\n"
     ]
    }
   ],
   "source": [
    "\"\"\"example3 (save drops word to save the data)\"\"\"\n",
    "sentences = [\"I love my dog.\", \"I love my cat.\", \"Do you think my dog is amazing?\"]\n",
    "token = Tokenizer(num_words=100, oov_token = \"<OOV>\")\n",
    "token.fit_on_texts(sentences)\n",
    "index = token.word_index\n",
    "sequences = token.texts_to_sequences(sentences)\n",
    "print(sentences)\n",
    "print(index)\n",
    "print(sequences)"
   ]
  }
 ],
 "metadata": {
  "kernelspec": {
   "display_name": "Python 3",
   "language": "python",
   "name": "python3"
  },
  "language_info": {
   "codemirror_mode": {
    "name": "ipython",
    "version": 3
   },
   "file_extension": ".py",
   "mimetype": "text/x-python",
   "name": "python",
   "nbconvert_exporter": "python",
   "pygments_lexer": "ipython3",
   "version": "3.11.1"
  },
  "orig_nbformat": 4
 },
 "nbformat": 4,
 "nbformat_minor": 2
}
