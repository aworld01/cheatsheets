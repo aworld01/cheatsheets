{
 "cells": [
  {
   "cell_type": "code",
   "execution_count": 5,
   "metadata": {},
   "outputs": [],
   "source": [
    "from tensorflow.keras.preprocessing.text import Tokenizer\n",
    "from tensorflow.keras.preprocessing.sequence import pad_sequences"
   ]
  },
  {
   "cell_type": "code",
   "execution_count": 25,
   "metadata": {},
   "outputs": [
    {
     "name": "stdout",
     "output_type": "stream",
     "text": [
      "{'<OOV>': 1, 'my': 2, 'i': 3, 'love': 4, 'dog': 5, 'cat': 6, 'do': 7, 'you': 8, 'think': 9, 'is': 10, 'amazing': 11}\n",
      "[[3, 4, 2, 5], [3, 4, 2, 6], [7, 8, 9, 2, 5, 10, 11]]\n",
      "[[ 3  4  2  5  0  0  0]\n",
      " [ 3  4  2  6  0  0  0]\n",
      " [ 7  8  9  2  5 10 11]]\n"
     ]
    }
   ],
   "source": [
    "sentences = [\"i love my dog.\", \"I love my cat.\", \"Do you think my dog is amazing?\"]\n",
    "token = Tokenizer(num_words=100, oov_token=\"<OOV>\")\n",
    "token.fit_on_texts(sentences)\n",
    "index = token.word_index\n",
    "sequences = token.texts_to_sequences(sentences)\n",
    "# padded = pad_sequences(sequences)\n",
    "padded = pad_sequences(sequences, padding=\"post\") #to show zeros at last(defalut is: padding = \"pre\")\n",
    "\n",
    "print(index)\n",
    "print(sequences)\n",
    "print(padded)"
   ]
  },
  {
   "cell_type": "code",
   "execution_count": 26,
   "metadata": {},
   "outputs": [
    {
     "name": "stdout",
     "output_type": "stream",
     "text": [
      "{'<OOV>': 1, 'my': 2, 'i': 3, 'love': 4, 'dog': 5, 'cat': 6, 'do': 7, 'you': 8, 'think': 9, 'is': 10, 'amazing': 11}\n",
      "[[3, 4, 2, 5], [3, 4, 2, 6], [7, 8, 9, 2, 5, 10, 11]]\n",
      "[[ 3  4  2  5  0  0]\n",
      " [ 3  4  2  6  0  0]\n",
      " [ 8  9  2  5 10 11]]\n"
     ]
    }
   ],
   "source": [
    "\"\"\"example2 (to fix word length)\"\"\"\n",
    "sentences = [\"i love my dog.\", \"I love my cat.\", \"Do you think my dog is amazing?\"]\n",
    "token = Tokenizer(num_words=100, oov_token=\"<OOV>\")\n",
    "token.fit_on_texts(sentences)\n",
    "index = token.word_index\n",
    "sequences = token.texts_to_sequences(sentences)\n",
    "padded = pad_sequences(sequences, padding=\"post\", maxlen=6) #to fix maxlength of words\n",
    "\n",
    "print(index)\n",
    "print(sequences)\n",
    "print(padded)"
   ]
  },
  {
   "cell_type": "code",
   "execution_count": null,
   "metadata": {},
   "outputs": [],
   "source": []
  },
  {
   "cell_type": "code",
   "execution_count": null,
   "metadata": {},
   "outputs": [],
   "source": []
  }
 ],
 "metadata": {
  "kernelspec": {
   "display_name": "Python 3",
   "language": "python",
   "name": "python3"
  },
  "language_info": {
   "codemirror_mode": {
    "name": "ipython",
    "version": 3
   },
   "file_extension": ".py",
   "mimetype": "text/x-python",
   "name": "python",
   "nbconvert_exporter": "python",
   "pygments_lexer": "ipython3",
   "version": "3.11.1"
  },
  "orig_nbformat": 4
 },
 "nbformat": 4,
 "nbformat_minor": 2
}
