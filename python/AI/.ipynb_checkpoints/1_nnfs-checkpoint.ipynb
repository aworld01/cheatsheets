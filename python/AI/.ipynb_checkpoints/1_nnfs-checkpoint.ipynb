{
 "cells": [
  {
   "cell_type": "markdown",
   "id": "eb41c768-f436-4c89-991a-619bbe0ae05e",
   "metadata": {},
   "source": [
    "<h2>wx+b</h2>"
   ]
  },
  {
   "cell_type": "markdown",
   "id": "1dd7b9a2-bdff-4112-a234-87476032cc29",
   "metadata": {},
   "source": [
    "<h2>Simple methods</h2>\n",
    "<h3>3 inputs 1 neuron</h3>"
   ]
  },
  {
   "cell_type": "code",
   "execution_count": 72,
   "id": "7bdf5294-c7d6-4a20-bb13-a4a166ab6d65",
   "metadata": {},
   "outputs": [],
   "source": [
    "inputs = [1,2,3]\n",
    "weights = [0.2,0.8,-0.5]\n",
    "bias = 2"
   ]
  },
  {
   "cell_type": "code",
   "execution_count": 74,
   "id": "e3c95460-37ad-4a22-94c6-e388d9fab377",
   "metadata": {},
   "outputs": [
    {
     "data": {
      "text/plain": [
       "2.3"
      ]
     },
     "execution_count": 74,
     "metadata": {},
     "output_type": "execute_result"
    }
   ],
   "source": [
    "output = inputs[0]*weights[0]+inputs[1]*weights[1]+inputs[2]*weights[2]+bias\n",
    "output"
   ]
  },
  {
   "cell_type": "markdown",
   "id": "40a4b8d5-997d-49eb-a3ab-6d0303e46895",
   "metadata": {},
   "source": [
    "<h3>4 inputs 1 neuron</h3>"
   ]
  },
  {
   "cell_type": "code",
   "execution_count": 77,
   "id": "cd715a69-6de4-4de4-a07a-7e0ecbb2aecf",
   "metadata": {},
   "outputs": [],
   "source": [
    "inputs = [1,2,3,2.5]\n",
    "weights = [0.2,0.8,-0.5,1.0]\n",
    "bias = 2"
   ]
  },
  {
   "cell_type": "code",
   "execution_count": 79,
   "id": "1537cd20-b1cf-49e6-927d-2ad7b10f0bbb",
   "metadata": {},
   "outputs": [
    {
     "data": {
      "text/plain": [
       "4.8"
      ]
     },
     "execution_count": 79,
     "metadata": {},
     "output_type": "execute_result"
    }
   ],
   "source": [
    "output = inputs[0]*weights[0]+inputs[1]*weights[1]+inputs[2]*weights[2]+inputs[3]*weights[3]+bias\n",
    "output"
   ]
  },
  {
   "cell_type": "markdown",
   "id": "152923e8-e00e-4041-8a29-98b2ee22f026",
   "metadata": {},
   "source": [
    "<h3>4 inputs 3 neurons</h3>"
   ]
  },
  {
   "cell_type": "code",
   "execution_count": 82,
   "id": "f39965e9-6ffa-4645-9f17-f8299d051bc0",
   "metadata": {},
   "outputs": [],
   "source": [
    "inputs = [1,2,3,2.5]\n",
    "\n",
    "weights1 = [0.2,0.8,-0.5,1.0]\n",
    "weights2 = [0.5,-0.91,0.26,-0.5]\n",
    "weights3 = [-0.26,-0.27,0.17,0.87]\n",
    "\n",
    "bias1 = 2\n",
    "bias2 = 3\n",
    "bias3 = 0.5"
   ]
  },
  {
   "cell_type": "code",
   "execution_count": 84,
   "id": "abe67104-d62a-400d-9167-8df122b2dc54",
   "metadata": {},
   "outputs": [
    {
     "data": {
      "text/plain": [
       "[4.8, 1.21, 2.385]"
      ]
     },
     "execution_count": 84,
     "metadata": {},
     "output_type": "execute_result"
    }
   ],
   "source": [
    "outputs = [inputs[0]*weights1[0]+inputs[1]*weights1[1]+inputs[2]*weights1[2]+inputs[3]*weights1[3]+bias1,\n",
    "           inputs[0]*weights2[0]+inputs[1]*weights2[1]+inputs[2]*weights2[2]+inputs[3]*weights2[3]+bias2,\n",
    "           inputs[0]*weights3[0]+inputs[1]*weights3[1]+inputs[2]*weights3[2]+inputs[3]*weights3[3]+bias3]\n",
    "outputs"
   ]
  },
  {
   "cell_type": "markdown",
   "id": "f9a21e7e-6011-4143-a827-279a07ad2055",
   "metadata": {},
   "source": [
    "<h2>Dynamic methods</h2>"
   ]
  },
  {
   "cell_type": "markdown",
   "id": "26cc79ba-7f84-4210-9192-82ba0bb4aa5e",
   "metadata": {},
   "source": [
    "<H3>4 inputs 1 neuron</H3>"
   ]
  },
  {
   "cell_type": "code",
   "execution_count": 96,
   "id": "0b86ee74-e766-4f58-9c6c-ada7b4bd8a83",
   "metadata": {},
   "outputs": [],
   "source": [
    "inputs = [1,2,3,2.5]\n",
    "weights = [0.2,0.8,-0.5,1.0]\n",
    "bias = 2"
   ]
  },
  {
   "cell_type": "code",
   "execution_count": 100,
   "id": "4a9391d2-dd4d-4ce4-bae6-a84c4dba599e",
   "metadata": {},
   "outputs": [
    {
     "data": {
      "text/plain": [
       "4.8"
      ]
     },
     "execution_count": 100,
     "metadata": {},
     "output_type": "execute_result"
    }
   ],
   "source": [
    "output = 0\n",
    "for i in range(len(inputs)):\n",
    "    output += inputs[i]*weights[i]\n",
    "output+bias"
   ]
  },
  {
   "cell_type": "markdown",
   "id": "a441c6d1-aea0-4ea9-9f42-cf25285ef2da",
   "metadata": {},
   "source": [
    "<h3>4 inputs 3 neurons</h3>"
   ]
  },
  {
   "cell_type": "code",
   "execution_count": 107,
   "id": "4f54c651-3051-4a18-ab89-f565130455f0",
   "metadata": {},
   "outputs": [],
   "source": [
    "inputs = [1,2,3,2.5]\n",
    "weights = [[0.2,0.8,-0.5,1.0],\n",
    "           [0.5,-0.91,0.26,-0.5],\n",
    "           [-0.26,-0.27,0.17,0.87]]\n",
    "biases = [2,3,0.5]"
   ]
  },
  {
   "cell_type": "code",
   "execution_count": 144,
   "id": "0a49cdf6-8666-4f0a-a9bb-537c77b63bdb",
   "metadata": {},
   "outputs": [
    {
     "data": {
      "text/plain": [
       "[4.8, 1.21, 2.385]"
      ]
     },
     "execution_count": 144,
     "metadata": {},
     "output_type": "execute_result"
    }
   ],
   "source": [
    "layer_outputs = [] #output of current layer\n",
    "for neuron_weights,neuron_bias in zip(weights,biases):\n",
    "    neuron_output = 0 #output of given neuron\n",
    "    for n_input,weight in zip(inputs,neuron_weights):\n",
    "        neuron_output += n_input*weight\n",
    "    neuron_output += neuron_bias\n",
    "    layer_outputs.append(neuron_output)\n",
    "layer_outputs"
   ]
  },
  {
   "cell_type": "markdown",
   "id": "e93c2791-c481-4d23-8792-e21c9c54c1c6",
   "metadata": {},
   "source": [
    "<h4>Example1</h4>"
   ]
  },
  {
   "cell_type": "code",
   "execution_count": 127,
   "id": "3dac68aa-524e-4979-b001-3694f2348c62",
   "metadata": {},
   "outputs": [
    {
     "data": {
      "text/plain": [
       "[([0.2, 0.8, -0.5, 1.0], 2),\n",
       " ([0.5, -0.91, 0.26, -0.5], 3),\n",
       " ([-0.26, -0.27, 0.17, 0.87], 0.5)]"
      ]
     },
     "execution_count": 127,
     "metadata": {},
     "output_type": "execute_result"
    }
   ],
   "source": [
    "list(zip(weights,biases))"
   ]
  },
  {
   "cell_type": "markdown",
   "id": "f61057c3-72a7-4e0a-8bf9-2db293fbc7ed",
   "metadata": {},
   "source": [
    "<h4>Example2</h4>"
   ]
  },
  {
   "cell_type": "code",
   "execution_count": 136,
   "id": "530ffba5-e487-49c0-8efb-3ee09c201adc",
   "metadata": {},
   "outputs": [
    {
     "data": {
      "text/plain": [
       "<zip at 0x28882844940>"
      ]
     },
     "execution_count": 136,
     "metadata": {},
     "output_type": "execute_result"
    }
   ],
   "source": [
    "z = zip(weights,biases)\n",
    "z"
   ]
  },
  {
   "cell_type": "code",
   "execution_count": 138,
   "id": "26d010bd-57f2-4050-bde9-2f303b69ee79",
   "metadata": {},
   "outputs": [
    {
     "data": {
      "text/plain": [
       "[([0.2, 0.8, -0.5, 1.0], 2),\n",
       " ([0.5, -0.91, 0.26, -0.5], 3),\n",
       " ([-0.26, -0.27, 0.17, 0.87], 0.5)]"
      ]
     },
     "execution_count": 138,
     "metadata": {},
     "output_type": "execute_result"
    }
   ],
   "source": [
    "l = list(z)\n",
    "l"
   ]
  },
  {
   "cell_type": "code",
   "execution_count": null,
   "id": "c2162bfc-25ce-45ad-9554-3909fc419705",
   "metadata": {},
   "outputs": [],
   "source": []
  }
 ],
 "metadata": {
  "kernelspec": {
   "display_name": "Python [conda env:base] *",
   "language": "python",
   "name": "conda-base-py"
  },
  "language_info": {
   "codemirror_mode": {
    "name": "ipython",
    "version": 3
   },
   "file_extension": ".py",
   "mimetype": "text/x-python",
   "name": "python",
   "nbconvert_exporter": "python",
   "pygments_lexer": "ipython3",
   "version": "3.12.7"
  }
 },
 "nbformat": 4,
 "nbformat_minor": 5
}
