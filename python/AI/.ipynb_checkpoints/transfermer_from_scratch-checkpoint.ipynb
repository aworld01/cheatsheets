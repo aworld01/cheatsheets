{
 "cells": [
  {
   "cell_type": "markdown",
   "id": "45caf505-db0f-40f1-808c-e990815ec398",
   "metadata": {},
   "source": [
    "<p>13:06 / 2:59:23</p>"
   ]
  },
  {
   "cell_type": "code",
   "execution_count": 1,
   "id": "f9ce5143-9e0b-453b-ab9b-09b87b05b4c6",
   "metadata": {},
   "outputs": [],
   "source": [
    "import torch\n",
    "import torch.nn as nn\n",
    "import math"
   ]
  },
  {
   "cell_type": "markdown",
   "id": "d862b25e-84b6-4b6b-8dbe-9d820d16e19d",
   "metadata": {},
   "source": [
    "<h2>Input embedding</h2>"
   ]
  },
  {
   "cell_type": "code",
   "execution_count": 2,
   "id": "a63704f1-3f7a-486c-810b-8c257f648bb1",
   "metadata": {},
   "outputs": [],
   "source": [
    "class inputEmbedding(nn.Module):\n",
    "    def __init__(self, d_model: int, vocab_size: int):\n",
    "        super().__init__()\n",
    "        self.d_model = d_model\n",
    "        self.vocab_size = vocab_size\n",
    "        self.embedding = nn.Embedding(vocab_size, d_model)"
   ]
  },
  {
   "cell_type": "markdown",
   "id": "05e78cd0-da92-4395-a9c0-91c5d81ec9eb",
   "metadata": {},
   "source": [
    "<p>In the embedding layers, we multiply those weights by \"sqrt(d_model)\"</p>"
   ]
  },
  {
   "cell_type": "code",
   "execution_count": 3,
   "id": "5c2d98b9-520d-4fb8-88ef-8f17f61669de",
   "metadata": {},
   "outputs": [],
   "source": [
    "def forward(self, x):\n",
    "    return self.embedding(x) *  math.sqrt(self.d_model)"
   ]
  },
  {
   "cell_type": "markdown",
   "id": "ab58c995-193e-40a8-9684-6985957b9aba",
   "metadata": {},
   "source": [
    "<h2>Positional Encoding</h2>"
   ]
  },
  {
   "cell_type": "code",
   "execution_count": 7,
   "id": "8bea5096-f3d7-4e9a-9bb9-644b58e3fc25",
   "metadata": {},
   "outputs": [],
   "source": [
    "class positionalEncoding(nn.Module):\n",
    "    def __init__(self, d_model: int, seq_len: int, dropout: float):\n",
    "        super().__init__()\n",
    "        self.d_model = d_model\n",
    "        self.seq_len = seq_len\n",
    "        self.dropout = nn.Dropout(dropout)\n",
    "\n",
    "        \"\"\"Create a matrix of shape (seq_len, d_model)\"\"\"\n",
    "        pe = torch.zeros(seq_len, d_model)\n",
    "        \"\"\"Create a vector of shape (seq_len)\"\"\"\n",
    "        position = torch.arange(0, seq_len, dtype=torch.float).unsqueeze(1) # (seq_len, 1)\n",
    "        div_term = torch.exp(torch.arange(0, d_model, 2).float() * (-math.log(10000.0) / d_model))\n",
    "        \"\"\"Apply the sin to even position\"\"\"\n",
    "        pe[:, 0::2] = torch.sin(position * div_term)\n",
    "        pe[:, 1::2] = torch.cos(position * div_term)\n",
    "\n",
    "        pe = pe.unsqueeze(0) # (1, seq_len, d_model)\n",
    "\n",
    "        self.register_buffer('pe',pe)\n",
    "\n",
    "    def forward(self, x):\n",
    "        x = x + (self.pe[:, :x.shape[1], :]).requires_grad_(false)\n",
    "        return self.dropout(x)"
   ]
  },
  {
   "cell_type": "code",
   "execution_count": null,
   "id": "b5aba6ac-5fe2-480f-bff7-9b4fb17a1f34",
   "metadata": {},
   "outputs": [],
   "source": []
  }
 ],
 "metadata": {
  "kernelspec": {
   "display_name": "Python [conda env:base] *",
   "language": "python",
   "name": "conda-base-py"
  },
  "language_info": {
   "codemirror_mode": {
    "name": "ipython",
    "version": 3
   },
   "file_extension": ".py",
   "mimetype": "text/x-python",
   "name": "python",
   "nbconvert_exporter": "python",
   "pygments_lexer": "ipython3",
   "version": "3.12.7"
  }
 },
 "nbformat": 4,
 "nbformat_minor": 5
}
