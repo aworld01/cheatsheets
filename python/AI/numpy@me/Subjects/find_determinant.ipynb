{
 "cells": [
  {
   "cell_type": "code",
   "execution_count": 1,
   "metadata": {},
   "outputs": [],
   "source": [
    "import numpy as np"
   ]
  },
  {
   "cell_type": "code",
   "execution_count": 9,
   "metadata": {},
   "outputs": [
    {
     "name": "stdout",
     "output_type": "stream",
     "text": [
      "Matrix: [[1 2]\n",
      " [8 7]]\n",
      "Determinant of the matrix: -8.999999999999998\n"
     ]
    }
   ],
   "source": [
    "\"\"\"Create a sample 2x2 matrix\"\"\"\n",
    "matrix = np.array([[1,2], [8,7]])\n",
    "\n",
    "\"\"\"Find the determinant\"\"\"\n",
    "determinant = np.linalg.det(matrix)\n",
    "print(f\"Matrix: {matrix}\")\n",
    "print(f\"Determinant of the matrix: {determinant}\")"
   ]
  },
  {
   "cell_type": "code",
   "execution_count": 10,
   "metadata": {},
   "outputs": [
    {
     "name": "stdout",
     "output_type": "stream",
     "text": [
      "Matrix: [[1 2 3]\n",
      " [4 5 6]\n",
      " [7 8 9]]\n",
      "Determinant of the matrix: 0.0\n"
     ]
    }
   ],
   "source": [
    "\"\"\"Create a sample 3x3 matrix\"\"\"\n",
    "matrix = np.array([[1,2,3], [4,5,6], [7,8,9]])\n",
    "\n",
    "\"\"\"Find the determinant\"\"\"\n",
    "determinant = np.linalg.det(matrix)\n",
    "print(f\"Matrix: {matrix}\")\n",
    "print(f\"Determinant of the matrix: {determinant}\")"
   ]
  },
  {
   "cell_type": "code",
   "execution_count": 11,
   "metadata": {},
   "outputs": [
    {
     "name": "stdout",
     "output_type": "stream",
     "text": [
      "Matrix: [[ 1 -1  1]\n",
      " [ 2  1  1]\n",
      " [-1 -2  2]]\n",
      "Determinant of the matrix: 6.0\n"
     ]
    }
   ],
   "source": [
    "\"\"\"Create a sample 3x3 matrix\"\"\"\n",
    "matrix = np.array([[1,-1,1], [2,1,1], [-1,-2,2]])\n",
    "\n",
    "\"\"\"Find the determinant\"\"\"\n",
    "determinant = np.linalg.det(matrix)\n",
    "print(f\"Matrix: {matrix}\")\n",
    "print(f\"Determinant of the matrix: {determinant}\")"
   ]
  }
 ],
 "metadata": {
  "kernelspec": {
   "display_name": "Python 3",
   "language": "python",
   "name": "python3"
  },
  "language_info": {
   "codemirror_mode": {
    "name": "ipython",
    "version": 3
   },
   "file_extension": ".py",
   "mimetype": "text/x-python",
   "name": "python",
   "nbconvert_exporter": "python",
   "pygments_lexer": "ipython3",
   "version": "3.11.1"
  }
 },
 "nbformat": 4,
 "nbformat_minor": 2
}
