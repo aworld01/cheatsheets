{
 "cells": [
  {
   "cell_type": "code",
   "execution_count": 1,
   "metadata": {},
   "outputs": [],
   "source": [
    "\"\"\"19:25 / 1:05:23\"\"\"\n",
    "import pandas as pd"
   ]
  },
  {
   "cell_type": "code",
   "execution_count": 2,
   "metadata": {},
   "outputs": [],
   "source": [
    "dic = {\n",
    "    \"name\": [\"Harry\", \"Rohan\", \"Skillf\", \"Shubh\"],\n",
    "    \"marks\": [92, 34, 24, 17],\n",
    "    \"city\": [\"Rampur\", \"Kolkata\", \"Bareilly\", \"Antarctica\"],\n",
    "}"
   ]
  },
  {
   "cell_type": "code",
   "execution_count": 3,
   "metadata": {},
   "outputs": [
    {
     "name": "stdout",
     "output_type": "stream",
     "text": [
      "     name  marks        city\n",
      "0   Harry     92      Rampur\n",
      "1   Rohan     34     Kolkata\n",
      "2  Skillf     24    Bareilly\n",
      "3   Shubh     17  Antarctica\n"
     ]
    }
   ],
   "source": [
    "df = pd.DataFrame(dic) #to create a dataFrame\n",
    "print(df)"
   ]
  },
  {
   "cell_type": "code",
   "execution_count": 6,
   "metadata": {},
   "outputs": [],
   "source": [
    "# df.to_csv(\"friends.csv\") #to export into csv file\n",
    "\n",
    "df.to_csv(\"friends.csv\", index=False) #to export into csv file without index"
   ]
  },
  {
   "cell_type": "code",
   "execution_count": null,
   "metadata": {},
   "outputs": [],
   "source": []
  }
 ],
 "metadata": {
  "kernelspec": {
   "display_name": "Python 3",
   "language": "python",
   "name": "python3"
  },
  "language_info": {
   "codemirror_mode": {
    "name": "ipython",
    "version": 3
   },
   "file_extension": ".py",
   "mimetype": "text/x-python",
   "name": "python",
   "nbconvert_exporter": "python",
   "pygments_lexer": "ipython3",
   "version": "3.11.1"
  },
  "orig_nbformat": 4
 },
 "nbformat": 4,
 "nbformat_minor": 2
}
