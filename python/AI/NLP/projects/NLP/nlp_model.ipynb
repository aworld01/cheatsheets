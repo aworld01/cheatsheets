{
 "cells": [
  {
   "cell_type": "code",
   "execution_count": 91,
   "metadata": {
    "executionInfo": {
     "elapsed": 6997,
     "status": "ok",
     "timestamp": 1736946252770,
     "user": {
      "displayName": "Abdul Zoha",
      "userId": "02571689914281045390"
     },
     "user_tz": -330
    },
    "id": "UaV7OtjdTMlZ"
   },
   "outputs": [],
   "source": [
    "import json\n",
    "import numpy as np\n",
    "import spacy"
   ]
  },
  {
   "cell_type": "code",
   "execution_count": 92,
   "metadata": {
    "colab": {
     "base_uri": "https://localhost:8080/",
     "height": 53
    },
    "executionInfo": {
     "elapsed": 32,
     "status": "ok",
     "timestamp": 1736946252772,
     "user": {
      "displayName": "Abdul Zoha",
      "userId": "02571689914281045390"
     },
     "user_tz": -330
    },
    "id": "rRYKKyRDTWvP",
    "outputId": "4a7a9c8e-bd72-4602-825f-940d2fdd4df5"
   },
   "outputs": [],
   "source": [
    "# !python -m spacy download en_core_web_sm"
   ]
  },
  {
   "cell_type": "code",
   "execution_count": 93,
   "metadata": {
    "executionInfo": {
     "elapsed": 869,
     "status": "ok",
     "timestamp": 1736946253618,
     "user": {
      "displayName": "Abdul Zoha",
      "userId": "02571689914281045390"
     },
     "user_tz": -330
    },
    "id": "_j3aOgipTeyX"
   },
   "outputs": [],
   "source": [
    "nlp = spacy.load(\"en_core_web_sm\")"
   ]
  },
  {
   "cell_type": "code",
   "execution_count": 94,
   "metadata": {
    "executionInfo": {
     "elapsed": 25,
     "status": "ok",
     "timestamp": 1736946253619,
     "user": {
      "displayName": "Abdul Zoha",
      "userId": "02571689914281045390"
     },
     "user_tz": -330
    },
    "id": "7EFtbqySTlfB"
   },
   "outputs": [],
   "source": [
    "s = \"This is a apple and the apple is red.\""
   ]
  },
  {
   "cell_type": "markdown",
   "metadata": {
    "id": "ntIea5U_VRiY"
   },
   "source": [
    "<h2>01 tokenization</h2>"
   ]
  },
  {
   "cell_type": "code",
   "execution_count": 96,
   "metadata": {
    "executionInfo": {
     "elapsed": 22,
     "status": "ok",
     "timestamp": 1736946253619,
     "user": {
      "displayName": "Abdul Zoha",
      "userId": "02571689914281045390"
     },
     "user_tz": -330
    },
    "id": "Ic4J6raoUUJv"
   },
   "outputs": [],
   "source": [
    "def tokenize(text):\n",
    "   tok = [token for token in nlp(text)]\n",
    "   return tok"
   ]
  },
  {
   "cell_type": "code",
   "execution_count": 97,
   "metadata": {
    "colab": {
     "base_uri": "https://localhost:8080/"
    },
    "executionInfo": {
     "elapsed": 18,
     "status": "ok",
     "timestamp": 1736946253620,
     "user": {
      "displayName": "Abdul Zoha",
      "userId": "02571689914281045390"
     },
     "user_tz": -330
    },
    "id": "1lnbL6Zva3EY",
    "outputId": "6f37159a-8a1a-45e8-b993-98c7d4d11559"
   },
   "outputs": [
    {
     "data": {
      "text/plain": [
       "[This, is, a, apple, and, the, apple, is, red, .]"
      ]
     },
     "execution_count": 97,
     "metadata": {},
     "output_type": "execute_result"
    }
   ],
   "source": [
    "tokenize(s)"
   ]
  },
  {
   "cell_type": "markdown",
   "metadata": {
    "id": "nJkTDsoXUxY-"
   },
   "source": [
    "<h2>02 Lemmatization</h2>"
   ]
  },
  {
   "cell_type": "code",
   "execution_count": 99,
   "metadata": {
    "executionInfo": {
     "elapsed": 12,
     "status": "ok",
     "timestamp": 1736946253620,
     "user": {
      "displayName": "Abdul Zoha",
      "userId": "02571689914281045390"
     },
     "user_tz": -330
    },
    "id": "PisnjQ6_Ufon"
   },
   "outputs": [],
   "source": [
    "def lemma(text):\n",
    "   lemm = [token.lemma_.lower() for token in nlp(text)]\n",
    "   return lemm"
   ]
  },
  {
   "cell_type": "code",
   "execution_count": 100,
   "metadata": {
    "colab": {
     "base_uri": "https://localhost:8080/"
    },
    "executionInfo": {
     "elapsed": 11,
     "status": "ok",
     "timestamp": 1736946256491,
     "user": {
      "displayName": "Abdul Zoha",
      "userId": "02571689914281045390"
     },
     "user_tz": -330
    },
    "id": "TYJxxTqlXXV-",
    "outputId": "6bd7f642-5333-4cdd-9ef4-f7af8068632e"
   },
   "outputs": [
    {
     "data": {
      "text/plain": [
       "['this', 'be', 'a', 'apple', 'and', 'the', 'apple', 'be', 'red', '.']"
      ]
     },
     "execution_count": 100,
     "metadata": {},
     "output_type": "execute_result"
    }
   ],
   "source": [
    "l = lemma(s)\n",
    "l"
   ]
  },
  {
   "cell_type": "markdown",
   "metadata": {},
   "source": [
    "<h2>03 Bag of words</h2>"
   ]
  },
  {
   "cell_type": "code",
   "execution_count": 136,
   "metadata": {
    "executionInfo": {
     "elapsed": 7,
     "status": "ok",
     "timestamp": 1736946257665,
     "user": {
      "displayName": "Abdul Zoha",
      "userId": "02571689914281045390"
     },
     "user_tz": -330
    },
    "id": "Vl8wmaHNVl2G"
   },
   "outputs": [],
   "source": [
    "def bag_of_words(lem, vocab):\n",
    "   bag = np.zeros(len(vocab), dtype=np.float32)\n",
    "   for i,w in enumerate(vocab):\n",
    "      if w in lem:\n",
    "         bag[i] = 1\n",
    "      return bag"
   ]
  },
  {
   "cell_type": "code",
   "execution_count": 138,
   "metadata": {},
   "outputs": [
    {
     "data": {
      "text/plain": [
       "array([0., 0., 0., 0.], dtype=float32)"
      ]
     },
     "execution_count": 138,
     "metadata": {},
     "output_type": "execute_result"
    }
   ],
   "source": [
    "v = [\"This\",\"are\",\"man\",\"is\"]\n",
    "t = [\"This\",\"guava\",\"is\",\"red\"]\n",
    "bag_of_words(l,v)"
   ]
  },
  {
   "cell_type": "code",
   "execution_count": 103,
   "metadata": {
    "colab": {
     "base_uri": "https://localhost:8080/"
    },
    "executionInfo": {
     "elapsed": 14,
     "status": "ok",
     "timestamp": 1736946262046,
     "user": {
      "displayName": "Abdul Zoha",
      "userId": "02571689914281045390"
     },
     "user_tz": -330
    },
    "id": "5zmNGRUFVy79",
    "outputId": "624943ed-e3ab-4a0e-f18e-4e5f4db725af"
   },
   "outputs": [
    {
     "data": {
      "text/plain": [
       "{'intents': [{'tag': 'greeting',\n",
       "   'patterns': ['hello', 'hi', 'hey', 'wake up', 'jarvis'],\n",
       "   'responses': ['hello sir',\n",
       "    'how are you sir',\n",
       "    'always for you sir',\n",
       "    'hello',\n",
       "    \"Here's your assistant\"]},\n",
       "  {'tag': 'bye',\n",
       "   'patterns': ['bye', 'see you later', 'goodbye', 'bye bye', 'goodluck'],\n",
       "   'responses': ['bye sir',\n",
       "    'good bye sir',\n",
       "    \"it'll be nice to see you again\",\n",
       "    'see you later',\n",
       "    'goodluck sir']},\n",
       "  {'tag': 'health',\n",
       "   'patterns': ['how are you', 'how are you feeling now', 'are you fine?'],\n",
       "   'responses': ['fine sir', 'perfect', 'cool']}]}"
      ]
     },
     "execution_count": 103,
     "metadata": {},
     "output_type": "execute_result"
    }
   ],
   "source": [
    "with open('dataset.json','r') as rf:\n",
    "   intents = json.load(rf)\n",
    "intents"
   ]
  },
  {
   "cell_type": "code",
   "execution_count": 104,
   "metadata": {
    "colab": {
     "base_uri": "https://localhost:8080/"
    },
    "executionInfo": {
     "elapsed": 478,
     "status": "ok",
     "timestamp": 1736946274036,
     "user": {
      "displayName": "Abdul Zoha",
      "userId": "02571689914281045390"
     },
     "user_tz": -330
    },
    "id": "lUwdVbHXWE53",
    "outputId": "1d33db9d-9111-4144-c531-97f5d00c739c"
   },
   "outputs": [],
   "source": [
    "all_words = []\n",
    "tags = []\n",
    "xy = []"
   ]
  },
  {
   "cell_type": "code",
   "execution_count": 105,
   "metadata": {
    "colab": {
     "base_uri": "https://localhost:8080/"
    },
    "executionInfo": {
     "elapsed": 1176,
     "status": "ok",
     "timestamp": 1736946279044,
     "user": {
      "displayName": "Abdul Zoha",
      "userId": "02571689914281045390"
     },
     "user_tz": -330
    },
    "id": "SAl-OOaUZxe-",
    "outputId": "27c10a3e-eb07-4add-fcad-b234109c6936"
   },
   "outputs": [],
   "source": [
    "for intent in intents['intents']:\n",
    "   tag = intent['tag']\n",
    "   tags.append(tag)\n",
    "   for pattern in intent['patterns']:\n",
    "      w = lemma(pattern)\n",
    "      all_words.extend(w)\n",
    "      xy.append((w,tag))"
   ]
  },
  {
   "cell_type": "code",
   "execution_count": 106,
   "metadata": {},
   "outputs": [
    {
     "data": {
      "text/plain": [
       "['greeting', 'bye', 'health']"
      ]
     },
     "execution_count": 106,
     "metadata": {},
     "output_type": "execute_result"
    }
   ],
   "source": [
    "tags"
   ]
  },
  {
   "cell_type": "code",
   "execution_count": 107,
   "metadata": {},
   "outputs": [
    {
     "data": {
      "text/plain": [
       "['bye', 'greeting', 'health']"
      ]
     },
     "execution_count": 107,
     "metadata": {},
     "output_type": "execute_result"
    }
   ],
   "source": [
    "tags = sorted(set(tags)) #to sorted all unique words\n",
    "tags"
   ]
  },
  {
   "cell_type": "code",
   "execution_count": 108,
   "metadata": {
    "colab": {
     "base_uri": "https://localhost:8080/"
    },
    "executionInfo": {
     "elapsed": 1856,
     "status": "ok",
     "timestamp": 1736946290609,
     "user": {
      "displayName": "Abdul Zoha",
      "userId": "02571689914281045390"
     },
     "user_tz": -330
    },
    "id": "MpG4zktadXDI",
    "outputId": "868766cd-db44-4ac1-86ae-89addd8cca9b"
   },
   "outputs": [
    {
     "data": {
      "text/plain": [
       "['hello',\n",
       " 'hi',\n",
       " 'hey',\n",
       " 'wake',\n",
       " 'up',\n",
       " 'jarvis',\n",
       " 'bye',\n",
       " 'see',\n",
       " 'you',\n",
       " 'later',\n",
       " 'goodbye',\n",
       " 'bye',\n",
       " 'bye',\n",
       " 'goodluck',\n",
       " 'how',\n",
       " 'be',\n",
       " 'you',\n",
       " 'how',\n",
       " 'be',\n",
       " 'you',\n",
       " 'feel',\n",
       " 'now',\n",
       " 'be',\n",
       " 'you',\n",
       " 'fine',\n",
       " '?']"
      ]
     },
     "execution_count": 108,
     "metadata": {},
     "output_type": "execute_result"
    }
   ],
   "source": [
    "all_words"
   ]
  },
  {
   "cell_type": "code",
   "execution_count": 109,
   "metadata": {
    "colab": {
     "base_uri": "https://localhost:8080/"
    },
    "executionInfo": {
     "elapsed": 466,
     "status": "ok",
     "timestamp": 1736946299799,
     "user": {
      "displayName": "Abdul Zoha",
      "userId": "02571689914281045390"
     },
     "user_tz": -330
    },
    "id": "vJY6xkEfdyMM",
    "outputId": "6a998544-8777-4f5b-831f-587fb3c86098"
   },
   "outputs": [
    {
     "data": {
      "text/plain": [
       "[(['hello'], 'greeting'),\n",
       " (['hi'], 'greeting'),\n",
       " (['hey'], 'greeting'),\n",
       " (['wake', 'up'], 'greeting'),\n",
       " (['jarvis'], 'greeting'),\n",
       " (['bye'], 'bye'),\n",
       " (['see', 'you', 'later'], 'bye'),\n",
       " (['goodbye'], 'bye'),\n",
       " (['bye', 'bye'], 'bye'),\n",
       " (['goodluck'], 'bye'),\n",
       " (['how', 'be', 'you'], 'health'),\n",
       " (['how', 'be', 'you', 'feel', 'now'], 'health'),\n",
       " (['be', 'you', 'fine', '?'], 'health')]"
      ]
     },
     "execution_count": 109,
     "metadata": {},
     "output_type": "execute_result"
    }
   ],
   "source": [
    "xy"
   ]
  },
  {
   "cell_type": "code",
   "execution_count": 110,
   "metadata": {
    "colab": {
     "base_uri": "https://localhost:8080/"
    },
    "executionInfo": {
     "elapsed": 473,
     "status": "ok",
     "timestamp": 1736946313234,
     "user": {
      "displayName": "Abdul Zoha",
      "userId": "02571689914281045390"
     },
     "user_tz": -330
    },
    "id": "cU4_9qnK4ubt",
    "outputId": "64ad7b75-b19d-4e19-a4ba-4c06e12b60d1"
   },
   "outputs": [
    {
     "data": {
      "text/plain": [
       "['?',\n",
       " 'be',\n",
       " 'bye',\n",
       " 'feel',\n",
       " 'fine',\n",
       " 'goodbye',\n",
       " 'goodluck',\n",
       " 'hello',\n",
       " 'hey',\n",
       " 'hi',\n",
       " 'how',\n",
       " 'jarvis',\n",
       " 'later',\n",
       " 'now',\n",
       " 'see',\n",
       " 'up',\n",
       " 'wake',\n",
       " 'you']"
      ]
     },
     "execution_count": 110,
     "metadata": {},
     "output_type": "execute_result"
    }
   ],
   "source": [
    "all_words = sorted(set(all_words))\n",
    "all_words"
   ]
  },
  {
   "cell_type": "code",
   "execution_count": 111,
   "metadata": {
    "executionInfo": {
     "elapsed": 516,
     "status": "ok",
     "timestamp": 1736946310102,
     "user": {
      "displayName": "Abdul Zoha",
      "userId": "02571689914281045390"
     },
     "user_tz": -330
    },
    "id": "3BdmepvL2dxc"
   },
   "outputs": [
    {
     "data": {
      "text/plain": [
       "['be',\n",
       " 'bye',\n",
       " 'feel',\n",
       " 'fine',\n",
       " 'goodbye',\n",
       " 'goodluck',\n",
       " 'hello',\n",
       " 'hey',\n",
       " 'hi',\n",
       " 'how',\n",
       " 'jarvis',\n",
       " 'later',\n",
       " 'now',\n",
       " 'see',\n",
       " 'up',\n",
       " 'wake',\n",
       " 'you']"
      ]
     },
     "execution_count": 111,
     "metadata": {},
     "output_type": "execute_result"
    }
   ],
   "source": [
    "\"\"\"ignore all special charector\"\"\"\n",
    "ignore_words = [',','.','?','/','!']\n",
    "vocab = [w for w in all_words if w not in ignore_words]\n",
    "vocab"
   ]
  },
  {
   "cell_type": "code",
   "execution_count": 112,
   "metadata": {
    "executionInfo": {
     "elapsed": 634,
     "status": "ok",
     "timestamp": 1736946921232,
     "user": {
      "displayName": "Abdul Zoha",
      "userId": "02571689914281045390"
     },
     "user_tz": -330
    },
    "id": "Z7xB6M8kFd5Q"
   },
   "outputs": [],
   "source": [
    "x_train = []\n",
    "y_train = []\n",
    "for pattern_sentence,tag in xy:\n",
    "   bag = bag_of_words(pattern_sentence,vocab)\n",
    "   x_train.append(bag)\n",
    "\n",
    "   label = tags.index(tag)\n",
    "   y_train.append(label)"
   ]
  }
 ],
 "metadata": {
  "colab": {
   "authorship_tag": "ABX9TyOTffPFeZTicuTa23po81GM",
   "provenance": []
  },
  "kernelspec": {
   "display_name": "Python [conda env:base] *",
   "language": "python",
   "name": "conda-base-py"
  },
  "language_info": {
   "codemirror_mode": {
    "name": "ipython",
    "version": 3
   },
   "file_extension": ".py",
   "mimetype": "text/x-python",
   "name": "python",
   "nbconvert_exporter": "python",
   "pygments_lexer": "ipython3",
   "version": "3.12.7"
  }
 },
 "nbformat": 4,
 "nbformat_minor": 4
}
