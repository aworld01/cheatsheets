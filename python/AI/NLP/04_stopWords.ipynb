{
 "cells": [
  {
   "cell_type": "code",
   "execution_count": 46,
   "metadata": {},
   "outputs": [],
   "source": [
    "import spacy\n",
    "nlp = spacy.load(\"en_core_web_sm\")"
   ]
  },
  {
   "cell_type": "code",
   "execution_count": 47,
   "metadata": {},
   "outputs": [],
   "source": [
    "#Perform standard imports:-\n",
    "import nltk\n",
    "# nltk.download(\"stopwords\") #to download stopWords"
   ]
  },
  {
   "cell_type": "code",
   "execution_count": 48,
   "metadata": {},
   "outputs": [
    {
     "name": "stdout",
     "output_type": "stream",
     "text": [
      "{'whence', 'wherein', 'from', 'these', 'somehow', 'besides', 'they', 'into', 'until', 'an', 'should', 'along', 'now', 'sometimes', 'formerly', 'still', 'per', 'above', 'part', 'during', 'seeming', 'or', 'onto', 'here', 'cannot', 'i', 'whole', 'who', 'the', '’ll', 'hereby', '‘m', 'put', 'used', 'name', 'itself', 'using', 'thence', 'anyway', 'whereupon', \"'ll\", 'twenty', 'with', 'after', 'have', 'n‘t', 'us', 'namely', 'eight', 'several', 'ca', 'same', 'give', '‘ll', 'toward', 'because', 'mine', 'often', 'always', 'below', 'his', 'already', 'amount', 'see', 'something', 'via', 'although', 'beyond', 'keep', 'n’t', 'forty', \"'s\", 'almost', 'became', 'herein', 'whereby', 'hereupon', 'third', 'three', 'were', 'its', 'do', 'somewhere', 'nor', 'therein', 'themselves', 'therefore', 'will', 'make', 'around', 'whither', 'might', 'everyone', 'ten', 'how', 'otherwise', 'hers', 'what', 'under', 'may', 'herself', 'last', 'move', 'never', 'someone', 'are', 'nothing', 'made', 'least', 'thus', '’s', 'we', 'beside', 'just', 'serious', 'moreover', 'on', 'your', 'every', 'among', 'nobody', 'too', 'most', 'quite', 'but', 'done', 'such', 'other', 'was', 'though', 'unless', 'over', 'perhaps', 'am', 'why', 'more', 'none', 'so', 'ours', 'front', 'latter', 'been', 'there', 'others', 'by', 'afterwards', 'hundred', 'anyone', 'eleven', 'would', 'rather', 'throughout', 'everywhere', 'else', 'myself', 'in', 'show', 'yourself', 'indeed', 'towards', 'amongst', 'anywhere', 'take', 'sometime', 'he', 'not', 'call', 'thereafter', 'hereafter', '’ve', 'to', 'since', 'any', 'becoming', 'various', 'top', 'as', 'across', 'ourselves', 'meanwhile', '’m', 'wherever', 'however', 'against', 'while', 'within', 'six', 'say', 'down', 'yourselves', 'whatever', 'elsewhere', 'next', 'full', '‘s', 'one', 'without', 'when', 'ever', 'between', 'become', 'very', \"n't\", 'whether', 'which', 'their', 'together', 'of', 'thereupon', 'upon', 'anyhow', '‘d', 'nowhere', 'off', 'back', 'twelve', 'her', 'did', '‘re', 'through', 'each', 'my', 'even', 'seem', 'whereafter', 'thru', 'than', 'please', 'those', '‘ve', '’re', 'doing', 'him', 'about', 'due', 'can', 'seemed', 'whenever', 'again', 'either', 'for', 'former', 'beforehand', 'you', 'further', 'it', 'only', 'our', 'could', 'that', 'a', 'enough', 'everything', 'nevertheless', 'noone', 'no', \"'re\", '’d', 'this', 'anything', 'thereby', 'hence', 'bottom', 'had', 'all', 'be', 'get', 'whereas', 'alone', 'at', 'first', 'up', 'whose', 'many', \"'d\", 'mostly', 'go', 'where', 'does', 'two', 'also', 'and', 'becomes', 'much', 'nine', 'regarding', \"'ve\", 'yet', 'then', 'behind', 'seems', 'few', 'really', 'whoever', 'sixty', 'side', 'well', 'less', 'five', 'latterly', 'must', 'empty', 'some', 'if', 'out', 'before', 'four', 'once', 'yours', \"'m\", 'them', 'own', 're', 'me', 'another', 'except', 'being', 'fifty', 'fifteen', 'neither', 'himself', 'has', 'is', 'whom', 'both', 'she'}\n"
     ]
    }
   ],
   "source": [
    "#print the set of spacy's default stop words (Remember that sets are unordered)\n",
    "print(nlp.Defaults.stop_words) #to fetch default stopWords (it returns a set datatype)"
   ]
  },
  {
   "cell_type": "code",
   "execution_count": 49,
   "metadata": {},
   "outputs": [
    {
     "name": "stdout",
     "output_type": "stream",
     "text": [
      "326\n"
     ]
    }
   ],
   "source": [
    "print(len(nlp.Defaults.stop_words)) #to check length of stop words"
   ]
  },
  {
   "cell_type": "code",
   "execution_count": 50,
   "metadata": {},
   "outputs": [
    {
     "name": "stdout",
     "output_type": "stream",
     "text": [
      "False\n"
     ]
    }
   ],
   "source": [
    "print(nlp.vocab[\"mystery\"].is_stop) #to check stopWord or not"
   ]
  },
  {
   "cell_type": "code",
   "execution_count": 51,
   "metadata": {},
   "outputs": [],
   "source": [
    "nlp.Defaults.stop_words.add(\"mystery\") #Add the word to the set of stopWords. Use lowercase!\n",
    "nlp.vocab[\"mystery\"].is_stop = True #Set the stopWord tag on the lexeme"
   ]
  },
  {
   "cell_type": "code",
   "execution_count": 52,
   "metadata": {},
   "outputs": [
    {
     "name": "stdout",
     "output_type": "stream",
     "text": [
      "327\n"
     ]
    }
   ],
   "source": [
    "print(len(nlp.Defaults.stop_words))"
   ]
  },
  {
   "cell_type": "code",
   "execution_count": 53,
   "metadata": {},
   "outputs": [
    {
     "name": "stdout",
     "output_type": "stream",
     "text": [
      "True\n"
     ]
    }
   ],
   "source": [
    "print(nlp.vocab[\"mystery\"].is_stop) #to check stopWord or not"
   ]
  },
  {
   "cell_type": "code",
   "execution_count": 54,
   "metadata": {},
   "outputs": [],
   "source": [
    "nlp.Defaults.stop_words.remove(\"mystery\") #to remove the stopWord from the set of stopWords"
   ]
  },
  {
   "cell_type": "code",
   "execution_count": 55,
   "metadata": {},
   "outputs": [
    {
     "data": {
      "text/plain": [
       "326"
      ]
     },
     "execution_count": 55,
     "metadata": {},
     "output_type": "execute_result"
    }
   ],
   "source": [
    "len(nlp.Defaults.stop_words)"
   ]
  },
  {
   "cell_type": "code",
   "execution_count": 56,
   "metadata": {},
   "outputs": [
    {
     "data": {
      "text/plain": [
       "True"
      ]
     },
     "execution_count": 56,
     "metadata": {},
     "output_type": "execute_result"
    }
   ],
   "source": [
    "nlp.vocab[\"mystery\"].is_stop\n"
   ]
  },
  {
   "cell_type": "code",
   "execution_count": 57,
   "metadata": {},
   "outputs": [],
   "source": [
    "nlp.vocab[\"mystery\"].is_stop = False #remove the stopWord tag from the lexeme"
   ]
  },
  {
   "cell_type": "code",
   "execution_count": 58,
   "metadata": {},
   "outputs": [
    {
     "data": {
      "text/plain": [
       "False"
      ]
     },
     "execution_count": 58,
     "metadata": {},
     "output_type": "execute_result"
    }
   ],
   "source": [
    "nlp.vocab[\"mystery\"].is_stop"
   ]
  },
  {
   "cell_type": "code",
   "execution_count": 2,
   "metadata": {},
   "outputs": [],
   "source": [
    "import string\n",
    "import re\n",
    "import nltk\n",
    "from nltk import word_tokenize, sent_tokenize\n",
    "from nltk.corpus import stopwords"
   ]
  },
  {
   "cell_type": "code",
   "execution_count": 3,
   "metadata": {},
   "outputs": [],
   "source": [
    "# nltk.download(\"punkt\") #to download punkt"
   ]
  },
  {
   "cell_type": "code",
   "execution_count": 4,
   "metadata": {},
   "outputs": [],
   "source": [
    "#load data\n",
    "text = \"The Quick brown fox jump over the lazy dog!\""
   ]
  },
  {
   "cell_type": "code",
   "execution_count": 5,
   "metadata": {},
   "outputs": [
    {
     "name": "stdout",
     "output_type": "stream",
     "text": [
      "['The', 'Quick', 'brown', 'fox', 'jump', 'over', 'the', 'lazy', 'dog', '!']\n"
     ]
    }
   ],
   "source": [
    "#split into words\n",
    "tokens = word_tokenize(text)\n",
    "print(tokens)"
   ]
  },
  {
   "cell_type": "code",
   "execution_count": 6,
   "metadata": {},
   "outputs": [
    {
     "name": "stdout",
     "output_type": "stream",
     "text": [
      "['the', 'quick', 'brown', 'fox', 'jump', 'over', 'the', 'lazy', 'dog', '!']\n"
     ]
    }
   ],
   "source": [
    "# convert to lower case\n",
    "tokens = [w.lower() for w in tokens]\n",
    "print(tokens)"
   ]
  },
  {
   "cell_type": "code",
   "execution_count": 8,
   "metadata": {},
   "outputs": [
    {
     "name": "stdout",
     "output_type": "stream",
     "text": [
      "re.compile('[!\"\\\\#\\\\$%\\\\&\\'\\\\(\\\\)\\\\*\\\\+,\\\\-\\\\./:;<=>\\\\?@\\\\[\\\\\\\\\\\\]\\\\^_`\\\\{\\\\|\\\\}\\\\~]')\n"
     ]
    }
   ],
   "source": [
    "#prepare regex for char filtering\n",
    "re_punc = re.compile(\"[%s]\" % re.escape(string.punctuation))\n",
    "print(re_punc)"
   ]
  },
  {
   "cell_type": "code",
   "execution_count": 9,
   "metadata": {},
   "outputs": [
    {
     "name": "stdout",
     "output_type": "stream",
     "text": [
      "['the', 'quick', 'brown', 'fox', 'jump', 'over', 'the', 'lazy', 'dog', '']\n"
     ]
    }
   ],
   "source": [
    "#remove punctuation from each word\n",
    "stripped = [re_punc.sub('',w) for w in tokens]\n",
    "print(stripped)"
   ]
  },
  {
   "cell_type": "code",
   "execution_count": 10,
   "metadata": {},
   "outputs": [
    {
     "name": "stdout",
     "output_type": "stream",
     "text": [
      "['the', 'quick', 'brown', 'fox', 'jump', 'over', 'the', 'lazy', 'dog']\n"
     ]
    }
   ],
   "source": [
    "#remove remaining tokens that are not alphabetic\n",
    "words = [word for word in stripped if word.isalpha()]\n",
    "print(words)"
   ]
  },
  {
   "cell_type": "code",
   "execution_count": 12,
   "metadata": {},
   "outputs": [
    {
     "name": "stdout",
     "output_type": "stream",
     "text": [
      "['quick', 'brown', 'fox', 'jump', 'lazy', 'dog']\n"
     ]
    }
   ],
   "source": [
    "#filter out non-stop words\n",
    "stop_words = set(stopwords.words(\"english\"))\n",
    "words = [w for w in words if not w in stop_words]\n",
    "print(words)"
   ]
  }
 ],
 "metadata": {
  "kernelspec": {
   "display_name": "base",
   "language": "python",
   "name": "python3"
  },
  "language_info": {
   "codemirror_mode": {
    "name": "ipython",
    "version": 3
   },
   "file_extension": ".py",
   "mimetype": "text/x-python",
   "name": "python",
   "nbconvert_exporter": "python",
   "pygments_lexer": "ipython3",
   "version": "3.9.13"
  },
  "orig_nbformat": 4,
  "vscode": {
   "interpreter": {
    "hash": "734bfd3f775eda32afe1fae967da9bc0eb3536e0538071373cc48dbb7aaa4395"
   }
  }
 },
 "nbformat": 4,
 "nbformat_minor": 2
}
