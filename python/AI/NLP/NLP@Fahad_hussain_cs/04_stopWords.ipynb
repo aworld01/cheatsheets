{
 "cells": [
  {
   "cell_type": "code",
   "execution_count": 1,
   "metadata": {},
   "outputs": [],
   "source": [
    "import spacy\n",
    "nlp = spacy.load(\"en_core_web_sm\")"
   ]
  },
  {
   "cell_type": "code",
   "execution_count": 35,
   "metadata": {},
   "outputs": [
    {
     "name": "stderr",
     "output_type": "stream",
     "text": [
      "[nltk_data] Downloading package stopwords to\n",
      "[nltk_data]     C:\\Users\\Abdul\\AppData\\Roaming\\nltk_data...\n",
      "[nltk_data]   Unzipping corpora\\stopwords.zip.\n"
     ]
    },
    {
     "data": {
      "text/plain": [
       "True"
      ]
     },
     "execution_count": 35,
     "metadata": {},
     "output_type": "execute_result"
    }
   ],
   "source": [
    "#Perform standard imports:-\n",
    "import nltk\n",
    "# nltk.download(\"stopwords\") #to download stopWords"
   ]
  },
  {
   "cell_type": "code",
   "execution_count": 36,
   "metadata": {},
   "outputs": [
    {
     "name": "stdout",
     "output_type": "stream",
     "text": [
      "{'whose', 'had', 'out', 'of', 'our', 'seems', 'else', 'any', 'show', 'ours', 'my', 'others', 'since', 'them', 'last', 'meanwhile', 'per', 'anyhow', '’re', \"'s\", 'have', 'bottom', 'if', 'been', 'seemed', 'five', 'anyway', 'empty', 'across', 'into', 'such', 'using', 'behind', \"'m\", 'although', 'thru', 'whatever', 'somehow', 'formerly', 'there', 'all', 'onto', 'part', 'because', 'did', 'should', 'noone', 'whom', 'nevertheless', 'this', 'many', 'except', 'something', 'most', 'now', 'throughout', 'may', 'i', 'sometimes', 'each', 'namely', 'became', 'enough', '’d', 'two', 'sixty', 'seeming', 'name', 'were', 'when', 'give', 'everywhere', 'used', 'see', 'somewhere', 'doing', 'keep', 'not', 'through', 'least', 'might', 'after', 'whole', 'nobody', 'however', 'other', 'beforehand', 'besides', 'which', 'alone', 'front', 'along', '’m', 'go', 'afterwards', 'call', 'though', 'by', 'below', 'make', 'everyone', 'so', 'himself', 'twelve', 'under', 'also', 'latterly', 'we', 'eleven', 'ourselves', '‘s', 'amount', 'mine', 'whereas', 'yet', 'someone', 'becomes', 'up', 'rather', 'a', 'being', 'more', \"n't\", 'anything', 're', 'beside', 'none', '’ll', 'move', 'one', 'fifty', 'before', 'between', 'due', 'she', 'is', 'everything', 'latter', 'off', '’ve', 'thereafter', 'would', 'n‘t', 'among', 'via', 'some', 'ca', 'whither', 'whether', 'then', 'get', 'its', 'otherwise', 'done', 'hundred', 'still', 'back', 'whenever', 'yourself', 'than', 'you', 'cannot', 'down', 'thence', 'yourselves', 'elsewhere', 'their', 'can', 'hence', 'regarding', 'please', 'quite', 'he', 'me', 'wherever', 'become', 'but', 'seem', '‘ll', 'ten', 'what', 'and', 'has', 'almost', 'or', 'whereafter', 'really', 'once', 'thereby', 'often', 'neither', 'was', 'whereby', 'while', 'us', 'hereby', 'mostly', 'with', 'nor', 'only', 'herself', 'that', 'either', 'who', 'top', 'always', 'nine', 'against', 'very', 'whoever', 'from', 'several', 'an', 'again', 'myself', 'next', 'whence', \"'ll\", 'why', 'themselves', 'upon', 'over', 'just', 'four', '‘ve', 'sometime', 'do', 'about', 'above', 'anywhere', '‘d', 'will', 'forty', 'put', 'beyond', 'made', 'hereupon', 'whereupon', 'toward', 'does', '‘m', 'at', 'these', 'therein', 'hereafter', 'therefore', '‘re', 'side', 'third', 'thus', 'him', 'both', 'full', 'amongst', 'never', '’s', 'here', 'another', 'wherein', 'further', 'on', 'are', 'as', 'without', 'take', 'three', 'where', 'for', 'must', 'same', 'six', 'various', 'those', 'be', 'her', 'to', 'how', 'every', 'hers', 'within', 'serious', 'yours', 'in', 'itself', 'much', 'perhaps', 'nothing', 'they', 'indeed', 'even', 'no', 'n’t', 'ever', 'few', 'could', 'becoming', 'too', \"'ve\", 'well', 'your', 'it', \"'d\", 'unless', 'the', 'together', 'less', 'already', 'nowhere', 'herein', 'say', 'am', 'moreover', 'former', 'thereupon', 'around', \"'re\", 'fifteen', 'anyone', 'towards', 'own', 'until', 'first', 'his', 'eight', 'during', 'twenty'}\n"
     ]
    }
   ],
   "source": [
    "#print the set of spacy's default stop words (Remember that sets are unordered)\n",
    "print(nlp.Defaults.stop_words) #to fetch default stopWords (it returns a set datatype)"
   ]
  },
  {
   "cell_type": "code",
   "execution_count": 37,
   "metadata": {},
   "outputs": [
    {
     "name": "stdout",
     "output_type": "stream",
     "text": [
      "326\n"
     ]
    }
   ],
   "source": [
    "print(len(nlp.Defaults.stop_words)) #to check length of stop words"
   ]
  },
  {
   "cell_type": "code",
   "execution_count": 38,
   "metadata": {},
   "outputs": [
    {
     "name": "stdout",
     "output_type": "stream",
     "text": [
      "False\n"
     ]
    }
   ],
   "source": [
    "print(nlp.vocab[\"mystery\"].is_stop) #to check stopWord or not"
   ]
  },
  {
   "cell_type": "code",
   "execution_count": 39,
   "metadata": {},
   "outputs": [],
   "source": [
    "nlp.Defaults.stop_words.add(\"mystery\") #Add the word to the set of stopWords. Use lowercase!\n",
    "nlp.vocab[\"mystery\"].is_stop = True #Set the stopWord tag on the lexeme"
   ]
  },
  {
   "cell_type": "code",
   "execution_count": 40,
   "metadata": {},
   "outputs": [
    {
     "name": "stdout",
     "output_type": "stream",
     "text": [
      "327\n"
     ]
    }
   ],
   "source": [
    "print(len(nlp.Defaults.stop_words))"
   ]
  },
  {
   "cell_type": "code",
   "execution_count": 41,
   "metadata": {},
   "outputs": [
    {
     "name": "stdout",
     "output_type": "stream",
     "text": [
      "True\n"
     ]
    }
   ],
   "source": [
    "print(nlp.vocab[\"mystery\"].is_stop) #to check stopWord or not"
   ]
  },
  {
   "cell_type": "code",
   "execution_count": 42,
   "metadata": {},
   "outputs": [],
   "source": [
    "nlp.Defaults.stop_words.remove(\"mystery\") #to remove the stopWord from the set of stopWords"
   ]
  },
  {
   "cell_type": "code",
   "execution_count": 43,
   "metadata": {},
   "outputs": [
    {
     "data": {
      "text/plain": [
       "326"
      ]
     },
     "execution_count": 43,
     "metadata": {},
     "output_type": "execute_result"
    }
   ],
   "source": [
    "len(nlp.Defaults.stop_words)"
   ]
  },
  {
   "cell_type": "code",
   "execution_count": 44,
   "metadata": {},
   "outputs": [
    {
     "data": {
      "text/plain": [
       "True"
      ]
     },
     "execution_count": 44,
     "metadata": {},
     "output_type": "execute_result"
    }
   ],
   "source": [
    "nlp.vocab[\"mystery\"].is_stop\n"
   ]
  },
  {
   "cell_type": "code",
   "execution_count": 45,
   "metadata": {},
   "outputs": [],
   "source": [
    "nlp.vocab[\"mystery\"].is_stop = False #remove the stopWord tag from the lexeme"
   ]
  },
  {
   "cell_type": "code",
   "execution_count": 46,
   "metadata": {},
   "outputs": [
    {
     "data": {
      "text/plain": [
       "False"
      ]
     },
     "execution_count": 46,
     "metadata": {},
     "output_type": "execute_result"
    }
   ],
   "source": [
    "nlp.vocab[\"mystery\"].is_stop"
   ]
  },
  {
   "cell_type": "code",
   "execution_count": 47,
   "metadata": {},
   "outputs": [],
   "source": [
    "import string\n",
    "import re\n",
    "import nltk\n",
    "from nltk import word_tokenize, sent_tokenize\n",
    "from nltk.corpus import stopwords"
   ]
  },
  {
   "cell_type": "code",
   "execution_count": 48,
   "metadata": {},
   "outputs": [],
   "source": [
    "# nltk.download(\"punkt\") #to download punkt"
   ]
  },
  {
   "cell_type": "code",
   "execution_count": 49,
   "metadata": {},
   "outputs": [],
   "source": [
    "#load data\n",
    "text = \"The Quick brown fox jump over the lazy dog!\""
   ]
  },
  {
   "cell_type": "code",
   "execution_count": 50,
   "metadata": {},
   "outputs": [
    {
     "name": "stdout",
     "output_type": "stream",
     "text": [
      "['The', 'Quick', 'brown', 'fox', 'jump', 'over', 'the', 'lazy', 'dog', '!']\n"
     ]
    }
   ],
   "source": [
    "#split into words\n",
    "tokens = word_tokenize(text)\n",
    "print(tokens)"
   ]
  },
  {
   "cell_type": "code",
   "execution_count": 51,
   "metadata": {},
   "outputs": [
    {
     "name": "stdout",
     "output_type": "stream",
     "text": [
      "['the', 'quick', 'brown', 'fox', 'jump', 'over', 'the', 'lazy', 'dog', '!']\n"
     ]
    }
   ],
   "source": [
    "# convert to lower case\n",
    "tokens = [w.lower() for w in tokens]\n",
    "print(tokens)"
   ]
  },
  {
   "cell_type": "code",
   "execution_count": 52,
   "metadata": {},
   "outputs": [
    {
     "name": "stdout",
     "output_type": "stream",
     "text": [
      "re.compile('[!\"\\\\#\\\\$%\\\\&\\'\\\\(\\\\)\\\\*\\\\+,\\\\-\\\\./:;<=>\\\\?@\\\\[\\\\\\\\\\\\]\\\\^_`\\\\{\\\\|\\\\}\\\\~]')\n"
     ]
    }
   ],
   "source": [
    "#prepare regex for char filtering\n",
    "re_punc = re.compile(\"[%s]\" % re.escape(string.punctuation))\n",
    "print(re_punc)"
   ]
  },
  {
   "cell_type": "code",
   "execution_count": 53,
   "metadata": {},
   "outputs": [
    {
     "name": "stdout",
     "output_type": "stream",
     "text": [
      "['the', 'quick', 'brown', 'fox', 'jump', 'over', 'the', 'lazy', 'dog', '']\n"
     ]
    }
   ],
   "source": [
    "#remove punctuation from each word\n",
    "stripped = [re_punc.sub('',w) for w in tokens]\n",
    "print(stripped)"
   ]
  },
  {
   "cell_type": "code",
   "execution_count": 54,
   "metadata": {},
   "outputs": [
    {
     "name": "stdout",
     "output_type": "stream",
     "text": [
      "['the', 'quick', 'brown', 'fox', 'jump', 'over', 'the', 'lazy', 'dog']\n"
     ]
    }
   ],
   "source": [
    "#remove remaining tokens that are not alphabetic\n",
    "words = [word for word in stripped if word.isalpha()]\n",
    "print(words)"
   ]
  },
  {
   "cell_type": "code",
   "execution_count": 55,
   "metadata": {},
   "outputs": [
    {
     "name": "stdout",
     "output_type": "stream",
     "text": [
      "['quick', 'brown', 'fox', 'jump', 'lazy', 'dog']\n"
     ]
    }
   ],
   "source": [
    "#filter out non-stop words\n",
    "stop_words = set(stopwords.words(\"english\"))\n",
    "words = [w for w in words if not w in stop_words]\n",
    "print(words)"
   ]
  }
 ],
 "metadata": {
  "kernelspec": {
   "display_name": "base",
   "language": "python",
   "name": "python3"
  },
  "language_info": {
   "codemirror_mode": {
    "name": "ipython",
    "version": 3
   },
   "file_extension": ".py",
   "mimetype": "text/x-python",
   "name": "python",
   "nbconvert_exporter": "python",
   "pygments_lexer": "ipython3",
   "version": "3.11.1"
  },
  "orig_nbformat": 4,
  "vscode": {
   "interpreter": {
    "hash": "734bfd3f775eda32afe1fae967da9bc0eb3536e0538071373cc48dbb7aaa4395"
   }
  }
 },
 "nbformat": 4,
 "nbformat_minor": 2
}
