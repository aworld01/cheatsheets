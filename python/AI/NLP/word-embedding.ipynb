{
 "cells": [
  {
   "cell_type": "code",
   "execution_count": 85,
   "id": "cf00e5f7-07da-4f90-bd02-d43bab40ebf9",
   "metadata": {},
   "outputs": [],
   "source": [
    "from string import punctuation\n",
    "import numpy as np"
   ]
  },
  {
   "cell_type": "code",
   "execution_count": 86,
   "id": "2dd037d8-72fd-46b5-bfa3-f5aeef75bf2d",
   "metadata": {},
   "outputs": [],
   "source": [
    "s = \"This is an apple. I love apple. The apple is red.\""
   ]
  },
  {
   "cell_type": "markdown",
   "id": "c19a7f8e-6e8c-4237-b4da-b545aa3e298f",
   "metadata": {},
   "source": [
    "<h2>One-Hot Encoding</h2>"
   ]
  },
  {
   "cell_type": "markdown",
   "id": "eb7e043f-ff7a-4616-85c9-4c2babb09c71",
   "metadata": {},
   "source": [
    "<h3>Preprocess the Sentence</h3>"
   ]
  },
  {
   "cell_type": "markdown",
   "id": "15069389-5669-4537-a3a8-0fc9f8aa0ddc",
   "metadata": {},
   "source": [
    "<p>First, normalize (lowercase) and remove punctuation</p>"
   ]
  },
  {
   "cell_type": "code",
   "execution_count": 87,
   "id": "e0f94cdd-dcd7-4159-8f56-e3d3fb32d199",
   "metadata": {},
   "outputs": [],
   "source": [
    "punc = list(punctuation)\n",
    "# punc"
   ]
  },
  {
   "cell_type": "markdown",
   "id": "58812ab9-d20c-464c-a1af-09aa5963f184",
   "metadata": {},
   "source": [
    "<h2>1. Remove punctuations and change into lowercase</h2>"
   ]
  },
  {
   "cell_type": "code",
   "execution_count": 88,
   "id": "2ce7a961-918b-49ec-bc60-59e6bdb06f31",
   "metadata": {},
   "outputs": [],
   "source": [
    "def removePunc(arg):\n",
    "    words = \"\"\n",
    "    for i in s:\n",
    "        if i not in punc:\n",
    "            words += i\n",
    "    return words.lower()"
   ]
  },
  {
   "cell_type": "code",
   "execution_count": 89,
   "id": "737bf548-c4c2-46a7-b5a6-ff6a2d9cdf60",
   "metadata": {},
   "outputs": [
    {
     "data": {
      "text/plain": [
       "'this is an apple i love apple the apple is red'"
      ]
     },
     "execution_count": 89,
     "metadata": {},
     "output_type": "execute_result"
    }
   ],
   "source": [
    "s2 = removePunc(s)\n",
    "s2"
   ]
  },
  {
   "cell_type": "markdown",
   "id": "ae3dcf58-d81b-4060-b6fb-197fba2de518",
   "metadata": {},
   "source": [
    "<h2>2. Split into words</h2>"
   ]
  },
  {
   "cell_type": "code",
   "execution_count": 90,
   "id": "930c92db-35d4-4e79-9803-51b335f3f3f2",
   "metadata": {},
   "outputs": [
    {
     "name": "stdout",
     "output_type": "stream",
     "text": [
      "['this', 'is', 'an', 'apple', 'i', 'love', 'apple', 'the', 'apple', 'is', 'red']\n"
     ]
    }
   ],
   "source": [
    "s2 = s2.split()\n",
    "print(s2)"
   ]
  },
  {
   "cell_type": "markdown",
   "id": "6ebea37a-4375-4efb-ab16-1b70e07f57b7",
   "metadata": {},
   "source": [
    "<h2>3. Create Vocabulary (extract unique words)</h2>"
   ]
  },
  {
   "cell_type": "code",
   "execution_count": 91,
   "id": "109233fb-9f73-4fe2-a377-63660601c50e",
   "metadata": {},
   "outputs": [
    {
     "name": "stdout",
     "output_type": "stream",
     "text": [
      "['an', 'apple', 'i', 'is', 'love', 'red', 'the', 'this']\n"
     ]
    }
   ],
   "source": [
    "s2 = sorted(set(s2))\n",
    "print(s2)"
   ]
  },
  {
   "cell_type": "markdown",
   "id": "81d67f89-33df-45de-a5d5-78e80e2c6d05",
   "metadata": {},
   "source": [
    "<h2>4. One-hot encoding</h2>"
   ]
  },
  {
   "cell_type": "code",
   "execution_count": 105,
   "id": "8524ff5f-2252-482e-8bc0-3b538cccb967",
   "metadata": {},
   "outputs": [
    {
     "data": {
      "text/plain": [
       "array([[0., 0., 0., 0., 0., 0., 0., 0.],\n",
       "       [0., 0., 0., 0., 0., 0., 0., 0.],\n",
       "       [0., 0., 0., 0., 0., 0., 0., 0.],\n",
       "       [0., 0., 0., 0., 0., 0., 0., 0.],\n",
       "       [0., 0., 0., 0., 0., 0., 0., 0.],\n",
       "       [0., 0., 0., 0., 0., 0., 0., 0.],\n",
       "       [0., 0., 0., 0., 0., 0., 0., 0.],\n",
       "       [0., 0., 0., 0., 0., 0., 0., 0.]], dtype=float32)"
      ]
     },
     "execution_count": 105,
     "metadata": {},
     "output_type": "execute_result"
    }
   ],
   "source": [
    "l = len(s2)\n",
    "dummy = np.zeros((l, l),dtype=np.float32)\n",
    "dummy"
   ]
  },
  {
   "cell_type": "code",
   "execution_count": 106,
   "id": "ec054709-2dd2-4d59-aa3c-b21f9efe0cef",
   "metadata": {},
   "outputs": [],
   "source": [
    "for i in range(l):\n",
    "    dummy[i][i] = 1.0"
   ]
  },
  {
   "cell_type": "code",
   "execution_count": 107,
   "id": "037c3763-5c12-4a19-9ffd-36b875a097fd",
   "metadata": {},
   "outputs": [
    {
     "data": {
      "text/plain": [
       "array([[1., 0., 0., 0., 0., 0., 0., 0.],\n",
       "       [0., 1., 0., 0., 0., 0., 0., 0.],\n",
       "       [0., 0., 1., 0., 0., 0., 0., 0.],\n",
       "       [0., 0., 0., 1., 0., 0., 0., 0.],\n",
       "       [0., 0., 0., 0., 1., 0., 0., 0.],\n",
       "       [0., 0., 0., 0., 0., 1., 0., 0.],\n",
       "       [0., 0., 0., 0., 0., 0., 1., 0.],\n",
       "       [0., 0., 0., 0., 0., 0., 0., 1.]], dtype=float32)"
      ]
     },
     "execution_count": 107,
     "metadata": {},
     "output_type": "execute_result"
    }
   ],
   "source": [
    "dummy"
   ]
  },
  {
   "cell_type": "code",
   "execution_count": null,
   "id": "1b605e29-eb35-4c7f-adc0-b97ae678df7e",
   "metadata": {},
   "outputs": [],
   "source": []
  },
  {
   "cell_type": "code",
   "execution_count": null,
   "id": "866bf61c-9416-4ea3-971d-2f6039439681",
   "metadata": {},
   "outputs": [],
   "source": [
    "dummy"
   ]
  },
  {
   "cell_type": "code",
   "execution_count": null,
   "id": "3e696fa3-414d-48cf-a901-d46215c34c24",
   "metadata": {},
   "outputs": [],
   "source": []
  }
 ],
 "metadata": {
  "kernelspec": {
   "display_name": "Python [conda env:base] *",
   "language": "python",
   "name": "conda-base-py"
  },
  "language_info": {
   "codemirror_mode": {
    "name": "ipython",
    "version": 3
   },
   "file_extension": ".py",
   "mimetype": "text/x-python",
   "name": "python",
   "nbconvert_exporter": "python",
   "pygments_lexer": "ipython3",
   "version": "3.12.7"
  }
 },
 "nbformat": 4,
 "nbformat_minor": 5
}
