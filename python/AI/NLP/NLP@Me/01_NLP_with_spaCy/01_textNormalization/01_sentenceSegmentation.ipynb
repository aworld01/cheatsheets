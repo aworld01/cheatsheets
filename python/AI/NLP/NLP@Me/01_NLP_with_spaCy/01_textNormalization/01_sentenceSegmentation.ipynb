{
 "cells": [
  {
   "cell_type": "code",
   "execution_count": 2,
   "metadata": {},
   "outputs": [
    {
     "data": {
      "text/plain": [
       "\"Hello world! How are you? My name is Abdul Zoha and I'm learning python programming. I love my Dog. I love my Cat. My dog and cat is amaging. Do you love your Family? I love you to much, do you love me? Bro, don't say no! This is not good for your personality. Hello world! How are you? Captain America ate 100$ of samosa. Then he said I can do this all day.\""
      ]
     },
     "execution_count": 2,
     "metadata": {},
     "output_type": "execute_result"
    }
   ],
   "source": [
    "with open('demo.txt', 'r') as rf:\n",
    "    data = rf.read()\n",
    "\n",
    "data"
   ]
  },
  {
   "cell_type": "code",
   "execution_count": 3,
   "metadata": {},
   "outputs": [
    {
     "data": {
      "text/plain": [
       "<spacy.lang.en.English at 0x19b559e9c50>"
      ]
     },
     "execution_count": 3,
     "metadata": {},
     "output_type": "execute_result"
    }
   ],
   "source": [
    "import spacy\n",
    "\n",
    "nlp = spacy.load(\"en_core_web_sm\")\n",
    "nlp"
   ]
  },
  {
   "cell_type": "code",
   "execution_count": 4,
   "metadata": {},
   "outputs": [
    {
     "data": {
      "text/plain": [
       "Hello world! How are you? My name is Abdul Zoha and I'm learning python programming. I love my Dog. I love my Cat. My dog and cat is amaging. Do you love your Family? I love you to much, do you love me? Bro, don't say no! This is not good for your personality. Hello world! How are you? Captain America ate 100$ of samosa. Then he said I can do this all day."
      ]
     },
     "execution_count": 4,
     "metadata": {},
     "output_type": "execute_result"
    }
   ],
   "source": [
    "doc = nlp(data)\n",
    "doc"
   ]
  },
  {
   "cell_type": "code",
   "execution_count": 5,
   "metadata": {},
   "outputs": [
    {
     "data": {
      "text/plain": [
       "['Hello world!',\n",
       " 'How are you?',\n",
       " \"My name is Abdul Zoha and I'm learning python programming.\",\n",
       " 'I love my Dog.',\n",
       " 'I love my Cat.',\n",
       " 'My dog and cat is amaging.',\n",
       " 'Do you love your Family?',\n",
       " 'I love you to much, do you love me?',\n",
       " \"Bro, don't say no!\",\n",
       " 'This is not good for your personality.',\n",
       " 'Hello world!',\n",
       " 'How are you?',\n",
       " 'Captain America ate 100$ of samosa.',\n",
       " 'Then he said I can do this all day.']"
      ]
     },
     "execution_count": 5,
     "metadata": {},
     "output_type": "execute_result"
    }
   ],
   "source": [
    "sentences = []\n",
    "for sent in doc.sents:\n",
    "    sentences.append(sent.text)\n",
    "\n",
    "sentences"
   ]
  },
  {
   "cell_type": "code",
   "execution_count": 6,
   "metadata": {},
   "outputs": [
    {
     "data": {
      "text/plain": [
       "[Hello world!,\n",
       " How are you?,\n",
       " My name is Abdul Zoha and I'm learning python programming.,\n",
       " I love my Dog.,\n",
       " I love my Cat.,\n",
       " My dog and cat is amaging.,\n",
       " Do you love your Family?,\n",
       " I love you to much, do you love me?,\n",
       " Bro, don't say no!,\n",
       " This is not good for your personality.,\n",
       " Hello world!,\n",
       " How are you?,\n",
       " Captain America ate 100$ of samosa.,\n",
       " Then he said I can do this all day.]"
      ]
     },
     "execution_count": 6,
     "metadata": {},
     "output_type": "execute_result"
    }
   ],
   "source": [
    "sentences = [sent for sent in doc.sents]\n",
    "sentences"
   ]
  }
 ],
 "metadata": {
  "kernelspec": {
   "display_name": "Python 3",
   "language": "python",
   "name": "python3"
  },
  "language_info": {
   "codemirror_mode": {
    "name": "ipython",
    "version": 3
   },
   "file_extension": ".py",
   "mimetype": "text/x-python",
   "name": "python",
   "nbconvert_exporter": "python",
   "pygments_lexer": "ipython3",
   "version": "3.11.1"
  },
  "orig_nbformat": 4
 },
 "nbformat": 4,
 "nbformat_minor": 2
}
