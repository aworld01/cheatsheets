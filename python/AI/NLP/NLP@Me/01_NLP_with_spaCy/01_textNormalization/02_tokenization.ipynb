{
 "cells": [
  {
   "cell_type": "code",
   "execution_count": 2,
   "metadata": {},
   "outputs": [],
   "source": [
    "data = \"Hello world! How are you? My name is Abdul Zoha and I'm learning programming. Dr. Strang loves pav bhaji of mumbai as it costs only 2$ per plate.\""
   ]
  },
  {
   "cell_type": "code",
   "execution_count": 4,
   "metadata": {},
   "outputs": [],
   "source": [
    "import spacy\n",
    "\n",
    "nlp = spacy.load(\"en_core_web_sm\")\n",
    "doc = nlp(data)"
   ]
  },
  {
   "cell_type": "code",
   "execution_count": 6,
   "metadata": {},
   "outputs": [
    {
     "data": {
      "text/plain": [
       "[Hello,\n",
       " world,\n",
       " !,\n",
       " How,\n",
       " are,\n",
       " you,\n",
       " ?,\n",
       " My,\n",
       " name,\n",
       " is,\n",
       " Abdul,\n",
       " Zoha,\n",
       " and,\n",
       " I,\n",
       " 'm,\n",
       " learning,\n",
       " programming,\n",
       " .,\n",
       " Dr.,\n",
       " Strang,\n",
       " loves,\n",
       " pav,\n",
       " bhaji,\n",
       " of,\n",
       " mumbai,\n",
       " as,\n",
       " it,\n",
       " costs,\n",
       " only,\n",
       " 2,\n",
       " $,\n",
       " per,\n",
       " plate,\n",
       " .]"
      ]
     },
     "execution_count": 6,
     "metadata": {},
     "output_type": "execute_result"
    }
   ],
   "source": [
    "words = [token for token in doc]\n",
    "words"
   ]
  }
 ],
 "metadata": {
  "kernelspec": {
   "display_name": "Python 3",
   "language": "python",
   "name": "python3"
  },
  "language_info": {
   "codemirror_mode": {
    "name": "ipython",
    "version": 3
   },
   "file_extension": ".py",
   "mimetype": "text/x-python",
   "name": "python",
   "nbconvert_exporter": "python",
   "pygments_lexer": "ipython3",
   "version": "3.11.1"
  },
  "orig_nbformat": 4
 },
 "nbformat": 4,
 "nbformat_minor": 2
}
