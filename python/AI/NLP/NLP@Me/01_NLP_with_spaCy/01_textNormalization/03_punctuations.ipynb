{
 "cells": [
  {
   "cell_type": "code",
   "execution_count": 1,
   "metadata": {},
   "outputs": [],
   "source": [
    "data = \"Hello world! How are you? My name is Abdul Zoha and I'm learning programming. Dr. Strang loves pav bhaji of mumbai as it costs only 2$ per plate.\""
   ]
  },
  {
   "cell_type": "code",
   "execution_count": 2,
   "metadata": {},
   "outputs": [],
   "source": [
    "import spacy\n",
    "\n",
    "nlp = spacy.load(\"en_core_web_sm\")\n",
    "doc = nlp(data)"
   ]
  },
  {
   "cell_type": "code",
   "execution_count": 9,
   "metadata": {},
   "outputs": [
    {
     "name": "stdout",
     "output_type": "stream",
     "text": [
      "[!, ?, ., .]\n"
     ]
    }
   ],
   "source": [
    "\"\"\"checking punctuations\"\"\"\n",
    "punc = []\n",
    "for token in doc:\n",
    "    if token.is_punct:\n",
    "        punc.append(token)\n",
    "print(punc)"
   ]
  },
  {
   "cell_type": "code",
   "execution_count": 8,
   "metadata": {},
   "outputs": [
    {
     "name": "stdout",
     "output_type": "stream",
     "text": [
      "[Hello, world, How, are, you, My, name, is, Abdul, Zoha, and, I, 'm, learning, programming, Dr., Strang, loves, pav, bhaji, of, mumbai, as, it, costs, only, 2, $, per, plate]\n"
     ]
    }
   ],
   "source": [
    "\"\"\"removing punctuations\"\"\"\n",
    "no_punc = []\n",
    "for token in doc:\n",
    "    if not token.is_punct:\n",
    "        no_punc.append(token)\n",
    "print(no_punc)"
   ]
  }
 ],
 "metadata": {
  "kernelspec": {
   "display_name": "Python 3",
   "language": "python",
   "name": "python3"
  },
  "language_info": {
   "codemirror_mode": {
    "name": "ipython",
    "version": 3
   },
   "file_extension": ".py",
   "mimetype": "text/x-python",
   "name": "python",
   "nbconvert_exporter": "python",
   "pygments_lexer": "ipython3",
   "version": "3.11.1"
  },
  "orig_nbformat": 4
 },
 "nbformat": 4,
 "nbformat_minor": 2
}
