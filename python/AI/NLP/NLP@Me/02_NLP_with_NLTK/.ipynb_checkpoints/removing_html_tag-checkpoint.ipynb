{
 "cells": [
  {
   "cell_type": "code",
   "execution_count": 4,
   "id": "2c65e79a-f9f3-46af-8827-39589e054baf",
   "metadata": {},
   "outputs": [
    {
     "data": {
      "text/plain": [
       "'<h2>HTML Element</h2><p>The HTML <code class=\"w3-codespan\">&lt;sup&gt;</code> element defines superscript text. Superscript text appears half a character above the normal line, and is sometimes rendered in a smaller font. Superscript text can be used for footnotes, like WWW<sup>[1]</sup>:</p>'"
      ]
     },
     "execution_count": 4,
     "metadata": {},
     "output_type": "execute_result"
    }
   ],
   "source": [
    "sample = '<h2>HTML Element</h2><p>The HTML <code class=\"w3-codespan\">&lt;sup&gt;</code> element defines superscript text. Superscript text appears half a character above the normal line, and is sometimes rendered in a smaller font. Superscript text can be used for footnotes, like WWW<sup>[1]</sup>:</p>'\n",
    "sample"
   ]
  },
  {
   "cell_type": "code",
   "execution_count": 6,
   "id": "cf56c00a-e215-4187-b064-40574e7df333",
   "metadata": {},
   "outputs": [],
   "source": [
    "import re\n",
    "\n",
    "def striphtml(arg):\n",
    "    p = re.compile(r\"<.*?>\")\n",
    "    return p.sub('',arg)"
   ]
  },
  {
   "cell_type": "code",
   "execution_count": 7,
   "id": "e4a901fc-73e0-47f4-b611-bcd614426c65",
   "metadata": {},
   "outputs": [
    {
     "data": {
      "text/plain": [
       "'HTML ElementThe HTML &lt;sup&gt; element defines superscript text. Superscript text appears half a character above the normal line, and is sometimes rendered in a smaller font. Superscript text can be used for footnotes, like WWW[1]:'"
      ]
     },
     "execution_count": 7,
     "metadata": {},
     "output_type": "execute_result"
    }
   ],
   "source": [
    "striphtml(sample)"
   ]
  }
 ],
 "metadata": {
  "kernelspec": {
   "display_name": "Python [conda env:base] *",
   "language": "python",
   "name": "conda-base-py"
  },
  "language_info": {
   "codemirror_mode": {
    "name": "ipython",
    "version": 3
   },
   "file_extension": ".py",
   "mimetype": "text/x-python",
   "name": "python",
   "nbconvert_exporter": "python",
   "pygments_lexer": "ipython3",
   "version": "3.12.7"
  }
 },
 "nbformat": 4,
 "nbformat_minor": 5
}
