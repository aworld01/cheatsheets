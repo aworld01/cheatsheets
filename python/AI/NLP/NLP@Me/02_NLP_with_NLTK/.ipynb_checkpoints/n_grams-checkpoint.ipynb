{
 "cells": [
  {
   "cell_type": "code",
   "execution_count": 1,
   "id": "a1a5f179-cad6-4ac4-8038-58b752dd66d1",
   "metadata": {},
   "outputs": [],
   "source": [
    "x = \"I am gaurav prajapat i am mscube tech ia am good man i am gaurav i am wscube i am tech\""
   ]
  },
  {
   "cell_type": "code",
   "execution_count": 2,
   "id": "1b62da77-41ba-4be6-b06b-ef9fe2e0d033",
   "metadata": {},
   "outputs": [],
   "source": [
    "from nltk.tokenize import word_tokenize"
   ]
  },
  {
   "cell_type": "code",
   "execution_count": 3,
   "id": "1ec31d32-b199-4d6d-82f7-4de0a2e7ef2a",
   "metadata": {},
   "outputs": [],
   "source": [
    "words = word_tokenize(x)\n",
    "# words"
   ]
  },
  {
   "cell_type": "code",
   "execution_count": 4,
   "id": "548a5fad-1bab-4fde-bffd-dfb3d251b90b",
   "metadata": {},
   "outputs": [],
   "source": [
    "from nltk.collocations import BigramCollocationFinder,TrigramCollocationFinder,ngrams"
   ]
  },
  {
   "cell_type": "code",
   "execution_count": 5,
   "id": "879be8e8-66b5-4ee5-87c1-edc84074fce4",
   "metadata": {},
   "outputs": [],
   "source": [
    "b = BigramCollocationFinder.from_words(words)\n",
    "t = TrigramCollocationFinder.from_words(words)\n",
    "n = ngrams(words, 2)"
   ]
  },
  {
   "cell_type": "code",
   "execution_count": 6,
   "id": "42edd24f-1c28-4f0a-a80e-8e0ab7cea031",
   "metadata": {},
   "outputs": [
    {
     "data": {
      "text/plain": [
       "FreqDist({('i', 'am'): 4, ('am', 'gaurav'): 2, ('I', 'am'): 1, ('gaurav', 'prajapat'): 1, ('prajapat', 'i'): 1, ('am', 'mscube'): 1, ('mscube', 'tech'): 1, ('tech', 'ia'): 1, ('ia', 'am'): 1, ('am', 'good'): 1, ...})"
      ]
     },
     "execution_count": 6,
     "metadata": {},
     "output_type": "execute_result"
    }
   ],
   "source": [
    "b.ngram_fd"
   ]
  },
  {
   "cell_type": "code",
   "execution_count": 7,
   "id": "183f7a12-e060-4995-9230-1261fb28647d",
   "metadata": {},
   "outputs": [
    {
     "data": {
      "text/plain": [
       "FreqDist({('I', 'am', 'gaurav'): 1, ('am', 'gaurav', 'prajapat'): 1, ('gaurav', 'prajapat', 'i'): 1, ('prajapat', 'i', 'am'): 1, ('i', 'am', 'mscube'): 1, ('am', 'mscube', 'tech'): 1, ('mscube', 'tech', 'ia'): 1, ('tech', 'ia', 'am'): 1, ('ia', 'am', 'good'): 1, ('am', 'good', 'man'): 1, ...})"
      ]
     },
     "execution_count": 7,
     "metadata": {},
     "output_type": "execute_result"
    }
   ],
   "source": [
    "t.ngram_fd"
   ]
  },
  {
   "cell_type": "code",
   "execution_count": 8,
   "id": "fac99f0d-503e-4995-b0f2-07d6c7529928",
   "metadata": {},
   "outputs": [
    {
     "name": "stdout",
     "output_type": "stream",
     "text": [
      "('I', 'am')\n",
      "('am', 'gaurav')\n",
      "('gaurav', 'prajapat')\n",
      "('prajapat', 'i')\n",
      "('i', 'am')\n",
      "('am', 'mscube')\n",
      "('mscube', 'tech')\n",
      "('tech', 'ia')\n",
      "('ia', 'am')\n",
      "('am', 'good')\n",
      "('good', 'man')\n",
      "('man', 'i')\n",
      "('i', 'am')\n",
      "('am', 'gaurav')\n",
      "('gaurav', 'i')\n",
      "('i', 'am')\n",
      "('am', 'wscube')\n",
      "('wscube', 'i')\n",
      "('i', 'am')\n",
      "('am', 'tech')\n"
     ]
    }
   ],
   "source": [
    "for i in n:\n",
    "    print(i)"
   ]
  },
  {
   "cell_type": "code",
   "execution_count": 12,
   "id": "9f6504d4-e444-4931-a43b-3d98af59d7aa",
   "metadata": {},
   "outputs": [],
   "source": [
    "n3 = ngrams(words, 3)"
   ]
  },
  {
   "cell_type": "code",
   "execution_count": 13,
   "id": "146d22c4-0b02-4307-a654-15105b3fa948",
   "metadata": {},
   "outputs": [
    {
     "name": "stdout",
     "output_type": "stream",
     "text": [
      "('I', 'am', 'gaurav')\n",
      "('am', 'gaurav', 'prajapat')\n",
      "('gaurav', 'prajapat', 'i')\n",
      "('prajapat', 'i', 'am')\n",
      "('i', 'am', 'mscube')\n",
      "('am', 'mscube', 'tech')\n",
      "('mscube', 'tech', 'ia')\n",
      "('tech', 'ia', 'am')\n",
      "('ia', 'am', 'good')\n",
      "('am', 'good', 'man')\n",
      "('good', 'man', 'i')\n",
      "('man', 'i', 'am')\n",
      "('i', 'am', 'gaurav')\n",
      "('am', 'gaurav', 'i')\n",
      "('gaurav', 'i', 'am')\n",
      "('i', 'am', 'wscube')\n",
      "('am', 'wscube', 'i')\n",
      "('wscube', 'i', 'am')\n",
      "('i', 'am', 'tech')\n"
     ]
    }
   ],
   "source": [
    "for i in n3:\n",
    "    print(i)"
   ]
  }
 ],
 "metadata": {
  "kernelspec": {
   "display_name": "Python [conda env:base] *",
   "language": "python",
   "name": "conda-base-py"
  },
  "language_info": {
   "codemirror_mode": {
    "name": "ipython",
    "version": 3
   },
   "file_extension": ".py",
   "mimetype": "text/x-python",
   "name": "python",
   "nbconvert_exporter": "python",
   "pygments_lexer": "ipython3",
   "version": "3.12.7"
  }
 },
 "nbformat": 4,
 "nbformat_minor": 5
}
