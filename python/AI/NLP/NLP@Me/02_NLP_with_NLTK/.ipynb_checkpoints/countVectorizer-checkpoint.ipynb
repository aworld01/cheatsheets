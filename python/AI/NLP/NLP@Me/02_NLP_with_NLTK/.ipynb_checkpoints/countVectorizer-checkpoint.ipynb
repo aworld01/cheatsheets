{
 "cells": [
  {
   "cell_type": "code",
   "execution_count": 17,
   "id": "43cf37a7-e58b-4c28-b658-7764dd596f7f",
   "metadata": {},
   "outputs": [],
   "source": [
    "s = [\"My name is Abdul Zoha and I am an electrician\",\"I want to learn English\"]"
   ]
  },
  {
   "cell_type": "code",
   "execution_count": 18,
   "id": "c701d002-5c63-4335-8def-5efa61773ca1",
   "metadata": {},
   "outputs": [],
   "source": [
    "import pandas as pd"
   ]
  },
  {
   "cell_type": "code",
   "execution_count": 23,
   "id": "62570ca9-7d77-470c-a63a-62bf89395941",
   "metadata": {},
   "outputs": [
    {
     "data": {
      "text/html": [
       "<div>\n",
       "<style scoped>\n",
       "    .dataframe tbody tr th:only-of-type {\n",
       "        vertical-align: middle;\n",
       "    }\n",
       "\n",
       "    .dataframe tbody tr th {\n",
       "        vertical-align: top;\n",
       "    }\n",
       "\n",
       "    .dataframe thead th {\n",
       "        text-align: right;\n",
       "    }\n",
       "</style>\n",
       "<table border=\"1\" class=\"dataframe\">\n",
       "  <thead>\n",
       "    <tr style=\"text-align: right;\">\n",
       "      <th></th>\n",
       "      <th>data</th>\n",
       "    </tr>\n",
       "  </thead>\n",
       "  <tbody>\n",
       "    <tr>\n",
       "      <th>0</th>\n",
       "      <td>My name is Abdul Zoha and I am an electrician</td>\n",
       "    </tr>\n",
       "    <tr>\n",
       "      <th>1</th>\n",
       "      <td>I want to learn English</td>\n",
       "    </tr>\n",
       "  </tbody>\n",
       "</table>\n",
       "</div>"
      ],
      "text/plain": [
       "                                            data\n",
       "0  My name is Abdul Zoha and I am an electrician\n",
       "1                        I want to learn English"
      ]
     },
     "execution_count": 23,
     "metadata": {},
     "output_type": "execute_result"
    }
   ],
   "source": [
    "df = pd.DataFrame({\"data\":s})\n",
    "df"
   ]
  },
  {
   "cell_type": "code",
   "execution_count": 20,
   "id": "8fb09460-9d54-44e3-b5c2-0ebf388b17eb",
   "metadata": {},
   "outputs": [],
   "source": [
    "from sklearn.feature_extraction.text import CountVectorizer"
   ]
  },
  {
   "cell_type": "code",
   "execution_count": 4,
   "id": "b6f5d791-06d2-40df-8fd3-e6d1e5b6717c",
   "metadata": {},
   "outputs": [],
   "source": [
    "cv = CountVectorizer()"
   ]
  },
  {
   "cell_type": "code",
   "execution_count": 26,
   "id": "fe3f4ee4-2822-4a1c-a4f2-40fac50edbd6",
   "metadata": {},
   "outputs": [],
   "source": [
    "vector = cv.fit_transform(s).toarray()"
   ]
  },
  {
   "cell_type": "code",
   "execution_count": 30,
   "id": "03c19717-1532-46d0-9dd2-5c90ca6252af",
   "metadata": {},
   "outputs": [
    {
     "name": "stdout",
     "output_type": "stream",
     "text": [
      "{'my': 8, 'name': 9, 'is': 6, 'abdul': 0, 'zoha': 12, 'and': 3, 'am': 1, 'an': 2, 'electrician': 4, 'want': 11, 'to': 10, 'learn': 7, 'english': 5}\n"
     ]
    }
   ],
   "source": [
    "print(cv.vocabulary_)"
   ]
  },
  {
   "cell_type": "code",
   "execution_count": 29,
   "id": "affe7c8e-859b-4f5c-a638-8df352bbba56",
   "metadata": {},
   "outputs": [
    {
     "data": {
      "text/plain": [
       "array([[1, 1, 1, 1, 1, 0, 1, 0, 1, 1, 0, 0, 1],\n",
       "       [0, 0, 0, 0, 0, 1, 0, 1, 0, 0, 1, 1, 0]], dtype=int64)"
      ]
     },
     "execution_count": 29,
     "metadata": {},
     "output_type": "execute_result"
    }
   ],
   "source": [
    "vector"
   ]
  },
  {
   "cell_type": "code",
   "execution_count": null,
   "id": "11df47fd-3367-4dc8-a9ed-282df125b1f1",
   "metadata": {},
   "outputs": [],
   "source": []
  }
 ],
 "metadata": {
  "kernelspec": {
   "display_name": "Python [conda env:base] *",
   "language": "python",
   "name": "conda-base-py"
  },
  "language_info": {
   "codemirror_mode": {
    "name": "ipython",
    "version": 3
   },
   "file_extension": ".py",
   "mimetype": "text/x-python",
   "name": "python",
   "nbconvert_exporter": "python",
   "pygments_lexer": "ipython3",
   "version": "3.12.7"
  }
 },
 "nbformat": 4,
 "nbformat_minor": 5
}
