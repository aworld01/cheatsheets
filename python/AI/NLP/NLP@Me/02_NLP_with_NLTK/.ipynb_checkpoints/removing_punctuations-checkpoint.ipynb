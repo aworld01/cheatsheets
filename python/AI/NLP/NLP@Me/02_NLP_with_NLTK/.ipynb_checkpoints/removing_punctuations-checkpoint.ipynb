{
 "cells": [
  {
   "cell_type": "code",
   "execution_count": 5,
   "id": "070b20cf-739a-40b3-8152-2c4f24490096",
   "metadata": {},
   "outputs": [],
   "source": [
    "from string import punctuation"
   ]
  },
  {
   "cell_type": "code",
   "execution_count": 10,
   "id": "a8dd0fed-a5a2-4b85-abe4-1d3ef6dc5e36",
   "metadata": {},
   "outputs": [],
   "source": [
    "punc = list(punctuation)\n",
    "# punc,len(punc)"
   ]
  },
  {
   "cell_type": "code",
   "execution_count": 12,
   "id": "dc64613d-bdc5-4a8f-85e2-7d2ab9f5aa24",
   "metadata": {},
   "outputs": [
    {
     "data": {
      "text/plain": [
       "'Hello world! How are you? I am very fine'"
      ]
     },
     "execution_count": 12,
     "metadata": {},
     "output_type": "execute_result"
    }
   ],
   "source": [
    "s = \"Hello world! How are you? I am very fine\"\n",
    "s"
   ]
  },
  {
   "cell_type": "code",
   "execution_count": 13,
   "id": "325c8132-f86c-4d1a-bcac-f4d8e070bd6f",
   "metadata": {},
   "outputs": [],
   "source": [
    "s2 = \"\"\n",
    "for i in s:\n",
    "    if i not in punc:\n",
    "        s2 += i"
   ]
  },
  {
   "cell_type": "code",
   "execution_count": 14,
   "id": "40fd1302-dfa5-403d-811e-3f451a42c7cb",
   "metadata": {},
   "outputs": [
    {
     "data": {
      "text/plain": [
       "'Hello world How are you I am very fine'"
      ]
     },
     "execution_count": 14,
     "metadata": {},
     "output_type": "execute_result"
    }
   ],
   "source": [
    "s2"
   ]
  },
  {
   "cell_type": "code",
   "execution_count": null,
   "id": "b705ad84-b7af-4598-a6aa-d06ad93a69df",
   "metadata": {},
   "outputs": [],
   "source": []
  }
 ],
 "metadata": {
  "kernelspec": {
   "display_name": "Python [conda env:base] *",
   "language": "python",
   "name": "conda-base-py"
  },
  "language_info": {
   "codemirror_mode": {
    "name": "ipython",
    "version": 3
   },
   "file_extension": ".py",
   "mimetype": "text/x-python",
   "name": "python",
   "nbconvert_exporter": "python",
   "pygments_lexer": "ipython3",
   "version": "3.12.7"
  }
 },
 "nbformat": 4,
 "nbformat_minor": 5
}
