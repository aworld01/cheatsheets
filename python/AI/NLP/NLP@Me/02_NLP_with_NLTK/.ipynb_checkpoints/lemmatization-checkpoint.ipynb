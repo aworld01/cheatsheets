{
 "cells": [
  {
   "cell_type": "markdown",
   "id": "090e3afc-ce80-42a4-a71f-c4f3eba5ff61",
   "metadata": {},
   "source": [
    "<p>\n",
    "nltk.download(\"wordnet\") # <br>\n",
    "nltk.download(\"omw-1.4\") #if any error occures <br>\n",
    "</p>"
   ]
  },
  {
   "cell_type": "code",
   "execution_count": 3,
   "id": "dd31140c-34c5-4b07-b352-171e07b4e01d",
   "metadata": {},
   "outputs": [],
   "source": [
    "import nltk"
   ]
  },
  {
   "cell_type": "code",
   "execution_count": 4,
   "id": "e5c85b6b-04ed-422b-9cc7-f3eaf0a888ea",
   "metadata": {},
   "outputs": [],
   "source": [
    "# nltk.download('wordnet')"
   ]
  },
  {
   "cell_type": "code",
   "execution_count": 5,
   "id": "9b50781a-8073-4844-b980-cdbbafeb8a7d",
   "metadata": {},
   "outputs": [],
   "source": [
    "from nltk.stem import WordNetLemmatizer"
   ]
  },
  {
   "cell_type": "code",
   "execution_count": 6,
   "id": "9e323090-d514-4d0b-8868-5e8098a8e35b",
   "metadata": {},
   "outputs": [],
   "source": [
    "lemma = WordNetLemmatizer()"
   ]
  },
  {
   "cell_type": "code",
   "execution_count": 7,
   "id": "5a2e120f-8741-4e83-9e75-bfc8e42ae9d9",
   "metadata": {},
   "outputs": [
    {
     "data": {
      "text/plain": [
       "'mouse'"
      ]
     },
     "execution_count": 7,
     "metadata": {},
     "output_type": "execute_result"
    }
   ],
   "source": [
    "\"\"\"example-1\"\"\"\n",
    "word = \"mice\"\n",
    "lemmatized = lemma.lemmatize(word) #it considers any word as noun by default\n",
    "lemmatized"
   ]
  },
  {
   "cell_type": "markdown",
   "id": "bcceced8-6f92-4c1f-94e1-5b20f7418555",
   "metadata": {},
   "source": [
    "<pre>pos = parts of speech\n",
    "=====================\n",
    "NN = Noun, singular\n",
    "NNS = Noun, plural\n",
    "JJ = Adjective\n",
    "DT = Determiner\n",
    "IN = Preposition\n",
    "RB = Adverb\n",
    "    \n",
    "VERB\n",
    "----\n",
    "VB = Verb, base form (run)\n",
    "VBD = Verb, past tense (ran)\n",
    "VBG = verb, Gerund/Present participle (running)\n",
    "VBN = Past participle (run - as in \"has run\")\n",
    "VBP = Present, non-3rd person (run)\n",
    "VBZ = Verb, 3rd person singular (runs)\n",
    "\n",
    "    \n",
    "Noun = n\n",
    "Verb = v\n",
    "adjective = a\n",
    "adverb = r\n",
    "</pre>"
   ]
  },
  {
   "cell_type": "code",
   "execution_count": 11,
   "id": "1ad70d76-ef56-42d6-887e-7ad8cf29cdee",
   "metadata": {},
   "outputs": [
    {
     "data": {
      "text/plain": [
       "'to check word type on parts of speech'"
      ]
     },
     "execution_count": 11,
     "metadata": {},
     "output_type": "execute_result"
    }
   ],
   "source": [
    "\"\"\"to check word type on parts of speech\"\"\"\n",
    "# nltk.download(\"averaged_perceptron_tagger_eng\")"
   ]
  },
  {
   "cell_type": "code",
   "execution_count": 13,
   "id": "1a18e66d-78a4-447d-b755-d95468796156",
   "metadata": {},
   "outputs": [
    {
     "data": {
      "text/plain": [
       "[('apple', 'NN'),\n",
       " ('going', 'VBG'),\n",
       " ('hit', 'VBN'),\n",
       " ('in', 'IN'),\n",
       " ('ram', 'NN'),\n",
       " ('mice', 'NN')]"
      ]
     },
     "execution_count": 13,
     "metadata": {},
     "output_type": "execute_result"
    }
   ],
   "source": [
    "pos = nltk.pos_tag(sentence)\n",
    "pos"
   ]
  },
  {
   "cell_type": "code",
   "execution_count": 10,
   "id": "e8ac936b-2d04-4813-bdec-d4c34092836f",
   "metadata": {},
   "outputs": [
    {
     "data": {
      "text/plain": [
       "'go'"
      ]
     },
     "execution_count": 10,
     "metadata": {},
     "output_type": "execute_result"
    }
   ],
   "source": [
    "word = \"going\"\n",
    "lemmatized = lemma.lemmatize(word,pos='v') #to set as verb (pos = parts of speech)\n",
    "lemmatized"
   ]
  },
  {
   "cell_type": "code",
   "execution_count": 8,
   "id": "c6c8e5a3-2cb6-4bd2-aa9f-c6ab5fa639a9",
   "metadata": {},
   "outputs": [],
   "source": [
    "from nltk.corpus import wordnet"
   ]
  },
  {
   "cell_type": "code",
   "execution_count": 12,
   "id": "633f75d3-3534-47ad-b3c4-83b440ff4921",
   "metadata": {},
   "outputs": [],
   "source": [
    "sentence = [\"apple\",\"going\",\"hit\",\"in\",\"ram\",\"mice\"]"
   ]
  },
  {
   "cell_type": "code",
   "execution_count": 14,
   "id": "2d95a75e-34e4-4766-a750-9ba31285668b",
   "metadata": {},
   "outputs": [],
   "source": [
    "\"\"\"final\"\"\"\n",
    "def getTag(arg):\n",
    "    if arg.startswith('J'):\n",
    "        return wordnet.ADJ\n",
    "    elif arg.startswith('V'):\n",
    "        return wordnet.VERB\n",
    "    elif arg.startswith('N'):\n",
    "        return wordnet.NOUN\n",
    "    elif arg.startswith('R'):\n",
    "        return wordnet.ADV\n",
    "    else:\n",
    "        return wordnet.NOUN"
   ]
  },
  {
   "cell_type": "code",
   "execution_count": 15,
   "id": "46c38a7a-993c-4777-a604-084f3a04fb07",
   "metadata": {},
   "outputs": [
    {
     "data": {
      "text/plain": [
       "'final'"
      ]
     },
     "execution_count": 15,
     "metadata": {},
     "output_type": "execute_result"
    }
   ],
   "source": [
    "\"\"\"final\"\"\"\n",
    "# def getTag(arg):\n",
    "#     if arg.startswith(\"J\"):\n",
    "#         return wordnet.ADJ\n",
    "#     elif arg.startswith(\"V\"):\n",
    "#         return wordnet.VERB\n",
    "#     elif arg.startswith(\"N\"):\n",
    "#         return wordnet.NOUN\n",
    "#     elif arg.startswith(\"R\"):\n",
    "#         return wordnet.ADV\n",
    "#     else:\n",
    "#         return wordnet.NOUN"
   ]
  },
  {
   "cell_type": "code",
   "execution_count": 16,
   "id": "0ad84f52-3bac-4632-b65c-edb71914254b",
   "metadata": {},
   "outputs": [],
   "source": [
    "def lemmatizer(tag):\n",
    "    lemma_word = []\n",
    "    for word, tag in nltk.pos_tag(tag):\n",
    "        lem = lemma.lemmatize(word, pos=getTag(tag))\n",
    "    return lemma_word"
   ]
  },
  {
   "cell_type": "code",
   "execution_count": 17,
   "id": "48fa415c-db5d-4867-b8d6-53f50bfd7c29",
   "metadata": {},
   "outputs": [],
   "source": [
    "sen = [\"going\",\"apple\",\"hit\",\"in\",\"ram\"]"
   ]
  },
  {
   "cell_type": "code",
   "execution_count": 18,
   "id": "0e66c721-23f1-4663-93a0-7a7a12212d8d",
   "metadata": {},
   "outputs": [
    {
     "data": {
      "text/plain": [
       "[]"
      ]
     },
     "execution_count": 18,
     "metadata": {},
     "output_type": "execute_result"
    }
   ],
   "source": [
    "l = lemmatizer(sen)\n",
    "l"
   ]
  },
  {
   "cell_type": "code",
   "execution_count": null,
   "id": "a78f18dc-6f17-4897-b85e-aa015c245e14",
   "metadata": {},
   "outputs": [],
   "source": [
    "from nltk.corpus import wordnet\n",
    "\n",
    "def get_wordnet_pos(treebank_tag):\n",
    "    if treebank_tag.startswith('J'):\n",
    "        return wordnet.ADJ\n",
    "    elif treebank_tag.startswith('V'):\n",
    "        return wordnet.VERB\n",
    "    elif treebank_tag.startswith('N'):\n",
    "        return wordnet.NOUN\n",
    "    elif treebank_tag.startswith('R'):\n",
    "        return wordnet.ADV\n",
    "    else:\n",
    "        return wordnet.NOUN  # default\n",
    "\n",
    "# Example usage\n",
    "word, tag = \"running\", \"VBG\"\n",
    "lemmatizer.lemmatize(word, get_wordnet_pos(tag))  # Output: run"
   ]
  }
 ],
 "metadata": {
  "kernelspec": {
   "display_name": "Python [conda env:base] *",
   "language": "python",
   "name": "conda-base-py"
  },
  "language_info": {
   "codemirror_mode": {
    "name": "ipython",
    "version": 3
   },
   "file_extension": ".py",
   "mimetype": "text/x-python",
   "name": "python",
   "nbconvert_exporter": "python",
   "pygments_lexer": "ipython3",
   "version": "3.12.7"
  }
 },
 "nbformat": 4,
 "nbformat_minor": 5
}
