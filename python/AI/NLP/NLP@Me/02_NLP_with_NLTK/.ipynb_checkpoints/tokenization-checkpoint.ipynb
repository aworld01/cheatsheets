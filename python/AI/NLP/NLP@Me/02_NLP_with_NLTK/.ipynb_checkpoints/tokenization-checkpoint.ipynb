{
 "cells": [
  {
   "cell_type": "code",
   "execution_count": 7,
   "id": "7260df29-f3f5-4ca5-b278-c99eaaea2540",
   "metadata": {},
   "outputs": [],
   "source": [
    "s = \"This is orrange. This is apple. The apple is red. I love banana.\""
   ]
  },
  {
   "cell_type": "markdown",
   "id": "cf72d080-df09-4909-8a24-62e7fb56e446",
   "metadata": {},
   "source": [
    "<h2>Sentance tokenization</h2>"
   ]
  },
  {
   "cell_type": "code",
   "execution_count": 8,
   "id": "d3ceda07-4182-4d87-bf33-55abe2d12f6c",
   "metadata": {},
   "outputs": [],
   "source": [
    "from nltk.tokenize import sent_tokenize, word_tokenize"
   ]
  },
  {
   "cell_type": "code",
   "execution_count": 9,
   "id": "bf5fdc70-f9ad-48f5-80c7-0d5f890c9e95",
   "metadata": {},
   "outputs": [
    {
     "data": {
      "text/plain": [
       "['This is orrange.', 'This is apple.', 'The apple is red.', 'I love banana.']"
      ]
     },
     "execution_count": 9,
     "metadata": {},
     "output_type": "execute_result"
    }
   ],
   "source": [
    "sents = sent_tokenize(s)\n",
    "sents"
   ]
  },
  {
   "cell_type": "markdown",
   "id": "0c8dfd01-9df6-492b-bc31-fded85d199bd",
   "metadata": {},
   "source": [
    "<h2>Word tokenization</h2>"
   ]
  },
  {
   "cell_type": "code",
   "execution_count": 13,
   "id": "0793d055-08d4-4e99-b586-4865d13d0c26",
   "metadata": {},
   "outputs": [
    {
     "data": {
      "text/plain": [
       "['I', 'love', 'banana', '.']"
      ]
     },
     "execution_count": 13,
     "metadata": {},
     "output_type": "execute_result"
    }
   ],
   "source": [
    "w = \"This is orrange.\"\n",
    "words = word_tokenize(word)\n",
    "words"
   ]
  }
 ],
 "metadata": {
  "kernelspec": {
   "display_name": "Python [conda env:base] *",
   "language": "python",
   "name": "conda-base-py"
  },
  "language_info": {
   "codemirror_mode": {
    "name": "ipython",
    "version": 3
   },
   "file_extension": ".py",
   "mimetype": "text/x-python",
   "name": "python",
   "nbconvert_exporter": "python",
   "pygments_lexer": "ipython3",
   "version": "3.12.7"
  }
 },
 "nbformat": 4,
 "nbformat_minor": 5
}
