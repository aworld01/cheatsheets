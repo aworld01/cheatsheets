{
 "cells": [
  {
   "cell_type": "code",
   "execution_count": 1,
   "id": "9db4c4fe-457a-477c-9bbb-e1a464f5cac8",
   "metadata": {},
   "outputs": [],
   "source": [
    "s = \"ceertain conditionas duriing seveal ggenerations aree moodified in the saame maner.\""
   ]
  },
  {
   "cell_type": "code",
   "execution_count": 3,
   "id": "554c8da5-4798-4bf5-a02d-92658e9b46fb",
   "metadata": {},
   "outputs": [],
   "source": [
    "from textblob import TextBlob #pip install textblob"
   ]
  },
  {
   "cell_type": "code",
   "execution_count": 4,
   "id": "39d27daf-0f67-454b-bf10-f1af784fcb78",
   "metadata": {},
   "outputs": [
    {
     "data": {
      "text/plain": [
       "TextBlob(\"certain conditions during several generations are modified in the same manner.\")"
      ]
     },
     "execution_count": 4,
     "metadata": {},
     "output_type": "execute_result"
    }
   ],
   "source": [
    "correct = TextBlob(s).correct()\n",
    "correct"
   ]
  }
 ],
 "metadata": {
  "kernelspec": {
   "display_name": "Python [conda env:base] *",
   "language": "python",
   "name": "conda-base-py"
  },
  "language_info": {
   "codemirror_mode": {
    "name": "ipython",
    "version": 3
   },
   "file_extension": ".py",
   "mimetype": "text/x-python",
   "name": "python",
   "nbconvert_exporter": "python",
   "pygments_lexer": "ipython3",
   "version": "3.12.7"
  }
 },
 "nbformat": 4,
 "nbformat_minor": 5
}
