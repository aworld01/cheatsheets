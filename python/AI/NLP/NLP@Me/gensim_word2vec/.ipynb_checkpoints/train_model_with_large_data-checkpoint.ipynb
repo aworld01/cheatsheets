{
 "cells": [
  {
   "cell_type": "code",
   "execution_count": 2,
   "id": "345f4611-4a22-47cf-a65a-4c55cecdd75d",
   "metadata": {},
   "outputs": [],
   "source": [
    "from zipfile import ZipFile as zf #to unzip zipfile"
   ]
  },
  {
   "cell_type": "code",
   "execution_count": 4,
   "id": "d1234402-19a7-46b6-ae80-5fdaa4a0f78c",
   "metadata": {},
   "outputs": [],
   "source": [
    "path = \"./archive.zip\"\n",
    "dest = \"./data\"\n",
    "obj = zf(path)\n",
    "obj.extractall(dest)\n",
    "obj.close()"
   ]
  },
  {
   "cell_type": "code",
   "execution_count": 5,
   "id": "1d43121f-cbae-4786-9cd1-6b0f1f5b9023",
   "metadata": {},
   "outputs": [],
   "source": [
    "# !pip install gensim\n",
    "# !pip install nltk"
   ]
  },
  {
   "cell_type": "code",
   "execution_count": 6,
   "id": "54910051-cfe4-4bfd-adf2-5f1ff965d95c",
   "metadata": {},
   "outputs": [],
   "source": [
    "# import nltk\n",
    "# nltk.download('punkt_tab')"
   ]
  },
  {
   "cell_type": "code",
   "execution_count": 19,
   "id": "fdd95282-ec03-4f5a-bd96-b595cc064028",
   "metadata": {},
   "outputs": [],
   "source": [
    "import os\n",
    "from nltk import sent_tokenize\n",
    "from gensim.utils import simple_preprocess\n",
    "from gensim.models import Word2Vec"
   ]
  },
  {
   "cell_type": "code",
   "execution_count": 20,
   "id": "8d520ab5-4f18-42aa-93f9-d94779af2cc3",
   "metadata": {},
   "outputs": [],
   "source": [
    "story = []\n",
    "for filename in os.listdir('data'):\n",
    "    file = os.path.join('data',filename)\n",
    "    with open(file, 'r', encoding='latin-1') as rf:\n",
    "        corpus = rf.read()\n",
    "        raw_sent = sent_tokenize(corpus)\n",
    "        for sent in raw_sent:\n",
    "            story.append(simple_preprocess(sent))"
   ]
  },
  {
   "cell_type": "code",
   "execution_count": 21,
   "id": "b436326d-5998-4d5b-a239-1a5977cdcf28",
   "metadata": {},
   "outputs": [
    {
     "data": {
      "text/plain": [
       "145020"
      ]
     },
     "execution_count": 21,
     "metadata": {},
     "output_type": "execute_result"
    }
   ],
   "source": [
    "len(story)"
   ]
  },
  {
   "cell_type": "code",
   "execution_count": 22,
   "id": "93f6ea59-f632-436d-b6d2-093e9269700a",
   "metadata": {},
   "outputs": [],
   "source": [
    "# story"
   ]
  },
  {
   "cell_type": "code",
   "execution_count": 24,
   "id": "9412835a-3694-4d3a-9466-b4958cd830df",
   "metadata": {},
   "outputs": [],
   "source": [
    "model = Word2Vec(story,vector_size=100,window=2,min_count=2,sg=1)"
   ]
  },
  {
   "cell_type": "code",
   "execution_count": 31,
   "id": "4002ee53-5955-4a4b-a8ea-b14b382b8936",
   "metadata": {},
   "outputs": [],
   "source": [
    "wv = model.wv"
   ]
  },
  {
   "cell_type": "code",
   "execution_count": 32,
   "id": "4b80aebc-f86c-4388-a633-1d12e87053e4",
   "metadata": {},
   "outputs": [
    {
     "data": {
      "text/plain": [
       "[('stormborn', 0.7714625000953674),\n",
       " ('targaryen', 0.7470510601997375),\n",
       " ('arianne', 0.7468545436859131),\n",
       " ('selyse', 0.7402566075325012),\n",
       " ('quentyn', 0.7247693538665771),\n",
       " ('doran', 0.7237681746482849),\n",
       " ('regent', 0.7193871736526489),\n",
       " ('unburnt', 0.7187358736991882),\n",
       " ('viserys', 0.7175731062889099),\n",
       " ('marillion', 0.7164697051048279)]"
      ]
     },
     "execution_count": 32,
     "metadata": {},
     "output_type": "execute_result"
    }
   ],
   "source": [
    "wv.most_similar('daenerys')"
   ]
  },
  {
   "cell_type": "code",
   "execution_count": 34,
   "id": "43441997-566f-44f8-b161-61a817684fbd",
   "metadata": {},
   "outputs": [
    {
     "data": {
      "text/plain": [
       "[('usurper', 0.7075787782669067),\n",
       " ('baratheon', 0.6793550848960876),\n",
       " ('blessed', 0.6755859851837158),\n",
       " ('reign', 0.6693293452262878),\n",
       " ('realm', 0.66571444272995),\n",
       " ('huntsman', 0.6529767513275146),\n",
       " ('tommen', 0.6515543460845947),\n",
       " ('kingslayer', 0.6515370607376099),\n",
       " ('tourney', 0.6487796902656555),\n",
       " ('royal', 0.6462879776954651)]"
      ]
     },
     "execution_count": 34,
     "metadata": {},
     "output_type": "execute_result"
    }
   ],
   "source": [
    "wv.most_similar('king')"
   ]
  },
  {
   "cell_type": "code",
   "execution_count": 35,
   "id": "d64e1e99-e507-4709-84e3-f0bc4e3625c6",
   "metadata": {},
   "outputs": [
    {
     "data": {
      "text/plain": [
       "'jon'"
      ]
     },
     "execution_count": 35,
     "metadata": {},
     "output_type": "execute_result"
    }
   ],
   "source": [
    "wv.doesnt_match(['jon','rikon','robb','arya','sansa','bran'])"
   ]
  },
  {
   "cell_type": "code",
   "execution_count": 36,
   "id": "fb5a9553-70f4-41e6-92c2-6bceab3d7145",
   "metadata": {},
   "outputs": [
    {
     "data": {
      "text/plain": [
       "array([-0.3357021 ,  0.11124294, -0.01034817, -0.09279794, -0.50808156,\n",
       "       -0.43777582,  0.29162142,  0.31638733, -1.1542957 , -0.18848783,\n",
       "       -0.01695718, -0.31131577, -0.04250268,  0.59124786, -0.07892407,\n",
       "       -0.54720056, -0.440472  , -0.0935277 ,  0.01253192,  0.01115995,\n",
       "       -0.08049983, -0.02251454,  0.9147974 , -0.5603361 , -0.59568644,\n",
       "        0.45588067, -0.69194937, -0.32267597, -0.70387983,  0.20224485,\n",
       "        0.06976402,  0.25524515,  0.40475565, -0.4763541 ,  0.06858951,\n",
       "       -0.6292712 ,  0.03558902, -0.1753703 , -0.5052173 , -1.0411043 ,\n",
       "        0.35946697, -0.1344181 ,  0.21315265,  0.07586374,  0.22662807,\n",
       "       -0.7752535 ,  0.13522114, -0.16269794,  0.2281471 , -0.5237824 ,\n",
       "       -0.45399085, -0.6296798 ,  0.0733729 , -0.81331956,  0.39634272,\n",
       "       -0.36474907,  0.6889238 ,  0.02442353, -0.00896546,  0.29113853,\n",
       "       -0.29508954,  0.4764583 ,  0.609705  , -0.3405778 ,  0.06894078,\n",
       "        0.9353397 , -0.42239675,  0.2661162 , -0.34532252,  0.29305854,\n",
       "       -0.29387295, -0.38091168,  0.970976  , -0.35255957,  0.32346478,\n",
       "        0.28124198,  0.2385545 ,  0.23593819, -0.09110996, -0.40721083,\n",
       "       -0.60797817,  0.22246952, -0.18366764,  0.6116138 , -0.5798682 ,\n",
       "       -0.34176227, -0.11723647,  0.5779767 ,  0.9672568 ,  0.08171021,\n",
       "       -0.3028754 ,  0.30876607,  0.14262798, -0.32610765,  0.6983856 ,\n",
       "       -0.27936533, -0.11378238, -0.56328785,  0.06935193, -0.39208838],\n",
       "      dtype=float32)"
      ]
     },
     "execution_count": 36,
     "metadata": {},
     "output_type": "execute_result"
    }
   ],
   "source": [
    "wv['king']"
   ]
  },
  {
   "cell_type": "code",
   "execution_count": 37,
   "id": "eeb9ab87-a78c-4a79-99eb-3c9dcac00339",
   "metadata": {},
   "outputs": [
    {
     "data": {
      "text/plain": [
       "0.8883489"
      ]
     },
     "execution_count": 37,
     "metadata": {},
     "output_type": "execute_result"
    }
   ],
   "source": [
    "wv.similarity('arya','sansa')"
   ]
  },
  {
   "cell_type": "markdown",
   "id": "9732bdc1-844a-4742-a3e8-0cd174e28a47",
   "metadata": {},
   "source": [
    "<h2>Method-2</h2>"
   ]
  },
  {
   "cell_type": "code",
   "execution_count": 39,
   "id": "224d40d4-bbf5-40f0-9882-5c9f7a67e172",
   "metadata": {},
   "outputs": [],
   "source": [
    "model = Word2Vec(window=2,min_count=2)"
   ]
  },
  {
   "cell_type": "code",
   "execution_count": 40,
   "id": "39974865-9203-4231-b605-dd02a49c8518",
   "metadata": {},
   "outputs": [],
   "source": [
    "model.build_vocab(story)"
   ]
  },
  {
   "cell_type": "code",
   "execution_count": 41,
   "id": "22ba138a-4f49-4220-b186-43039405867e",
   "metadata": {},
   "outputs": [
    {
     "data": {
      "text/plain": [
       "(6568663, 8628190)"
      ]
     },
     "execution_count": 41,
     "metadata": {},
     "output_type": "execute_result"
    }
   ],
   "source": [
    "model.train(story,total_examples=model.corpus_count,epochs=model.epochs)"
   ]
  },
  {
   "cell_type": "code",
   "execution_count": 42,
   "id": "8177ac82-84a0-4aae-bcd5-e5501221242d",
   "metadata": {},
   "outputs": [],
   "source": [
    "wv = model.wv"
   ]
  },
  {
   "cell_type": "code",
   "execution_count": 43,
   "id": "5777f248-99eb-475a-b56b-455827b0d76d",
   "metadata": {},
   "outputs": [
    {
     "data": {
      "text/plain": [
       "[('viserys', 0.780476987361908),\n",
       " ('quentyn', 0.7779515385627747),\n",
       " ('rhaegar', 0.7776328921318054),\n",
       " ('myrcella', 0.7642102837562561),\n",
       " ('targaryen', 0.7533916234970093),\n",
       " ('margaery', 0.7465083599090576),\n",
       " ('jeyne', 0.7416983842849731),\n",
       " ('val', 0.735910952091217),\n",
       " ('cersei', 0.7296659350395203),\n",
       " ('aerys', 0.7236597537994385)]"
      ]
     },
     "execution_count": 43,
     "metadata": {},
     "output_type": "execute_result"
    }
   ],
   "source": [
    "wv.most_similar('daenerys')"
   ]
  },
  {
   "cell_type": "code",
   "execution_count": 44,
   "id": "3caf8497-d900-4b1a-bca5-1e648e0960d1",
   "metadata": {},
   "outputs": [
    {
     "data": {
      "text/plain": [
       "[('baratheon', 0.6892440319061279),\n",
       " ('realm', 0.6858888864517212),\n",
       " ('site', 0.6687098741531372),\n",
       " ('mng', 0.6367457509040833),\n",
       " ('usurper', 0.6363077759742737),\n",
       " ('prince', 0.6148574948310852),\n",
       " ('tourney', 0.6027229428291321),\n",
       " ('queen', 0.5955734848976135),\n",
       " ('war', 0.5773956775665283),\n",
       " ('faith', 0.5605097413063049)]"
      ]
     },
     "execution_count": 44,
     "metadata": {},
     "output_type": "execute_result"
    }
   ],
   "source": [
    "wv.most_similar('king')"
   ]
  },
  {
   "cell_type": "code",
   "execution_count": 45,
   "id": "c6bbb5b5-9da7-4100-9ea6-7df075a50486",
   "metadata": {},
   "outputs": [
    {
     "data": {
      "text/plain": [
       "'jon'"
      ]
     },
     "execution_count": 45,
     "metadata": {},
     "output_type": "execute_result"
    }
   ],
   "source": [
    "wv.doesnt_match(['jon','rikon','robb','arya','sansa','bran'])"
   ]
  },
  {
   "cell_type": "code",
   "execution_count": 46,
   "id": "5d83fc07-9b3d-4cdf-9086-ef36845687d8",
   "metadata": {},
   "outputs": [
    {
     "data": {
      "text/plain": [
       "array([-0.09839188,  1.0843897 ,  0.76734555,  0.7451265 ,  0.512958  ,\n",
       "       -0.57614505,  0.52451795,  0.93999356, -2.2530649 , -0.44835925,\n",
       "       -0.8435392 , -0.7168171 ,  0.50669825,  1.039798  , -0.25957403,\n",
       "       -1.5780325 , -0.44763002,  1.1935226 ,  0.88034445, -0.5184093 ,\n",
       "        1.3576066 , -0.31513134,  1.6387542 , -1.3075958 , -1.2424867 ,\n",
       "        1.3381263 , -0.70373946, -0.79357994, -1.1065938 ,  2.182207  ,\n",
       "       -1.396084  ,  0.5218419 ,  0.8905171 , -0.302535  ,  0.22921717,\n",
       "       -1.5899348 , -1.0573884 ,  0.19599931, -0.54411024, -0.93837875,\n",
       "        0.18282709,  0.7215576 ,  1.802967  , -0.36456883, -0.3700992 ,\n",
       "       -1.0982829 ,  0.2259056 , -0.6766761 ,  1.5621567 , -1.1942868 ,\n",
       "       -1.5401767 , -2.0935016 , -0.19578044, -2.1630545 ,  2.4248855 ,\n",
       "       -2.3611934 , -0.01651569,  0.8498246 ,  0.30799636,  0.5430289 ,\n",
       "        0.82586086,  0.2309055 , -0.04739914, -0.17422979,  0.07845429,\n",
       "        1.2904782 , -0.31059107,  0.38251236, -0.56680876, -0.39389786,\n",
       "       -0.61167914,  0.56046265,  1.6760085 , -0.56172156,  0.70931745,\n",
       "        0.356894  , -1.1192806 , -0.420394  ,  0.0696208 , -0.94426584,\n",
       "       -0.26522973,  1.0331904 , -2.274445  , -0.5422886 , -2.2748327 ,\n",
       "       -1.1635282 , -0.79056597,  2.2123377 ,  0.6757158 , -0.5443438 ,\n",
       "        0.85391885,  1.6300726 , -1.807211  , -1.7341272 ,  0.2728217 ,\n",
       "       -1.2587559 ,  0.04429599, -1.0679805 ,  0.20042436, -0.18207465],\n",
       "      dtype=float32)"
      ]
     },
     "execution_count": 46,
     "metadata": {},
     "output_type": "execute_result"
    }
   ],
   "source": [
    "wv['king']"
   ]
  },
  {
   "cell_type": "code",
   "execution_count": null,
   "id": "3ea49c03-17e6-49fb-b835-63170c065ef0",
   "metadata": {},
   "outputs": [],
   "source": []
  }
 ],
 "metadata": {
  "kernelspec": {
   "display_name": "Python [conda env:base] *",
   "language": "python",
   "name": "conda-base-py"
  },
  "language_info": {
   "codemirror_mode": {
    "name": "ipython",
    "version": 3
   },
   "file_extension": ".py",
   "mimetype": "text/x-python",
   "name": "python",
   "nbconvert_exporter": "python",
   "pygments_lexer": "ipython3",
   "version": "3.12.7"
  }
 },
 "nbformat": 4,
 "nbformat_minor": 5
}
