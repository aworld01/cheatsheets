{
 "cells": [
  {
   "cell_type": "markdown",
   "metadata": {},
   "source": [
    "<p>\n",
    "cv2.namedWindow(winName, flag) <br>\n",
    "cv2.moveWindow(winName, x, y) <br>\n",
    "cv2.resizeWindow(winName, width, height) <br>\n",
    "cv2.resizeWindow(winName, (width, height)) <br>\n",
    "cv2.setWindowTitle(winName, title) <br>\n",
    "</p>"
   ]
  },
  {
   "cell_type": "code",
   "execution_count": 2,
   "metadata": {},
   "outputs": [],
   "source": [
    "import cv2\n",
    "\n",
    "img = cv2.imread(\"img1.jpg\")"
   ]
  },
  {
   "cell_type": "code",
   "execution_count": 4,
   "metadata": {},
   "outputs": [],
   "source": [
    "\"\"\"creating a custom window\"\"\"\n",
    "# cv2.namedWindow(\"My window\",cv2.WINDOW_AUTOSIZE) #to creating a custom window (default)\n",
    "cv2.namedWindow(\"My window\", cv2.WINDOW_GUI_NORMAL)\n",
    "cv2.imshow(\"My window\", img)\n",
    "\n",
    "cv2.waitKey()\n",
    "cv2.destroyAllWindows()"
   ]
  },
  {
   "cell_type": "code",
   "execution_count": 5,
   "metadata": {},
   "outputs": [],
   "source": [
    "\"\"\"resize window\"\"\"\n",
    "cv2.namedWindow(\"My window\",cv2.WINDOW_GUI_NORMAL)\n",
    "cv2.resizeWindow(\"My window\", 600, 800) #to specify window opening size\n",
    "\n",
    "cv2.imshow(\"My window\", img)\n",
    "\n",
    "cv2.waitKey()\n",
    "cv2.destroyAllWindows()"
   ]
  },
  {
   "cell_type": "code",
   "execution_count": 6,
   "metadata": {},
   "outputs": [],
   "source": [
    "\"\"\"x, y condinate window\"\"\"\n",
    "cv2.namedWindow(\"My window\",cv2.WINDOW_GUI_NORMAL)\n",
    "cv2.resizeWindow(\"My window\", (600, 800)) #to specify window opening size\n",
    "\n",
    "cv2.imshow(\"My window\", img)\n",
    "\n",
    "cv2.waitKey()\n",
    "cv2.destroyAllWindows()"
   ]
  },
  {
   "cell_type": "code",
   "execution_count": 10,
   "metadata": {},
   "outputs": [],
   "source": [
    "\"\"\"x, y condinate window\"\"\"\n",
    "cv2.namedWindow(\"My window\",cv2.WINDOW_GUI_NORMAL)\n",
    "cv2.moveWindow(\"My window\", 500, 150) #to specify window opening location\n",
    "\n",
    "cv2.imshow(\"My window\", img)\n",
    "\n",
    "cv2.waitKey()\n",
    "cv2.destroyAllWindows()"
   ]
  },
  {
   "cell_type": "code",
   "execution_count": 12,
   "metadata": {},
   "outputs": [],
   "source": [
    "\n",
    "cv2.namedWindow(\"My window\",cv2.WINDOW_GUI_NORMAL)\n",
    "cv2.setWindowTitle(\"My window\", \"Hello world!\") #to set window title\n",
    "\n",
    "cv2.imshow(\"My window\", img)\n",
    "\n",
    "cv2.waitKey()\n",
    "cv2.destroyAllWindows()"
   ]
  }
 ],
 "metadata": {
  "kernelspec": {
   "display_name": "Python 3",
   "language": "python",
   "name": "python3"
  },
  "language_info": {
   "codemirror_mode": {
    "name": "ipython",
    "version": 3
   },
   "file_extension": ".py",
   "mimetype": "text/x-python",
   "name": "python",
   "nbconvert_exporter": "python",
   "pygments_lexer": "ipython3",
   "version": "3.11.1"
  }
 },
 "nbformat": 4,
 "nbformat_minor": 2
}
