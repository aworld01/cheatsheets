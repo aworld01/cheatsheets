{
 "cells": [
  {
   "cell_type": "code",
   "execution_count": null,
   "metadata": {},
   "outputs": [],
   "source": [
    "\"\"\"\n",
    "PATH\n",
    "====\n",
    "Relative path:\n",
    "    path = \"./img4.jpg\" #parentFolder\n",
    "    child_path = \"./childFolder/img1.jpg\" #childFolder\n",
    "    path = \"../img4.jpg\" #to go back and select \"img4.jpg\" file (\"../\" to 1step back)\n",
    "Absolute path:\n",
    "    path = r\"C:\\Users\\Abdul\\Desktop\\\\new\\openCV@magnetbrians\\images\\parentFolder\\img4.jpg\"\n",
    "\n",
    "FLAG\n",
    "====\n",
    "1 = cv2.IMREAD_COLOR (default)\n",
    "0 = cv2.IMREAD_GRAYSCALE\n",
    "-1 = cv2.IMREAD_UNCHANGED\n",
    "\n",
    "Syntax:\n",
    "    img = cv2.imread(path, flag) (default flag = 1)\n",
    "\n",
    "example:\n",
    "    img = cv2.imread(\"image1.jpg\")\n",
    "    img = cv2.imread(\"image1.jpg\", 1)\n",
    "    img = cv2.imread(\"image1.jpg\", 0)\n",
    "    img = cv2.imread(\"image1.jpg\", -1)\n",
    "example:\n",
    "    img = cv2.imread(\"image1.jpg\")\n",
    "    img = cv2.imread(\"image1.jpg\", cv2.IMREAD_COLOR)\n",
    "    img = cv2.imread(\"image1.jpg\", cv2.IMREAD_GRAYSCALE)\n",
    "    img = cv2.imread(\"image1.jpg\", cv2.IMREAD_UNCHANGED)\n",
    "\"\"\""
   ]
  },
  {
   "cell_type": "code",
   "execution_count": 2,
   "metadata": {},
   "outputs": [],
   "source": [
    "import cv2"
   ]
  },
  {
   "cell_type": "code",
   "execution_count": 12,
   "metadata": {},
   "outputs": [],
   "source": [
    "path = \"img1.jpg\"\n",
    "flag = 1"
   ]
  },
  {
   "cell_type": "code",
   "execution_count": 13,
   "metadata": {},
   "outputs": [],
   "source": [
    "img = cv2.imread(path) #to read file (it returns a matrix)"
   ]
  },
  {
   "cell_type": "code",
   "execution_count": 14,
   "metadata": {},
   "outputs": [
    {
     "data": {
      "text/plain": [
       "array([[[109, 118, 128],\n",
       "        [108, 117, 127],\n",
       "        [106, 114, 127],\n",
       "        ...,\n",
       "        [ 59,  73,  91],\n",
       "        [ 60,  73,  89],\n",
       "        [ 60,  73,  89]],\n",
       "\n",
       "       [[108, 117, 127],\n",
       "        [108, 117, 127],\n",
       "        [108, 116, 129],\n",
       "        ...,\n",
       "        [ 62,  76,  94],\n",
       "        [ 63,  76,  92],\n",
       "        [ 64,  77,  93]],\n",
       "\n",
       "       [[107, 117, 127],\n",
       "        [107, 117, 127],\n",
       "        [109, 117, 130],\n",
       "        ...,\n",
       "        [ 64,  79,  95],\n",
       "        [ 66,  79,  95],\n",
       "        [ 67,  80,  96]],\n",
       "\n",
       "       ...,\n",
       "\n",
       "       [[153, 162, 166],\n",
       "        [154, 163, 167],\n",
       "        [154, 163, 167],\n",
       "        ...,\n",
       "        [137, 146, 156],\n",
       "        [142, 151, 161],\n",
       "        [150, 159, 169]],\n",
       "\n",
       "       [[158, 164, 169],\n",
       "        [159, 165, 170],\n",
       "        [158, 167, 170],\n",
       "        ...,\n",
       "        [135, 144, 154],\n",
       "        [138, 147, 157],\n",
       "        [142, 152, 162]],\n",
       "\n",
       "       [[161, 167, 172],\n",
       "        [162, 168, 173],\n",
       "        [161, 170, 173],\n",
       "        ...,\n",
       "        [140, 149, 159],\n",
       "        [141, 151, 161],\n",
       "        [143, 153, 163]]], dtype=uint8)"
      ]
     },
     "execution_count": 14,
     "metadata": {},
     "output_type": "execute_result"
    }
   ],
   "source": [
    "img"
   ]
  },
  {
   "cell_type": "code",
   "execution_count": 15,
   "metadata": {},
   "outputs": [],
   "source": [
    "img2 = cv2.imread(path, flag)"
   ]
  },
  {
   "cell_type": "code",
   "execution_count": 16,
   "metadata": {},
   "outputs": [
    {
     "data": {
      "text/plain": [
       "array([[[109, 118, 128],\n",
       "        [108, 117, 127],\n",
       "        [106, 114, 127],\n",
       "        ...,\n",
       "        [ 59,  73,  91],\n",
       "        [ 60,  73,  89],\n",
       "        [ 60,  73,  89]],\n",
       "\n",
       "       [[108, 117, 127],\n",
       "        [108, 117, 127],\n",
       "        [108, 116, 129],\n",
       "        ...,\n",
       "        [ 62,  76,  94],\n",
       "        [ 63,  76,  92],\n",
       "        [ 64,  77,  93]],\n",
       "\n",
       "       [[107, 117, 127],\n",
       "        [107, 117, 127],\n",
       "        [109, 117, 130],\n",
       "        ...,\n",
       "        [ 64,  79,  95],\n",
       "        [ 66,  79,  95],\n",
       "        [ 67,  80,  96]],\n",
       "\n",
       "       ...,\n",
       "\n",
       "       [[153, 162, 166],\n",
       "        [154, 163, 167],\n",
       "        [154, 163, 167],\n",
       "        ...,\n",
       "        [137, 146, 156],\n",
       "        [142, 151, 161],\n",
       "        [150, 159, 169]],\n",
       "\n",
       "       [[158, 164, 169],\n",
       "        [159, 165, 170],\n",
       "        [158, 167, 170],\n",
       "        ...,\n",
       "        [135, 144, 154],\n",
       "        [138, 147, 157],\n",
       "        [142, 152, 162]],\n",
       "\n",
       "       [[161, 167, 172],\n",
       "        [162, 168, 173],\n",
       "        [161, 170, 173],\n",
       "        ...,\n",
       "        [140, 149, 159],\n",
       "        [141, 151, 161],\n",
       "        [143, 153, 163]]], dtype=uint8)"
      ]
     },
     "execution_count": 16,
     "metadata": {},
     "output_type": "execute_result"
    }
   ],
   "source": [
    "img2"
   ]
  }
 ],
 "metadata": {
  "kernelspec": {
   "display_name": "Python 3",
   "language": "python",
   "name": "python3"
  },
  "language_info": {
   "codemirror_mode": {
    "name": "ipython",
    "version": 3
   },
   "file_extension": ".py",
   "mimetype": "text/x-python",
   "name": "python",
   "nbconvert_exporter": "python",
   "pygments_lexer": "ipython3",
   "version": "3.11.1"
  }
 },
 "nbformat": 4,
 "nbformat_minor": 2
}
