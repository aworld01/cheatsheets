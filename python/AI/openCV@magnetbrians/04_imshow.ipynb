{
 "cells": [
  {
   "cell_type": "code",
   "execution_count": null,
   "metadata": {},
   "outputs": [],
   "source": [
    "\"\"\"\n",
    "cv2.imshow() #it takes input as matrix and show into image\n",
    "cv2.waitkey() #wait until pressed any key (returns -1 if close window, else pressed key unicode)\n",
    "cv2.destroyAllWindows() #it clear the memory after closing the window\n",
    "\n",
    "Syntax:\n",
    "    '''wait until key pressed'''\n",
    "    cv2.imshow(winName, mat)\n",
    "    cv2.waitKey()\n",
    "    cv2.destroyAllWindows()\n",
    "\n",
    "    cv2.imshow(winName, mat)\n",
    "    cv2.waitKey(0)\n",
    "    cv2.destroyAllWindows()\n",
    "\n",
    "    \n",
    "    '''wait till 5 sec'''\n",
    "    cv2.imshow(winName, mat)\n",
    "    cv2.waitKey(5000)\n",
    "    cv2.destroyAllWindows()\n",
    "    \n",
    "    '''takes return value'''\n",
    "    cv2.imshow(winName, mat)\n",
    "    r = cv2.waitKey()\n",
    "    print(r)\n",
    "    cv2.destroyAllWindows()\n",
    "\"\"\""
   ]
  },
  {
   "cell_type": "code",
   "execution_count": 19,
   "metadata": {},
   "outputs": [],
   "source": [
    "import cv2"
   ]
  },
  {
   "cell_type": "code",
   "execution_count": 20,
   "metadata": {},
   "outputs": [],
   "source": [
    "img = cv2.imread(\"img1.jpg\")"
   ]
  },
  {
   "cell_type": "code",
   "execution_count": 21,
   "metadata": {},
   "outputs": [
    {
     "name": "stdout",
     "output_type": "stream",
     "text": [
      "13\n"
     ]
    }
   ],
   "source": [
    "cv2.imshow(\"myWindow\", img)\n",
    "r = cv2.waitKey()\n",
    "print(r)\n",
    "cv2.destroyAllWindows()"
   ]
  }
 ],
 "metadata": {
  "kernelspec": {
   "display_name": "venv",
   "language": "python",
   "name": "python3"
  },
  "language_info": {
   "codemirror_mode": {
    "name": "ipython",
    "version": 3
   },
   "file_extension": ".py",
   "mimetype": "text/x-python",
   "name": "python",
   "nbconvert_exporter": "python",
   "pygments_lexer": "ipython3",
   "version": "3.11.1"
  }
 },
 "nbformat": 4,
 "nbformat_minor": 2
}
