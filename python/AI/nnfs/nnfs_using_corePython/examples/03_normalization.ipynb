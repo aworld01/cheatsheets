{
 "cells": [
  {
   "cell_type": "markdown",
   "id": "31853d2b-5811-4537-a8e5-389ac68b64f0",
   "metadata": {},
   "source": [
    "<h1>Normalization</h1>"
   ]
  },
  {
   "cell_type": "code",
   "execution_count": 2,
   "id": "0e145123-6770-41df-92a5-0367685fac90",
   "metadata": {},
   "outputs": [],
   "source": [
    "x = [10,20,40,30]"
   ]
  },
  {
   "cell_type": "code",
   "execution_count": 3,
   "id": "dd4b4ebe-9432-46de-8854-053db37bed60",
   "metadata": {},
   "outputs": [
    {
     "data": {
      "text/plain": [
       "100"
      ]
     },
     "execution_count": 3,
     "metadata": {},
     "output_type": "execute_result"
    }
   ],
   "source": [
    "norm_base = sum(x)\n",
    "norm_base"
   ]
  },
  {
   "cell_type": "code",
   "execution_count": 4,
   "id": "e4ea4629-e216-49d9-8821-0991acf65652",
   "metadata": {},
   "outputs": [],
   "source": [
    "norm_value = []\n",
    "for value in x:\n",
    "    norm_value.append(value/norm_base)"
   ]
  },
  {
   "cell_type": "code",
   "execution_count": 5,
   "id": "efcc61ea-078e-4463-a271-1760bb05d03a",
   "metadata": {},
   "outputs": [
    {
     "name": "stdout",
     "output_type": "stream",
     "text": [
      "[10, 20, 40, 30]\n",
      "100\n",
      "[0.1, 0.2, 0.4, 0.3]\n"
     ]
    }
   ],
   "source": [
    "print(x)\n",
    "print(norm_base)\n",
    "print(norm_value)"
   ]
  },
  {
   "cell_type": "markdown",
   "id": "456eeca6-fba9-46b0-8384-63f4982ab4dd",
   "metadata": {},
   "source": [
    "<h2>Example with function</h2>"
   ]
  },
  {
   "cell_type": "code",
   "execution_count": 7,
   "id": "1455ea31-68b7-4690-9b28-94be505d4f37",
   "metadata": {},
   "outputs": [],
   "source": [
    "def normalization(arg):\n",
    "    norm_base = sum(arg)\n",
    "    norm_value = []\n",
    "    for value in arg:\n",
    "        norm_value.append(value/norm_base)\n",
    "    return norm_value"
   ]
  },
  {
   "cell_type": "code",
   "execution_count": 8,
   "id": "1b1680d1-3c10-4cc6-8e1e-f09852b21700",
   "metadata": {},
   "outputs": [
    {
     "data": {
      "text/plain": [
       "[0.1, 0.2, 0.4, 0.3]"
      ]
     },
     "execution_count": 8,
     "metadata": {},
     "output_type": "execute_result"
    }
   ],
   "source": [
    "normalization(x)"
   ]
  }
 ],
 "metadata": {
  "kernelspec": {
   "display_name": "Python [conda env:base] *",
   "language": "python",
   "name": "conda-base-py"
  },
  "language_info": {
   "codemirror_mode": {
    "name": "ipython",
    "version": 3
   },
   "file_extension": ".py",
   "mimetype": "text/x-python",
   "name": "python",
   "nbconvert_exporter": "python",
   "pygments_lexer": "ipython3",
   "version": "3.12.7"
  }
 },
 "nbformat": 4,
 "nbformat_minor": 5
}
