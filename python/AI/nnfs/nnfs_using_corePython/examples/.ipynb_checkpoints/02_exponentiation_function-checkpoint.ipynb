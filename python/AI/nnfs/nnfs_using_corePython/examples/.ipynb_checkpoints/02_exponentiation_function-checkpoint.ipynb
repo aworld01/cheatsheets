{
 "cells": [
  {
   "cell_type": "markdown",
   "id": "b183df0d-0b49-477c-b8d4-d8985432fca3",
   "metadata": {},
   "source": [
    "<h2>Exponentiation Function</h2>"
   ]
  },
  {
   "cell_type": "code",
   "execution_count": 2,
   "id": "1cb625ce-6717-46ef-911a-405da81c21cd",
   "metadata": {},
   "outputs": [],
   "source": [
    "import math"
   ]
  },
  {
   "cell_type": "code",
   "execution_count": 3,
   "id": "611b49af-39bb-4061-97d1-6b057e214980",
   "metadata": {},
   "outputs": [],
   "source": [
    "x1 = 2\n",
    "x2 = [4.8,1.21,2.385]\n",
    "x3 = [[4.8,1.21,2.385],\n",
    "      [8.9,1.81,0.2],\n",
    "      [1.41,1.051,0.026]]"
   ]
  },
  {
   "cell_type": "markdown",
   "id": "2b2a85f6-6404-4d64-a6ac-49755d3df80b",
   "metadata": {},
   "source": [
    "<h2>it supports only a 'scaler' value</h2>"
   ]
  },
  {
   "cell_type": "code",
   "execution_count": 5,
   "id": "c40dfef4-aeb0-45cc-b6db-6038c72e0152",
   "metadata": {},
   "outputs": [
    {
     "name": "stdout",
     "output_type": "stream",
     "text": [
      "7.38905609893065\n",
      "<class 'float'>\n"
     ]
    }
   ],
   "source": [
    "exp1 = math.exp(x1) #returns a 'number/scaler' value\n",
    "print(exp1)\n",
    "print(type(exp1))"
   ]
  },
  {
   "cell_type": "markdown",
   "id": "bdfdc01a-e9d4-4275-bb07-892746f5f694",
   "metadata": {},
   "source": [
    "<h2>This will support 'scaler' and 'matrix' both</h2>"
   ]
  },
  {
   "cell_type": "code",
   "execution_count": 7,
   "id": "c475db00-ccf1-424c-8e0d-69bfd9fad97b",
   "metadata": {},
   "outputs": [],
   "source": [
    "def exp(arg):\n",
    "    if isinstance(arg, list):\n",
    "        l = []\n",
    "        for i in arg:\n",
    "            l.append(math.exp(i))\n",
    "        return l\n",
    "    else:\n",
    "        return math.exp(arg)"
   ]
  },
  {
   "cell_type": "code",
   "execution_count": 8,
   "id": "e22d7ca4-d624-4f8c-a4f6-6133a6e00a4e",
   "metadata": {},
   "outputs": [
    {
     "name": "stdout",
     "output_type": "stream",
     "text": [
      "[121.51041751873485, 3.3534846525490236, 10.859062664920515]\n",
      "<class 'list'>\n"
     ]
    }
   ],
   "source": [
    "result = exp(x2) #it will return a 'list/vector'\n",
    "print(result)\n",
    "print(type(result))"
   ]
  },
  {
   "cell_type": "markdown",
   "id": "f4e01282-bc28-4700-96a2-a415cdae469e",
   "metadata": {},
   "source": [
    "<h2>Exponentiation with 2d matrix</h2>"
   ]
  },
  {
   "cell_type": "code",
   "execution_count": 10,
   "id": "ac4f7ba0-3d48-4588-8e01-96d030b37b4a",
   "metadata": {},
   "outputs": [],
   "source": [
    "def exp2(arg):\n",
    "    outputs = []\n",
    "    if isinstance(arg,list):\n",
    "        for lst in range(len(arg)):\n",
    "            l = arg[lst]\n",
    "            ex = []\n",
    "            for i in range(len(l)):\n",
    "                ex.append(math.exp(l[i]))\n",
    "            outputs.append(ex)\n",
    "    return outputs"
   ]
  },
  {
   "cell_type": "code",
   "execution_count": 11,
   "id": "4ff2ba02-3f7e-4699-a12a-8e9c9e126635",
   "metadata": {},
   "outputs": [
    {
     "name": "stdout",
     "output_type": "stream",
     "text": [
      "[[121.51041751873485, 3.3534846525490236, 10.859062664920515], [7331.973539155995, 6.11044743223061, 1.2214027581601699], [4.095955404071176, 2.86051019848318, 1.026340948473442]]\n",
      "<class 'list'>\n"
     ]
    }
   ],
   "source": [
    "result2 = exp2(x3) #it will return 'nestedList/matrix'\n",
    "print(result2)\n",
    "print(type(result2))"
   ]
  },
  {
   "cell_type": "markdown",
   "id": "c24fb3a6-0b68-4d17-9de2-2d57e6d0ed10",
   "metadata": {},
   "source": [
    "<h3>Example of isinstance</h3>"
   ]
  },
  {
   "cell_type": "code",
   "execution_count": 13,
   "id": "d156fc19-d8b2-4eff-a9d2-094d16367ca9",
   "metadata": {},
   "outputs": [],
   "source": [
    "a = 2\n",
    "b = [2,3,5,6]"
   ]
  },
  {
   "cell_type": "code",
   "execution_count": 14,
   "id": "55874aa6-b9d8-48b9-9715-9b096a50ee1a",
   "metadata": {},
   "outputs": [
    {
     "name": "stdout",
     "output_type": "stream",
     "text": [
      "This is a list\n"
     ]
    }
   ],
   "source": [
    "if isinstance(b,list):\n",
    "    print('This is a list')\n",
    "else:\n",
    "    print('This is a number')"
   ]
  }
 ],
 "metadata": {
  "kernelspec": {
   "display_name": "Python [conda env:base] *",
   "language": "python",
   "name": "conda-base-py"
  },
  "language_info": {
   "codemirror_mode": {
    "name": "ipython",
    "version": 3
   },
   "file_extension": ".py",
   "mimetype": "text/x-python",
   "name": "python",
   "nbconvert_exporter": "python",
   "pygments_lexer": "ipython3",
   "version": "3.12.7"
  }
 },
 "nbformat": 4,
 "nbformat_minor": 5
}
