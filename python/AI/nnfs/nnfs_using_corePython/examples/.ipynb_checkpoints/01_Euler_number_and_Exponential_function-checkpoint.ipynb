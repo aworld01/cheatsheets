{
 "cells": [
  {
   "cell_type": "markdown",
   "id": "a51450be-3a71-461f-a903-fba41028653b",
   "metadata": {},
   "source": [
    "<h1>Euler's_number</h1>"
   ]
  },
  {
   "cell_type": "markdown",
   "id": "cc4d8b08-f770-47dd-92c8-55491eb6ea62",
   "metadata": {},
   "source": [
    "<img src=\"../../pics/examples/01_eulers_number.jpg/\" width=600, height=200>"
   ]
  },
  {
   "cell_type": "code",
   "execution_count": 3,
   "id": "bee5158c-f381-41bd-a6be-d747ba73a407",
   "metadata": {},
   "outputs": [],
   "source": [
    "import math"
   ]
  },
  {
   "cell_type": "code",
   "execution_count": 4,
   "id": "13aa2bd1-2dac-4b02-bc3a-9a51c3a5473b",
   "metadata": {},
   "outputs": [],
   "source": [
    "e = 2.718281828459045\n",
    "e2 = math.e"
   ]
  },
  {
   "cell_type": "code",
   "execution_count": 5,
   "id": "6cb4137f-c50f-407c-9da0-9620fe1fe1b7",
   "metadata": {},
   "outputs": [
    {
     "name": "stdout",
     "output_type": "stream",
     "text": [
      "2.718281828459045 <class 'float'>\n",
      "2.718281828459045 <class 'float'>\n"
     ]
    }
   ],
   "source": [
    "print(e,type(e))\n",
    "print(e2, type(e))"
   ]
  },
  {
   "cell_type": "markdown",
   "id": "2651dfec-5830-4bd6-972e-3d1f1ddc4091",
   "metadata": {},
   "source": [
    "<h2>Natural Exponential Function</h2>"
   ]
  },
  {
   "cell_type": "markdown",
   "id": "cb2c390a-489d-4f8e-bf5f-5151ca5025d7",
   "metadata": {},
   "source": [
    "<img src=\"../../pics/examples/02_natural_exponential_function.jpg/\" width=600, height=200>"
   ]
  },
  {
   "cell_type": "code",
   "execution_count": 8,
   "id": "87675f4f-8ede-4b59-9af9-c4829c7ab26a",
   "metadata": {},
   "outputs": [],
   "source": [
    "def exp(arg):\n",
    "    return e**arg"
   ]
  },
  {
   "cell_type": "code",
   "execution_count": 9,
   "id": "63c59ef3-3aa1-4245-923d-91ff22daff4f",
   "metadata": {},
   "outputs": [
    {
     "name": "stdout",
     "output_type": "stream",
     "text": [
      "20.085536923187664 <class 'float'>\n",
      "20.085536923187668 <class 'float'>\n"
     ]
    }
   ],
   "source": [
    "x = 3\n",
    "exp1 = exp(x)\n",
    "exp2 = math.exp(x)\n",
    "print(exp1,type(exp1))\n",
    "print(exp2,type(exp2))"
   ]
  }
 ],
 "metadata": {
  "kernelspec": {
   "display_name": "Python [conda env:base] *",
   "language": "python",
   "name": "conda-base-py"
  },
  "language_info": {
   "codemirror_mode": {
    "name": "ipython",
    "version": 3
   },
   "file_extension": ".py",
   "mimetype": "text/x-python",
   "name": "python",
   "nbconvert_exporter": "python",
   "pygments_lexer": "ipython3",
   "version": "3.12.7"
  }
 },
 "nbformat": 4,
 "nbformat_minor": 5
}
