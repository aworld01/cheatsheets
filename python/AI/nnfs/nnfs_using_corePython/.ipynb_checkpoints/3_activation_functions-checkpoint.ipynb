{
 "cells": [
  {
   "cell_type": "code",
   "execution_count": 1,
   "id": "c5db81c4-08a6-4bd8-bef2-06e0eb372915",
   "metadata": {},
   "outputs": [],
   "source": [
    "import math"
   ]
  },
  {
   "cell_type": "markdown",
   "id": "b2f24f94-f5fc-4d4a-81cb-0a13bf1f8957",
   "metadata": {},
   "source": [
    "<h1>Activation Functions</h1>"
   ]
  },
  {
   "cell_type": "markdown",
   "id": "262feb54-16c8-49cf-b999-7f78af174767",
   "metadata": {},
   "source": [
    "<h2>reLU Activation Function</h2>"
   ]
  },
  {
   "cell_type": "code",
   "execution_count": 4,
   "id": "9fed3a5f-13f7-4f59-9c27-e4f372fae14c",
   "metadata": {},
   "outputs": [
    {
     "data": {
      "text/plain": [
       "[0, 2, -1, 3.3, -2.7, 1.1, 2.2, -100]"
      ]
     },
     "execution_count": 4,
     "metadata": {},
     "output_type": "execute_result"
    }
   ],
   "source": [
    "inputs = [0,2,-1,3.3,-2.7,1.1,2.2,-100]\n",
    "inputs"
   ]
  },
  {
   "cell_type": "markdown",
   "id": "f8fb8692-e943-485b-812d-1f1543c9a512",
   "metadata": {},
   "source": [
    "<h3>example1</h3>"
   ]
  },
  {
   "cell_type": "code",
   "execution_count": 6,
   "id": "0e7c9d7e-fd9a-4bb1-bd86-65262fc22982",
   "metadata": {},
   "outputs": [
    {
     "data": {
      "text/plain": [
       "[0, 2, 0, 3.3, 0, 1.1, 2.2, 0]"
      ]
     },
     "execution_count": 6,
     "metadata": {},
     "output_type": "execute_result"
    }
   ],
   "source": [
    "output1 = []\n",
    "for i in inputs:\n",
    "    if i > 0:\n",
    "        output1.append(i)\n",
    "    elif i <= 0:\n",
    "        output1.append(0)\n",
    "output1"
   ]
  },
  {
   "cell_type": "markdown",
   "id": "43a2f483-f33d-4f3a-bc06-13a49a5b694b",
   "metadata": {},
   "source": [
    "<h3>example2</h3>"
   ]
  },
  {
   "cell_type": "code",
   "execution_count": 8,
   "id": "3a936d08-da1f-43e6-a388-8c741c2f2311",
   "metadata": {},
   "outputs": [
    {
     "data": {
      "text/plain": [
       "[0, 2, 0, 3.3, 0, 1.1, 2.2, 0]"
      ]
     },
     "execution_count": 8,
     "metadata": {},
     "output_type": "execute_result"
    }
   ],
   "source": [
    "output2 = []\n",
    "for i in inputs:\n",
    "    output2.append(max(0,i))\n",
    "output2"
   ]
  },
  {
   "cell_type": "markdown",
   "id": "08f2e05a-c874-44e0-86df-ebf3460d68f6",
   "metadata": {},
   "source": [
    "<h2>Sofmax Activation Function</h2>"
   ]
  },
  {
   "cell_type": "markdown",
   "id": "7c1e4a86-9fa6-4872-8bf1-43952ad7af08",
   "metadata": {},
   "source": [
    "<h3>Input => Exponentiate => Normalization => Output</h3>"
   ]
  },
  {
   "cell_type": "code",
   "execution_count": 11,
   "id": "cda2854f-7567-4392-9347-d745881174cc",
   "metadata": {},
   "outputs": [
    {
     "data": {
      "text/plain": [
       "[0.020848118342447423,\n",
       " 0.1540479159894891,\n",
       " 0.007669594125295655,\n",
       " 0.5652475047939215,\n",
       " 0.001401108482863161,\n",
       " 0.06263120878759498,\n",
       " 0.18815454947838814,\n",
       " 7.7556584190978e-46]"
      ]
     },
     "execution_count": 11,
     "metadata": {},
     "output_type": "execute_result"
    }
   ],
   "source": [
    "def softmax(arg):\n",
    "    \"\"\"exponentiate\"\"\"\n",
    "    l = []\n",
    "    for i in arg:\n",
    "            l.append(math.exp(i))\n",
    "        \n",
    "    \"\"\"normalization\"\"\"\n",
    "    norm_base = sum(l)\n",
    "    norm_value = []\n",
    "    for value in l:\n",
    "        norm_value.append(value/norm_base)\n",
    "    return norm_value\n",
    "    \n",
    "softmax(inputs)\n",
    "    "
   ]
  },
  {
   "cell_type": "markdown",
   "id": "f0718d77-b7c1-461c-bd73-ea1cd5ec1791",
   "metadata": {},
   "source": [
    "<h2>Binary Sigmoid Activation Function</h2>"
   ]
  },
  {
   "cell_type": "code",
   "execution_count": 43,
   "id": "0df2c567-ecbf-4f7b-952f-e3e9e136417b",
   "metadata": {},
   "outputs": [],
   "source": [
    "a = 0.53\n",
    "e = math.e"
   ]
  },
  {
   "cell_type": "markdown",
   "id": "1503342b-4960-4511-96ad-ca62274f27b5",
   "metadata": {},
   "source": [
    "<h3>example1</h3>"
   ]
  },
  {
   "cell_type": "code",
   "execution_count": 57,
   "id": "9ec8821e-b735-4609-9c41-2dc902616f93",
   "metadata": {},
   "outputs": [
    {
     "name": "stdout",
     "output_type": "stream",
     "text": [
      "0.5886049696783552\n",
      "1.629483111967395\n",
      "0.6294831119673949\n"
     ]
    }
   ],
   "source": [
    "r = e**-a\n",
    "s = 1+w\n",
    "t = 1/x\n",
    "\n",
    "print(r)\n",
    "print(s)\n",
    "print(t)"
   ]
  },
  {
   "cell_type": "markdown",
   "id": "ef0bde4a-8881-4c54-8ff6-9ca0167891bd",
   "metadata": {},
   "source": [
    "<h3>example2</h3>"
   ]
  },
  {
   "cell_type": "code",
   "execution_count": 59,
   "id": "47c86b1a-f9c7-4f1c-8861-aade85d0a9a5",
   "metadata": {},
   "outputs": [
    {
     "name": "stdout",
     "output_type": "stream",
     "text": [
      "0.6294831119673949\n"
     ]
    }
   ],
   "source": [
    "u = 1/(1+(e**-a))\n",
    "print(u)"
   ]
  },
  {
   "cell_type": "markdown",
   "id": "bafeb090-3776-461e-82c6-d5d406aa0c0d",
   "metadata": {},
   "source": [
    "<h2>Bipolar Sigmoid Activation Function</h2>"
   ]
  },
  {
   "cell_type": "markdown",
   "id": "0c87ba61-4fbd-4d6b-9fa1-20f5d45e331c",
   "metadata": {},
   "source": [
    "<h3>example1</h3>"
   ]
  },
  {
   "cell_type": "code",
   "execution_count": 64,
   "id": "b8b7f7d0-54ba-4247-af94-61e1c37d4eb4",
   "metadata": {},
   "outputs": [
    {
     "name": "stdout",
     "output_type": "stream",
     "text": [
      "0.5886049696783552\n",
      "1.588604969678355\n",
      "1.2589662239347899\n",
      "0.25896622393478985\n"
     ]
    }
   ],
   "source": [
    "v = e**-a\n",
    "w = 1+v\n",
    "x = 2/w\n",
    "y = x-1\n",
    "\n",
    "print(v)\n",
    "print(w)\n",
    "print(x)\n",
    "print(y)"
   ]
  },
  {
   "cell_type": "markdown",
   "id": "e95b46e6-30af-475e-b4e6-51b40b965f31",
   "metadata": {},
   "source": [
    "<h3>example2</h3>"
   ]
  },
  {
   "cell_type": "code",
   "execution_count": 67,
   "id": "b629e97d-7aab-421e-b2ec-72592c4b9839",
   "metadata": {},
   "outputs": [
    {
     "name": "stdout",
     "output_type": "stream",
     "text": [
      "0.25896622393478985\n"
     ]
    }
   ],
   "source": [
    "z = 2/(1+(e**-a))-1\n",
    "print(z)"
   ]
  }
 ],
 "metadata": {
  "kernelspec": {
   "display_name": "Python [conda env:base] *",
   "language": "python",
   "name": "conda-base-py"
  },
  "language_info": {
   "codemirror_mode": {
    "name": "ipython",
    "version": 3
   },
   "file_extension": ".py",
   "mimetype": "text/x-python",
   "name": "python",
   "nbconvert_exporter": "python",
   "pygments_lexer": "ipython3",
   "version": "3.12.7"
  }
 },
 "nbformat": 4,
 "nbformat_minor": 5
}
