{
 "cells": [
  {
   "cell_type": "code",
   "execution_count": 15,
   "id": "8179c660-2d3c-4576-a052-864a88009821",
   "metadata": {},
   "outputs": [],
   "source": [
    "inputs = [[1,2,3,2.5],\n",
    "          [2.0,5.0,-1.0,2.0],\n",
    "          [-1.5,2.7,3.3,-0.8]]\n",
    "\n",
    "\"\"\"weights and biases for Layer1\"\"\"\n",
    "weights = [[0.2,0.8,-0.5,1.0],\n",
    "           [0.5,-0.91,0.26,-0.5],\n",
    "           [-0.26,-0.27,0.17,0.87]]\n",
    "biases = [2,3,0.5]"
   ]
  },
  {
   "cell_type": "code",
   "execution_count": 31,
   "id": "9218834f-ad59-4480-80ae-81b792ecad3d",
   "metadata": {},
   "outputs": [],
   "source": [
    "import numpy as np"
   ]
  },
  {
   "cell_type": "code",
   "execution_count": 33,
   "id": "ff234927-ddf8-4ee7-8a0b-8db4cadc5aec",
   "metadata": {},
   "outputs": [
    {
     "data": {
      "text/plain": [
       "array([[ 4.8  ,  1.21 ,  2.385],\n",
       "       [ 8.9  , -1.81 ,  0.2  ],\n",
       "       [ 1.41 ,  1.051,  0.026]])"
      ]
     },
     "execution_count": 33,
     "metadata": {},
     "output_type": "execute_result"
    }
   ],
   "source": [
    "\"\"\"Layer1 example1\"\"\"\n",
    "layer1 = np.dot(inputs, np.array(weights).T)+biases\n",
    "layer1"
   ]
  },
  {
   "cell_type": "code",
   "execution_count": 35,
   "id": "545a5af7-3a43-4666-a7e6-64ccbdd113ff",
   "metadata": {},
   "outputs": [
    {
     "name": "stdout",
     "output_type": "stream",
     "text": [
      "Inputs: [[1, 2, 3, 2.5], [2.0, 5.0, -1.0, 2.0], [-1.5, 2.7, 3.3, -0.8]]\n",
      "Weights: [[ 0.2   0.8  -0.5   1.  ]\n",
      " [ 0.5  -0.91  0.26 -0.5 ]\n",
      " [-0.26 -0.27  0.17  0.87]]\n",
      "Biases: [2, 3, 0.5]\n"
     ]
    }
   ],
   "source": [
    "print(f\"Inputs: {inputs}\")\n",
    "print(f\"Weights: {weights}\")\n",
    "print(f\"Biases: {biases}\")"
   ]
  },
  {
   "cell_type": "code",
   "execution_count": 37,
   "id": "43ce4099-d411-4a23-ac1d-a0e0dba609cd",
   "metadata": {},
   "outputs": [
    {
     "data": {
      "text/plain": [
       "array([[ 0.2 ,  0.8 , -0.5 ,  1.  ],\n",
       "       [ 0.5 , -0.91,  0.26, -0.5 ],\n",
       "       [-0.26, -0.27,  0.17,  0.87]])"
      ]
     },
     "execution_count": 37,
     "metadata": {},
     "output_type": "execute_result"
    }
   ],
   "source": [
    "weights = np.array(weights)\n",
    "weights"
   ]
  },
  {
   "cell_type": "code",
   "execution_count": 39,
   "id": "82b42640-9b60-42e7-9f0c-bbbcdbad34de",
   "metadata": {},
   "outputs": [
    {
     "data": {
      "text/plain": [
       "array([[ 0.2 ,  0.5 , -0.26],\n",
       "       [ 0.8 , -0.91, -0.27],\n",
       "       [-0.5 ,  0.26,  0.17],\n",
       "       [ 1.  , -0.5 ,  0.87]])"
      ]
     },
     "execution_count": 39,
     "metadata": {},
     "output_type": "execute_result"
    }
   ],
   "source": [
    "transpose = weights.T\n",
    "transpose"
   ]
  },
  {
   "cell_type": "code",
   "execution_count": 43,
   "id": "70a23891-33b0-461a-8886-9fa7cf9d7bcb",
   "metadata": {},
   "outputs": [
    {
     "data": {
      "text/plain": [
       "array([[ 4.8  ,  1.21 ,  2.385],\n",
       "       [ 8.9  , -1.81 ,  0.2  ],\n",
       "       [ 1.41 ,  1.051,  0.026]])"
      ]
     },
     "execution_count": 43,
     "metadata": {},
     "output_type": "execute_result"
    }
   ],
   "source": [
    "\"\"\"Layer1 example2\"\"\"\n",
    "l1 = np.dot(inputs,transpose)+biases\n",
    "l1"
   ]
  },
  {
   "cell_type": "code",
   "execution_count": 45,
   "id": "492b75e9-448d-4aa0-9ebc-5b323b7e3902",
   "metadata": {},
   "outputs": [],
   "source": [
    "\"\"\"weights and biases for layer2\"\"\"\n",
    "weights2 = [[0.1,-0.14,0.5],\n",
    "            [-0.5,0.12,-0.33],\n",
    "            [-0.44,0.73,-0.13]]\n",
    "biases2 = [-1,2,-0.5]"
   ]
  },
  {
   "cell_type": "code",
   "execution_count": 49,
   "id": "58304e3f-7209-44df-8f1c-06fd35f439ce",
   "metadata": {},
   "outputs": [
    {
     "data": {
      "text/plain": [
       "array([[ 0.5031 , -1.04185, -2.03875],\n",
       "       [ 0.2434 , -2.7332 , -5.7633 ],\n",
       "       [-0.99314,  1.41254, -0.35655]])"
      ]
     },
     "execution_count": 49,
     "metadata": {},
     "output_type": "execute_result"
    }
   ],
   "source": [
    "layer2 = np.dot(layer1,np.array(weights2).T)+biases2\n",
    "layer2"
   ]
  },
  {
   "cell_type": "code",
   "execution_count": 89,
   "id": "22225090-e228-409e-bd2c-b4e2d7f54dfc",
   "metadata": {},
   "outputs": [],
   "source": [
    "\"\"\"Designing a neuralNetwork layer\"\"\"\n",
    "X = [[1,2,3,2.5],\n",
    "          [2.0,5.0,-1.0,2.0],\n",
    "          [-1.5,2.7,3.3,-0.8]]"
   ]
  },
  {
   "cell_type": "code",
   "execution_count": 95,
   "id": "a96052f7-379e-408c-8c4c-d126c0676bf8",
   "metadata": {},
   "outputs": [],
   "source": [
    "class Layer_Dense:\n",
    "    def __init__(self,n_inputs,n_neurons):\n",
    "        self.weights = 0.10 * np.random.randn(n_inputs,n_neurons)\n",
    "        self.biases = np.zeros((1,n_neurons))\n",
    "    def forward(self,inputs):\n",
    "        self.output = np.dot(inputs,self.weights) + self.biases"
   ]
  },
  {
   "cell_type": "code",
   "execution_count": 103,
   "id": "6e1310ea-9b3c-4e4c-8b3f-1d7be474ad21",
   "metadata": {},
   "outputs": [
    {
     "name": "stdout",
     "output_type": "stream",
     "text": [
      "[[ 0.47538406 -0.21561014  0.15471002  0.00969772  0.23743679]\n",
      " [ 0.74538019 -1.33493975  0.06268022 -0.13968264  0.36648785]\n",
      " [ 0.20221943 -0.15138846  0.19657628  0.05843791 -0.27192329]]\n",
      "[[-0.04460662  0.06396692]\n",
      " [-0.10021778  0.07334713]\n",
      " [-0.0023019   0.03089178]]\n"
     ]
    }
   ],
   "source": [
    "layer1 = Layer_Dense(4,5)\n",
    "layer2 = Layer_Dense(5,2)\n",
    "\n",
    "layer1.forward(X)\n",
    "print(layer1.output)\n",
    "\n",
    "layer2.forward(layer1.output)\n",
    "print(layer2.output)"
   ]
  },
  {
   "cell_type": "code",
   "execution_count": 63,
   "id": "937e6ee7-d193-4463-93a3-2173090f3c55",
   "metadata": {},
   "outputs": [
    {
     "data": {
      "text/plain": [
       "array([[ 0.57361758,  0.09559601,  1.04477441],\n",
       "       [ 0.41329841, -1.45493485, -0.59762755],\n",
       "       [-0.24012071, -0.03890405,  0.76933719],\n",
       "       [ 0.28641382,  0.70501453, -0.65738575]])"
      ]
     },
     "execution_count": 63,
     "metadata": {},
     "output_type": "execute_result"
    }
   ],
   "source": [
    "np.random.randn(4,3)"
   ]
  },
  {
   "cell_type": "code",
   "execution_count": 65,
   "id": "819b0808-d192-4789-a37a-bcb5744f4295",
   "metadata": {},
   "outputs": [
    {
     "data": {
      "text/plain": [
       "array([[ 0.01564233, -0.11708167,  0.01326962],\n",
       "       [-0.01004384, -0.04160786,  0.08235483],\n",
       "       [-0.0109072 , -0.19674653,  0.0438091 ],\n",
       "       [-0.05710462, -0.02212962, -0.0572087 ]])"
      ]
     },
     "execution_count": 65,
     "metadata": {},
     "output_type": "execute_result"
    }
   ],
   "source": [
    "0.10*np.random.randn(4,3)"
   ]
  },
  {
   "cell_type": "code",
   "execution_count": 69,
   "id": "a637503d-a85c-4fe6-a60b-b03e8d0b43e0",
   "metadata": {},
   "outputs": [
    {
     "data": {
      "text/plain": [
       "array([[0., 0., 0., 0.]])"
      ]
     },
     "execution_count": 69,
     "metadata": {},
     "output_type": "execute_result"
    }
   ],
   "source": [
    "np.zeros((1,4))"
   ]
  },
  {
   "cell_type": "code",
   "execution_count": null,
   "id": "15295d4d-e0fc-4abb-b82b-42b30d99a5c0",
   "metadata": {},
   "outputs": [],
   "source": []
  }
 ],
 "metadata": {
  "kernelspec": {
   "display_name": "Python [conda env:base] *",
   "language": "python",
   "name": "conda-base-py"
  },
  "language_info": {
   "codemirror_mode": {
    "name": "ipython",
    "version": 3
   },
   "file_extension": ".py",
   "mimetype": "text/x-python",
   "name": "python",
   "nbconvert_exporter": "python",
   "pygments_lexer": "ipython3",
   "version": "3.12.7"
  }
 },
 "nbformat": 4,
 "nbformat_minor": 5
}
