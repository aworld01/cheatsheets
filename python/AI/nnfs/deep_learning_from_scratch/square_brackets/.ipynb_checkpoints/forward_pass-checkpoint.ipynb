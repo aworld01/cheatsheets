{
 "cells": [
  {
   "cell_type": "markdown",
   "id": "7fbfb3a9-577c-4bad-9dc1-9a555837bd18",
   "metadata": {},
   "source": [
    "<img src=\"neurons.jpg\" width=400>"
   ]
  },
  {
   "cell_type": "code",
   "execution_count": 1,
   "id": "66f39a56-076b-4aa3-bac7-8c2f6b038eaf",
   "metadata": {},
   "outputs": [],
   "source": [
    "import numpy as np"
   ]
  },
  {
   "cell_type": "code",
   "execution_count": 5,
   "id": "ff681637-e950-43b1-8cd9-8f73c5b30e6c",
   "metadata": {},
   "outputs": [],
   "source": [
    "x = np.array([[1,0,1,0],\n",
    "              [1,0,1,1],\n",
    "              [0,1,0,1]])\n",
    "             \n",
    "y = np.array([[1],[1],[0]])"
   ]
  },
  {
   "cell_type": "markdown",
   "id": "8e58d640-1b42-42ab-bd00-acad50d4f83e",
   "metadata": {},
   "source": [
    "<h2>Sigmoid Activation Function</h2>"
   ]
  },
  {
   "cell_type": "code",
   "execution_count": 35,
   "id": "394d074e-0a82-4017-a3cd-3fd44bfdb73e",
   "metadata": {},
   "outputs": [],
   "source": [
    "def sigmoid(x):\n",
    "    return 1/(1+np.exp(-x))"
   ]
  },
  {
   "cell_type": "code",
   "execution_count": 37,
   "id": "41e0a907-7ec6-4def-9f70-ea33ae4c526a",
   "metadata": {},
   "outputs": [
    {
     "name": "stdout",
     "output_type": "stream",
     "text": [
      "(3, 4)\n",
      "4\n"
     ]
    }
   ],
   "source": [
    "print(x.shape)\n",
    "print(x.shape[1])"
   ]
  },
  {
   "cell_type": "code",
   "execution_count": 39,
   "id": "029f752b-197a-4b80-a70b-824ee511bf62",
   "metadata": {},
   "outputs": [],
   "source": [
    "\"\"\"input layer neurons will be always equals to the number of columns\"\"\"\n",
    "inputNeurons = x.shape[1]\n",
    "\n",
    "\"\"\"hidden neurons we can decide by hit and trail\"\"\"\n",
    "hiddenNeurons = 3\n",
    "\n",
    "\"\"\"output neuron depends on number of classes we have in target columns\"\"\"\n",
    "outputNeurons = 1"
   ]
  },
  {
   "cell_type": "markdown",
   "id": "05b957ce-968c-4e9f-ad05-9c06c3fa7f0a",
   "metadata": {},
   "source": [
    "<p>\n",
    "    weightsHidden = [4,3] <br>\n",
    "    biasHidden = [1,3] <br>\n",
    "    weightsOutput = [3,1] <br>\n",
    "    biasOutput = [1,1]\n",
    "</p>"
   ]
  },
  {
   "cell_type": "code",
   "execution_count": 42,
   "id": "8e2e32c1-dff2-40a1-8e5f-5a5a2db260ab",
   "metadata": {},
   "outputs": [],
   "source": [
    "weightsHidden = np.random.uniform(size=(inputNeurons,hiddenNeurons))\n",
    "biasHidden = np.random.uniform(size=(1,hiddenNeurons))\n",
    "weightsOutput = np.random.uniform(size=(hiddenNeurons,outputNeurons))\n",
    "biasOutput = np.random.uniform(size=(1,outputNeurons))"
   ]
  },
  {
   "cell_type": "markdown",
   "id": "76fe79fe-5efb-46b2-9f92-cb38f26e354e",
   "metadata": {},
   "source": [
    "<h2>Feedforward</h2>"
   ]
  },
  {
   "cell_type": "markdown",
   "id": "30d2fd74-7bf6-441f-815d-19fbbaf651dc",
   "metadata": {},
   "source": [
    "<h3>Step-1 => apply dot product and add bias: f(x) = x.wh+bh</h3>"
   ]
  },
  {
   "cell_type": "code",
   "execution_count": 46,
   "id": "316eea66-ec9c-4b99-9bda-5a8d2fa48826",
   "metadata": {},
   "outputs": [
    {
     "data": {
      "text/plain": [
       "array([[1.68822741, 0.70376596, 2.1309863 ],\n",
       "       [2.29374465, 1.04882104, 2.77014614],\n",
       "       [1.61562445, 0.61209995, 2.23323538]])"
      ]
     },
     "execution_count": 46,
     "metadata": {},
     "output_type": "execute_result"
    }
   ],
   "source": [
    "fx = np.dot(x,weightsHidden)+biasHidden\n",
    "fx"
   ]
  },
  {
   "cell_type": "markdown",
   "id": "1fb2ad1a-e1c8-4a09-8ace-1b9391c808bd",
   "metadata": {},
   "source": [
    "<h3>step-2 => apply activation function</h3>"
   ]
  },
  {
   "cell_type": "code",
   "execution_count": 49,
   "id": "9dd05284-4db5-4b7f-bf33-c8c027488ded",
   "metadata": {},
   "outputs": [
    {
     "data": {
      "text/plain": [
       "array([[0.8439909 , 0.66902221, 0.8938786 ],\n",
       "       [0.90835765, 0.74054844, 0.9410411 ],\n",
       "       [0.8341908 , 0.64841968, 0.90319461]])"
      ]
     },
     "execution_count": 49,
     "metadata": {},
     "output_type": "execute_result"
    }
   ],
   "source": [
    "hiddenLayer = sigmoid(fx)\n",
    "hiddenLayer"
   ]
  },
  {
   "cell_type": "markdown",
   "id": "797f6cb5-87cb-4d00-bae8-245bcd73f3a3",
   "metadata": {},
   "source": [
    "<h3>step-3 => apply dot product and add bias: f(x) = hiddenLayer.wo+bo</h3>"
   ]
  },
  {
   "cell_type": "code",
   "execution_count": 52,
   "id": "818743ff-a98c-4ac1-b46c-2b9984b72058",
   "metadata": {},
   "outputs": [
    {
     "data": {
      "text/plain": [
       "array([[1.24851859],\n",
       "       [1.30405088],\n",
       "       [1.2425433 ]])"
      ]
     },
     "execution_count": 52,
     "metadata": {},
     "output_type": "execute_result"
    }
   ],
   "source": [
    "fx_ = np.dot(hiddenLayer,weightsOutput)+biasOutput\n",
    "fx_"
   ]
  },
  {
   "cell_type": "markdown",
   "id": "93ea085b-712a-4846-a63b-3eaf0c5a46b3",
   "metadata": {},
   "source": [
    "<h3>step-4 => apply activation function</h3>"
   ]
  },
  {
   "cell_type": "code",
   "execution_count": 55,
   "id": "0373a582-3081-4d6e-bd38-684f1d1eff96",
   "metadata": {},
   "outputs": [
    {
     "data": {
      "text/plain": [
       "array([[0.77704332],\n",
       "       [0.78651595],\n",
       "       [0.7760064 ]])"
      ]
     },
     "execution_count": 55,
     "metadata": {},
     "output_type": "execute_result"
    }
   ],
   "source": [
    "outputLayer = sigmoid(fx_)\n",
    "outputLayer"
   ]
  }
 ],
 "metadata": {
  "kernelspec": {
   "display_name": "Python [conda env:base] *",
   "language": "python",
   "name": "conda-base-py"
  },
  "language_info": {
   "codemirror_mode": {
    "name": "ipython",
    "version": 3
   },
   "file_extension": ".py",
   "mimetype": "text/x-python",
   "name": "python",
   "nbconvert_exporter": "python",
   "pygments_lexer": "ipython3",
   "version": "3.12.7"
  }
 },
 "nbformat": 4,
 "nbformat_minor": 5
}
