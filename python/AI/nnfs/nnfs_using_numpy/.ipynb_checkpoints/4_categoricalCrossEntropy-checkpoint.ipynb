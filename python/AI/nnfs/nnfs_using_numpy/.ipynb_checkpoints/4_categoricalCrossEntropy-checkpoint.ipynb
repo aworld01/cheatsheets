{
 "cells": [
  {
   "cell_type": "markdown",
   "id": "38bc8162-b0a4-4a6f-84ba-496746f1417d",
   "metadata": {},
   "source": [
    "<img src=\"..\\pics\\examples\\01_categoricalCrossEntropy.jpg\">"
   ]
  },
  {
   "cell_type": "markdown",
   "id": "cbc6e70c-e231-45ea-84c7-9e9ce79ffe06",
   "metadata": {},
   "source": [
    "<img src=\"..\\pics\\examples\\02_categoricalCrossEntropy.jpg\">"
   ]
  },
  {
   "cell_type": "markdown",
   "id": "e709dda3-d452-4998-9b6c-94b59b8192d5",
   "metadata": {},
   "source": [
    "<img src=\"..\\pics\\examples\\03_categoricalCrossEntropy.jpg\">"
   ]
  },
  {
   "cell_type": "code",
   "execution_count": 156,
   "id": "23e2765b-f02a-4a85-9a72-9ccdd0e1a17d",
   "metadata": {},
   "outputs": [],
   "source": [
    "import math"
   ]
  },
  {
   "cell_type": "code",
   "execution_count": 178,
   "id": "2a72a3f2-944c-460f-8e89-db424c4f86a1",
   "metadata": {},
   "outputs": [],
   "source": [
    "softmax_output = [0.7,0.1,0.2]\n",
    "target_output = [1,0,0]\n",
    "loss = -(math.log(softmax_output[0])*target_output[0]+math.log(softmax_output[1])*target_output[1]+math.log(softmax_output[2])*target_output[2])"
   ]
  },
  {
   "cell_type": "code",
   "execution_count": 180,
   "id": "b9cdf629-4eeb-4ef3-aa3b-a3f5a7c5a5f8",
   "metadata": {},
   "outputs": [
    {
     "data": {
      "text/plain": [
       "0.35667494393873245"
      ]
     },
     "execution_count": 180,
     "metadata": {},
     "output_type": "execute_result"
    }
   ],
   "source": [
    "loss"
   ]
  },
  {
   "cell_type": "code",
   "execution_count": 182,
   "id": "50c8070f-2e95-4385-831f-18acaba050c3",
   "metadata": {},
   "outputs": [
    {
     "data": {
      "text/plain": [
       "0.35667494393873245"
      ]
     },
     "execution_count": 182,
     "metadata": {},
     "output_type": "execute_result"
    }
   ],
   "source": [
    "-math.log(softmax_output[0])"
   ]
  },
  {
   "cell_type": "code",
   "execution_count": 184,
   "id": "5482cded-0e88-4eeb-a160-8798871c0fc6",
   "metadata": {},
   "outputs": [
    {
     "data": {
      "text/plain": [
       "[0.0, 0.35667494393873245, 0.35667494393873245]"
      ]
     },
     "execution_count": 184,
     "metadata": {},
     "output_type": "execute_result"
    }
   ],
   "source": [
    "z = []\n",
    "for i in target_output:\n",
    "    z.append(-math.log(softmax_output[i])*target_output[i])\n",
    "z"
   ]
  },
  {
   "cell_type": "code",
   "execution_count": 186,
   "id": "71ff2a42-cbf1-4d6c-978c-d4c33ac6a35e",
   "metadata": {},
   "outputs": [
    {
     "data": {
      "text/plain": [
       "0.35667494393873245"
      ]
     },
     "execution_count": 186,
     "metadata": {},
     "output_type": "execute_result"
    }
   ],
   "source": [
    "loss = sum(-(np.log(softmax_output)*target_output))\n",
    "loss"
   ]
  }
 ],
 "metadata": {
  "kernelspec": {
   "display_name": "Python [conda env:base] *",
   "language": "python",
   "name": "conda-base-py"
  },
  "language_info": {
   "codemirror_mode": {
    "name": "ipython",
    "version": 3
   },
   "file_extension": ".py",
   "mimetype": "text/x-python",
   "name": "python",
   "nbconvert_exporter": "python",
   "pygments_lexer": "ipython3",
   "version": "3.12.7"
  }
 },
 "nbformat": 4,
 "nbformat_minor": 5
}
