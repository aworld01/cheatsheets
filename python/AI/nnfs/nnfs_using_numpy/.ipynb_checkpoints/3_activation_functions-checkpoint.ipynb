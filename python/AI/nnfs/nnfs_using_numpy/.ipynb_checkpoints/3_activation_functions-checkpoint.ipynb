{
 "cells": [
  {
   "cell_type": "code",
   "execution_count": 1,
   "id": "c5db81c4-08a6-4bd8-bef2-06e0eb372915",
   "metadata": {},
   "outputs": [],
   "source": [
    "import numpy as np"
   ]
  },
  {
   "cell_type": "markdown",
   "id": "b2f24f94-f5fc-4d4a-81cb-0a13bf1f8957",
   "metadata": {},
   "source": [
    "<h1>Activation Functions</h1>"
   ]
  },
  {
   "cell_type": "markdown",
   "id": "262feb54-16c8-49cf-b999-7f78af174767",
   "metadata": {},
   "source": [
    "<h2>reLU (Rectified Linear Unit) Activation Function</h2>"
   ]
  },
  {
   "cell_type": "markdown",
   "id": "6448f1e8-9552-44d2-9789-9e921fde63c4",
   "metadata": {},
   "source": [
    "<p>\n",
    "    If your input is positive or zero, the output is the same as the input. If your input in negative, the output is zero.\n",
    "</p>"
   ]
  },
  {
   "cell_type": "code",
   "execution_count": 4,
   "id": "9fed3a5f-13f7-4f59-9c27-e4f372fae14c",
   "metadata": {},
   "outputs": [
    {
     "data": {
      "text/plain": [
       "[0, 2, -1, 3.3, -2.7, 1.1, 2.2, -100]"
      ]
     },
     "execution_count": 4,
     "metadata": {},
     "output_type": "execute_result"
    }
   ],
   "source": [
    "inputs = [0,2,-1,3.3,-2.7,1.1,2.2,-100]\n",
    "inputs"
   ]
  },
  {
   "cell_type": "markdown",
   "id": "f8fb8692-e943-485b-812d-1f1543c9a512",
   "metadata": {},
   "source": [
    "<h3>example1</h3>"
   ]
  },
  {
   "cell_type": "code",
   "execution_count": 6,
   "id": "0e7c9d7e-fd9a-4bb1-bd86-65262fc22982",
   "metadata": {},
   "outputs": [
    {
     "data": {
      "text/plain": [
       "[0, 2, 0, 3.3, 0, 1.1, 2.2, 0]"
      ]
     },
     "execution_count": 6,
     "metadata": {},
     "output_type": "execute_result"
    }
   ],
   "source": [
    "output1 = []\n",
    "for i in inputs:\n",
    "    if i > 0:\n",
    "        output1.append(i)\n",
    "    elif i <= 0:\n",
    "        output1.append(0)\n",
    "output1"
   ]
  },
  {
   "cell_type": "markdown",
   "id": "7dbe8788-36e0-4bf5-b59d-184fa56f154f",
   "metadata": {},
   "source": [
    "<h3>example2</h3>"
   ]
  },
  {
   "cell_type": "code",
   "execution_count": 8,
   "id": "3a936d08-da1f-43e6-a388-8c741c2f2311",
   "metadata": {},
   "outputs": [
    {
     "data": {
      "text/plain": [
       "[0, 2, 0, 3.3, 0, 1.1, 2.2, 0]"
      ]
     },
     "execution_count": 8,
     "metadata": {},
     "output_type": "execute_result"
    }
   ],
   "source": [
    "output2 = []\n",
    "for i in inputs:\n",
    "    output2.append(max(0,i))\n",
    "output2"
   ]
  },
  {
   "cell_type": "markdown",
   "id": "73b12866-76b4-47ae-89c3-24ec47df0827",
   "metadata": {},
   "source": [
    "<h3>example3</h3>"
   ]
  },
  {
   "cell_type": "code",
   "execution_count": 10,
   "id": "3cce9fc5-40d9-476d-84f2-0ee0d52ed55a",
   "metadata": {},
   "outputs": [
    {
     "data": {
      "text/plain": [
       "array([0. , 2. , 0. , 3.3, 0. , 1.1, 2.2, 0. ])"
      ]
     },
     "execution_count": 10,
     "metadata": {},
     "output_type": "execute_result"
    }
   ],
   "source": [
    "output3 = np.maximum(0,inputs)\n",
    "output3"
   ]
  },
  {
   "cell_type": "markdown",
   "id": "08f2e05a-c874-44e0-86df-ebf3460d68f6",
   "metadata": {},
   "source": [
    "<h2>Sofmax Activation Function</h2>"
   ]
  },
  {
   "cell_type": "markdown",
   "id": "7c1e4a86-9fa6-4872-8bf1-43952ad7af08",
   "metadata": {},
   "source": [
    "<h3>Input => Exponentiate => Normalization => Output</h3>"
   ]
  },
  {
   "cell_type": "markdown",
   "id": "53f1d20e-2a34-4f02-b072-b7f8e3790ac8",
   "metadata": {},
   "source": [
    "<img src=\"../pics/examples/04_softmax.jpg\" width=300>"
   ]
  },
  {
   "cell_type": "code",
   "execution_count": 57,
   "id": "eb279856-aa75-4a35-a7f3-b11b1cd159c4",
   "metadata": {},
   "outputs": [],
   "source": [
    "inputs = [0,2,-1,3.3,-2.7,1.1,2.2,-100]"
   ]
  },
  {
   "cell_type": "markdown",
   "id": "1a95f4c4-dac1-4bfe-bcfb-0068ba23321e",
   "metadata": {},
   "source": [
    "<h3>Exponentiation</h3>"
   ]
  },
  {
   "cell_type": "code",
   "execution_count": 15,
   "id": "21dd7561-856f-4dfe-abf6-666e8f5f4150",
   "metadata": {},
   "outputs": [
    {
     "data": {
      "text/plain": [
       "array([1.00000000e+00, 7.38905610e+00, 3.67879441e-01, 2.71126389e+01,\n",
       "       6.72055127e-02, 3.00416602e+00, 9.02501350e+00, 3.72007598e-44])"
      ]
     },
     "execution_count": 15,
     "metadata": {},
     "output_type": "execute_result"
    }
   ],
   "source": [
    "ex = np.exp(inputs)\n",
    "ex"
   ]
  },
  {
   "cell_type": "markdown",
   "id": "83ad4ba3-396b-4bb1-8c0c-190dc54993b1",
   "metadata": {},
   "source": [
    "<h3>Normlization</h3>"
   ]
  },
  {
   "cell_type": "code",
   "execution_count": 40,
   "id": "74decf28-c5f5-4413-8a64-b6b310bfaa4d",
   "metadata": {},
   "outputs": [],
   "source": [
    "norm_base = sum(ex)\n",
    "norm_value = []\n",
    "for value in inputs:\n",
    "    norm_value.append(value/norm_base)"
   ]
  },
  {
   "cell_type": "code",
   "execution_count": 42,
   "id": "351c1c92-1b72-4f3a-8322-2dff01e91094",
   "metadata": {},
   "outputs": [
    {
     "name": "stdout",
     "output_type": "stream",
     "text": [
      "47.96595949688028\n",
      "[0.0, 0.04169623668489485, -0.020848118342447423, 0.0687987905300765, -0.05628991952460805, 0.02293293017669217, 0.04586586035338434, -2.0848118342447424]\n"
     ]
    }
   ],
   "source": [
    "print(norm_base)\n",
    "print(norm_value)"
   ]
  },
  {
   "cell_type": "markdown",
   "id": "b5edf2fa-cb0a-4796-bfb9-e4b4d9e6a77e",
   "metadata": {},
   "source": [
    "<h3>Complete softmaxActivation function</h3>"
   ]
  },
  {
   "cell_type": "code",
   "execution_count": 50,
   "id": "deb9d29c-4662-4f77-bd3c-47987af0cda7",
   "metadata": {},
   "outputs": [],
   "source": [
    "def softmaxActivation(arg):\n",
    "    ex = np.exp(arg)\n",
    "    norm_base = sum(ex)\n",
    "    norm_value = []\n",
    "    for value in arg:\n",
    "        norm_value.append(value/norm_base)\n",
    "    return norm_value"
   ]
  },
  {
   "cell_type": "code",
   "execution_count": 52,
   "id": "20c641d0-95b8-46f9-baba-c78c0b312e6e",
   "metadata": {},
   "outputs": [
    {
     "name": "stdout",
     "output_type": "stream",
     "text": [
      "[0.0, 0.04169623668489485, -0.020848118342447423, 0.0687987905300765, -0.05628991952460805, 0.02293293017669217, 0.04586586035338434, -2.0848118342447424]\n"
     ]
    }
   ],
   "source": [
    "print(softmaxActivation(inputs))"
   ]
  },
  {
   "cell_type": "markdown",
   "id": "5b11902d-23c2-4621-bc10-274b284368c7",
   "metadata": {},
   "source": [
    "<h2>Binary Sigmoid Activation Function<h2>"
   ]
  },
  {
   "cell_type": "markdown",
   "id": "e060c19a-871b-4fd8-bd42-6df9d58a3579",
   "metadata": {},
   "source": [
    "<p>\n",
    "    Imagine you have a number. You want to squish that number into a value between 0 and 1. The Sigmoid function does just that. It's like putting a number through a machine that always gives you a result between 0 and 1.\n",
    "</p>"
   ]
  },
  {
   "cell_type": "code",
   "execution_count": 76,
   "id": "60bb5eb1-25bf-45b8-be41-78e1c93b1ed4",
   "metadata": {},
   "outputs": [],
   "source": [
    "inputs = np.array([0,2,-1,3.3,-2.7,1.1,2.2,-100])"
   ]
  },
  {
   "cell_type": "markdown",
   "id": "7d05b6de-608e-4297-bb4d-9a3178647ee5",
   "metadata": {},
   "source": [
    "<h3>example1</h3>"
   ]
  },
  {
   "cell_type": "code",
   "execution_count": 85,
   "id": "ae443942-ceb6-4cf1-a857-6bdbbe633268",
   "metadata": {},
   "outputs": [
    {
     "data": {
      "text/plain": [
       "array([5.00000000e-01, 8.80797078e-01, 2.68941421e-01, 9.64428811e-01,\n",
       "       6.29733561e-02, 7.50260106e-01, 9.00249511e-01, 3.72007598e-44])"
      ]
     },
     "execution_count": 85,
     "metadata": {},
     "output_type": "execute_result"
    }
   ],
   "source": [
    "x = np.e**-inputs\n",
    "y = 1+x\n",
    "z = 1/y\n",
    "z"
   ]
  },
  {
   "cell_type": "markdown",
   "id": "960951ca-5dd8-40b4-99ec-fe94d5536210",
   "metadata": {},
   "source": [
    "<h3>example2</h3>"
   ]
  },
  {
   "cell_type": "code",
   "execution_count": 95,
   "id": "679ddfee-caa4-40be-b654-cbcdf3ee7b2b",
   "metadata": {},
   "outputs": [
    {
     "data": {
      "text/plain": [
       "array([5.00000000e-01, 8.80797078e-01, 2.68941421e-01, 9.64428811e-01,\n",
       "       6.29733561e-02, 7.50260106e-01, 9.00249511e-01, 3.72007598e-44])"
      ]
     },
     "execution_count": 95,
     "metadata": {},
     "output_type": "execute_result"
    }
   ],
   "source": [
    "j = 1/(1+np.e**-inputs)\n",
    "j"
   ]
  },
  {
   "cell_type": "markdown",
   "id": "52d802a0-75bf-4608-b3d0-00a68d25ac46",
   "metadata": {},
   "source": [
    "<h3>Complete Sigmoid activation function</h3>"
   ]
  },
  {
   "cell_type": "code",
   "execution_count": 99,
   "id": "b7ef5b23-90ad-4d4a-9a4b-77c5367a7d8c",
   "metadata": {},
   "outputs": [],
   "source": [
    "def sigmoid(arg):\n",
    "    return 1/(1+np.exp(-arg))"
   ]
  },
  {
   "cell_type": "code",
   "execution_count": 93,
   "id": "593fbbb1-79bd-44e0-b7ba-d32f1089c7c3",
   "metadata": {},
   "outputs": [
    {
     "data": {
      "text/plain": [
       "array([5.00000000e-01, 8.80797078e-01, 2.68941421e-01, 9.64428811e-01,\n",
       "       6.29733561e-02, 7.50260106e-01, 9.00249511e-01, 3.72007598e-44])"
      ]
     },
     "execution_count": 93,
     "metadata": {},
     "output_type": "execute_result"
    }
   ],
   "source": [
    "sigmoid(inputs)"
   ]
  }
 ],
 "metadata": {
  "kernelspec": {
   "display_name": "Python [conda env:base] *",
   "language": "python",
   "name": "conda-base-py"
  },
  "language_info": {
   "codemirror_mode": {
    "name": "ipython",
    "version": 3
   },
   "file_extension": ".py",
   "mimetype": "text/x-python",
   "name": "python",
   "nbconvert_exporter": "python",
   "pygments_lexer": "ipython3",
   "version": "3.12.7"
  }
 },
 "nbformat": 4,
 "nbformat_minor": 5
}
