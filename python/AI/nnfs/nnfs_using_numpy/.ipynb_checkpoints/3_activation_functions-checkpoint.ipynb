{
 "cells": [
  {
   "cell_type": "code",
   "execution_count": 14,
   "id": "c5db81c4-08a6-4bd8-bef2-06e0eb372915",
   "metadata": {},
   "outputs": [],
   "source": [
    "import numpy as np"
   ]
  },
  {
   "cell_type": "markdown",
   "id": "b2f24f94-f5fc-4d4a-81cb-0a13bf1f8957",
   "metadata": {},
   "source": [
    "<h1>Activation Functions</h1>"
   ]
  },
  {
   "cell_type": "markdown",
   "id": "262feb54-16c8-49cf-b999-7f78af174767",
   "metadata": {},
   "source": [
    "<h2>reLU Activation Function</h2>"
   ]
  },
  {
   "cell_type": "code",
   "execution_count": 18,
   "id": "9fed3a5f-13f7-4f59-9c27-e4f372fae14c",
   "metadata": {},
   "outputs": [
    {
     "data": {
      "text/plain": [
       "[0, 2, -1, 3.3, -2.7, 1.1, 2.2, -100]"
      ]
     },
     "execution_count": 18,
     "metadata": {},
     "output_type": "execute_result"
    }
   ],
   "source": [
    "inputs = [0,2,-1,3.3,-2.7,1.1,2.2,-100]\n",
    "inputs"
   ]
  },
  {
   "cell_type": "markdown",
   "id": "f8fb8692-e943-485b-812d-1f1543c9a512",
   "metadata": {},
   "source": [
    "<h3>example1</h3>"
   ]
  },
  {
   "cell_type": "code",
   "execution_count": 21,
   "id": "0e7c9d7e-fd9a-4bb1-bd86-65262fc22982",
   "metadata": {},
   "outputs": [
    {
     "data": {
      "text/plain": [
       "[0, 2, 0, 3.3, 0, 1.1, 2.2, 0]"
      ]
     },
     "execution_count": 21,
     "metadata": {},
     "output_type": "execute_result"
    }
   ],
   "source": [
    "output1 = []\n",
    "for i in inputs:\n",
    "    if i > 0:\n",
    "        output1.append(i)\n",
    "    elif i <= 0:\n",
    "        output1.append(0)\n",
    "output1"
   ]
  },
  {
   "cell_type": "markdown",
   "id": "7dbe8788-36e0-4bf5-b59d-184fa56f154f",
   "metadata": {},
   "source": [
    "<h3>example2</h3>"
   ]
  },
  {
   "cell_type": "code",
   "execution_count": 24,
   "id": "3a936d08-da1f-43e6-a388-8c741c2f2311",
   "metadata": {},
   "outputs": [
    {
     "data": {
      "text/plain": [
       "[0, 2, 0, 3.3, 0, 1.1, 2.2, 0]"
      ]
     },
     "execution_count": 24,
     "metadata": {},
     "output_type": "execute_result"
    }
   ],
   "source": [
    "output2 = []\n",
    "for i in inputs:\n",
    "    output2.append(max(0,i))\n",
    "output2"
   ]
  },
  {
   "cell_type": "markdown",
   "id": "73b12866-76b4-47ae-89c3-24ec47df0827",
   "metadata": {},
   "source": [
    "<h3>example3</h3>"
   ]
  },
  {
   "cell_type": "code",
   "execution_count": 27,
   "id": "3cce9fc5-40d9-476d-84f2-0ee0d52ed55a",
   "metadata": {},
   "outputs": [
    {
     "data": {
      "text/plain": [
       "array([0. , 2. , 0. , 3.3, 0. , 1.1, 2.2, 0. ])"
      ]
     },
     "execution_count": 27,
     "metadata": {},
     "output_type": "execute_result"
    }
   ],
   "source": [
    "output3 = np.maximum(0,inputs)\n",
    "output3"
   ]
  },
  {
   "cell_type": "markdown",
   "id": "08f2e05a-c874-44e0-86df-ebf3460d68f6",
   "metadata": {},
   "source": [
    "<h2>Sofmax Activation Function</h2>"
   ]
  },
  {
   "cell_type": "markdown",
   "id": "7c1e4a86-9fa6-4872-8bf1-43952ad7af08",
   "metadata": {},
   "source": [
    "<h3>Input => Exponentiate => Normalization => Output</h3>"
   ]
  },
  {
   "cell_type": "markdown",
   "id": "53f1d20e-2a34-4f02-b072-b7f8e3790ac8",
   "metadata": {},
   "source": [
    "<img src=\"../pics/examples/04_softmax.jpg\" width=300>"
   ]
  },
  {
   "cell_type": "code",
   "execution_count": 32,
   "id": "eb279856-aa75-4a35-a7f3-b11b1cd159c4",
   "metadata": {},
   "outputs": [],
   "source": [
    "inputs = [0,2,-1,3.3,-2.7,1.1,2.2,-100]"
   ]
  },
  {
   "cell_type": "code",
   "execution_count": 36,
   "id": "21dd7561-856f-4dfe-abf6-666e8f5f4150",
   "metadata": {},
   "outputs": [
    {
     "data": {
      "text/plain": [
       "array([1.00000000e+00, 7.38905610e+00, 3.67879441e-01, 2.71126389e+01,\n",
       "       6.72055127e-02, 3.00416602e+00, 9.02501350e+00, 3.72007598e-44])"
      ]
     },
     "execution_count": 36,
     "metadata": {},
     "output_type": "execute_result"
    }
   ],
   "source": [
    "ex = np.exp(inputs)\n",
    "ex"
   ]
  },
  {
   "cell_type": "code",
   "execution_count": 38,
   "id": "74decf28-c5f5-4413-8a64-b6b310bfaa4d",
   "metadata": {},
   "outputs": [],
   "source": [
    "norm_base = sum(ex)\n",
    "norm_value = []\n",
    "for value in inputs:\n",
    "    norm_value.append(value/norm_base)"
   ]
  },
  {
   "cell_type": "code",
   "execution_count": 43,
   "id": "351c1c92-1b72-4f3a-8322-2dff01e91094",
   "metadata": {},
   "outputs": [
    {
     "name": "stdout",
     "output_type": "stream",
     "text": [
      "47.96595949688028\n",
      "[0.0, 0.04169623668489485, -0.020848118342447423, 0.0687987905300765, -0.05628991952460805, 0.02293293017669217, 0.04586586035338434, -2.0848118342447424]\n"
     ]
    }
   ],
   "source": [
    "print(norm_base)\n",
    "print(norm_value)"
   ]
  },
  {
   "cell_type": "markdown",
   "id": "b5edf2fa-cb0a-4796-bfb9-e4b4d9e6a77e",
   "metadata": {},
   "source": [
    "<h2>Example with function</h2>"
   ]
  },
  {
   "cell_type": "code",
   "execution_count": 45,
   "id": "deb9d29c-4662-4f77-bd3c-47987af0cda7",
   "metadata": {},
   "outputs": [],
   "source": [
    "def normalization(arg):\n",
    "    ex = np.exp(arg)\n",
    "    norm_base = sum(ex)\n",
    "    norm_value = []\n",
    "    for value in arg:\n",
    "        norm_value.append(value/norm_base)\n",
    "    return norm_value"
   ]
  },
  {
   "cell_type": "code",
   "execution_count": 49,
   "id": "20c641d0-95b8-46f9-baba-c78c0b312e6e",
   "metadata": {},
   "outputs": [
    {
     "name": "stdout",
     "output_type": "stream",
     "text": [
      "[0.0, 0.04169623668489485, -0.020848118342447423, 0.0687987905300765, -0.05628991952460805, 0.02293293017669217, 0.04586586035338434, -2.0848118342447424]\n"
     ]
    }
   ],
   "source": [
    "print(normalization(inputs))"
   ]
  }
 ],
 "metadata": {
  "kernelspec": {
   "display_name": "Python [conda env:base] *",
   "language": "python",
   "name": "conda-base-py"
  },
  "language_info": {
   "codemirror_mode": {
    "name": "ipython",
    "version": 3
   },
   "file_extension": ".py",
   "mimetype": "text/x-python",
   "name": "python",
   "nbconvert_exporter": "python",
   "pygments_lexer": "ipython3",
   "version": "3.12.7"
  }
 },
 "nbformat": 4,
 "nbformat_minor": 5
}
