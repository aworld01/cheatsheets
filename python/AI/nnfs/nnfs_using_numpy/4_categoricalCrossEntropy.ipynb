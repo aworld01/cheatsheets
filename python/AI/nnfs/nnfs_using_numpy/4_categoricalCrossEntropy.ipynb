{
 "cells": [
  {
   "cell_type": "markdown",
   "id": "38bc8162-b0a4-4a6f-84ba-496746f1417d",
   "metadata": {},
   "source": [
    "<img src=\"..\\pics\\examples\\01_categoricalCrossEntropy.jpg\">"
   ]
  },
  {
   "cell_type": "markdown",
   "id": "cbc6e70c-e231-45ea-84c7-9e9ce79ffe06",
   "metadata": {},
   "source": [
    "<img src=\"..\\pics\\examples\\02_categoricalCrossEntropy.jpg\">"
   ]
  },
  {
   "cell_type": "markdown",
   "id": "e709dda3-d452-4998-9b6c-94b59b8192d5",
   "metadata": {},
   "source": [
    "<img src=\"..\\pics\\examples\\03_categoricalCrossEntropy.jpg\">"
   ]
  },
  {
   "cell_type": "code",
   "execution_count": 6,
   "id": "23e2765b-f02a-4a85-9a72-9ccdd0e1a17d",
   "metadata": {},
   "outputs": [],
   "source": [
    "import math"
   ]
  },
  {
   "cell_type": "code",
   "execution_count": 18,
   "id": "2a72a3f2-944c-460f-8e89-db424c4f86a1",
   "metadata": {},
   "outputs": [],
   "source": [
    "softmax_output = [0.7,0.1,0.2]\n",
    "target_output = [1,0,0]\n",
    "loss = -(math.log(softmax_output[0])*target_output[0]+math.log(softmax_output[1])*target_output[1]+math.log(softmax_output[2])*target_output[2])"
   ]
  },
  {
   "cell_type": "code",
   "execution_count": 20,
   "id": "b9cdf629-4eeb-4ef3-aa3b-a3f5a7c5a5f8",
   "metadata": {},
   "outputs": [
    {
     "data": {
      "text/plain": [
       "0.35667494393873245"
      ]
     },
     "execution_count": 20,
     "metadata": {},
     "output_type": "execute_result"
    }
   ],
   "source": [
    "loss"
   ]
  },
  {
   "cell_type": "code",
   "execution_count": 24,
   "id": "50c8070f-2e95-4385-831f-18acaba050c3",
   "metadata": {},
   "outputs": [
    {
     "data": {
      "text/plain": [
       "0.35667494393873245"
      ]
     },
     "execution_count": 24,
     "metadata": {},
     "output_type": "execute_result"
    }
   ],
   "source": [
    "-math.log(softmax_output[0])"
   ]
  }
 ],
 "metadata": {
  "kernelspec": {
   "display_name": "Python [conda env:base] *",
   "language": "python",
   "name": "conda-base-py"
  },
  "language_info": {
   "codemirror_mode": {
    "name": "ipython",
    "version": 3
   },
   "file_extension": ".py",
   "mimetype": "text/x-python",
   "name": "python",
   "nbconvert_exporter": "python",
   "pygments_lexer": "ipython3",
   "version": "3.12.7"
  }
 },
 "nbformat": 4,
 "nbformat_minor": 5
}
