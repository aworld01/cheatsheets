{
 "cells": [
  {
   "cell_type": "code",
   "execution_count": 1,
   "id": "8179c660-2d3c-4576-a052-864a88009821",
   "metadata": {},
   "outputs": [],
   "source": [
    "inputs = [[1,2,3,2.5],\n",
    "          [2.0,5.0,-1.0,2.0],\n",
    "          [-1.5,2.7,3.3,-0.8]]\n",
    "\n",
    "\"\"\"weights and biases for Layer1\"\"\"\n",
    "weights = [[0.2,0.8,-0.5,1.0],\n",
    "           [0.5,-0.91,0.26,-0.5],\n",
    "           [-0.26,-0.27,0.17,0.87]]\n",
    "biases = [2,3,0.5]"
   ]
  },
  {
   "cell_type": "code",
   "execution_count": 3,
   "id": "9218834f-ad59-4480-80ae-81b792ecad3d",
   "metadata": {},
   "outputs": [],
   "source": [
    "import numpy as np"
   ]
  },
  {
   "cell_type": "code",
   "execution_count": 4,
   "id": "ff234927-ddf8-4ee7-8a0b-8db4cadc5aec",
   "metadata": {},
   "outputs": [
    {
     "data": {
      "text/plain": [
       "array([[ 4.8  ,  1.21 ,  2.385],\n",
       "       [ 8.9  , -1.81 ,  0.2  ],\n",
       "       [ 1.41 ,  1.051,  0.026]])"
      ]
     },
     "execution_count": 4,
     "metadata": {},
     "output_type": "execute_result"
    }
   ],
   "source": [
    "\"\"\"Layer1 example1\"\"\"\n",
    "layer1 = np.dot(inputs, np.array(weights).T)+biases\n",
    "layer1"
   ]
  },
  {
   "cell_type": "code",
   "execution_count": 7,
   "id": "545a5af7-3a43-4666-a7e6-64ccbdd113ff",
   "metadata": {},
   "outputs": [
    {
     "name": "stdout",
     "output_type": "stream",
     "text": [
      "Inputs: [[1, 2, 3, 2.5], [2.0, 5.0, -1.0, 2.0], [-1.5, 2.7, 3.3, -0.8]]\n",
      "Weights: [[0.2, 0.8, -0.5, 1.0], [0.5, -0.91, 0.26, -0.5], [-0.26, -0.27, 0.17, 0.87]]\n",
      "Biases: [2, 3, 0.5]\n"
     ]
    }
   ],
   "source": [
    "print(f\"Inputs: {inputs}\")\n",
    "print(f\"Weights: {weights}\")\n",
    "print(f\"Biases: {biases}\")"
   ]
  },
  {
   "cell_type": "code",
   "execution_count": 9,
   "id": "43ce4099-d411-4a23-ac1d-a0e0dba609cd",
   "metadata": {},
   "outputs": [
    {
     "data": {
      "text/plain": [
       "array([[ 0.2 ,  0.8 , -0.5 ,  1.  ],\n",
       "       [ 0.5 , -0.91,  0.26, -0.5 ],\n",
       "       [-0.26, -0.27,  0.17,  0.87]])"
      ]
     },
     "execution_count": 9,
     "metadata": {},
     "output_type": "execute_result"
    }
   ],
   "source": [
    "weights = np.array(weights)\n",
    "weights"
   ]
  },
  {
   "cell_type": "code",
   "execution_count": 11,
   "id": "82b42640-9b60-42e7-9f0c-bbbcdbad34de",
   "metadata": {},
   "outputs": [
    {
     "data": {
      "text/plain": [
       "array([[ 0.2 ,  0.5 , -0.26],\n",
       "       [ 0.8 , -0.91, -0.27],\n",
       "       [-0.5 ,  0.26,  0.17],\n",
       "       [ 1.  , -0.5 ,  0.87]])"
      ]
     },
     "execution_count": 11,
     "metadata": {},
     "output_type": "execute_result"
    }
   ],
   "source": [
    "transpose = weights.T\n",
    "transpose"
   ]
  },
  {
   "cell_type": "code",
   "execution_count": 13,
   "id": "70a23891-33b0-461a-8886-9fa7cf9d7bcb",
   "metadata": {},
   "outputs": [
    {
     "data": {
      "text/plain": [
       "array([[ 4.8  ,  1.21 ,  2.385],\n",
       "       [ 8.9  , -1.81 ,  0.2  ],\n",
       "       [ 1.41 ,  1.051,  0.026]])"
      ]
     },
     "execution_count": 13,
     "metadata": {},
     "output_type": "execute_result"
    }
   ],
   "source": [
    "\"\"\"Layer1 example2\"\"\"\n",
    "l1 = np.dot(inputs,transpose)+biases\n",
    "l1"
   ]
  },
  {
   "cell_type": "code",
   "execution_count": 15,
   "id": "492b75e9-448d-4aa0-9ebc-5b323b7e3902",
   "metadata": {},
   "outputs": [],
   "source": [
    "\"\"\"weights and biases for layer2\"\"\"\n",
    "weights2 = [[0.1,-0.14,0.5],\n",
    "            [-0.5,0.12,-0.33],\n",
    "            [-0.44,0.73,-0.13]]\n",
    "biases2 = [-1,2,-0.5]"
   ]
  },
  {
   "cell_type": "code",
   "execution_count": 17,
   "id": "58304e3f-7209-44df-8f1c-06fd35f439ce",
   "metadata": {},
   "outputs": [
    {
     "data": {
      "text/plain": [
       "array([[ 0.5031 , -1.04185, -2.03875],\n",
       "       [ 0.2434 , -2.7332 , -5.7633 ],\n",
       "       [-0.99314,  1.41254, -0.35655]])"
      ]
     },
     "execution_count": 17,
     "metadata": {},
     "output_type": "execute_result"
    }
   ],
   "source": [
    "layer2 = np.dot(layer1,np.array(weights2).T)+biases2\n",
    "layer2"
   ]
  },
  {
   "cell_type": "code",
   "execution_count": 19,
   "id": "22225090-e228-409e-bd2c-b4e2d7f54dfc",
   "metadata": {},
   "outputs": [],
   "source": [
    "\"\"\"Create a neuralNetwork layer\"\"\"\n",
    "X = [[1,2,3,2.5],\n",
    "     [2.0,5.0,-1.0,2.0],\n",
    "     [-1.5,2.7,3.3,-0.8]]"
   ]
  },
  {
   "cell_type": "code",
   "execution_count": 52,
   "id": "a96052f7-379e-408c-8c4c-d126c0676bf8",
   "metadata": {},
   "outputs": [],
   "source": [
    "class Layer_Dense:\n",
    "    def __init__(self,n_inputs,n_neurons):\n",
    "        self.weights = 0.10 * np.random.randn(n_inputs,n_neurons)\n",
    "        self.biases = np.zeros((1,n_neurons))\n",
    "    def forward(self,inputs):\n",
    "        self.output = np.dot(inputs,self.weights) + self.biases\n",
    "\n",
    "class Activation_ReLU:\n",
    "    def forward(self,inputs):\n",
    "        self.output = np.maximum(0,inputs)"
   ]
  },
  {
   "cell_type": "code",
   "execution_count": 74,
   "id": "6e1310ea-9b3c-4e4c-8b3f-1d7be474ad21",
   "metadata": {},
   "outputs": [
    {
     "name": "stdout",
     "output_type": "stream",
     "text": [
      "[[ 0.10758131  1.03983522  0.24462411  0.31821498  0.18851053]\n",
      " [-0.08349796  0.70846411  0.00293357  0.44701525  0.36360538]\n",
      " [-0.50763245  0.55688422  0.07987797 -0.34889573  0.04553042]]\n",
      "\n",
      "[[0.10758131 1.03983522 0.24462411 0.31821498 0.18851053]\n",
      " [0.         0.70846411 0.00293357 0.44701525 0.36360538]\n",
      " [0.         0.55688422 0.07987797 0.         0.04553042]]\n",
      "\n",
      "[[ 0.148296   -0.08397602]\n",
      " [ 0.1196862  -0.0079471 ]\n",
      " [ 0.07324824 -0.04625712]]\n",
      "\n",
      "[[0.148296   0.        ]\n",
      " [0.1196862  0.        ]\n",
      " [0.07324824 0.        ]]\n"
     ]
    }
   ],
   "source": [
    "np.random.seed(0)\n",
    "\n",
    "layer1 = Layer_Dense(4,5)\n",
    "relu = Activation_ReLU()\n",
    "layer2 = Layer_Dense(5,2)\n",
    "relu = Activation_ReLU()\n",
    "\n",
    "layer1.forward(X)\n",
    "l1 = layer1.output\n",
    "print(l1)\n",
    "print()\n",
    "\n",
    "relu.forward(l1)\n",
    "l1 = relu.output\n",
    "print(l1)\n",
    "print()\n",
    "\n",
    "layer2.forward(l1)\n",
    "l2 = layer2.output\n",
    "print(l2)\n",
    "print()\n",
    "\n",
    "relu.forward(l2)\n",
    "l2 = relu.output\n",
    "print(l2)"
   ]
  },
  {
   "cell_type": "code",
   "execution_count": 38,
   "id": "937e6ee7-d193-4463-93a3-2173090f3c55",
   "metadata": {},
   "outputs": [
    {
     "data": {
      "text/plain": [
       "array([[ 1.76405235,  0.40015721,  0.97873798],\n",
       "       [ 2.2408932 ,  1.86755799, -0.97727788],\n",
       "       [ 0.95008842, -0.15135721, -0.10321885],\n",
       "       [ 0.4105985 ,  0.14404357,  1.45427351]])"
      ]
     },
     "execution_count": 38,
     "metadata": {},
     "output_type": "execute_result"
    }
   ],
   "source": [
    "np.random.seed(0)\n",
    "np.random.randn(4,3)"
   ]
  },
  {
   "cell_type": "code",
   "execution_count": 40,
   "id": "819b0808-d192-4789-a37a-bcb5744f4295",
   "metadata": {},
   "outputs": [
    {
     "data": {
      "text/plain": [
       "array([[ 0.17640523,  0.04001572,  0.0978738 ],\n",
       "       [ 0.22408932,  0.1867558 , -0.09772779],\n",
       "       [ 0.09500884, -0.01513572, -0.01032189],\n",
       "       [ 0.04105985,  0.01440436,  0.14542735]])"
      ]
     },
     "execution_count": 40,
     "metadata": {},
     "output_type": "execute_result"
    }
   ],
   "source": [
    "np.random.seed(0)\n",
    "0.10*np.random.randn(4,3)"
   ]
  },
  {
   "cell_type": "code",
   "execution_count": 42,
   "id": "a637503d-a85c-4fe6-a60b-b03e8d0b43e0",
   "metadata": {},
   "outputs": [
    {
     "data": {
      "text/plain": [
       "array([[0., 0., 0., 0.]])"
      ]
     },
     "execution_count": 42,
     "metadata": {},
     "output_type": "execute_result"
    }
   ],
   "source": [
    "np.zeros((1,4))"
   ]
  },
  {
   "cell_type": "code",
   "execution_count": null,
   "id": "15295d4d-e0fc-4abb-b82b-42b30d99a5c0",
   "metadata": {},
   "outputs": [],
   "source": []
  },
  {
   "cell_type": "code",
   "execution_count": null,
   "id": "8c51fa0c-396e-47b7-baa7-ed66ce5d6351",
   "metadata": {},
   "outputs": [],
   "source": []
  },
  {
   "cell_type": "code",
   "execution_count": null,
   "id": "d8de72b5-192c-41bc-bb3e-70219497cc57",
   "metadata": {},
   "outputs": [],
   "source": []
  },
  {
   "cell_type": "code",
   "execution_count": null,
   "id": "bf4e9c03-7677-4ce6-99c9-b3c0218366e0",
   "metadata": {},
   "outputs": [],
   "source": []
  }
 ],
 "metadata": {
  "kernelspec": {
   "display_name": "Python [conda env:base] *",
   "language": "python",
   "name": "conda-base-py"
  },
  "language_info": {
   "codemirror_mode": {
    "name": "ipython",
    "version": 3
   },
   "file_extension": ".py",
   "mimetype": "text/x-python",
   "name": "python",
   "nbconvert_exporter": "python",
   "pygments_lexer": "ipython3",
   "version": "3.12.7"
  }
 },
 "nbformat": 4,
 "nbformat_minor": 5
}
