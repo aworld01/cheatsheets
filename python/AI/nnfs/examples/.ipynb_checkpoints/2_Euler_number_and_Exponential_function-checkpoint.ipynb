{
 "cells": [
  {
   "cell_type": "markdown",
   "id": "a51450be-3a71-461f-a903-fba41028653b",
   "metadata": {},
   "source": [
    "<h1>Euler_number and Exponential_function</h1>"
   ]
  },
  {
   "cell_type": "markdown",
   "id": "cc4d8b08-f770-47dd-92c8-55491eb6ea62",
   "metadata": {},
   "source": [
    "<img src=\"pics/Eular's_Number_&_NaturalExponentialFunction.jpg/\" width=600, height=200>"
   ]
  },
  {
   "cell_type": "code",
   "execution_count": 15,
   "id": "bee5158c-f381-41bd-a6be-d747ba73a407",
   "metadata": {},
   "outputs": [],
   "source": [
    "import math"
   ]
  },
  {
   "cell_type": "code",
   "execution_count": 19,
   "id": "13aa2bd1-2dac-4b02-bc3a-9a51c3a5473b",
   "metadata": {},
   "outputs": [],
   "source": [
    "e = 2.718281828459045\n",
    "e2 = math.e\n",
    "x = 3"
   ]
  },
  {
   "cell_type": "code",
   "execution_count": 21,
   "id": "87675f4f-8ede-4b59-9af9-c4829c7ab26a",
   "metadata": {},
   "outputs": [],
   "source": [
    "def exp(arg):\n",
    "    return e**arg"
   ]
  },
  {
   "cell_type": "code",
   "execution_count": 23,
   "id": "d84fae82-7561-404e-b674-6da0b11f9c7b",
   "metadata": {},
   "outputs": [
    {
     "name": "stdout",
     "output_type": "stream",
     "text": [
      "2.718281828459045\n",
      "2.718281828459045\n"
     ]
    }
   ],
   "source": [
    "print(e)\n",
    "print(e2)"
   ]
  },
  {
   "cell_type": "code",
   "execution_count": 29,
   "id": "63c59ef3-3aa1-4245-923d-91ff22daff4f",
   "metadata": {},
   "outputs": [
    {
     "name": "stdout",
     "output_type": "stream",
     "text": [
      "20.085536923187664\n",
      "20.085536923187668\n"
     ]
    }
   ],
   "source": [
    "print(exp(x))\n",
    "print(math.exp(x))"
   ]
  }
 ],
 "metadata": {
  "kernelspec": {
   "display_name": "Python [conda env:base] *",
   "language": "python",
   "name": "conda-base-py"
  },
  "language_info": {
   "codemirror_mode": {
    "name": "ipython",
    "version": 3
   },
   "file_extension": ".py",
   "mimetype": "text/x-python",
   "name": "python",
   "nbconvert_exporter": "python",
   "pygments_lexer": "ipython3",
   "version": "3.12.7"
  }
 },
 "nbformat": 4,
 "nbformat_minor": 5
}
