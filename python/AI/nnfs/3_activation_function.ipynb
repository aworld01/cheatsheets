{
 "cells": [
  {
   "cell_type": "code",
   "execution_count": 24,
   "id": "c5db81c4-08a6-4bd8-bef2-06e0eb372915",
   "metadata": {},
   "outputs": [],
   "source": [
    "import numpy as np"
   ]
  },
  {
   "cell_type": "markdown",
   "id": "262feb54-16c8-49cf-b999-7f78af174767",
   "metadata": {},
   "source": [
    "<h2>reluActivationFunction</h2>"
   ]
  },
  {
   "cell_type": "code",
   "execution_count": 27,
   "id": "9fed3a5f-13f7-4f59-9c27-e4f372fae14c",
   "metadata": {},
   "outputs": [
    {
     "data": {
      "text/plain": [
       "[0, 2, -1, 3.3, -2.7, 1.1, 2.2, -100]"
      ]
     },
     "execution_count": 27,
     "metadata": {},
     "output_type": "execute_result"
    }
   ],
   "source": [
    "inputs = [0,2,-1,3.3,-2.7,1.1,2.2,-100]\n",
    "inputs"
   ]
  },
  {
   "cell_type": "markdown",
   "id": "f8fb8692-e943-485b-812d-1f1543c9a512",
   "metadata": {},
   "source": [
    "<h3>example1</h3>"
   ]
  },
  {
   "cell_type": "code",
   "execution_count": 30,
   "id": "0e7c9d7e-fd9a-4bb1-bd86-65262fc22982",
   "metadata": {},
   "outputs": [
    {
     "data": {
      "text/plain": [
       "[0, 2, 0, 3.3, 0, 1.1, 2.2, 0]"
      ]
     },
     "execution_count": 30,
     "metadata": {},
     "output_type": "execute_result"
    }
   ],
   "source": [
    "output1 = []\n",
    "for i in inputs:\n",
    "    if i > 0:\n",
    "        output1.append(i)\n",
    "    elif i <= 0:\n",
    "        output1.append(0)\n",
    "output1"
   ]
  },
  {
   "cell_type": "markdown",
   "id": "7dbe8788-36e0-4bf5-b59d-184fa56f154f",
   "metadata": {},
   "source": [
    "<h3>example2</h3>"
   ]
  },
  {
   "cell_type": "code",
   "execution_count": 33,
   "id": "3a936d08-da1f-43e6-a388-8c741c2f2311",
   "metadata": {},
   "outputs": [
    {
     "data": {
      "text/plain": [
       "[0, 2, 0, 3.3, 0, 1.1, 2.2, 0]"
      ]
     },
     "execution_count": 33,
     "metadata": {},
     "output_type": "execute_result"
    }
   ],
   "source": [
    "output2 = []\n",
    "for i in inputs:\n",
    "    output2.append(max(0,i))\n",
    "output2"
   ]
  },
  {
   "cell_type": "markdown",
   "id": "73b12866-76b4-47ae-89c3-24ec47df0827",
   "metadata": {},
   "source": [
    "<h3>example3</h3>"
   ]
  },
  {
   "cell_type": "code",
   "execution_count": 40,
   "id": "3cce9fc5-40d9-476d-84f2-0ee0d52ed55a",
   "metadata": {},
   "outputs": [
    {
     "data": {
      "text/plain": [
       "array([0. , 2. , 0. , 3.3, 0. , 1.1, 2.2, 0. ])"
      ]
     },
     "execution_count": 40,
     "metadata": {},
     "output_type": "execute_result"
    }
   ],
   "source": [
    "output3 = np.maximum(0,inputs)\n",
    "output3"
   ]
  }
 ],
 "metadata": {
  "kernelspec": {
   "display_name": "Python [conda env:base] *",
   "language": "python",
   "name": "conda-base-py"
  },
  "language_info": {
   "codemirror_mode": {
    "name": "ipython",
    "version": 3
   },
   "file_extension": ".py",
   "mimetype": "text/x-python",
   "name": "python",
   "nbconvert_exporter": "python",
   "pygments_lexer": "ipython3",
   "version": "3.12.7"
  }
 },
 "nbformat": 4,
 "nbformat_minor": 5
}
