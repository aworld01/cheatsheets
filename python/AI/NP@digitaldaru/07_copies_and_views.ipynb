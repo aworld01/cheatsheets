{
 "cells": [
  {
   "cell_type": "code",
   "execution_count": null,
   "metadata": {},
   "outputs": [],
   "source": [
    "\"\"\"30:00 / 1:06:54\"\"\""
   ]
  },
  {
   "cell_type": "code",
   "execution_count": 2,
   "metadata": {},
   "outputs": [],
   "source": [
    "import numpy as np"
   ]
  },
  {
   "cell_type": "code",
   "execution_count": 3,
   "metadata": {},
   "outputs": [
    {
     "name": "stdout",
     "output_type": "stream",
     "text": [
      "[0 1 2 3 4 5 6 7 8 9]\n",
      "\n",
      "[0 2 4 6 8]\n",
      "\n",
      "True\n"
     ]
    }
   ],
   "source": [
    "a = np.arange(10)\n",
    "print(a)\n",
    "print()\n",
    "\n",
    "b = a[::2] #to store slicing indexes (not store values)\n",
    "print(b)\n",
    "print()\n",
    "\n",
    "print(np.shares_memory(a, b)) #to check if sampe memory are used at both palaces"
   ]
  },
  {
   "cell_type": "code",
   "execution_count": 4,
   "metadata": {},
   "outputs": [
    {
     "name": "stdout",
     "output_type": "stream",
     "text": [
      "[10  1  2  3  4  5  6  7  8  9]\n",
      "[10  2  4  6  8]\n",
      "\n",
      "[20  1  2  3  4  5  6  7  8  9]\n",
      "[20  2  4  6  8]\n"
     ]
    }
   ],
   "source": [
    "a[0] = 10 #reflect a and b values\n",
    "print(a)\n",
    "print(b)\n",
    "print()\n",
    "\n",
    "b[0] = 20 #reflect a and b values\n",
    "print(a)\n",
    "print(b)"
   ]
  },
  {
   "cell_type": "code",
   "execution_count": 6,
   "metadata": {},
   "outputs": [
    {
     "name": "stdout",
     "output_type": "stream",
     "text": [
      "[0 1 2 3 4 5 6 7 8 9]\n",
      "[0 1 2 3 4 5 6 7 8 9]\n",
      "\n",
      "[ 0 50  2  3  4  5  6  7  8  9]\n",
      "[0 1 2 3 4 5 6 7 8 9]\n"
     ]
    }
   ],
   "source": [
    "a = np.arange(10)\n",
    "b = a.copy() #to copy values\n",
    "print(a)\n",
    "print(b)\n",
    "print()\n",
    "\n",
    "a[1] = 50\n",
    "print(a)\n",
    "print(b)"
   ]
  },
  {
   "cell_type": "code",
   "execution_count": 9,
   "metadata": {},
   "outputs": [
    {
     "name": "stdout",
     "output_type": "stream",
     "text": [
      "[0 1 2 3 4 5 6 7 8 9]\n",
      "[0 2 4 6 8]\n",
      "\n",
      "[ 0  1 60  3  4  5  6  7  8  9]\n",
      "[0 2 4 6 8]\n",
      "\n",
      "False\n"
     ]
    }
   ],
   "source": [
    "a = np.arange(10)\n",
    "b = a[::2].copy()\n",
    "print(a)\n",
    "print(b)\n",
    "print()\n",
    "\n",
    "a[2] = 60\n",
    "print(a)\n",
    "print(b)\n",
    "print()\n",
    "\n",
    "print(np.shares_memory(a,b))"
   ]
  }
 ],
 "metadata": {
  "kernelspec": {
   "display_name": "Python 3",
   "language": "python",
   "name": "python3"
  },
  "language_info": {
   "codemirror_mode": {
    "name": "ipython",
    "version": 3
   },
   "file_extension": ".py",
   "mimetype": "text/x-python",
   "name": "python",
   "nbconvert_exporter": "python",
   "pygments_lexer": "ipython3",
   "version": "3.11.1"
  },
  "orig_nbformat": 4
 },
 "nbformat": 4,
 "nbformat_minor": 2
}
