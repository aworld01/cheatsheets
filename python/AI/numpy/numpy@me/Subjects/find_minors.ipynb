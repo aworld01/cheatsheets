{
 "cells": [
  {
   "cell_type": "code",
   "execution_count": 1,
   "metadata": {},
   "outputs": [],
   "source": [
    "import numpy as np"
   ]
  },
  {
   "cell_type": "code",
   "execution_count": 2,
   "metadata": {},
   "outputs": [],
   "source": [
    "\"\"\"Define matrix\"\"\"\n",
    "matrix = np.array([[1,2,3], [4,5,6], [7,8,9]])"
   ]
  },
  {
   "cell_type": "code",
   "execution_count": 4,
   "metadata": {},
   "outputs": [],
   "source": [
    "\"\"\"Function to calculate minors\"\"\"\n",
    "def get_minors(mat,i,j):\n",
    "    return np.delete(np.delete(mat,i,axis=0), j,axis=1)"
   ]
  },
  {
   "cell_type": "code",
   "execution_count": 5,
   "metadata": {},
   "outputs": [
    {
     "name": "stdout",
     "output_type": "stream",
     "text": [
      "Original Matrix:\n",
      "[[1 2 3]\n",
      " [4 5 6]\n",
      " [7 8 9]]\n",
      "Minors Matrix:\n",
      "[[ -3.  -6.  -3.]\n",
      " [ -6. -12.  -6.]\n",
      " [ -3.  -6.  -3.]]\n"
     ]
    }
   ],
   "source": [
    "\"\"\"Calculate minors for each element in the matrix\"\"\"\n",
    "minors = np.zeros_like(matrix, dtype=float)\n",
    "for i in range(matrix.shape[0]):\n",
    "    for j in range(matrix.shape[1]):\n",
    "        minors[i,j] = np.linalg.det(get_minors(matrix, i, j))\n",
    "\n",
    "print(f\"Original Matrix:\\n{matrix}\")\n",
    "print(f\"Minors Matrix:\\n{minors}\")"
   ]
  }
 ],
 "metadata": {
  "kernelspec": {
   "display_name": "Python 3",
   "language": "python",
   "name": "python3"
  },
  "language_info": {
   "codemirror_mode": {
    "name": "ipython",
    "version": 3
   },
   "file_extension": ".py",
   "mimetype": "text/x-python",
   "name": "python",
   "nbconvert_exporter": "python",
   "pygments_lexer": "ipython3",
   "version": "3.11.1"
  }
 },
 "nbformat": 4,
 "nbformat_minor": 2
}
