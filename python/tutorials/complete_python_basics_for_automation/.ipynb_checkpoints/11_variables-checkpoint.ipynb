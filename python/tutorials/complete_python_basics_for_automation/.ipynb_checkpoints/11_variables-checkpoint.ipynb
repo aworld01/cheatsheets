{
 "cells": [
  {
   "cell_type": "markdown",
   "id": "f9e3fc8a-81de-4647-93da-a8d7eb54d377",
   "metadata": {},
   "source": [
    "<p>A variable is nothing but a reserved memory location to store values. In other words a variable in a program gives data to the computer to work on.</p>"
   ]
  },
  {
   "cell_type": "code",
   "execution_count": 20,
   "id": "f551f18f-397d-40ba-aee9-4f129a36fd29",
   "metadata": {},
   "outputs": [],
   "source": [
    "\"\"\"example-1 (assigning variables)\"\"\"\n",
    "a = \"Hello world!\"\n",
    "b = 5\n",
    "c = 2.4"
   ]
  },
  {
   "cell_type": "code",
   "execution_count": 21,
   "id": "44b32ced-2bac-41e0-9fd8-442cdda2eb9f",
   "metadata": {},
   "outputs": [
    {
     "name": "stdout",
     "output_type": "stream",
     "text": [
      "Hello world! <class 'str'>\n",
      "5 <class 'int'>\n",
      "2.4 <class 'float'>\n"
     ]
    }
   ],
   "source": [
    "\"\"\"Check datatype\"\"\"\n",
    "print(a, type(a))\n",
    "print(b, type(b))\n",
    "print(c, type(c))"
   ]
  },
  {
   "cell_type": "code",
   "execution_count": 22,
   "id": "a9fc1d7e-bdc5-48d7-998c-347f3aac8402",
   "metadata": {},
   "outputs": [
    {
     "name": "stdout",
     "output_type": "stream",
     "text": [
      "Hello world! 1334114836720\n",
      "5 140725689604664\n",
      "2.4 1334113614640\n"
     ]
    }
   ],
   "source": [
    "\"\"\"check saved memory location\"\"\"\n",
    "print(a, id(a))\n",
    "print(b, id(b))\n",
    "print(c, id(c))"
   ]
  },
  {
   "cell_type": "code",
   "execution_count": 23,
   "id": "c27b7353-a495-4c79-850c-a5f0a50d9718",
   "metadata": {},
   "outputs": [
    {
     "name": "stdout",
     "output_type": "stream",
     "text": [
      "5 140725689604664\n",
      "7 140725689604728\n"
     ]
    }
   ],
   "source": [
    "\"\"\"save different data at same variable and check memory location\"\"\"\n",
    "a = 5\n",
    "print(a, id(a))\n",
    "a = 7\n",
    "print(a, id(a))"
   ]
  },
  {
   "cell_type": "code",
   "execution_count": 24,
   "id": "1f15ccca-09fc-48d2-9fdc-920c2ada5b3c",
   "metadata": {},
   "outputs": [],
   "source": [
    "\"\"\"Create many variables at a single line\"\"\"\n",
    "a = 5; b = 6; c = 10 #example-1\n",
    "x,y,z = 4,7,11 #example-2"
   ]
  },
  {
   "cell_type": "code",
   "execution_count": 25,
   "id": "90c8c761-ac9c-42ed-890e-bf8178efad1a",
   "metadata": {},
   "outputs": [
    {
     "name": "stdout",
     "output_type": "stream",
     "text": [
      "5\n",
      "6\n",
      "10\n",
      "4\n",
      "7\n",
      "11\n"
     ]
    }
   ],
   "source": [
    "\"\"\"print all data\"\"\"\n",
    "print(a)\n",
    "print(b)\n",
    "print(c)\n",
    "print(x)\n",
    "print(y)\n",
    "print(z)"
   ]
  },
  {
   "cell_type": "code",
   "execution_count": 26,
   "id": "6369d9bc-4814-4b85-901e-52bd3f8e5ebb",
   "metadata": {},
   "outputs": [
    {
     "name": "stdout",
     "output_type": "stream",
     "text": [
      "5\n",
      "6\n",
      "10\n",
      "4\n",
      "7\n",
      "11\n"
     ]
    }
   ],
   "source": [
    "print(a); print(b); print(c); print(x); print(y); print(z)"
   ]
  },
  {
   "cell_type": "code",
   "execution_count": 27,
   "id": "6e402972-8fcd-4525-a808-f5b5bc04b519",
   "metadata": {},
   "outputs": [],
   "source": [
    "del a #the variable will no more can be use (porpose to free memory)"
   ]
  }
 ],
 "metadata": {
  "kernelspec": {
   "display_name": "Python 3 (ipykernel)",
   "language": "python",
   "name": "python3"
  },
  "language_info": {
   "codemirror_mode": {
    "name": "ipython",
    "version": 3
   },
   "file_extension": ".py",
   "mimetype": "text/x-python",
   "name": "python",
   "nbconvert_exporter": "python",
   "pygments_lexer": "ipython3",
   "version": "3.12.3"
  }
 },
 "nbformat": 4,
 "nbformat_minor": 5
}
