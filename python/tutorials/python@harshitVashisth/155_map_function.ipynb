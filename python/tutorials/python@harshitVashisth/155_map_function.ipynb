{
 "cells": [
  {
   "cell_type": "code",
   "execution_count": 1,
   "id": "a92e7842-e0c2-4c47-91e9-b6ecd616bf10",
   "metadata": {},
   "outputs": [],
   "source": [
    "numbers = [1,2,3,4]"
   ]
  },
  {
   "cell_type": "code",
   "execution_count": 2,
   "id": "089897f4-c9f1-4df5-b284-091b58ab102d",
   "metadata": {},
   "outputs": [
    {
     "data": {
      "text/plain": [
       "[1, 4, 9, 16]"
      ]
     },
     "execution_count": 2,
     "metadata": {},
     "output_type": "execute_result"
    }
   ],
   "source": [
    "s1 = [i**2 for i in numbers]\n",
    "s1"
   ]
  },
  {
   "cell_type": "code",
   "execution_count": 3,
   "id": "16870d64-d801-49eb-9b24-dbb95eb22b90",
   "metadata": {},
   "outputs": [],
   "source": [
    "def square(a):\n",
    "    return a**2"
   ]
  },
  {
   "cell_type": "code",
   "execution_count": 4,
   "id": "ce60c0b4-a13c-4172-b554-0ff11eaf44f8",
   "metadata": {},
   "outputs": [
    {
     "name": "stdout",
     "output_type": "stream",
     "text": [
      "[1, 4, 9, 16]\n"
     ]
    }
   ],
   "source": [
    "s2 = [square(i) for i in numbers]\n",
    "print(s2)"
   ]
  },
  {
   "cell_type": "code",
   "execution_count": 5,
   "id": "91671de0-87c1-47b1-9fe9-0fc60bd4c8bd",
   "metadata": {},
   "outputs": [
    {
     "name": "stdout",
     "output_type": "stream",
     "text": [
      "[1, 4, 9, 16]\n"
     ]
    }
   ],
   "source": [
    "s3 = []\n",
    "for num in numbers:\n",
    "    s3.append(square(num))\n",
    "print(s3)"
   ]
  },
  {
   "cell_type": "code",
   "execution_count": 6,
   "id": "19ed134c-09f1-4442-921d-47db980ad0ec",
   "metadata": {},
   "outputs": [
    {
     "data": {
      "text/plain": [
       "<map at 0x2003f3166e0>"
      ]
     },
     "execution_count": 6,
     "metadata": {},
     "output_type": "execute_result"
    }
   ],
   "source": [
    "s4 = map(square, numbers)\n",
    "s4"
   ]
  },
  {
   "cell_type": "code",
   "execution_count": 7,
   "id": "39d539a2-ed52-4263-8023-321bad5d9953",
   "metadata": {},
   "outputs": [
    {
     "data": {
      "text/plain": [
       "[1, 4, 9, 16]"
      ]
     },
     "execution_count": 7,
     "metadata": {},
     "output_type": "execute_result"
    }
   ],
   "source": [
    "list(s4)"
   ]
  },
  {
   "cell_type": "code",
   "execution_count": 11,
   "id": "4099d079-82d4-4440-b977-7137fa69a46f",
   "metadata": {},
   "outputs": [
    {
     "data": {
      "text/plain": [
       "[5, 5, 6]"
      ]
     },
     "execution_count": 11,
     "metadata": {},
     "output_type": "execute_result"
    }
   ],
   "source": [
    "s = ['Apple','Mango','Grapes']\n",
    "l = map(len, s)\n",
    "list(l)"
   ]
  }
 ],
 "metadata": {
  "kernelspec": {
   "display_name": "Python 3 (ipykernel)",
   "language": "python",
   "name": "python3"
  },
  "language_info": {
   "codemirror_mode": {
    "name": "ipython",
    "version": 3
   },
   "file_extension": ".py",
   "mimetype": "text/x-python",
   "name": "python",
   "nbconvert_exporter": "python",
   "pygments_lexer": "ipython3",
   "version": "3.12.3"
  }
 },
 "nbformat": 4,
 "nbformat_minor": 5
}
