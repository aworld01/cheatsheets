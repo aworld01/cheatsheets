{
 "cells": [
  {
   "cell_type": "markdown",
   "id": "e39baea2-c44b-4255-bc05-415aa4b194d2",
   "metadata": {},
   "source": [
    "<p>\n",
    "A list represents a group of elements. <br>\n",
    "Lists are mutable so we can modify it's element.\n",
    "</p>"
   ]
  },
  {
   "cell_type": "markdown",
   "id": "34bd2720-48a2-49ad-baa5-5d1c33f6d421",
   "metadata": {},
   "source": [
    "<h2>Creating list</h2>"
   ]
  },
  {
   "cell_type": "code",
   "execution_count": 3,
   "id": "98699269-46fa-422c-ac76-1e548773b15c",
   "metadata": {},
   "outputs": [
    {
     "data": {
      "text/plain": [
       "[]"
      ]
     },
     "execution_count": 3,
     "metadata": {},
     "output_type": "execute_result"
    }
   ],
   "source": [
    "e = [] #empty list\n",
    "e"
   ]
  },
  {
   "cell_type": "code",
   "execution_count": 4,
   "id": "3449b50b-2159-4124-b787-ce713f1e572f",
   "metadata": {},
   "outputs": [
    {
     "data": {
      "text/plain": [
       "[2, 3, 5, 6]"
      ]
     },
     "execution_count": 4,
     "metadata": {},
     "output_type": "execute_result"
    }
   ],
   "source": [
    "i = [2,3,5,6] #List of integers\n",
    "i"
   ]
  },
  {
   "cell_type": "code",
   "execution_count": 5,
   "id": "d9cdc5d9-ca2a-42a5-a327-1de0e7573b25",
   "metadata": {},
   "outputs": [
    {
     "data": {
      "text/plain": [
       "[0.2, 0.3, 0.6, 0.5]"
      ]
     },
     "execution_count": 5,
     "metadata": {},
     "output_type": "execute_result"
    }
   ],
   "source": [
    "f = [.2,.3,.6,0.5] #list of floating point numbers\n",
    "f"
   ]
  },
  {
   "cell_type": "code",
   "execution_count": 6,
   "id": "196b6904-55cb-427c-a872-0240e0ff078a",
   "metadata": {},
   "outputs": [
    {
     "data": {
      "text/plain": [
       "['apple', 'mango', 'banana', 'guava']"
      ]
     },
     "execution_count": 6,
     "metadata": {},
     "output_type": "execute_result"
    }
   ],
   "source": [
    "s = [\"apple\",\"mango\",\"banana\",\"guava\"] #list of strings\n",
    "s"
   ]
  },
  {
   "cell_type": "code",
   "execution_count": 14,
   "id": "d470ad91-e5ff-4486-804e-03477430656b",
   "metadata": {},
   "outputs": [
    {
     "data": {
      "text/plain": [
       "[2, 3, 4, 0.3, 0.5, 'apple', 'mango']"
      ]
     },
     "execution_count": 14,
     "metadata": {},
     "output_type": "execute_result"
    }
   ],
   "source": [
    "m = [2,3,4,0.3,.5,\"apple\",\"mango\"] #mixed list\n",
    "m"
   ]
  },
  {
   "cell_type": "markdown",
   "id": "f79cafe2-5751-4817-b0a5-c7b8bfb39e9f",
   "metadata": {},
   "source": [
    "<h2>Indexing</h2>"
   ]
  },
  {
   "cell_type": "code",
   "execution_count": 23,
   "id": "7f9bcce7-6c86-4045-b690-b89105325d33",
   "metadata": {},
   "outputs": [],
   "source": [
    "n = [10,20,-50,21.3,\"ArtificalWorld\"]"
   ]
  },
  {
   "cell_type": "code",
   "execution_count": 25,
   "id": "f46fa332-ddd4-41dc-badd-92072eff1360",
   "metadata": {},
   "outputs": [
    {
     "name": "stdout",
     "output_type": "stream",
     "text": [
      "10\n",
      "20\n",
      "-50\n",
      "21.3\n",
      "ArtificalWorld\n",
      "\n",
      "ArtificalWorld\n",
      "21.3\n",
      "-50\n",
      "20\n",
      "10\n"
     ]
    }
   ],
   "source": [
    "print(n[0])\n",
    "print(n[1])\n",
    "print(n[2])\n",
    "print(n[3])\n",
    "print(n[4])\n",
    "print()\n",
    "\n",
    "print(n[-1])\n",
    "print(n[-2])\n",
    "print(n[-3])\n",
    "print(n[-4])\n",
    "print(n[-5])"
   ]
  },
  {
   "cell_type": "code",
   "execution_count": null,
   "id": "27baf489-aa2a-4a82-b9fe-6d58180defcb",
   "metadata": {},
   "outputs": [],
   "source": []
  }
 ],
 "metadata": {
  "kernelspec": {
   "display_name": "Python [conda env:base] *",
   "language": "python",
   "name": "conda-base-py"
  },
  "language_info": {
   "codemirror_mode": {
    "name": "ipython",
    "version": 3
   },
   "file_extension": ".py",
   "mimetype": "text/x-python",
   "name": "python",
   "nbconvert_exporter": "python",
   "pygments_lexer": "ipython3",
   "version": "3.12.7"
  }
 },
 "nbformat": 4,
 "nbformat_minor": 5
}
