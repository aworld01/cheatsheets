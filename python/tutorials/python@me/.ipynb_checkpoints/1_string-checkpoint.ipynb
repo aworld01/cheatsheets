{
 "cells": [
  {
   "cell_type": "markdown",
   "id": "c9c43f81-32ef-41a3-8d9c-e4c85f7bd12b",
   "metadata": {},
   "source": [
    "<p>A string is a sequence of characters and it's imutable.</p>\n",
    "\n",
    "<p>A character is simply a symbol. For example, the english language has 26 characters.</p>\n",
    "\n",
    "<p>Computer don't deal with character, they deal with numbers (binary). Even though you may see characters on your screen, internally it is stored and manipulated as a combination of 0's and 1's</p>\n",
    "\n",
    "<p>This conversion of character to a number is called encoding, and the reverse process is decoding. ASCII and Unicode are some of the popular encoding used.</p>\n",
    "\n",
    "<p>In python, string is a sequence of Unicode character. Unicode was introduced to include every character in all languages and bring uniformity in encoding</p>"
   ]
  },
  {
   "cell_type": "code",
   "execution_count": 36,
   "id": "77294d6b-fae5-4290-adf9-24c12741eaf5",
   "metadata": {},
   "outputs": [
    {
     "name": "stdout",
     "output_type": "stream",
     "text": [
      "['__add__', '__class__', '__contains__', '__delattr__', '__dir__', '__doc__', '__eq__', '__format__', '__ge__', '__getattribute__', '__getitem__', '__getnewargs__', '__getstate__', '__gt__', '__hash__', '__init__', '__init_subclass__', '__iter__', '__le__', '__len__', '__lt__', '__mod__', '__mul__', '__ne__', '__new__', '__reduce__', '__reduce_ex__', '__repr__', '__rmod__', '__rmul__', '__setattr__', '__sizeof__', '__str__', '__subclasshook__', 'capitalize', 'casefold', 'center', 'count', 'encode', 'endswith', 'expandtabs', 'find', 'format', 'format_map', 'index', 'isalnum', 'isalpha', 'isascii', 'isdecimal', 'isdigit', 'isidentifier', 'islower', 'isnumeric', 'isprintable', 'isspace', 'istitle', 'isupper', 'join', 'ljust', 'lower', 'lstrip', 'maketrans', 'partition', 'removeprefix', 'removesuffix', 'replace', 'rfind', 'rindex', 'rjust', 'rpartition', 'rsplit', 'rstrip', 'split', 'splitlines', 'startswith', 'strip', 'swapcase', 'title', 'translate', 'upper', 'zfill']\n"
     ]
    }
   ],
   "source": [
    "s = \"\"\n",
    "print(dir(s)) #to see all methods, functions, and variables of string datatype."
   ]
  },
  {
   "cell_type": "markdown",
   "id": "797dcaf4-4655-4c52-83bc-107fd5195bff",
   "metadata": {},
   "source": [
    "<h2>Creating string</h2>"
   ]
  },
  {
   "cell_type": "code",
   "execution_count": 13,
   "id": "545d972a-9af3-4d43-9b9b-6d3f4db3a14e",
   "metadata": {},
   "outputs": [],
   "source": [
    "txt1 = \"\" #empty string\n",
    "txt2 = \" \" #space is also one of the character\n",
    "fName = 'Abdul' #string with single quatation\n",
    "lName = \"Zoha\" #string with dauble quatation\n",
    "info = \"\"\"I started my carrier as an admin and moved into automation team. Now I'm 25 years old and do my job very easily.\"\"\""
   ]
  },
  {
   "cell_type": "markdown",
   "id": "88bce20f-baa0-4e21-86f1-fc26b575005a",
   "metadata": {},
   "source": [
    "<h2>Accessing string</h2>"
   ]
  },
  {
   "cell_type": "code",
   "execution_count": 16,
   "id": "2bc9e9c7-e1ac-44b8-b749-8febd5deac3b",
   "metadata": {},
   "outputs": [
    {
     "name": "stdout",
     "output_type": "stream",
     "text": [
      " 0\n",
      "  1\n",
      "Abdul 5\n",
      "Zoha 4\n",
      "I started my carrier as an admin and moved into automation team. Now I'm 25 years old and do my job very easily. 112\n"
     ]
    }
   ],
   "source": [
    "print(txt1, len(txt1))\n",
    "print(txt2, len(txt2))\n",
    "print(fName, len(fName))\n",
    "print(lName, len(lName))\n",
    "print(info, len(info))"
   ]
  },
  {
   "cell_type": "markdown",
   "id": "d83b059f-60f8-4444-9099-a3b479f6a91b",
   "metadata": {},
   "source": [
    "<h2>Deleting string</h2>"
   ]
  },
  {
   "cell_type": "code",
   "execution_count": 19,
   "id": "ade9b133-f691-4990-8f87-13822b5e2c20",
   "metadata": {},
   "outputs": [],
   "source": [
    "del txt2"
   ]
  },
  {
   "cell_type": "markdown",
   "id": "cd0194ec-5750-49fc-984e-1642d7527aef",
   "metadata": {},
   "source": [
    "<h2>String concatinating</h2>"
   ]
  },
  {
   "cell_type": "code",
   "execution_count": 26,
   "id": "30b4ba03-64e8-4860-8357-b9388e12b157",
   "metadata": {},
   "outputs": [
    {
     "name": "stdout",
     "output_type": "stream",
     "text": [
      "Abdul Zoha\n"
     ]
    }
   ],
   "source": [
    "fullName = fName + \" \" + lName\n",
    "print(fullName)"
   ]
  },
  {
   "cell_type": "code",
   "execution_count": 28,
   "id": "b9e34fe4-d788-4c2c-8438-12e74b629eda",
   "metadata": {},
   "outputs": [
    {
     "name": "stdout",
     "output_type": "stream",
     "text": [
      "Abdul Zoha\n"
     ]
    }
   ],
   "source": [
    "fullName = f\"{fName} {lName}\"\n",
    "print(fullName)"
   ]
  },
  {
   "cell_type": "markdown",
   "id": "60ef8caa-9cd8-4207-892b-d6c2adc13c45",
   "metadata": {},
   "source": [
    "<h2>String indexing</h2>"
   ]
  },
  {
   "cell_type": "markdown",
   "id": "22d3ada0-2b2e-45e5-97be-c9495a08d65c",
   "metadata": {},
   "source": [
    "<pre>\n",
    "    s = \"python\"\n",
    "    \n",
    "    p = [0] => [-6]\n",
    "    y = [1] => [-5]\n",
    "    t = [2] => [-4]\n",
    "    h = [3] => [-3]\n",
    "    o = [4] => [-2]\n",
    "    n = [5] => [-1]\n",
    "</pre>"
   ]
  },
  {
   "cell_type": "code",
   "execution_count": 81,
   "id": "6e5c9c9f-73bc-423f-8707-739e1df277f0",
   "metadata": {},
   "outputs": [
    {
     "name": "stdout",
     "output_type": "stream",
     "text": [
      "p\n",
      "h\n",
      "n\n",
      "\n",
      "h\n",
      "n\n"
     ]
    }
   ],
   "source": [
    "s = \"python\"\n",
    "\n",
    "print(s[0])\n",
    "print(s[3])\n",
    "print(s[5])\n",
    "print()\n",
    "\n",
    "print(s[-3])\n",
    "print(s[-1])"
   ]
  },
  {
   "cell_type": "markdown",
   "id": "a5ae7267-a35c-419c-9ff9-a520f202e8d0",
   "metadata": {},
   "source": [
    "<h2>String slicing</h2>"
   ]
  },
  {
   "cell_type": "code",
   "execution_count": 90,
   "id": "5585d5e2-8414-4456-8e87-f2d8201368b9",
   "metadata": {},
   "outputs": [
    {
     "name": "stdout",
     "output_type": "stream",
     "text": [
      "python\n",
      "pyt\n",
      "t\n",
      "hon\n"
     ]
    }
   ],
   "source": [
    "p = \"python\"\n",
    "print(p[:]) #to access all string\n",
    "print(p[0:3]) #to access \"pyt\" from string\n",
    "print(p[2:3]) #to access \"t\" from string\n",
    "print(p[3:7]) #if value is above returns firstSelectedIndex to lastIndex"
   ]
  },
  {
   "cell_type": "code",
   "execution_count": 139,
   "id": "8999a92e-2299-4a96-9fc1-a143630f013e",
   "metadata": {},
   "outputs": [],
   "source": [
    "s1 = \"Hello World 9\"\n",
    "s2 = \" \"\n",
    "s3 = \"123\""
   ]
  },
  {
   "cell_type": "markdown",
   "id": "af180749-c46f-4d23-875e-6a813a07e1a0",
   "metadata": {},
   "source": [
    "<h2>.startswith method</h2>"
   ]
  },
  {
   "cell_type": "code",
   "execution_count": 142,
   "id": "3958dc5d-e4b0-4bf3-9252-526266f94fb6",
   "metadata": {},
   "outputs": [
    {
     "name": "stdout",
     "output_type": "stream",
     "text": [
      "True\n",
      "False\n",
      "True\n",
      "False\n"
     ]
    }
   ],
   "source": [
    "print(s1.startswith(\"H\"))\n",
    "print(s1.startswith(\"h\"))\n",
    "print(s1.startswith(\"Hello\"))\n",
    "print(s1.startswith(\"hello\"))"
   ]
  },
  {
   "cell_type": "markdown",
   "id": "2d2eed3e-2174-49cd-84fd-b8b59fbc949a",
   "metadata": {},
   "source": [
    "<h2>.endswith method</h2>"
   ]
  },
  {
   "cell_type": "code",
   "execution_count": 145,
   "id": "81d3e0db-2d29-4fee-9ffd-f4e4da257d96",
   "metadata": {},
   "outputs": [
    {
     "name": "stdout",
     "output_type": "stream",
     "text": [
      "False\n",
      "False\n",
      "False\n",
      "False\n"
     ]
    }
   ],
   "source": [
    "print(s1.endswith(\"D\"))\n",
    "print(s1.endswith(\"d\"))\n",
    "print(s1.endswith(\"World\"))\n",
    "print(s1.endswith(\"world\"))"
   ]
  },
  {
   "cell_type": "markdown",
   "id": "b8a26411-06d2-4a31-a66e-dbf3b5a26728",
   "metadata": {},
   "source": [
    "<h2>Conditions</h2>"
   ]
  },
  {
   "cell_type": "code",
   "execution_count": 148,
   "id": "a7202a7a-f212-418d-b074-204795419f3d",
   "metadata": {},
   "outputs": [
    {
     "name": "stdout",
     "output_type": "stream",
     "text": [
      "False\n",
      "False\n",
      "True\n",
      "True\n",
      "False\n",
      "True\n"
     ]
    }
   ],
   "source": [
    "print(s1.islower()) #to check if all string is in lowercase\n",
    "print(s1.isupper()) #to check if all string is in uppercase\n",
    "print(s1.istitle()) #to check if string is titlecase\n",
    "print(s2.isspace()) #to check if string is space\n",
    "print(s1.isalpha()) #to check if string is alphabetic (characters)\n",
    "print(s3.isnumeric()) #to check if string is numeric"
   ]
  },
  {
   "cell_type": "code",
   "execution_count": 153,
   "id": "ea827e56-7815-482d-b062-bbc8744cb397",
   "metadata": {},
   "outputs": [],
   "source": [
    "s1 = \"python\"\n",
    "s2 = \"string operation\"\n",
    "s3 = \"Python scripting\""
   ]
  },
  {
   "cell_type": "markdown",
   "id": "537b3690-bd16-4aa5-a32a-87dba645767f",
   "metadata": {},
   "source": [
    "<h2>.join method</h2>"
   ]
  },
  {
   "cell_type": "code",
   "execution_count": 164,
   "id": "32a23ede-9467-4040-b039-ae605c7dd24a",
   "metadata": {},
   "outputs": [
    {
     "data": {
      "text/plain": [
       "'p y t h o n'"
      ]
     },
     "execution_count": 164,
     "metadata": {},
     "output_type": "execute_result"
    }
   ],
   "source": [
    "ns1 = \" \".join(s1)\n",
    "ns1"
   ]
  },
  {
   "cell_type": "code",
   "execution_count": 166,
   "id": "cbd0cc98-9787-43fb-96c1-18cde87538f5",
   "metadata": {},
   "outputs": [
    {
     "data": {
      "text/plain": [
       "'p-y-t-h-o-n'"
      ]
     },
     "execution_count": 166,
     "metadata": {},
     "output_type": "execute_result"
    }
   ],
   "source": [
    "ns2 = \"-\".join(s1)\n",
    "ns2"
   ]
  },
  {
   "cell_type": "markdown",
   "id": "87361c38-7dcb-42dd-97cd-f71ac358354c",
   "metadata": {},
   "source": [
    "<h2>.center method</h2>"
   ]
  },
  {
   "cell_type": "code",
   "execution_count": 189,
   "id": "b4ffde2a-1a39-40ba-8069-c2d0d75d0fbf",
   "metadata": {},
   "outputs": [
    {
     "data": {
      "text/plain": [
       "'       python       '"
      ]
     },
     "execution_count": 189,
     "metadata": {},
     "output_type": "execute_result"
    }
   ],
   "source": [
    "ns1 = s1.center(20) #it fills 20 spaces and put data between.\n",
    "ns1"
   ]
  },
  {
   "cell_type": "code",
   "execution_count": 191,
   "id": "39320533-6363-4ce7-871c-be49a7687040",
   "metadata": {},
   "outputs": [
    {
     "data": {
      "text/plain": [
       "'  string operation  '"
      ]
     },
     "execution_count": 191,
     "metadata": {},
     "output_type": "execute_result"
    }
   ],
   "source": [
    "ns2 = s2.center(20)\n",
    "ns2"
   ]
  },
  {
   "cell_type": "markdown",
   "id": "19cfea63-8315-4dca-869a-25371ded1d89",
   "metadata": {},
   "source": [
    "<h2>.zfill method (zero  fill)</h2>"
   ]
  },
  {
   "cell_type": "code",
   "execution_count": 196,
   "id": "c72bfa13-596a-411d-bda1-28e187661084",
   "metadata": {},
   "outputs": [
    {
     "data": {
      "text/plain": [
       "'00000000000000python'"
      ]
     },
     "execution_count": 196,
     "metadata": {},
     "output_type": "execute_result"
    }
   ],
   "source": [
    "ns3 = s1.zfill(20) #it fills 20 zeros and put data into last\n",
    "ns3"
   ]
  },
  {
   "cell_type": "code",
   "execution_count": 221,
   "id": "f4923b0c-4b67-469e-9339-f660136a39b2",
   "metadata": {},
   "outputs": [],
   "source": [
    "s1 = \" python \"\n",
    "s2 = \"***python***\"\n",
    "s3 = \"Hello world, how are you?\""
   ]
  },
  {
   "cell_type": "markdown",
   "id": "3f19d943-5f32-4c88-97df-139162e93d34",
   "metadata": {},
   "source": [
    "<h2>.strip, lstrip, rstrip methods (it removes occurrences from sides)</h2>"
   ]
  },
  {
   "cell_type": "code",
   "execution_count": 224,
   "id": "4ed54854-eb1f-426d-ac2c-c9eb4ee251fc",
   "metadata": {},
   "outputs": [
    {
     "name": "stdout",
     "output_type": "stream",
     "text": [
      " python \n",
      "python\n"
     ]
    }
   ],
   "source": [
    "ns1 = s1.strip() #to remove both side of same occurrence (default is \" \")\n",
    "print(s1)\n",
    "print(ns1)"
   ]
  },
  {
   "cell_type": "code",
   "execution_count": 226,
   "id": "903a0189-a0f3-434a-9bca-35029814f998",
   "metadata": {},
   "outputs": [
    {
     "name": "stdout",
     "output_type": "stream",
     "text": [
      "***python***\n",
      "python\n"
     ]
    }
   ],
   "source": [
    "ns2 = s2.strip(\"*\") #to remove stars from both side of same occurrence\n",
    "print(s2)\n",
    "print(ns2)"
   ]
  },
  {
   "cell_type": "code",
   "execution_count": 228,
   "id": "4d2c59f7-4752-41c1-93b3-ce776c1dd80e",
   "metadata": {},
   "outputs": [
    {
     "data": {
      "text/plain": [
       "'python***'"
      ]
     },
     "execution_count": 228,
     "metadata": {},
     "output_type": "execute_result"
    }
   ],
   "source": [
    "ns3 = s2.lstrip(\"*\") #to remove stars from left side of same occurrence\n",
    "ns3"
   ]
  },
  {
   "cell_type": "code",
   "execution_count": 230,
   "id": "2ccbf0db-da72-4d5a-9248-a1b9f09ab9ba",
   "metadata": {},
   "outputs": [
    {
     "data": {
      "text/plain": [
       "'***python'"
      ]
     },
     "execution_count": 230,
     "metadata": {},
     "output_type": "execute_result"
    }
   ],
   "source": [
    "ns4 = s2.rstrip(\"*\") #to remove stars from right side of same occurrence\n",
    "ns4"
   ]
  },
  {
   "cell_type": "markdown",
   "id": "26d74cfb-57e8-4a76-87e5-0b0ad3b1625b",
   "metadata": {},
   "source": [
    "<h2>.split method</h2>"
   ]
  },
  {
   "cell_type": "code",
   "execution_count": 233,
   "id": "f96edf14-35a4-4e58-8e2f-4d3c578f9e84",
   "metadata": {},
   "outputs": [
    {
     "data": {
      "text/plain": [
       "['Hello', 'world,', 'how', 'are', 'you?']"
      ]
     },
     "execution_count": 233,
     "metadata": {},
     "output_type": "execute_result"
    }
   ],
   "source": [
    "ns1 = s3.split() #to split into list (default is \" \")\n",
    "ns1"
   ]
  },
  {
   "cell_type": "code",
   "execution_count": 235,
   "id": "d05647a8-1c92-4ae4-b19e-fbdaef66e130",
   "metadata": {},
   "outputs": [
    {
     "data": {
      "text/plain": [
       "['Hello world', ' how are you?']"
      ]
     },
     "execution_count": 235,
     "metadata": {},
     "output_type": "execute_result"
    }
   ],
   "source": [
    "ns2 = s3.split(\",\") #to split by \",\"\n",
    "ns2"
   ]
  },
  {
   "cell_type": "code",
   "execution_count": 237,
   "id": "a575b9c1-3586-45e5-9731-1ca63ce02c95",
   "metadata": {},
   "outputs": [
    {
     "data": {
      "text/plain": [
       "['Hello wo', 'ld, how a', 'e you?']"
      ]
     },
     "execution_count": 237,
     "metadata": {},
     "output_type": "execute_result"
    }
   ],
   "source": [
    "ns3 = s3.split(\"r\") #to split by \"r\"\n",
    "ns3"
   ]
  },
  {
   "cell_type": "code",
   "execution_count": 239,
   "id": "3d7632f6-5de5-432d-a724-85ca351dbe0b",
   "metadata": {},
   "outputs": [],
   "source": [
    "s = \"Hello world!\""
   ]
  },
  {
   "cell_type": "markdown",
   "id": "061fe09a-53ca-444e-a56d-421a5057a74b",
   "metadata": {},
   "source": [
    "<h2>.count method</h2>"
   ]
  },
  {
   "cell_type": "code",
   "execution_count": 272,
   "id": "6a66bfef-e31b-4892-9b4f-b257b4a565ed",
   "metadata": {},
   "outputs": [
    {
     "data": {
      "text/plain": [
       "2"
      ]
     },
     "execution_count": 272,
     "metadata": {},
     "output_type": "execute_result"
    }
   ],
   "source": [
    "ns = s.count(\"o\") #it counts occurrences. It returns \"0\" if not found\n",
    "ns"
   ]
  },
  {
   "cell_type": "markdown",
   "id": "d6636cf5-14c1-4564-bae1-29ad0330da3e",
   "metadata": {},
   "source": [
    "<h2>.index method</h2>"
   ]
  },
  {
   "cell_type": "code",
   "execution_count": 275,
   "id": "e771ffd6-eb36-45da-9a3c-4f5230ec4c04",
   "metadata": {},
   "outputs": [
    {
     "data": {
      "text/plain": [
       "4"
      ]
     },
     "execution_count": 275,
     "metadata": {},
     "output_type": "execute_result"
    }
   ],
   "source": [
    "ns = s.index(\"o\") #it returns index of first occurrence. It returns error if notFound or outOfRange\n",
    "ns"
   ]
  },
  {
   "cell_type": "markdown",
   "id": "1a984e83-73d4-4ac2-94ac-f8f73a276144",
   "metadata": {},
   "source": [
    "<h2>.find method</h2>"
   ]
  },
  {
   "cell_type": "code",
   "execution_count": 282,
   "id": "cffd48b8-eed5-4b74-952b-d0266aa5370d",
   "metadata": {},
   "outputs": [
    {
     "data": {
      "text/plain": [
       "4"
      ]
     },
     "execution_count": 282,
     "metadata": {},
     "output_type": "execute_result"
    }
   ],
   "source": [
    "ns = s.find(\"o\") #it returns index of first occurrence. it returns \"-1\" if notFound or outOfRange\n",
    "ns"
   ]
  },
  {
   "cell_type": "markdown",
   "id": "38e63ae9-0e92-427e-a408-d670b40afed1",
   "metadata": {},
   "source": [
    "<h2>Dynamic way to use index method</h2>"
   ]
  },
  {
   "cell_type": "code",
   "execution_count": 294,
   "id": "32b3c78c-f1f5-455b-a1a1-db2be253a688",
   "metadata": {},
   "outputs": [
    {
     "data": {
      "text/plain": [
       "7"
      ]
     },
     "execution_count": 294,
     "metadata": {},
     "output_type": "execute_result"
    }
   ],
   "source": [
    "s1 = s.index(\"o\") #to find first occurrence\n",
    "s2 = s.index(\"o\", s1+1)\n",
    "s2"
   ]
  },
  {
   "cell_type": "markdown",
   "id": "15c1da12-a92b-4343-9e13-e8990e363c29",
   "metadata": {},
   "source": [
    "<h2>Dynamic way to use find method</h2>"
   ]
  },
  {
   "cell_type": "code",
   "execution_count": 298,
   "id": "a694dc3a-431c-49a4-ae69-2bae86f67f2b",
   "metadata": {},
   "outputs": [
    {
     "data": {
      "text/plain": [
       "7"
      ]
     },
     "execution_count": 298,
     "metadata": {},
     "output_type": "execute_result"
    }
   ],
   "source": [
    "s1 = s.find(\"o\")\n",
    "s2 = s.find(\"o\", s1+1)\n",
    "s2"
   ]
  }
 ],
 "metadata": {
  "kernelspec": {
   "display_name": "Python [conda env:base] *",
   "language": "python",
   "name": "conda-base-py"
  },
  "language_info": {
   "codemirror_mode": {
    "name": "ipython",
    "version": 3
   },
   "file_extension": ".py",
   "mimetype": "text/x-python",
   "name": "python",
   "nbconvert_exporter": "python",
   "pygments_lexer": "ipython3",
   "version": "3.12.7"
  }
 },
 "nbformat": 4,
 "nbformat_minor": 5
}
