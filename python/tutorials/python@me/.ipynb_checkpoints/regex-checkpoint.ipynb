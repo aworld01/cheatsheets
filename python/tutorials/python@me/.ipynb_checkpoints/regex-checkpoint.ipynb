{
 "cells": [
  {
   "cell_type": "markdown",
   "id": "e229cff5-fdb7-4e12-8772-08f0b20c91f2",
   "metadata": {},
   "source": [
    "<h1>What is Regular Expresion</h1>\n",
    "<p>The regex is a procedure in any language to look for a specified pattern in a given text.</p>\n",
    "<p>'re' is the module to perform regex in python</p>\n",
    "\n",
    "<h2>What is a pattern?</h2>\n",
    "<p>It's a sequence of characters, which represent multiple strings</p>\n",
    "\n",
    "<h2>The different operations in python regex are:</h2>\n",
    "<ol>\n",
    "    <li>match()</li>\n",
    "    <li>search()</li>\n",
    "    <li>findall()</li>\n",
    "    <li>finditer()</li>\n",
    "    <li>sub()</li>\n",
    "    <li>split()</li>\n",
    "    <li>compile() and so on.</li>\n",
    "</ol>\n",
    "\n",
    "<h2>Syntax:</h2>\n",
    "<ol>\n",
    "    <li>re.search(pattern, text)</li>\n",
    "    <li>re.match(pattern, text)</li>\n",
    "    <li>re.finditer(pattern, text)</li>\n",
    "    <li>re.findall(pattern, text)</li>\n",
    "</ol>\n",
    "\n",
    "<h2>Rules to create a pattern:</h2>\n",
    "<p>\n",
    "    . =>Matches any single character except newline character.<br>\n",
    "    \\d => Matches decimal digit 0-9 <br>\n",
    "    \\w => Matches any single letter, digit or underscore. <br>\n",
    "    \\W => Matches any character not part of \\w <br>\n",
    "    [abc] => Matches a,b,c <br>\n",
    "    [a-c] => Matches a,b,c (sequence of characters) <br>\n",
    "    [a-zA-Z0-9] => Matches any letter from (a to z) or (A to Z) or (0 to 9) <br>\n",
    "</p>"
   ]
  },
  {
   "cell_type": "code",
   "execution_count": 30,
   "id": "69b5ca0c-65ae-44e1-b4a6-c4ff386cf03a",
   "metadata": {},
   "outputs": [],
   "source": [
    "s = \"\"\"\n",
    "Hello world, my name is Abdul Zoha and I am 32.\n",
    "My e-mail is 'abdulzoha786@gmail.com'. I am from India and +91 is India's country code.\n",
    "My mobile number is 9006228083.\n",
    "\"\"\""
   ]
  },
  {
   "cell_type": "code",
   "execution_count": 32,
   "id": "07996ad1-94e6-441a-bdad-3c50289b9f87",
   "metadata": {},
   "outputs": [],
   "source": [
    "import re"
   ]
  },
  {
   "cell_type": "code",
   "execution_count": 34,
   "id": "e91b9ccc-f6e5-4c7a-9152-bf09eebbd9c1",
   "metadata": {},
   "outputs": [
    {
     "data": {
      "text/plain": [
       "'This is python and it is very easy to learn.'"
      ]
     },
     "execution_count": 34,
     "metadata": {},
     "output_type": "execute_result"
    }
   ],
   "source": [
    "s = \"This is python and it is very easy to learn.\"\n",
    "s"
   ]
  },
  {
   "cell_type": "markdown",
   "id": "4eeb267b-92f0-45f9-9a60-2b14fadbbb74",
   "metadata": {},
   "source": [
    "<h3>Example1</h3>"
   ]
  },
  {
   "cell_type": "code",
   "execution_count": 44,
   "id": "da01e676-eeaf-481d-b7ab-898d1e3ea27e",
   "metadata": {},
   "outputs": [
    {
     "data": {
      "text/plain": [
       "['is', 'is', 'is']"
      ]
     },
     "execution_count": 44,
     "metadata": {},
     "output_type": "execute_result"
    }
   ],
   "source": [
    "pattern1 = re.findall(\"is\", s)\n",
    "pattern1"
   ]
  },
  {
   "cell_type": "markdown",
   "id": "8f96c8f2-e843-4561-91ca-ce088b5e3269",
   "metadata": {},
   "source": [
    "<h3>Example2</h3>"
   ]
  },
  {
   "cell_type": "code",
   "execution_count": 46,
   "id": "5a1f4f36-bf24-4227-a23a-4a9ba4c05f56",
   "metadata": {},
   "outputs": [
    {
     "data": {
      "text/plain": [
       "['Th', ' ', ' python and ', ' ', ' very easy to learn.']"
      ]
     },
     "execution_count": 46,
     "metadata": {},
     "output_type": "execute_result"
    }
   ],
   "source": [
    "pattern2 = \"i[st]\"\n",
    "result = re.split(pattern2,s)\n",
    "result"
   ]
  },
  {
   "cell_type": "markdown",
   "id": "095b9d9f-f9b3-4ee1-afa5-e5ecbf862fe7",
   "metadata": {},
   "source": [
    "<h3>Example3</h3>"
   ]
  },
  {
   "cell_type": "code",
   "execution_count": null,
   "id": "124c2b3c-90f0-4074-867f-634aec740cef",
   "metadata": {},
   "outputs": [],
   "source": []
  }
 ],
 "metadata": {
  "kernelspec": {
   "display_name": "Python [conda env:base] *",
   "language": "python",
   "name": "conda-base-py"
  },
  "language_info": {
   "codemirror_mode": {
    "name": "ipython",
    "version": 3
   },
   "file_extension": ".py",
   "mimetype": "text/x-python",
   "name": "python",
   "nbconvert_exporter": "python",
   "pygments_lexer": "ipython3",
   "version": "3.12.7"
  }
 },
 "nbformat": 4,
 "nbformat_minor": 5
}
