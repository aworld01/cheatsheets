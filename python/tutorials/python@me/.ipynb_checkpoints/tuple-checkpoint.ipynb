{
 "cells": [
  {
   "cell_type": "markdown",
   "id": "f7cd9067-1980-434d-a54e-b297d54766af",
   "metadata": {},
   "source": [
    "<p>\n",
    "    A tuple contains a group of elements which can be same or different types.<br>\n",
    "    Tuples are similar to list but it's read-only (immutable) which means we can't modify it's element<br>\n",
    "    We use it to store data which should not be modified<br>\n",
    "    It's occupies less memory campare to list<br>\n",
    "    Tuples are represented using parentheses \"()\".\n",
    "</p>"
   ]
  },
  {
   "cell_type": "markdown",
   "id": "ca79121e-ed16-44e9-b094-92def013fd83",
   "metadata": {},
   "source": [
    "<h2>Creating tuple</h2>"
   ]
  },
  {
   "cell_type": "code",
   "execution_count": 10,
   "id": "acd8824f-a693-4fdd-81a2-70c837d6faaf",
   "metadata": {},
   "outputs": [
    {
     "name": "stdout",
     "output_type": "stream",
     "text": [
      "()\n",
      "<class 'tuple'>\n"
     ]
    }
   ],
   "source": [
    "a = () #to create an empty tuple\n",
    "print(a) #to print data\n",
    "print(type(a)) #to check datatype"
   ]
  },
  {
   "cell_type": "code",
   "execution_count": 20,
   "id": "62651768-b117-4205-956d-089686d2dbf4",
   "metadata": {},
   "outputs": [
    {
     "name": "stdout",
     "output_type": "stream",
     "text": [
      "(10,)\n",
      "<class 'tuple'>\n"
     ]
    }
   ],
   "source": [
    "b = (10,) #to create a single element tuple\n",
    "print(b)\n",
    "print(type(b))"
   ]
  },
  {
   "cell_type": "code",
   "execution_count": 22,
   "id": "69d48cd1-040f-4f65-bfdf-9f477e87e5e4",
   "metadata": {},
   "outputs": [
    {
     "name": "stdout",
     "output_type": "stream",
     "text": [
      "(10, 20, 40, 30)\n",
      "<class 'tuple'>\n"
     ]
    }
   ],
   "source": [
    "c = 10,20,40,30 #to create multiple element tuple\n",
    "print(c)\n",
    "print(type(c))"
   ]
  },
  {
   "cell_type": "code",
   "execution_count": 24,
   "id": "2b349857-86bc-4b04-a1d1-3a3134122919",
   "metadata": {},
   "outputs": [
    {
     "name": "stdout",
     "output_type": "stream",
     "text": [
      "(10, 20, 50, 30)\n",
      "<class 'tuple'>\n"
     ]
    }
   ],
   "source": [
    "c = (10,20,50,30)\n",
    "print(c)\n",
    "print(type(c))"
   ]
  },
  {
   "cell_type": "markdown",
   "id": "3432dd49-60c2-4898-81b0-e73234b072c1",
   "metadata": {},
   "source": [
    "<h2>Tuple indexing</h2>"
   ]
  },
  {
   "cell_type": "code",
   "execution_count": 27,
   "id": "7612ed1b-b564-46fb-9bc1-6ee584dae1d7",
   "metadata": {},
   "outputs": [],
   "source": [
    "a = (10,20,30,40)"
   ]
  },
  {
   "cell_type": "markdown",
   "id": "3a8122eb-40dc-486e-b8b7-8756cd4e454b",
   "metadata": {},
   "source": [
    "<p>\n",
    "    0 = 10<br>\n",
    "    1 = 20<br>\n",
    "    2 = 30<br>\n",
    "    3 = 40<br><br>\n",
    "\n",
    "-1 = 40<br>\n",
    "-2 = 30<br>\n",
    "-3 = 20<br>\n",
    "-4 = 10\n",
    "</p>"
   ]
  },
  {
   "cell_type": "code",
   "execution_count": 33,
   "id": "30743c80-09ea-4531-8e4d-5309311fbc0c",
   "metadata": {},
   "outputs": [
    {
     "name": "stdout",
     "output_type": "stream",
     "text": [
      "20\n",
      "30\n"
     ]
    }
   ],
   "source": [
    "print(a[1])\n",
    "print(a[-2])"
   ]
  },
  {
   "cell_type": "markdown",
   "id": "da872532-628e-4ed7-8362-cde878f1d479",
   "metadata": {},
   "source": [
    "<h2>Tuple slicing</h2>\n",
    "<p>\n",
    "    Slicing on tuple can be used to retrieve a piece of the tuple that contains a group of elements. Slicing is useful to retrieve a range of elements.\n",
    "</p>"
   ]
  },
  {
   "cell_type": "code",
   "execution_count": 3,
   "id": "6d964212-22f6-4cc5-acf4-cf97626755e3",
   "metadata": {},
   "outputs": [],
   "source": [
    "x = (1,2,3,4,5,6,7)"
   ]
  },
  {
   "cell_type": "code",
   "execution_count": 5,
   "id": "cb28e40c-c3ca-4ef9-9530-084fb3abd388",
   "metadata": {},
   "outputs": [
    {
     "name": "stdout",
     "output_type": "stream",
     "text": [
      "Original tuple: (1, 2, 3, 4, 5, 6, 7)\n"
     ]
    }
   ],
   "source": [
    "print(f\"Original tuple: {x}\")"
   ]
  },
  {
   "cell_type": "code",
   "execution_count": 58,
   "id": "d5b6bbe3-2755-4ad0-b975-ff1bea18284a",
   "metadata": {},
   "outputs": [
    {
     "name": "stdout",
     "output_type": "stream",
     "text": [
      "From 0th position to last position: (1, 2, 3, 4, 5, 6, 7)\n"
     ]
    }
   ],
   "source": [
    "print(f\"From 0th position to last position: {x[0:]}\")"
   ]
  },
  {
   "cell_type": "code",
   "execution_count": 66,
   "id": "41812781-f73b-49bf-8764-542671259491",
   "metadata": {},
   "outputs": [
    {
     "name": "stdout",
     "output_type": "stream",
     "text": [
      "From 1st position to 4th position: (2, 3, 4, 5)\n"
     ]
    }
   ],
   "source": [
    "print(f\"From 1st position to 4th position: {x[1:5]}\")"
   ]
  },
  {
   "cell_type": "code",
   "execution_count": 68,
   "id": "2e0c84e8-5e7b-46e8-8f78-b823a3f217a1",
   "metadata": {},
   "outputs": [
    {
     "name": "stdout",
     "output_type": "stream",
     "text": [
      "From 0th position to 4th position: (1, 2, 3, 4, 5)\n"
     ]
    }
   ],
   "source": [
    "print(f\"From 0th position to 4th position: {x[:5]}\")"
   ]
  },
  {
   "cell_type": "code",
   "execution_count": 70,
   "id": "6b2e3db3-b783-4833-9f2b-198509cb8058",
   "metadata": {},
   "outputs": [
    {
     "name": "stdout",
     "output_type": "stream",
     "text": [
      "Only last 4 elements: (4, 5, 6, 7)\n"
     ]
    }
   ],
   "source": [
    "print(f\"Only last 4 elements: {x[-4:]}\")"
   ]
  },
  {
   "cell_type": "code",
   "execution_count": 74,
   "id": "fdf0ebc9-8eec-40ae-a186-f958f562dcf9",
   "metadata": {},
   "outputs": [
    {
     "name": "stdout",
     "output_type": "stream",
     "text": [
      "From 0th position to 5th position stribe 2: (1, 3, 5)\n"
     ]
    }
   ],
   "source": [
    "print(f\"From 0th position to 5th position stribe 2: {x[0:6:2]}\")"
   ]
  },
  {
   "cell_type": "code",
   "execution_count": 7,
   "id": "6cd6209e-8abc-4216-b9a4-9151b30de425",
   "metadata": {},
   "outputs": [
    {
     "name": "stdout",
     "output_type": "stream",
     "text": [
      "Last 5 elements with [-5-(-3)] = 2 elements towards right: (3, 4)\n"
     ]
    }
   ],
   "source": [
    "print(f\"Last 5 elements with [-5-(-3)] = 2 elements towards right: {x[-5:-3]}\")"
   ]
  },
  {
   "cell_type": "code",
   "execution_count": 15,
   "id": "8f98a678-8656-42bc-9035-9202012c00e6",
   "metadata": {},
   "outputs": [
    {
     "name": "stdout",
     "output_type": "stream",
     "text": [
      "From 0th position to 3rd position: (1, 2, 3)\n"
     ]
    }
   ],
   "source": [
    "print(f\"From 0th position to 3rd position: {x[:3]}\")"
   ]
  },
  {
   "cell_type": "code",
   "execution_count": 17,
   "id": "28e7b648-3df5-4070-9fd3-3fb3a68be161",
   "metadata": {},
   "outputs": [
    {
     "name": "stdout",
     "output_type": "stream",
     "text": [
      "From 4th position to last position: (5, 6, 7)\n"
     ]
    }
   ],
   "source": [
    "print(f\"From 4th position to last position: {x[4:]}\")"
   ]
  },
  {
   "cell_type": "markdown",
   "id": "64399734-de4f-4db0-aac5-9d612db2ad9d",
   "metadata": {},
   "source": [
    "<h2>Accessing tuple using loop</h2>"
   ]
  },
  {
   "cell_type": "code",
   "execution_count": 36,
   "id": "6697ce2f-c668-4e10-9428-b71d6db36da4",
   "metadata": {},
   "outputs": [
    {
     "data": {
      "text/plain": [
       "(10, 21, 22.3, 'Artificialworld')"
      ]
     },
     "execution_count": 36,
     "metadata": {},
     "output_type": "execute_result"
    }
   ],
   "source": [
    "a = (10,21,22.3,\"Artificialworld\")\n",
    "a"
   ]
  },
  {
   "cell_type": "code",
   "execution_count": 38,
   "id": "69aaf685-62e3-48d6-87b8-819c5a55a15f",
   "metadata": {},
   "outputs": [
    {
     "name": "stdout",
     "output_type": "stream",
     "text": [
      "10\n",
      "21\n",
      "22.3\n",
      "Artificialworld\n"
     ]
    }
   ],
   "source": [
    "\"\"\"access tuple without index\"\"\"\n",
    "for i in a:\n",
    "    print(i)"
   ]
  },
  {
   "cell_type": "code",
   "execution_count": 40,
   "id": "ba761505-86f9-42da-b799-3db1fc3a956b",
   "metadata": {},
   "outputs": [
    {
     "name": "stdout",
     "output_type": "stream",
     "text": [
      "10\n",
      "21\n",
      "22.3\n",
      "Artificialworld\n"
     ]
    }
   ],
   "source": [
    "\"\"\"access tuple with index\"\"\"\n",
    "for i in range(len(a)):\n",
    "    print(a[i])"
   ]
  },
  {
   "cell_type": "code",
   "execution_count": 42,
   "id": "868efd6f-9d24-4dc0-937f-393ada59c39e",
   "metadata": {},
   "outputs": [
    {
     "name": "stdout",
     "output_type": "stream",
     "text": [
      "0 10\n",
      "1 21\n",
      "2 22.3\n",
      "3 Artificialworld\n"
     ]
    }
   ],
   "source": [
    "\"\"\"access tuple with index numbers\"\"\"\n",
    "for i in range(len(a)):\n",
    "    print(i,a[i])"
   ]
  },
  {
   "cell_type": "markdown",
   "id": "00c1ccee-e225-4350-89ac-8c3df1fbe3da",
   "metadata": {},
   "source": [
    "<h2>tuple concatenation</h2>\n",
    "<p>\"+\" operator is used to do concatenation the tuple</p>"
   ]
  },
  {
   "cell_type": "code",
   "execution_count": 80,
   "id": "a8e25417-b37e-4457-aebc-7a953db1a6db",
   "metadata": {},
   "outputs": [
    {
     "name": "stdout",
     "output_type": "stream",
     "text": [
      "(1, 3, 5, 4, 6, 8, 8, 6, 9)\n"
     ]
    }
   ],
   "source": [
    "a = (1,3,5)\n",
    "b = (4,6,8)\n",
    "c = (8,6,9)\n",
    "result = a+b+c\n",
    "print(result)"
   ]
  },
  {
   "cell_type": "markdown",
   "id": "d3be16dc-d30d-4678-b543-ef1e1ee94726",
   "metadata": {},
   "source": [
    "<h2>Deleting tuple</h2>\n",
    "<p>You can delete entire tuple but not an element of it.</p>"
   ]
  },
  {
   "cell_type": "code",
   "execution_count": 22,
   "id": "3eb75868-ade8-4af4-95ed-c27a8601f74b",
   "metadata": {},
   "outputs": [
    {
     "data": {
      "text/plain": [
       "(1, 3, 4, 7)"
      ]
     },
     "execution_count": 22,
     "metadata": {},
     "output_type": "execute_result"
    }
   ],
   "source": [
    "a = (1,3,4,7)\n",
    "a"
   ]
  },
  {
   "cell_type": "code",
   "execution_count": 24,
   "id": "008efc1e-5a93-4723-9b3d-9562d52e96d7",
   "metadata": {},
   "outputs": [],
   "source": [
    "del a"
   ]
  },
  {
   "cell_type": "markdown",
   "id": "4ad15855-e541-4890-b01c-878d6fe9f908",
   "metadata": {},
   "source": [
    "<h2>Getting input from user</h2>"
   ]
  },
  {
   "cell_type": "code",
   "execution_count": 3,
   "id": "f228ddb8-684e-4fe9-baf3-4b1d6580028e",
   "metadata": {},
   "outputs": [
    {
     "name": "stdin",
     "output_type": "stream",
     "text": [
      "Enter number of elements:  4\n",
      "Enter element:  20\n",
      "Enter element:  30\n",
      "Enter element:  10\n",
      "Enter element:  50\n"
     ]
    },
    {
     "name": "stdout",
     "output_type": "stream",
     "text": [
      "[20, 30, 10, 50] <class 'list'>\n",
      "(20, 30, 10, 50) <class 'tuple'>\n"
     ]
    }
   ],
   "source": [
    "a = []\n",
    "n = int(input(\"Enter number of elements: \"))\n",
    "for i in range(n):\n",
    "    a.append(int(input(\"Enter element: \")))\n",
    "print(a, type(a))\n",
    "a = tuple(a) #to convert list into tuple\n",
    "print(a, type(a))"
   ]
  },
  {
   "cell_type": "markdown",
   "id": "60f38626-277d-4a45-a067-9b78adc05694",
   "metadata": {},
   "source": [
    "<h2>Repeatation of tuple</h2>"
   ]
  },
  {
   "cell_type": "code",
   "execution_count": 6,
   "id": "1a1a085c-4eea-4c07-803d-15a543eb6f10",
   "metadata": {},
   "outputs": [
    {
     "data": {
      "text/plain": [
       "(1, 2, 3)"
      ]
     },
     "execution_count": 6,
     "metadata": {},
     "output_type": "execute_result"
    }
   ],
   "source": [
    "a = (1,2,3)\n",
    "a"
   ]
  },
  {
   "cell_type": "code",
   "execution_count": 8,
   "id": "1a9bae85-4a39-4c37-acaf-23f6b635be28",
   "metadata": {},
   "outputs": [
    {
     "data": {
      "text/plain": [
       "(1, 2, 3, 1, 2, 3, 1, 2, 3, 1, 2, 3)"
      ]
     },
     "execution_count": 8,
     "metadata": {},
     "output_type": "execute_result"
    }
   ],
   "source": [
    "result = a*4 #to repeat tuple four times\n",
    "result"
   ]
  },
  {
   "cell_type": "markdown",
   "id": "5c1b5a12-9e74-440a-9c36-1c2717b46010",
   "metadata": {},
   "source": [
    "<h2>Aliasing</h2>\n",
    "<p>Aliasing means giving another name to the existing object. It doesn't mean copying</p>"
   ]
  },
  {
   "cell_type": "code",
   "execution_count": 13,
   "id": "b967957f-6c5a-4aae-b7a7-750d5edf1070",
   "metadata": {},
   "outputs": [],
   "source": [
    "a = (10,20,40,30,50)\n",
    "b = a #to aliasing b as a\n",
    "c = a[:] #if you slice full object then the data will be not copy.\n",
    "d = a[:3] #if you slice less object then the data will be copy."
   ]
  },
  {
   "cell_type": "code",
   "execution_count": 15,
   "id": "c01a4a18-e812-4123-8408-53c4ac7ec78e",
   "metadata": {},
   "outputs": [
    {
     "name": "stdout",
     "output_type": "stream",
     "text": [
      "(10, 20, 40, 30, 50) 2408476588640\n",
      "(10, 20, 40, 30, 50) 2408476588640\n",
      "(10, 20, 40, 30, 50) 2408476588640\n",
      "(10, 20, 40) 2408455490368\n"
     ]
    }
   ],
   "source": [
    "print(a,id(a))\n",
    "print(b,id(b))\n",
    "print(c,id(c))\n",
    "print(d,id(d))"
   ]
  },
  {
   "cell_type": "markdown",
   "id": "739c76dc-3021-4ed2-a70c-867122ab60a8",
   "metadata": {},
   "source": [
    "<h2>Nested tuple</h2>\n",
    "<p>\n",
    "    A tuple within another tuple is called as nested tuple or nested of a tuple.\n",
    "</p>"
   ]
  },
  {
   "cell_type": "code",
   "execution_count": 19,
   "id": "d52743a0-7c84-4bc2-b310-71e74fefdd3d",
   "metadata": {},
   "outputs": [
    {
     "data": {
      "text/plain": [
       "((10, 20, 40), (40, 20, 10))"
      ]
     },
     "execution_count": 19,
     "metadata": {},
     "output_type": "execute_result"
    }
   ],
   "source": [
    "a = ((10,20,40),(40,20,10))\n",
    "a"
   ]
  },
  {
   "cell_type": "code",
   "execution_count": 21,
   "id": "b7890c7c-c41f-4fd5-83ea-591dcae5c59a",
   "metadata": {},
   "outputs": [
    {
     "data": {
      "text/plain": [
       "((10, 30, 20), (30, 50, 40))"
      ]
     },
     "execution_count": 21,
     "metadata": {},
     "output_type": "execute_result"
    }
   ],
   "source": [
    "b = (\n",
    "    (10,30,20),\n",
    "    (30,50,40)\n",
    ")\n",
    "b"
   ]
  },
  {
   "cell_type": "code",
   "execution_count": 23,
   "id": "cf0f4c2d-fea2-4c42-a54f-a8045a7a76e3",
   "metadata": {},
   "outputs": [
    {
     "data": {
      "text/plain": [
       "(10, 20, 30, (40, 50))"
      ]
     },
     "execution_count": 23,
     "metadata": {},
     "output_type": "execute_result"
    }
   ],
   "source": [
    "c = (10,20,30,(40,50))\n",
    "c"
   ]
  },
  {
   "cell_type": "markdown",
   "id": "92de8299-65ec-47ba-96f6-1feeea90f275",
   "metadata": {},
   "source": [
    "<h3>accessing nested tuple</h3>"
   ]
  },
  {
   "cell_type": "code",
   "execution_count": 38,
   "id": "77bbb753-2871-4895-9e3a-80e285f0441a",
   "metadata": {},
   "outputs": [],
   "source": [
    "a = (10,20,30,(40,50))"
   ]
  },
  {
   "cell_type": "code",
   "execution_count": 40,
   "id": "231e9a1a-f4c7-4660-af76-f2af6c42ede2",
   "metadata": {},
   "outputs": [
    {
     "data": {
      "text/plain": [
       "10"
      ]
     },
     "execution_count": 40,
     "metadata": {},
     "output_type": "execute_result"
    }
   ],
   "source": [
    "a[0]"
   ]
  },
  {
   "cell_type": "code",
   "execution_count": 42,
   "id": "07384b46-517e-4083-b9c5-fa18d4163adc",
   "metadata": {},
   "outputs": [
    {
     "data": {
      "text/plain": [
       "30"
      ]
     },
     "execution_count": 42,
     "metadata": {},
     "output_type": "execute_result"
    }
   ],
   "source": [
    "a[2]"
   ]
  },
  {
   "cell_type": "code",
   "execution_count": 44,
   "id": "2bce4a7e-ffe4-4450-bbb2-169ec087eb62",
   "metadata": {},
   "outputs": [
    {
     "data": {
      "text/plain": [
       "(40, 50)"
      ]
     },
     "execution_count": 44,
     "metadata": {},
     "output_type": "execute_result"
    }
   ],
   "source": [
    "a[3]"
   ]
  },
  {
   "cell_type": "code",
   "execution_count": 46,
   "id": "728074be-4548-438a-8222-e5b990547f8a",
   "metadata": {},
   "outputs": [
    {
     "data": {
      "text/plain": [
       "50"
      ]
     },
     "execution_count": 46,
     "metadata": {},
     "output_type": "execute_result"
    }
   ],
   "source": [
    "a[3][1]"
   ]
  },
  {
   "cell_type": "code",
   "execution_count": 48,
   "id": "69d071ed-9afc-4d2c-9b28-bcccacfddb57",
   "metadata": {},
   "outputs": [],
   "source": [
    "b = ((10,20,30),(40,50,60))"
   ]
  },
  {
   "cell_type": "code",
   "execution_count": 50,
   "id": "a1afc29e-acbf-4ff4-b6ef-a376163fa17e",
   "metadata": {},
   "outputs": [
    {
     "data": {
      "text/plain": [
       "(10, 20, 30)"
      ]
     },
     "execution_count": 50,
     "metadata": {},
     "output_type": "execute_result"
    }
   ],
   "source": [
    "b[0]"
   ]
  },
  {
   "cell_type": "code",
   "execution_count": 52,
   "id": "74939ce4-e42f-422f-98b9-35830b9e1d01",
   "metadata": {},
   "outputs": [
    {
     "data": {
      "text/plain": [
       "(40, 50, 60)"
      ]
     },
     "execution_count": 52,
     "metadata": {},
     "output_type": "execute_result"
    }
   ],
   "source": [
    "b[1]"
   ]
  },
  {
   "cell_type": "code",
   "execution_count": 54,
   "id": "10272bfa-046c-44a2-b715-55e9f360c6bd",
   "metadata": {},
   "outputs": [
    {
     "data": {
      "text/plain": [
       "20"
      ]
     },
     "execution_count": 54,
     "metadata": {},
     "output_type": "execute_result"
    }
   ],
   "source": [
    "b[0][1]"
   ]
  },
  {
   "cell_type": "code",
   "execution_count": 56,
   "id": "32669ea7-3b6a-4a0f-afe1-b94118991a3c",
   "metadata": {},
   "outputs": [
    {
     "data": {
      "text/plain": [
       "60"
      ]
     },
     "execution_count": 56,
     "metadata": {},
     "output_type": "execute_result"
    }
   ],
   "source": [
    "b[1][2]"
   ]
  },
  {
   "cell_type": "markdown",
   "id": "8a9166d0-cd89-4cf7-afaa-695145f37475",
   "metadata": {},
   "source": [
    "<h2>Accessing nested tuple using for loop</h2>\n",
    "<h3>Example1</h3>"
   ]
  },
  {
   "cell_type": "code",
   "execution_count": 10,
   "id": "c5de654e-9435-443b-b3a3-ffc4871a0ab8",
   "metadata": {},
   "outputs": [
    {
     "name": "stdout",
     "output_type": "stream",
     "text": [
      "0 10\n",
      "1 20\n",
      "2 30\n",
      "3 0 40\n",
      "3 1 50\n"
     ]
    }
   ],
   "source": [
    "a = (10,20,30,(40,50))\n",
    "for i in range(len(a)):\n",
    "    if type(a[i]) is tuple:\n",
    "        if len(a[i])>1:\n",
    "            for j in range(len(a[i])):\n",
    "                print(i,j,a[i][j])\n",
    "    else:\n",
    "        print(i,a[i])                "
   ]
  },
  {
   "cell_type": "markdown",
   "id": "cf9a9d74-5943-4210-ae58-55285308dfe5",
   "metadata": {},
   "source": [
    "<h3>Example2 without index</h3>"
   ]
  },
  {
   "cell_type": "code",
   "execution_count": 20,
   "id": "37fd9ee3-69d2-4928-a2fb-0b673b3d6fa9",
   "metadata": {},
   "outputs": [
    {
     "name": "stdout",
     "output_type": "stream",
     "text": [
      "10\n",
      "20\n",
      "30\n",
      "\n",
      "40\n",
      "50\n",
      "60\n",
      "\n"
     ]
    }
   ],
   "source": [
    "a = ((10,20,30),(40,50,60))\n",
    "for i in a:\n",
    "    for j in i:\n",
    "        print(j)\n",
    "    print()"
   ]
  },
  {
   "cell_type": "markdown",
   "id": "c0687d20-95d6-4161-8b38-3f6f6a30d174",
   "metadata": {},
   "source": [
    "<h3>Example3 with index</h3>"
   ]
  },
  {
   "cell_type": "code",
   "execution_count": 23,
   "id": "5d212778-c9de-405f-9fc0-f14be479bee5",
   "metadata": {},
   "outputs": [
    {
     "name": "stdout",
     "output_type": "stream",
     "text": [
      "0 0 10\n",
      "0 1 20\n",
      "0 2 30\n",
      "\n",
      "1 0 40\n",
      "1 1 50\n",
      "1 2 60\n",
      "\n"
     ]
    }
   ],
   "source": [
    "a = ((10,20,30),(40,50,60))\n",
    "for i in range(len(a)):\n",
    "    for j in range(len(a[i])):\n",
    "        print(i,j, a[i][j])\n",
    "    print()"
   ]
  },
  {
   "cell_type": "markdown",
   "id": "236a5963-9ca6-451c-a3a9-5e86d6a1131d",
   "metadata": {},
   "source": [
    "<h2>Slicing nested tuple</h2>"
   ]
  },
  {
   "cell_type": "code",
   "execution_count": 26,
   "id": "b1296b91-fdff-494d-96a8-8aaa87c5fecb",
   "metadata": {},
   "outputs": [],
   "source": [
    "x = ((10,20,30),\n",
    "     (30,40,50),\n",
    "     (60,70,80),\n",
    "     (21,22,23),\n",
    "     (44,55,66),\n",
    "     (77,88,99),\n",
    "     (12,13,14))"
   ]
  },
  {
   "cell_type": "code",
   "execution_count": 32,
   "id": "0a3221ab-fc60-43c0-8502-402a10d896e8",
   "metadata": {},
   "outputs": [
    {
     "data": {
      "text/plain": [
       "((10, 20, 30),\n",
       " (30, 40, 50),\n",
       " (60, 70, 80),\n",
       " (21, 22, 23),\n",
       " (44, 55, 66),\n",
       " (77, 88, 99),\n",
       " (12, 13, 14))"
      ]
     },
     "execution_count": 32,
     "metadata": {},
     "output_type": "execute_result"
    }
   ],
   "source": [
    "x"
   ]
  },
  {
   "cell_type": "code",
   "execution_count": 65,
   "id": "b545c673-0412-41f5-8754-87e0ffa342f3",
   "metadata": {},
   "outputs": [
    {
     "name": "stdout",
     "output_type": "stream",
     "text": [
      "From 0th position to last position:\n",
      "((10, 20, 30), (30, 40, 50), (60, 70, 80), (21, 22, 23), (44, 55, 66), (77, 88, 99), (12, 13, 14))\n"
     ]
    }
   ],
   "source": [
    "print(f\"From 0th position to last position:\\n{x[0:]}\")"
   ]
  },
  {
   "cell_type": "code",
   "execution_count": 67,
   "id": "d65fa5e0-d612-4930-8769-ce82dc189935",
   "metadata": {},
   "outputs": [
    {
     "name": "stdout",
     "output_type": "stream",
     "text": [
      "From 1st position to 4th position:\n",
      "((30, 40, 50), (60, 70, 80), (21, 22, 23), (44, 55, 66))\n"
     ]
    }
   ],
   "source": [
    "print(f\"From 1st position to 4th position:\\n{x[1:5]}\")"
   ]
  },
  {
   "cell_type": "code",
   "execution_count": 69,
   "id": "eb01fe3f-86e9-431f-832b-37ca9fac8058",
   "metadata": {},
   "outputs": [
    {
     "name": "stdout",
     "output_type": "stream",
     "text": [
      "From 0th position to 4th position:\n",
      "((10, 20, 30), (30, 40, 50), (60, 70, 80), (21, 22, 23), (44, 55, 66))\n"
     ]
    }
   ],
   "source": [
    "print(f\"From 0th position to 4th position:\\n{x[:5]}\")"
   ]
  },
  {
   "cell_type": "code",
   "execution_count": 73,
   "id": "0b0301aa-ea53-4be3-9f7b-59b31ed64b16",
   "metadata": {},
   "outputs": [
    {
     "name": "stdout",
     "output_type": "stream",
     "text": [
      "Last 4 tuple:\n",
      "((21, 22, 23), (44, 55, 66), (77, 88, 99), (12, 13, 14))\n"
     ]
    }
   ],
   "source": [
    "print(f\"Last 4 tuple:\\n{x[-4:]}\")\n"
   ]
  },
  {
   "cell_type": "code",
   "execution_count": 75,
   "id": "ec4edbad-e85f-4501-911c-6057a6138aba",
   "metadata": {},
   "outputs": [
    {
     "name": "stdout",
     "output_type": "stream",
     "text": [
      "From 0th position to 6th position stepsize 2:\n",
      "((10, 20, 30), (60, 70, 80), (44, 55, 66), (12, 13, 14))\n"
     ]
    }
   ],
   "source": [
    "print(f'From 0th position to 6th position stepsize 2:\\n{x[0:7:2]}')"
   ]
  },
  {
   "cell_type": "code",
   "execution_count": 77,
   "id": "c5de1915-ebbf-4b7f-aa97-983cf5589255",
   "metadata": {},
   "outputs": [
    {
     "name": "stdout",
     "output_type": "stream",
     "text": [
      "Last 5 tuple with -5(-3) = 2 lists towards right:\n",
      "((60, 70, 80), (21, 22, 23))\n"
     ]
    }
   ],
   "source": [
    "print(f\"Last 5 tuple with -5(-3) = 2 lists towards right:\\n{x[-5:-3]}\")"
   ]
  },
  {
   "cell_type": "code",
   "execution_count": 79,
   "id": "4c14f01c-dd3a-4150-a441-14636514ee6c",
   "metadata": {},
   "outputs": [
    {
     "name": "stdout",
     "output_type": "stream",
     "text": [
      "Slice nested 2nd position, 0th position:\n",
      "((60, 70, 80),)\n"
     ]
    }
   ],
   "source": [
    "print(f\"Slice nested 2nd position, 0th position:\\n{x[2:3]}\")"
   ]
  },
  {
   "cell_type": "code",
   "execution_count": 81,
   "id": "4440adbc-464a-410a-8db1-10bf6b85355e",
   "metadata": {},
   "outputs": [
    {
     "name": "stdout",
     "output_type": "stream",
     "text": [
      "Slice 2nd position, 0th position:\n",
      "(60, 70, 80)\n"
     ]
    }
   ],
   "source": [
    "print(f\"Slice 2nd position, 0th position:\\n{x[2:3][0]}\")\n"
   ]
  },
  {
   "cell_type": "markdown",
   "id": "6659b45b-0528-4763-a4a4-a67eeac65cf8",
   "metadata": {},
   "source": [
    "<h2>Slicing and extracting elements</h2>"
   ]
  },
  {
   "cell_type": "code",
   "execution_count": 84,
   "id": "6fd45f2d-33e3-41b4-a2af-6112591b5841",
   "metadata": {},
   "outputs": [
    {
     "name": "stdout",
     "output_type": "stream",
     "text": [
      "Slice 2nd tuple then extract elements:\n",
      "60\n"
     ]
    }
   ],
   "source": [
    "print(f'Slice 2nd tuple then extract elements:\\n{x[2:3][0][0]}')"
   ]
  },
  {
   "cell_type": "markdown",
   "id": "a7e1b1b3-8a37-443e-a968-0e710610081a",
   "metadata": {},
   "source": [
    "<h3>Extracting all elements</h3>"
   ]
  },
  {
   "cell_type": "code",
   "execution_count": 87,
   "id": "40fefacd-e751-4120-9bb5-d1065e5fd686",
   "metadata": {},
   "outputs": [
    {
     "name": "stdout",
     "output_type": "stream",
     "text": [
      "60\n",
      "70\n",
      "80\n"
     ]
    }
   ],
   "source": [
    "z = x[2:3][0]\n",
    "for i in z:\n",
    "  print(i)"
   ]
  },
  {
   "cell_type": "code",
   "execution_count": 89,
   "id": "3d15290c-b8a4-47c6-ac51-0a3e6d45d02a",
   "metadata": {},
   "outputs": [
    {
     "name": "stdout",
     "output_type": "stream",
     "text": [
      "Last 4 elements:\n",
      "((21, 22, 23), (44, 55, 66), (77, 88, 99), (12, 13, 14))\n"
     ]
    }
   ],
   "source": [
    "print(f'Last 4 elements:\\n{x[-4:]}')"
   ]
  },
  {
   "cell_type": "code",
   "execution_count": 91,
   "id": "c792b5a2-3920-43fd-a4c6-5e39f128a8e4",
   "metadata": {},
   "outputs": [
    {
     "name": "stdout",
     "output_type": "stream",
     "text": [
      "1st index of last 4 elements:\n",
      "(44, 55, 66)\n"
     ]
    }
   ],
   "source": [
    "print(f'1st index of last 4 elements:\\n{x[-4:][1]}')"
   ]
  },
  {
   "cell_type": "code",
   "execution_count": 93,
   "id": "004be2da-eac4-4ca7-a191-4d91945547e1",
   "metadata": {},
   "outputs": [
    {
     "name": "stdout",
     "output_type": "stream",
     "text": [
      "Last nested 4 lists then 1st position then extract elements:\n",
      "44\n"
     ]
    }
   ],
   "source": [
    "print(f'Last nested 4 lists then 1st position then extract elements:\\n{x[-4:][1][0]}')"
   ]
  },
  {
   "cell_type": "code",
   "execution_count": 97,
   "id": "5927edaa-2b64-44ef-b750-17e02e17ab2d",
   "metadata": {},
   "outputs": [
    {
     "name": "stdout",
     "output_type": "stream",
     "text": [
      "44\n",
      "55\n",
      "66\n"
     ]
    }
   ],
   "source": [
    "l = x[-4:][1]\n",
    "for i in l:\n",
    "  print(i)"
   ]
  }
 ],
 "metadata": {
  "kernelspec": {
   "display_name": "Python [conda env:base] *",
   "language": "python",
   "name": "conda-base-py"
  },
  "language_info": {
   "codemirror_mode": {
    "name": "ipython",
    "version": 3
   },
   "file_extension": ".py",
   "mimetype": "text/x-python",
   "name": "python",
   "nbconvert_exporter": "python",
   "pygments_lexer": "ipython3",
   "version": "3.12.7"
  }
 },
 "nbformat": 4,
 "nbformat_minor": 5
}
