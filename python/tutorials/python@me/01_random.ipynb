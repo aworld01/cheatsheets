{
 "cells": [
  {
   "cell_type": "markdown",
   "id": "7715c93e-a71e-4751-b49f-6041b8c97423",
   "metadata": {},
   "source": [
    "<h1>Python Random Module</h1>"
   ]
  },
  {
   "cell_type": "code",
   "execution_count": 2,
   "id": "7125884d-1a6a-423d-8446-d30d8c6ed105",
   "metadata": {},
   "outputs": [],
   "source": [
    "import random"
   ]
  },
  {
   "cell_type": "markdown",
   "id": "d1e204fd-9e99-46ac-8cef-da6fd3c55911",
   "metadata": {},
   "source": [
    "<h2>1. random.random()</h2>\n",
    "<p>Returns a random float number between 0 and 1.</p>"
   ]
  },
  {
   "cell_type": "code",
   "execution_count": 4,
   "id": "1d49b0e9-be2b-45bd-bf6e-c3975800dd23",
   "metadata": {},
   "outputs": [
    {
     "data": {
      "text/plain": [
       "0.7278203119992258"
      ]
     },
     "execution_count": 4,
     "metadata": {},
     "output_type": "execute_result"
    }
   ],
   "source": [
    "random.random()"
   ]
  },
  {
   "cell_type": "markdown",
   "id": "b201477b-ccab-4add-b738-5d62aa4a55a8",
   "metadata": {},
   "source": [
    "<p>Generate a random floating point number between range lower to upper. For this you need to multiply random() with (upper-lower)+lower.<br>\n",
    "<b>Note:</b> lower will include but upper will not include</p>"
   ]
  },
  {
   "cell_type": "code",
   "execution_count": 6,
   "id": "91ff1e24-7e27-4d46-8a63-047783283350",
   "metadata": {},
   "outputs": [
    {
     "data": {
      "text/plain": [
       "97.54182157711472"
      ]
     },
     "execution_count": 6,
     "metadata": {},
     "output_type": "execute_result"
    }
   ],
   "source": [
    "random.random()*(100-50)+50"
   ]
  },
  {
   "cell_type": "code",
   "execution_count": 7,
   "id": "a2b49cf3-a6a2-479d-98ba-fe71678b29bc",
   "metadata": {},
   "outputs": [
    {
     "data": {
      "text/plain": [
       "17.17120864167898"
      ]
     },
     "execution_count": 7,
     "metadata": {},
     "output_type": "execute_result"
    }
   ],
   "source": [
    "15+random.random()*5"
   ]
  },
  {
   "cell_type": "markdown",
   "id": "747901af-4645-432f-8dac-4d1671efc060",
   "metadata": {},
   "source": [
    "<h2>2. random.randint(a,b)</h2>\n",
    "<p>Returns a number between 'a' and 'b'. (both included):</p>"
   ]
  },
  {
   "cell_type": "code",
   "execution_count": 9,
   "id": "e83c4df5-78f2-472d-bdd4-eade18ab57ac",
   "metadata": {},
   "outputs": [
    {
     "data": {
      "text/plain": [
       "2"
      ]
     },
     "execution_count": 9,
     "metadata": {},
     "output_type": "execute_result"
    }
   ],
   "source": [
    "random.randint(2,5)"
   ]
  },
  {
   "cell_type": "code",
   "execution_count": 10,
   "id": "63062d0c-f6ab-49ab-99dd-fd85607b4867",
   "metadata": {},
   "outputs": [
    {
     "data": {
      "text/plain": [
       "3"
      ]
     },
     "execution_count": 10,
     "metadata": {},
     "output_type": "execute_result"
    }
   ],
   "source": [
    "random.randint(3,10)-3"
   ]
  },
  {
   "cell_type": "markdown",
   "id": "6f22baff-5208-455b-8e49-fbd3d4cf6b3d",
   "metadata": {},
   "source": [
    "<h2>2. random.randrange(a,b)</h2>\n",
    "<p>Returns a number between 'a' and 'b'. ('a' included and 'b' not included)</p>"
   ]
  },
  {
   "cell_type": "code",
   "execution_count": 12,
   "id": "0db7f266-eb4c-413c-96c1-f99a5ead5aff",
   "metadata": {},
   "outputs": [
    {
     "data": {
      "text/plain": [
       "3"
      ]
     },
     "execution_count": 12,
     "metadata": {},
     "output_type": "execute_result"
    }
   ],
   "source": [
    "random.randrange(2,5)"
   ]
  },
  {
   "cell_type": "markdown",
   "id": "3b245dab-536d-4306-b425-0401761d205a",
   "metadata": {},
   "source": [
    "<h2>3. random.choice(l)</h2>\n",
    "<p>Returns a random element from a list</p>"
   ]
  },
  {
   "cell_type": "code",
   "execution_count": 14,
   "id": "8d053dba-ae68-4342-9c7b-7d0971655b70",
   "metadata": {},
   "outputs": [],
   "source": [
    "fruits = ['Apple','Banana','Mango','Guava','Orange']"
   ]
  },
  {
   "cell_type": "code",
   "execution_count": 15,
   "id": "7f700d19-9967-4e1f-8109-f50ebf5bc593",
   "metadata": {},
   "outputs": [
    {
     "data": {
      "text/plain": [
       "'Banana'"
      ]
     },
     "execution_count": 15,
     "metadata": {},
     "output_type": "execute_result"
    }
   ],
   "source": [
    "random.choice(fruits)"
   ]
  },
  {
   "cell_type": "markdown",
   "id": "8bb61cbe-509d-4ba4-95e5-0f45b3776416",
   "metadata": {},
   "source": [
    "<h2>4. random.shuffle()</h2>\n",
    "<p>Takes a sequence and returns the sequence in a random order</p>"
   ]
  },
  {
   "cell_type": "code",
   "execution_count": 17,
   "id": "dd4371ae-b65c-49e7-a2e3-4a3544b3ce02",
   "metadata": {},
   "outputs": [
    {
     "data": {
      "text/plain": [
       "['Orange', 'Mango', 'Guava', 'Apple', 'Banana']"
      ]
     },
     "execution_count": 17,
     "metadata": {},
     "output_type": "execute_result"
    }
   ],
   "source": [
    "random.shuffle(fruits)\n",
    "fruits"
   ]
  },
  {
   "cell_type": "markdown",
   "id": "07383118-c6ba-459a-84f7-01017d9cc50a",
   "metadata": {},
   "source": [
    "<h2>6. random.uniform(a,b)</h2>\n",
    "<p>Returns a random float number between 'a' and 'b'.</p>"
   ]
  },
  {
   "cell_type": "code",
   "execution_count": 19,
   "id": "01aa2736-7b8f-4500-8c19-6ad1d3ef632d",
   "metadata": {},
   "outputs": [
    {
     "data": {
      "text/plain": [
       "2.490531707770701"
      ]
     },
     "execution_count": 19,
     "metadata": {},
     "output_type": "execute_result"
    }
   ],
   "source": [
    "random.uniform(2,7)"
   ]
  },
  {
   "cell_type": "raw",
   "id": "93a0cc74-6d24-4185-bff8-cf695e328f96",
   "metadata": {},
   "source": []
  }
 ],
 "metadata": {
  "kernelspec": {
   "display_name": "Python [conda env:base] *",
   "language": "python",
   "name": "conda-base-py"
  },
  "language_info": {
   "codemirror_mode": {
    "name": "ipython",
    "version": 3
   },
   "file_extension": ".py",
   "mimetype": "text/x-python",
   "name": "python",
   "nbconvert_exporter": "python",
   "pygments_lexer": "ipython3",
   "version": "3.12.7"
  }
 },
 "nbformat": 4,
 "nbformat_minor": 5
}
