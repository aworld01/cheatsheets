{
 "cells": [
  {
   "cell_type": "markdown",
   "id": "e229cff5-fdb7-4e12-8772-08f0b20c91f2",
   "metadata": {},
   "source": [
    "<h1>What is Regular Expresion</h1>\n",
    "<p>The regex is a procedure in any language to look for a specified pattern in a given text.</p>\n",
    "<p>'re' is the module to perform regex in python</p>\n",
    "\n",
    "<h2>What is a pattern?</h2>\n",
    "<p>It's a sequence of characters, which represent multiple strings</p>\n",
    "\n",
    "<h2>The different operations in python regex are:</h2>\n",
    "<ol>\n",
    "    <li>match()</li>\n",
    "    <li>search()</li>\n",
    "    <li>findall()</li>\n",
    "    <li>finditer()</li>\n",
    "    <li>sub()</li>\n",
    "    <li>split()</li>\n",
    "    <li>compile() and so on.</li>\n",
    "</ol>\n",
    "\n",
    "<h2>Syntax:</h2>\n",
    "<ol>\n",
    "    <li>re.search(pattern, text)</li>\n",
    "    <li>re.match(pattern, text)</li>\n",
    "    <li>re.finditer(pattern, text)</li>\n",
    "    <li>re.findall(pattern, text)</li>\n",
    "</ol>\n",
    "\n",
    "<h2>Rules to create a pattern:</h2>\n",
    "<p>\n",
    "    . =>Matches any single character except newline character.<br>\n",
    "    \\d => Matches decimal digit 0-9 <br>\n",
    "    \\w => Matches any single letter, digit or underscore. <br>\n",
    "    \\W => Matches any character not part of \\w <br>\n",
    "    [abc] => Matches a,b,c <br>\n",
    "    [a-c] => Matches a,b,c (sequence of characters) <br>\n",
    "    [a-zA-Z0-9] => Matches any letter from (a to z) or (A to Z) or (0 to 9) <br>\n",
    "</p>"
   ]
  },
  {
   "cell_type": "code",
   "execution_count": 2,
   "id": "69b5ca0c-65ae-44e1-b4a6-c4ff386cf03a",
   "metadata": {},
   "outputs": [],
   "source": [
    "s = \"\"\"\n",
    "Hello world, my name is Abdul Zoha and I am 32.\n",
    "My e-mail is 'abdulzoha786@gmail.com'. I am from India and +91 is India's country code.\n",
    "My mobile number is 9006228083.\n",
    "\"\"\""
   ]
  },
  {
   "cell_type": "code",
   "execution_count": 3,
   "id": "07996ad1-94e6-441a-bdad-3c50289b9f87",
   "metadata": {},
   "outputs": [],
   "source": [
    "import re"
   ]
  },
  {
   "cell_type": "code",
   "execution_count": 4,
   "id": "e91b9ccc-f6e5-4c7a-9152-bf09eebbd9c1",
   "metadata": {},
   "outputs": [
    {
     "data": {
      "text/plain": [
       "'This is python and it is very easy to learn.'"
      ]
     },
     "execution_count": 4,
     "metadata": {},
     "output_type": "execute_result"
    }
   ],
   "source": [
    "s = \"This is python and it is very easy to learn.\"\n",
    "s"
   ]
  },
  {
   "cell_type": "markdown",
   "id": "4eeb267b-92f0-45f9-9a60-2b14fadbbb74",
   "metadata": {},
   "source": [
    "<h3>Example1</h3>"
   ]
  },
  {
   "cell_type": "code",
   "execution_count": 6,
   "id": "da01e676-eeaf-481d-b7ab-898d1e3ea27e",
   "metadata": {},
   "outputs": [
    {
     "data": {
      "text/plain": [
       "['is', 'is', 'is']"
      ]
     },
     "execution_count": 6,
     "metadata": {},
     "output_type": "execute_result"
    }
   ],
   "source": [
    "pattern1 = re.findall(\"is\", s)\n",
    "pattern1"
   ]
  },
  {
   "cell_type": "markdown",
   "id": "8f96c8f2-e843-4561-91ca-ce088b5e3269",
   "metadata": {},
   "source": [
    "<h3>Example2</h3>"
   ]
  },
  {
   "cell_type": "code",
   "execution_count": 8,
   "id": "5a1f4f36-bf24-4227-a23a-4a9ba4c05f56",
   "metadata": {},
   "outputs": [
    {
     "data": {
      "text/plain": [
       "['Th', ' ', ' python and ', ' ', ' very easy to learn.']"
      ]
     },
     "execution_count": 8,
     "metadata": {},
     "output_type": "execute_result"
    }
   ],
   "source": [
    "pattern2 = \"i[st]\"\n",
    "result = re.split(pattern2,s)\n",
    "result"
   ]
  },
  {
   "cell_type": "markdown",
   "id": "095b9d9f-f9b3-4ee1-afa5-e5ecbf862fe7",
   "metadata": {},
   "source": [
    "<h3>Example3</h3>"
   ]
  },
  {
   "cell_type": "code",
   "execution_count": 10,
   "id": "124c2b3c-90f0-4074-867f-634aec740cef",
   "metadata": {},
   "outputs": [
    {
     "name": "stdout",
     "output_type": "stream",
     "text": [
      "124ia is great\n"
     ]
    }
   ],
   "source": [
    "s = \"India is great\\r124\"\n",
    "print(s)"
   ]
  },
  {
   "cell_type": "code",
   "execution_count": 11,
   "id": "2680ee4d-ef78-4a35-945d-0c508a8879eb",
   "metadata": {},
   "outputs": [
    {
     "name": "stdout",
     "output_type": "stream",
     "text": [
      "\n",
      "Hello world, I am a ProCodrr.\n",
      "My name is Abdul Zoha.\n",
      "749\n",
      "\n"
     ]
    }
   ],
   "source": [
    "s = \"\"\"\n",
    "Hello world, I am a ProCodrr.\n",
    "My name is Abdul Zoha.\\n749\n",
    "\"\"\"\n",
    "print(s)"
   ]
  },
  {
   "cell_type": "code",
   "execution_count": 12,
   "id": "aacd6634-3093-49e8-9824-6af3c23ebafa",
   "metadata": {},
   "outputs": [
    {
     "data": {
      "text/plain": [
       "['Hell']"
      ]
     },
     "execution_count": 12,
     "metadata": {},
     "output_type": "execute_result"
    }
   ],
   "source": [
    "p = \"Hell\"\n",
    "result = re.findall(p,s)\n",
    "result"
   ]
  },
  {
   "cell_type": "code",
   "execution_count": 13,
   "id": "1da2a8df-023e-46c7-85cd-e60968af4ff7",
   "metadata": {},
   "outputs": [
    {
     "data": {
      "text/plain": [
       "['74']"
      ]
     },
     "execution_count": 13,
     "metadata": {},
     "output_type": "execute_result"
    }
   ],
   "source": [
    "p = \"74\"\n",
    "result = re.findall(p,s)\n",
    "result"
   ]
  },
  {
   "cell_type": "code",
   "execution_count": 14,
   "id": "278ccea4-0f40-48e1-a928-1459ed37da61",
   "metadata": {},
   "outputs": [
    {
     "name": "stdout",
     "output_type": "stream",
     "text": [
      "['H', 'e', 'l', 'l', 'o', ' ', 'w', 'o', 'r', 'l', 'd', ',', ' ', 'I', ' ', 'a', 'm', ' ', 'a', ' ', 'P', 'r', 'o', 'C', 'o', 'd', 'r', 'r', '.', 'M', 'y', ' ', 'n', 'a', 'm', 'e', ' ', 'i', 's', ' ', 'A', 'b', 'd', 'u', 'l', ' ', 'Z', 'o', 'h', 'a', '.', '7', '4', '9']\n"
     ]
    }
   ],
   "source": [
    "p = \".\"\n",
    "result = re.findall(p,s)\n",
    "print(result)"
   ]
  },
  {
   "cell_type": "code",
   "execution_count": 15,
   "id": "525c271b-e3f5-4433-843b-6067056e9224",
   "metadata": {},
   "outputs": [
    {
     "name": "stdout",
     "output_type": "stream",
     "text": [
      "['\\n', '\\n', '\\n', '\\n']\n"
     ]
    }
   ],
   "source": [
    "p = \"\\n\"\n",
    "result = re.findall(p,s)\n",
    "print(result)"
   ]
  },
  {
   "cell_type": "markdown",
   "id": "93867ea3-9f28-4522-804b-947a29aecd6f",
   "metadata": {},
   "source": [
    "<h3>Meta charecters: .^$*+?{}[]()\\|</h3>"
   ]
  },
  {
   "cell_type": "code",
   "execution_count": 57,
   "id": "14a305e4-56d6-4890-bb05-19a2c5351b5a",
   "metadata": {},
   "outputs": [
    {
     "name": "stderr",
     "output_type": "stream",
     "text": [
      "<>:1: SyntaxWarning: invalid escape sequence '\\|'\n",
      "<>:1: SyntaxWarning: invalid escape sequence '\\|'\n",
      "C:\\Users\\Abdul Zoha\\AppData\\Local\\Temp\\ipykernel_10584\\697027494.py:1: SyntaxWarning: invalid escape sequence '\\|'\n",
      "  m = \".^$*+?{}[]()\\|\"\n"
     ]
    },
    {
     "data": {
      "text/plain": [
       "['?']"
      ]
     },
     "execution_count": 57,
     "metadata": {},
     "output_type": "execute_result"
    }
   ],
   "source": [
    "m = \".^$*+?{}[]()\\|\"\n",
    "p = r\"\\?\"\n",
    "result = re.findall(p,m)\n",
    "result"
   ]
  },
  {
   "cell_type": "code",
   "execution_count": 18,
   "id": "a7526ac6-b78f-4ed9-a4aa-09e484064e49",
   "metadata": {},
   "outputs": [
    {
     "name": "stdout",
     "output_type": "stream",
     "text": [
      "\n",
      "Hello world, I am a ProCodrr.\n",
      "My name is AbdulZoha.\n",
      "749\n",
      "\n"
     ]
    }
   ],
   "source": [
    "s = \"\"\"\n",
    "Hello world, I am a ProCodrr.\n",
    "My name is AbdulZoha.\\n749\n",
    "\"\"\"\n",
    "print(s)"
   ]
  },
  {
   "cell_type": "code",
   "execution_count": 19,
   "id": "9dc8bd85-e4c9-4b86-a8ad-9d2e1f20295b",
   "metadata": {},
   "outputs": [
    {
     "name": "stdout",
     "output_type": "stream",
     "text": [
      "['e', 'o', 'o', 'a', 'a', 'o', 'o', 'a', 'e', 'i', 'u', 'o', 'a']\n"
     ]
    }
   ],
   "source": [
    "p = \"[aeiou]\"\n",
    "result = re.findall(p,s)\n",
    "print(result)"
   ]
  },
  {
   "cell_type": "code",
   "execution_count": 20,
   "id": "d4bb2cce-2dfe-4bfa-ac1d-05f852760cb6",
   "metadata": {},
   "outputs": [
    {
     "name": "stdout",
     "output_type": "stream",
     "text": [
      "['e', 'l', 'l', 'o', 'w', 'o', 'r', 'l', 'd', 'a', 'm', 'a', 'r', 'o', 'o', 'd', 'r', 'r', 'y', 'n', 'a', 'm', 'e', 'i', 's', 'b', 'd', 'u', 'l', 'o', 'h', 'a']\n",
      "32\n"
     ]
    }
   ],
   "source": [
    "p = \"[a-z]\"\n",
    "result = re.findall(p,s)\n",
    "print(result)\n",
    "print(len(result))"
   ]
  },
  {
   "cell_type": "code",
   "execution_count": 21,
   "id": "209789cc-b5d5-43de-8f84-8f46fb234833",
   "metadata": {},
   "outputs": [
    {
     "name": "stdout",
     "output_type": "stream",
     "text": [
      "['H', 'e', 'l', 'l', 'o', 'w', 'o', 'r', 'l', 'd', 'I', 'a', 'm', 'a', 'P', 'r', 'o', 'C', 'o', 'd', 'r', 'r', 'M', 'y', 'n', 'a', 'm', 'e', 'i', 's', 'A', 'b', 'd', 'u', 'l', 'Z', 'o', 'h', 'a']\n",
      "39\n"
     ]
    }
   ],
   "source": [
    "p = \"[a-zA-Z]\"\n",
    "result = re.findall(p,s)\n",
    "print(result)\n",
    "print(len(result))"
   ]
  },
  {
   "cell_type": "code",
   "execution_count": 22,
   "id": "e4348aed-7677-41be-a933-2b7d03acae54",
   "metadata": {},
   "outputs": [
    {
     "name": "stdout",
     "output_type": "stream",
     "text": [
      "['H', 'e', 'l', 'l', 'o', 'w', 'o', 'r', 'l', 'd', 'I', 'a', 'm', 'a', 'P', 'r', 'o', 'C', 'o', 'd', 'r', 'r', 'M', 'y', 'n', 'a', 'm', 'e', 'i', 's', 'A', 'b', 'd', 'u', 'l', 'Z', 'o', 'h', 'a', '7', '4', '9']\n",
      "42\n"
     ]
    }
   ],
   "source": [
    "p = \"[a-zA-Z0-9]\"\n",
    "result = re.findall(p,s)\n",
    "print(result)\n",
    "print(len(result))"
   ]
  },
  {
   "cell_type": "code",
   "execution_count": 23,
   "id": "47b97ac2-6f6e-4255-9915-323faba3b5fb",
   "metadata": {},
   "outputs": [
    {
     "name": "stdout",
     "output_type": "stream",
     "text": [
      "['H', 'e', 'l', 'l', 'o', 'w', 'o', 'r', 'l', 'd', 'I', 'a', 'm', 'a', 'P', 'r', 'o', 'C', 'o', 'd', 'r', 'r', 'M', 'y', 'n', 'a', 'm', 'e', 'i', 's', 'A', 'b', 'd', 'u', 'l', 'Z', 'o', 'h', 'a', '7', '4', '9']\n",
      "42\n"
     ]
    }
   ],
   "source": [
    "p = r\"\\w\"\n",
    "result = re.findall(p,s)\n",
    "print(result)\n",
    "print(len(result))"
   ]
  },
  {
   "cell_type": "code",
   "execution_count": 24,
   "id": "5ea7de78-8a99-4343-85f3-f95859430081",
   "metadata": {},
   "outputs": [
    {
     "name": "stdout",
     "output_type": "stream",
     "text": [
      "['Hello', 'world', 'I', 'am', 'a', 'ProCodrr', 'My', 'name', 'is', 'AbdulZoha', '749']\n",
      "11\n"
     ]
    }
   ],
   "source": [
    "p = \"[a-zA-Z0-9]+\"\n",
    "result = re.findall(p,s)\n",
    "print(result)\n",
    "print(len(result))"
   ]
  },
  {
   "cell_type": "code",
   "execution_count": 25,
   "id": "1bf9a700-0e5c-4929-bf61-73fdd272a379",
   "metadata": {},
   "outputs": [
    {
     "name": "stdout",
     "output_type": "stream",
     "text": [
      "['Hello', 'world', 'I', 'am', 'a', 'ProCodrr', 'My', 'name', 'is', 'AbdulZoha', '749']\n",
      "11\n"
     ]
    }
   ],
   "source": [
    "p = r\"\\w+\"\n",
    "result = re.findall(p,s)\n",
    "print(result)\n",
    "print(len(result))"
   ]
  },
  {
   "cell_type": "code",
   "execution_count": 26,
   "id": "038af678-69f6-4aed-b3cc-43b93254f8dc",
   "metadata": {},
   "outputs": [
    {
     "name": "stdout",
     "output_type": "stream",
     "text": [
      "['ProCod', 'AbdulZ']\n",
      "2\n"
     ]
    }
   ],
   "source": [
    "p = \"[a-zA-Z]{6}\" #at least 6 charecter\n",
    "result = re.findall(p,s)\n",
    "print(result)\n",
    "print(len(result))"
   ]
  },
  {
   "cell_type": "code",
   "execution_count": 27,
   "id": "6a26ee11-f9cf-4451-b8e0-e0784b4c6cac",
   "metadata": {},
   "outputs": [
    {
     "name": "stdout",
     "output_type": "stream",
     "text": [
      "['Hello', 'world', 'ProCodrr', 'name', 'AbdulZoh']\n",
      "5\n"
     ]
    }
   ],
   "source": [
    "p = \"[a-zA-Z]{4,8}\" #at least 4 to 8 charecter.\n",
    "result = re.findall(p,s)\n",
    "print(result)\n",
    "print(len(result))"
   ]
  },
  {
   "cell_type": "code",
   "execution_count": 28,
   "id": "a7bf41b9-f4ca-4b01-b903-440e3e5678e5",
   "metadata": {},
   "outputs": [
    {
     "name": "stdout",
     "output_type": "stream",
     "text": [
      "<div class=\"gen\" style=\"display:none\">\n"
     ]
    }
   ],
   "source": [
    "t = '<div class=\"gen\" style=\"display:none\">'\n",
    "print(t)"
   ]
  },
  {
   "cell_type": "code",
   "execution_count": 29,
   "id": "d1f31a1f-f668-4c05-970d-7e447c317eaf",
   "metadata": {},
   "outputs": [
    {
     "name": "stdout",
     "output_type": "stream",
     "text": [
      "['class=\"gen\"']\n"
     ]
    }
   ],
   "source": [
    "p = 'class=\"[^\"]+\"'\n",
    "result = re.findall(p,t)\n",
    "print(result)"
   ]
  },
  {
   "cell_type": "code",
   "execution_count": null,
   "id": "1c4129a6-0a19-499c-a5ae-29a61872d3d5",
   "metadata": {},
   "outputs": [],
   "source": []
  }
 ],
 "metadata": {
  "kernelspec": {
   "display_name": "Python [conda env:base] *",
   "language": "python",
   "name": "conda-base-py"
  },
  "language_info": {
   "codemirror_mode": {
    "name": "ipython",
    "version": 3
   },
   "file_extension": ".py",
   "mimetype": "text/x-python",
   "name": "python",
   "nbconvert_exporter": "python",
   "pygments_lexer": "ipython3",
   "version": "3.12.7"
  }
 },
 "nbformat": 4,
 "nbformat_minor": 5
}
