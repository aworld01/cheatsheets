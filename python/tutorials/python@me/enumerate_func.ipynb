{
 "cells": [
  {
   "cell_type": "code",
   "execution_count": 1,
   "metadata": {},
   "outputs": [],
   "source": [
    "data = [\"Hello\", \"world\", \"how\", \"are\", \"you\"]"
   ]
  },
  {
   "cell_type": "code",
   "execution_count": 2,
   "metadata": {},
   "outputs": [
    {
     "name": "stdout",
     "output_type": "stream",
     "text": [
      "Hello\n",
      "world\n",
      "how\n",
      "are\n",
      "you\n"
     ]
    }
   ],
   "source": [
    "for i in data:\n",
    "    print(i)"
   ]
  },
  {
   "cell_type": "code",
   "execution_count": 4,
   "metadata": {},
   "outputs": [
    {
     "name": "stdout",
     "output_type": "stream",
     "text": [
      "Index: 0 => Data: Hello\n",
      "Index: 1 => Data: world\n",
      "Index: 2 => Data: how\n",
      "Index: 3 => Data: are\n",
      "Index: 4 => Data: you\n"
     ]
    }
   ],
   "source": [
    "for i, d in enumerate(data):\n",
    "    print(f\"Index: {i} => Data: {d}\")"
   ]
  },
  {
   "cell_type": "code",
   "execution_count": 5,
   "metadata": {},
   "outputs": [
    {
     "name": "stdout",
     "output_type": "stream",
     "text": [
      "Index: 1 => Data: Hello\n",
      "Index: 2 => Data: world\n",
      "Index: 3 => Data: how\n",
      "Index: 4 => Data: are\n",
      "Index: 5 => Data: you\n"
     ]
    }
   ],
   "source": [
    "for i, d in enumerate(data, 1):\n",
    "    print(f\"Index: {i} => Data: {d}\")"
   ]
  }
 ],
 "metadata": {
  "kernelspec": {
   "display_name": "Python 3",
   "language": "python",
   "name": "python3"
  },
  "language_info": {
   "codemirror_mode": {
    "name": "ipython",
    "version": 3
   },
   "file_extension": ".py",
   "mimetype": "text/x-python",
   "name": "python",
   "nbconvert_exporter": "python",
   "pygments_lexer": "ipython3",
   "version": "3.11.1"
  },
  "orig_nbformat": 4
 },
 "nbformat": 4,
 "nbformat_minor": 2
}
