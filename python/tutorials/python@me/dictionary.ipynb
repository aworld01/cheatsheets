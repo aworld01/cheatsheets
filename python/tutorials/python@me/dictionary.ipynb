{
 "cells": [
  {
   "cell_type": "markdown",
   "id": "ae7db881-5015-400d-8449-a86349d9f80c",
   "metadata": {},
   "source": [
    "<p>\n",
    "A Dictionary represents a group of elements in the form of key value pairs.<br>\n",
    "Dictionary in python is an unordered collection.<br>\n",
    "Dictionaries are mutable so we can modify it's item, without changing their identity.<br>\n",
    "Dictionaries are represented using curly bracket {}.<br><br>\n",
    "\n",
    "A Dictionary is created in the form of key-value pair where keys can't be repeated and must be immutable and values can be of any datatype and can be duplicated.<br>\n",
    "Keys are case sensitive.<br>\n",
    "\n",
    "We can access the value of a dictionary by referring to its key name, inside square brackets.<br>\n",
    "    ex:- a = {101:'Rahul', 102:'Raj', 103:'Sonam'}<br>\n",
    "    print(a[101])<br><br>\n",
    "    \n",
    "<b>While writing key we must follow the following rules:</b><br>\n",
    "Key should be unique.<br>\n",
    "If we mention same key again, the old key will be overwritten.<br>\n",
    "Key should be immutable type ex:- integer, string, or tuple.<br>\n",
    "We can't use list or dictionary as a key.<br>\n",
    "</p>"
   ]
  },
  {
   "cell_type": "markdown",
   "id": "7c1edb2b-49fb-40fa-af05-8bfe48769234",
   "metadata": {},
   "source": [
    "<h2>Creating a dictionary</h2>"
   ]
  },
  {
   "cell_type": "code",
   "execution_count": 2,
   "id": "c178b02f-5684-4bec-9733-715895a4c3b9",
   "metadata": {},
   "outputs": [
    {
     "data": {
      "text/plain": [
       "({}, dict)"
      ]
     },
     "execution_count": 2,
     "metadata": {},
     "output_type": "execute_result"
    }
   ],
   "source": [
    "a = {} #creating an empty dictionary\n",
    "a, type(a)"
   ]
  },
  {
   "cell_type": "code",
   "execution_count": 3,
   "id": "4ddbfb70-2bc2-4290-a396-37e4366947c5",
   "metadata": {},
   "outputs": [
    {
     "data": {
      "text/plain": [
       "({101: 'Rahul', 102: 'Raj', 103: 'Sonam'}, dict)"
      ]
     },
     "execution_count": 3,
     "metadata": {},
     "output_type": "execute_result"
    }
   ],
   "source": [
    "a = {101: \"Rahul\", 102: \"Raj\", 103: \"Sonam\"}\n",
    "a, type(a)"
   ]
  },
  {
   "cell_type": "code",
   "execution_count": 6,
   "id": "7df4a1b2-3f8d-4fc7-b1e8-33c50929a1f3",
   "metadata": {},
   "outputs": [],
   "source": [
    "fees = {\"Rahul\": 2000, \"Raj\": 3000, \"Sonam\": 8000, \"raj\": 1000}"
   ]
  },
  {
   "cell_type": "markdown",
   "id": "bdb67349-3438-414f-964d-69403af33be3",
   "metadata": {},
   "source": [
    "<h2>Accessing dictionary</h2>"
   ]
  },
  {
   "cell_type": "code",
   "execution_count": 7,
   "id": "aab2e585-9555-40b3-9b9c-7d93d31f9ce2",
   "metadata": {},
   "outputs": [
    {
     "data": {
      "text/plain": [
       "'Raj'"
      ]
     },
     "execution_count": 7,
     "metadata": {},
     "output_type": "execute_result"
    }
   ],
   "source": [
    "a[102]"
   ]
  },
  {
   "cell_type": "code",
   "execution_count": 13,
   "id": "0b948290-f615-48ca-8361-4732d55edc98",
   "metadata": {},
   "outputs": [
    {
     "data": {
      "text/plain": [
       "(8000, str)"
      ]
     },
     "execution_count": 13,
     "metadata": {},
     "output_type": "execute_result"
    }
   ],
   "source": [
    "fees[\"Sonam\"], type(\"Sonam\")"
   ]
  },
  {
   "cell_type": "markdown",
   "id": "76ada872-8f88-411b-8592-b7d4f2ae5d54",
   "metadata": {},
   "source": [
    "<h2>Modifying dictionary</h2>\n",
    "<p>We can modify the existing value of key by assigning a new value</p>"
   ]
  },
  {
   "cell_type": "code",
   "execution_count": 14,
   "id": "a8cb2617-c31a-41e3-b8c9-237d5d363c1a",
   "metadata": {},
   "outputs": [
    {
     "data": {
      "text/plain": [
       "({101: 'Rahul', 102: 'Raj', 103: 'Sonam'}, 2719018100096)"
      ]
     },
     "execution_count": 14,
     "metadata": {},
     "output_type": "execute_result"
    }
   ],
   "source": [
    "s = {101: \"Rahul\", 102: \"Raj\", 103: \"Sonam\"}\n",
    "s, id(s)"
   ]
  },
  {
   "cell_type": "code",
   "execution_count": 15,
   "id": "59e755cd-56fb-4f57-9be5-1e69c7c8f86e",
   "metadata": {},
   "outputs": [
    {
     "data": {
      "text/plain": [
       "({101: 'Rahul', 102: 'Kamal', 103: 'Sonam'}, 2719018100096)"
      ]
     },
     "execution_count": 15,
     "metadata": {},
     "output_type": "execute_result"
    }
   ],
   "source": [
    "s[102] = \"Kamal\"\n",
    "s, id(s)"
   ]
  },
  {
   "cell_type": "markdown",
   "id": "a34e05ff-36a8-4e09-9152-0448c566991e",
   "metadata": {},
   "source": [
    "<h2>Adding dictionary items</h2>\n",
    "<p>We can add an item to dictionary just by mentioning a new key-value pair into an existing dictionary.\n",
    "If we mention a key which is already exists in the dictionary then the value gets updated/modified rather then adding a new item.\n",
    "The new item may be added at any place in the dictionary as dictionary is an unordered collection.</p>"
   ]
  },
  {
   "cell_type": "code",
   "execution_count": 28,
   "id": "1a9c284d-9046-43b3-a00e-020a28800268",
   "metadata": {},
   "outputs": [
    {
     "data": {
      "text/plain": [
       "({101: 'Rahul', 102: 'Raj', 103: 'Sonam'}, 2719018479680)"
      ]
     },
     "execution_count": 28,
     "metadata": {},
     "output_type": "execute_result"
    }
   ],
   "source": [
    "s = {101: \"Rahul\", 102: \"Raj\", 103: \"Sonam\"}\n",
    "s, id(s)"
   ]
  },
  {
   "cell_type": "code",
   "execution_count": 29,
   "id": "7e1f41ca-13a6-40c2-a592-46c436ce4101",
   "metadata": {},
   "outputs": [
    {
     "data": {
      "text/plain": [
       "({101: 'Rahul', 102: 'Raj', 103: 'Sonam', 104: 'Abdul Zoha'}, 2719018479680)"
      ]
     },
     "execution_count": 29,
     "metadata": {},
     "output_type": "execute_result"
    }
   ],
   "source": [
    "s[104] = \"Abdul Zoha\" #to add an item\n",
    "s, id(s)"
   ]
  },
  {
   "cell_type": "markdown",
   "id": "f42992ab-977d-4b17-a31d-c3be30af1156",
   "metadata": {},
   "source": [
    "<h2>Deleting dictionary or it's items</h2>\n",
    "<p>We can delete an item of dictionary or entire dictionary using del statement.</p>"
   ]
  },
  {
   "cell_type": "code",
   "execution_count": 30,
   "id": "62bab505-eb61-4625-9684-05768b4ba6e2",
   "metadata": {},
   "outputs": [
    {
     "data": {
      "text/plain": [
       "{101: 'Rahul', 102: 'Raj', 103: 'Sonam', 104: 'Abdul Zoha'}"
      ]
     },
     "execution_count": 30,
     "metadata": {},
     "output_type": "execute_result"
    }
   ],
   "source": [
    "s = {101: \"Rahul\", 102: \"Raj\", 103: \"Sonam\", 104: \"Abdul Zoha\"}\n",
    "s"
   ]
  },
  {
   "cell_type": "code",
   "execution_count": 31,
   "id": "8926ef38-120c-4ee2-b7e3-905ece714cbe",
   "metadata": {},
   "outputs": [
    {
     "data": {
      "text/plain": [
       "{101: 'Rahul', 103: 'Sonam', 104: 'Abdul Zoha'}"
      ]
     },
     "execution_count": 31,
     "metadata": {},
     "output_type": "execute_result"
    }
   ],
   "source": [
    "del s[102] #to delete an item\n",
    "s"
   ]
  },
  {
   "cell_type": "code",
   "execution_count": 32,
   "id": "8d31bffd-4a7e-4e9f-abe0-070e2955abd3",
   "metadata": {},
   "outputs": [],
   "source": [
    "del s #to delete entire dictionary"
   ]
  },
  {
   "cell_type": "markdown",
   "id": "04f0f66a-bf0c-4f52-8691-96119380a598",
   "metadata": {},
   "source": [
    "<h2>Test dictionary's key exist or not</h2>\n",
    "<p>We can check whether a key is already exists in the dictionary or not, for this purpose we use membership operator.</p>"
   ]
  },
  {
   "cell_type": "code",
   "execution_count": 3,
   "id": "5801329c-3682-4020-a351-0fd07ee8221f",
   "metadata": {},
   "outputs": [],
   "source": [
    "s = {101: \"Rahul\", 102: \"Raj\", 103: \"Sonam\"}"
   ]
  },
  {
   "cell_type": "code",
   "execution_count": 4,
   "id": "632d81d5-59ae-4abe-9a1d-6523bb08c36b",
   "metadata": {},
   "outputs": [
    {
     "data": {
      "text/plain": [
       "True"
      ]
     },
     "execution_count": 4,
     "metadata": {},
     "output_type": "execute_result"
    }
   ],
   "source": [
    "102 in s"
   ]
  },
  {
   "cell_type": "code",
   "execution_count": 5,
   "id": "5c2de42e-9268-44cb-81aa-d96994444c07",
   "metadata": {},
   "outputs": [
    {
     "data": {
      "text/plain": [
       "False"
      ]
     },
     "execution_count": 5,
     "metadata": {},
     "output_type": "execute_result"
    }
   ],
   "source": [
    "103 not in s"
   ]
  },
  {
   "cell_type": "code",
   "execution_count": 6,
   "id": "f470b24c-2c18-4728-8b50-10b87d5c21ed",
   "metadata": {},
   "outputs": [
    {
     "name": "stdout",
     "output_type": "stream",
     "text": [
      "101 is exist\n"
     ]
    }
   ],
   "source": [
    "if 102 in s:\n",
    "    print(f\"101 is exist\")\n",
    "else:\n",
    "    print(f\"102 is not exist\")"
   ]
  },
  {
   "cell_type": "markdown",
   "id": "732232ee-094a-432c-8e07-09c90b18d740",
   "metadata": {},
   "source": [
    "<h2>Remove all elements from dictionary</h2>\n",
    "<p>This method is used to remove all the elements from the dictionary</p>"
   ]
  },
  {
   "cell_type": "code",
   "execution_count": 7,
   "id": "10e98316-0e13-48ac-8407-3a2a82701d32",
   "metadata": {},
   "outputs": [
    {
     "data": {
      "text/plain": [
       "{101: 'Rahul', 102: 'Raj', 103: 'Sonam'}"
      ]
     },
     "execution_count": 7,
     "metadata": {},
     "output_type": "execute_result"
    }
   ],
   "source": [
    "s = {101: \"Rahul\", 102: \"Raj\", 103: \"Sonam\"}\n",
    "s"
   ]
  },
  {
   "cell_type": "code",
   "execution_count": 8,
   "id": "f266b8b1-b2ab-4907-be2c-c47fcacba8cb",
   "metadata": {},
   "outputs": [
    {
     "data": {
      "text/plain": [
       "{}"
      ]
     },
     "execution_count": 8,
     "metadata": {},
     "output_type": "execute_result"
    }
   ],
   "source": [
    "s.clear()\n",
    "s"
   ]
  },
  {
   "cell_type": "markdown",
   "id": "32201c6b-21b5-44c3-bfc2-7ace06a35db2",
   "metadata": {},
   "source": [
    "<h2>Copy dictionary</h2>\n",
    "<p>This method is used to copy all the elements from the existing dictionary into a new dictionary</p>"
   ]
  },
  {
   "cell_type": "code",
   "execution_count": 9,
   "id": "ce56cf02-e79e-470e-9f41-bbb9eec80891",
   "metadata": {},
   "outputs": [
    {
     "name": "stdout",
     "output_type": "stream",
     "text": [
      "{101: 'Rahul', 102: 'Raj', 103: 'Sonam'}\n",
      "2544459490048\n"
     ]
    }
   ],
   "source": [
    "s = {101: \"Rahul\", 102: \"Raj\", 103: \"Sonam\"}\n",
    "print(s)\n",
    "print(id(s))"
   ]
  },
  {
   "cell_type": "code",
   "execution_count": 10,
   "id": "68aed1f7-5b7a-4331-bfe5-9537000a1bbd",
   "metadata": {},
   "outputs": [
    {
     "name": "stdout",
     "output_type": "stream",
     "text": [
      "{101: 'Rahul', 102: 'Raj', 103: 'Sonam'}\n",
      "2544459487552\n"
     ]
    }
   ],
   "source": [
    "new_s = s.copy() #to copy dictionary\n",
    "print(new_s)\n",
    "print(id(new_s))"
   ]
  },
  {
   "cell_type": "code",
   "execution_count": 11,
   "id": "668679d4-1a84-4f0c-8aff-0d9eb305abb2",
   "metadata": {},
   "outputs": [],
   "source": [
    "s[101] = \"Abdul\""
   ]
  },
  {
   "cell_type": "code",
   "execution_count": 12,
   "id": "8743f483-8578-438c-99f1-d83e4da2951f",
   "metadata": {},
   "outputs": [
    {
     "name": "stdout",
     "output_type": "stream",
     "text": [
      "{101: 'Abdul', 102: 'Raj', 103: 'Sonam'}\n",
      "{101: 'Rahul', 102: 'Raj', 103: 'Sonam'}\n"
     ]
    }
   ],
   "source": [
    "print(s)\n",
    "print(new_s)"
   ]
  },
  {
   "cell_type": "markdown",
   "id": "2829488e-b81d-47f9-ad9d-2b2a78300776",
   "metadata": {},
   "source": [
    "<h2>Create a dictionary using fromkeys() method</h2>\n",
    "<p>This method is used to create a new dictionary with the specified keys and values.</p>"
   ]
  },
  {
   "cell_type": "code",
   "execution_count": 13,
   "id": "a35244bc-4e76-42b0-b154-c5388e8d42d3",
   "metadata": {},
   "outputs": [
    {
     "data": {
      "text/plain": [
       "{101: None, 102: None, 103: None}"
      ]
     },
     "execution_count": 13,
     "metadata": {},
     "output_type": "execute_result"
    }
   ],
   "source": [
    "key = (101, 102, 103)\n",
    "d = dict.fromkeys(key)\n",
    "d"
   ]
  },
  {
   "cell_type": "code",
   "execution_count": 14,
   "id": "319f9a71-185a-4bdb-8712-b5f040c56a9c",
   "metadata": {},
   "outputs": [
    {
     "data": {
      "text/plain": [
       "{101: 'Artificial World', 102: 'Artificial World', 103: 'Artificial World'}"
      ]
     },
     "execution_count": 14,
     "metadata": {},
     "output_type": "execute_result"
    }
   ],
   "source": [
    "key = (101, 102, 103)\n",
    "value = \"Artificial World\"\n",
    "d = dict.fromkeys(key, value)\n",
    "d"
   ]
  },
  {
   "cell_type": "code",
   "execution_count": 15,
   "id": "2066f8a6-729b-4346-97e3-7ec9e49bb198",
   "metadata": {},
   "outputs": [
    {
     "data": {
      "text/plain": [
       "{101: ('Facebook', 'Youtube', 'Instagram'),\n",
       " 102: ('Facebook', 'Youtube', 'Instagram'),\n",
       " 103: ('Facebook', 'Youtube', 'Instagram')}"
      ]
     },
     "execution_count": 15,
     "metadata": {},
     "output_type": "execute_result"
    }
   ],
   "source": [
    "key = (101, 102, 103)\n",
    "value = (\"Facebook\", \"Youtube\", \"Instagram\")\n",
    "d = dict.fromkeys(key, value)\n",
    "d"
   ]
  },
  {
   "cell_type": "markdown",
   "id": "93b7d47b-d09b-4af1-b11b-74e2370e071f",
   "metadata": {},
   "source": [
    "<h2>get()_method</h2>\n",
    "<p>This method returns the value of the specified key. If key is not found then it will return none or default value.</p>"
   ]
  },
  {
   "cell_type": "code",
   "execution_count": 16,
   "id": "35729c2a-7c37-40cc-a197-f24911e6c962",
   "metadata": {},
   "outputs": [
    {
     "data": {
      "text/plain": [
       "{101: 'Rahul', 102: 'Raj', 103: 'Sonam'}"
      ]
     },
     "execution_count": 16,
     "metadata": {},
     "output_type": "execute_result"
    }
   ],
   "source": [
    "s = {101: \"Rahul\", 102: \"Raj\", 103: \"Sonam\"}\n",
    "s"
   ]
  },
  {
   "cell_type": "code",
   "execution_count": 23,
   "id": "7f39d42a-050d-43cd-86d7-0d55bf9a2334",
   "metadata": {},
   "outputs": [
    {
     "name": "stdout",
     "output_type": "stream",
     "text": [
      "None\n"
     ]
    }
   ],
   "source": [
    "print(s.get(104))"
   ]
  },
  {
   "cell_type": "code",
   "execution_count": 25,
   "id": "b6cf7c70-8eae-477d-a01b-4bd231bd796b",
   "metadata": {},
   "outputs": [
    {
     "name": "stdout",
     "output_type": "stream",
     "text": [
      "Value is not found....\n"
     ]
    }
   ],
   "source": [
    "print(s.get(104, \"Value is not found....\"))"
   ]
  },
  {
   "cell_type": "code",
   "execution_count": 26,
   "id": "e4efcb98-cc37-4606-9889-2e1d17beca17",
   "metadata": {},
   "outputs": [
    {
     "name": "stdout",
     "output_type": "stream",
     "text": [
      "Raj\n"
     ]
    }
   ],
   "source": [
    "print(s.get(102, \"Value is not found....\"))"
   ]
  },
  {
   "cell_type": "markdown",
   "id": "ca1dc5ee-116e-46da-858d-68f2601dd7ab",
   "metadata": {},
   "source": [
    "<h2>items() method</h2>\n",
    "<p>This method returns an object that contains key-value pairs of dictionary.\n",
    "The pairs are stored as tuple in the object.</p>"
   ]
  },
  {
   "cell_type": "code",
   "execution_count": 1,
   "id": "247ceea7-60a2-4035-b01d-3d6da961123e",
   "metadata": {},
   "outputs": [
    {
     "data": {
      "text/plain": [
       "{101: 'Rahul', 102: 'Raj', 103: 'Sonam'}"
      ]
     },
     "execution_count": 1,
     "metadata": {},
     "output_type": "execute_result"
    }
   ],
   "source": [
    "s = {101:'Rahul',102:'Raj',103:\"Sonam\"}\n",
    "s"
   ]
  },
  {
   "cell_type": "code",
   "execution_count": 5,
   "id": "2c468237-4874-4911-8e66-8b27fc6e28a2",
   "metadata": {},
   "outputs": [
    {
     "name": "stdout",
     "output_type": "stream",
     "text": [
      "dict_items([(101, 'Rahul'), (102, 'Raj'), (103, 'Sonam')]) <class 'dict_items'>\n"
     ]
    }
   ],
   "source": [
    "ns = s.items() #to get dictionary items\n",
    "print(ns, type(ns))"
   ]
  },
  {
   "cell_type": "code",
   "execution_count": 6,
   "id": "92672fe9-f742-4530-a2d0-4be3252196ee",
   "metadata": {},
   "outputs": [
    {
     "name": "stdout",
     "output_type": "stream",
     "text": [
      "[(101, 'Rahul'), (102, 'Raj'), (103, 'Sonam')] <class 'list'>\n"
     ]
    }
   ],
   "source": [
    "ls = list(ns) #to convert into list\n",
    "print(ls, type(ls))"
   ]
  },
  {
   "cell_type": "markdown",
   "id": "1292b50e-4274-41a2-b882-61fadc78b7f5",
   "metadata": {},
   "source": [
    "<h3>Accessing list items</h3>"
   ]
  },
  {
   "cell_type": "code",
   "execution_count": 7,
   "id": "8eb924be-4113-43c8-a8eb-dd130ba3cffa",
   "metadata": {},
   "outputs": [
    {
     "data": {
      "text/plain": [
       "(101, 'Rahul')"
      ]
     },
     "execution_count": 7,
     "metadata": {},
     "output_type": "execute_result"
    }
   ],
   "source": [
    "ls[0]"
   ]
  },
  {
   "cell_type": "code",
   "execution_count": 10,
   "id": "b93c0358-7957-4d94-bc9a-1d06f9569a82",
   "metadata": {},
   "outputs": [
    {
     "data": {
      "text/plain": [
       "(102, 'Raj')"
      ]
     },
     "execution_count": 10,
     "metadata": {},
     "output_type": "execute_result"
    }
   ],
   "source": [
    "ls[1]"
   ]
  },
  {
   "cell_type": "code",
   "execution_count": 11,
   "id": "5c03ace9-9bab-4e96-a4e7-ebb5d779125e",
   "metadata": {},
   "outputs": [
    {
     "data": {
      "text/plain": [
       "101"
      ]
     },
     "execution_count": 11,
     "metadata": {},
     "output_type": "execute_result"
    }
   ],
   "source": [
    "ls[0][0]"
   ]
  },
  {
   "cell_type": "code",
   "execution_count": 12,
   "id": "2dbcba20-1a06-45eb-bc3a-8921258d7b54",
   "metadata": {},
   "outputs": [
    {
     "data": {
      "text/plain": [
       "'Rahul'"
      ]
     },
     "execution_count": 12,
     "metadata": {},
     "output_type": "execute_result"
    }
   ],
   "source": [
    "ls[0][1]"
   ]
  },
  {
   "cell_type": "markdown",
   "id": "2374bbf4-ed2d-4f76-8b66-00fbd1b77fe8",
   "metadata": {},
   "source": [
    "<h2>keys() method</h2>\n",
    "<p>This method returns a sequence of keys from the dictionary.</p>"
   ]
  },
  {
   "cell_type": "code",
   "execution_count": 13,
   "id": "e81b1e38-fda1-4bee-89bd-74df7005d92c",
   "metadata": {},
   "outputs": [],
   "source": [
    "s = {101:'Rahul',102:'Raj',103:\"Sonam\"}"
   ]
  },
  {
   "cell_type": "code",
   "execution_count": 20,
   "id": "b9157488-9963-4939-aa08-dc2624c8f639",
   "metadata": {},
   "outputs": [
    {
     "data": {
      "text/plain": [
       "(dict_keys([101, 102, 103]), dict_keys)"
      ]
     },
     "execution_count": 20,
     "metadata": {},
     "output_type": "execute_result"
    }
   ],
   "source": [
    "ns = s.keys() #to get dict key\n",
    "ns, type(ns)"
   ]
  },
  {
   "cell_type": "code",
   "execution_count": 21,
   "id": "b5c4d45a-1c90-4f01-9deb-fe4992b5d771",
   "metadata": {},
   "outputs": [
    {
     "name": "stdout",
     "output_type": "stream",
     "text": [
      "[101, 102, 103]\n",
      "<class 'list'>\n"
     ]
    }
   ],
   "source": [
    "ls = list(ns) #to convert into list\n",
    "print(ls)\n",
    "print(type(ls))"
   ]
  },
  {
   "cell_type": "markdown",
   "id": "4498d901-2735-47e0-9e97-b49f3889a679",
   "metadata": {},
   "source": [
    "<h2>values() method</h2>\n",
    "<p>This method returns a sequence of values from the dictionary.</p>"
   ]
  },
  {
   "cell_type": "code",
   "execution_count": 22,
   "id": "5aa85f52-ae8d-4d47-b4f3-09653fdc1657",
   "metadata": {},
   "outputs": [],
   "source": [
    "s = {101:'Rahul',102:'Raj',103:\"Sonam\"}"
   ]
  },
  {
   "cell_type": "code",
   "execution_count": 23,
   "id": "1400a454-7681-4fe8-8da7-9df0f93466de",
   "metadata": {},
   "outputs": [
    {
     "data": {
      "text/plain": [
       "(dict_values(['Rahul', 'Raj', 'Sonam']), dict_values)"
      ]
     },
     "execution_count": 23,
     "metadata": {},
     "output_type": "execute_result"
    }
   ],
   "source": [
    "ns = s.values() #to get dict value\n",
    "ns, type(ns)"
   ]
  },
  {
   "cell_type": "code",
   "execution_count": 25,
   "id": "cc903fe0-5f99-4526-a459-821a28a26507",
   "metadata": {},
   "outputs": [
    {
     "name": "stdout",
     "output_type": "stream",
     "text": [
      "['Rahul', 'Raj', 'Sonam']\n",
      "<class 'list'>\n"
     ]
    }
   ],
   "source": [
    "ls = list(ns) #to convert into list\n",
    "print(ls)\n",
    "print(type(ls))"
   ]
  },
  {
   "cell_type": "markdown",
   "id": "20d56373-53ec-4c39-b9b9-7f6338e4cb56",
   "metadata": {},
   "source": [
    "<h2>update() method</h2>"
   ]
  },
  {
   "cell_type": "code",
   "execution_count": 29,
   "id": "d22895c2-5194-4d70-9266-8c5b5c32f5d7",
   "metadata": {},
   "outputs": [
    {
     "data": {
      "text/plain": [
       "{101: 'Rahul', 102: 'Raj', 103: 'Sonam'}"
      ]
     },
     "execution_count": 29,
     "metadata": {},
     "output_type": "execute_result"
    }
   ],
   "source": [
    "s = {101: \"Rahul\",102: \"Raj\", 103:\"Sonam\"}\n",
    "s"
   ]
  },
  {
   "cell_type": "code",
   "execution_count": 31,
   "id": "8b3ad1b3-4932-41d4-8fab-813fcefc1975",
   "metadata": {},
   "outputs": [
    {
     "data": {
      "text/plain": [
       "{101: 'Rahul', 102: 'Raj', 103: 'Sonam', 104: 'Sohan'}"
      ]
     },
     "execution_count": 31,
     "metadata": {},
     "output_type": "execute_result"
    }
   ],
   "source": [
    "s.update({104: \"Sohan\"}) #to update a single item\n",
    "s"
   ]
  },
  {
   "cell_type": "code",
   "execution_count": 34,
   "id": "f239f9f7-df8a-4808-8d55-7b98256cca7a",
   "metadata": {},
   "outputs": [
    {
     "data": {
      "text/plain": [
       "{101: 'Rahul',\n",
       " 102: 'Raj',\n",
       " 103: 'Sonam',\n",
       " 104: 'Sohan',\n",
       " 'Name': 'Rahul',\n",
       " 'Addresss': 'Ranchi',\n",
       " 105: 'Artificial world'}"
      ]
     },
     "execution_count": 34,
     "metadata": {},
     "output_type": "execute_result"
    }
   ],
   "source": [
    "s.update({\"Name\": \"Rahul\", \"Addresss\": \"Ranchi\", 105: \"Artificial world\"}) #to update multiple items\n",
    "s"
   ]
  },
  {
   "cell_type": "markdown",
   "id": "36a0eef5-79bd-45f9-bd9b-6e642a5cc8bb",
   "metadata": {},
   "source": [
    "<h2>pop() method</h2>\n",
    "<p>This method is used to remove the item with specified key.<br>\n",
    "It returns the removed item's value.<br>\n",
    "If key is not found then a value is returned.<br>\n",
    "If key is not found and default value is not given then shown KeyError.</p>"
   ]
  },
  {
   "cell_type": "code",
   "execution_count": 14,
   "id": "602a3696-cee4-4d83-97bf-832fbef335b2",
   "metadata": {},
   "outputs": [
    {
     "data": {
      "text/plain": [
       "{101: 'Rahul', 102: 'Raj', 103: 'Sonam'}"
      ]
     },
     "execution_count": 14,
     "metadata": {},
     "output_type": "execute_result"
    }
   ],
   "source": [
    "s = {101: \"Rahul\", 102: \"Raj\", 103: \"Sonam\"}\n",
    "s"
   ]
  },
  {
   "cell_type": "code",
   "execution_count": 15,
   "id": "0977c951-1281-4747-bc5e-d83158278ef3",
   "metadata": {},
   "outputs": [
    {
     "data": {
      "text/plain": [
       "'Raj'"
      ]
     },
     "execution_count": 15,
     "metadata": {},
     "output_type": "execute_result"
    }
   ],
   "source": [
    "s.pop(102)"
   ]
  },
  {
   "cell_type": "code",
   "execution_count": 16,
   "id": "ee3c7a3c-d5f0-4e57-ab16-3c7da2259395",
   "metadata": {},
   "outputs": [
    {
     "data": {
      "text/plain": [
       "{101: 'Rahul', 103: 'Sonam'}"
      ]
     },
     "execution_count": 16,
     "metadata": {},
     "output_type": "execute_result"
    }
   ],
   "source": [
    "s"
   ]
  },
  {
   "cell_type": "code",
   "execution_count": 17,
   "id": "8f6ed66f-a4ad-47af-8f5d-ab4b962be091",
   "metadata": {},
   "outputs": [
    {
     "data": {
      "text/plain": [
       "'The key is not found!'"
      ]
     },
     "execution_count": 17,
     "metadata": {},
     "output_type": "execute_result"
    }
   ],
   "source": [
    "s.pop(102, \"The key is not found!\")"
   ]
  },
  {
   "cell_type": "markdown",
   "id": "fb396e0d-bb02-4530-a1e7-4ddaca1e2936",
   "metadata": {},
   "source": [
    "<h2>popitem() method</h2>\n",
    "<p>This method is used to remove the item which was last inserted into the dictionary.<br>\n",
    "It returns the removed item in the form of tuple, Pairs are returned in LIFO (Last In First Out) order.</p>"
   ]
  },
  {
   "cell_type": "code",
   "execution_count": 18,
   "id": "d75836a0-81bc-4993-af95-04191cadd218",
   "metadata": {},
   "outputs": [
    {
     "data": {
      "text/plain": [
       "{101: 'Rahul', 102: 'Raj', 103: 'Sonam'}"
      ]
     },
     "execution_count": 18,
     "metadata": {},
     "output_type": "execute_result"
    }
   ],
   "source": [
    "s = {101: \"Rahul\", 102: \"Raj\", 103: \"Sonam\"}\n",
    "s"
   ]
  },
  {
   "cell_type": "code",
   "execution_count": 19,
   "id": "c1a23a88-4990-415e-ac0a-1bac58c441f6",
   "metadata": {},
   "outputs": [
    {
     "data": {
      "text/plain": [
       "(103, 'Sonam')"
      ]
     },
     "execution_count": 19,
     "metadata": {},
     "output_type": "execute_result"
    }
   ],
   "source": [
    "s.popitem()"
   ]
  },
  {
   "cell_type": "markdown",
   "id": "149df4b8-febd-4c4d-a922-1cc8b36301c8",
   "metadata": {},
   "source": [
    "<h2>setdefault() method</h2>\n",
    "This method returns the value of the specified key.<br>\n",
    "If key is not found then it inserts key with the specified value."
   ]
  },
  {
   "cell_type": "code",
   "execution_count": 25,
   "id": "e32fd6db-d2c8-4cb9-89c5-2ab1c09a1bf9",
   "metadata": {},
   "outputs": [
    {
     "data": {
      "text/plain": [
       "{101: 'Rahul', 102: 'Raj', 103: 'Sonam'}"
      ]
     },
     "execution_count": 25,
     "metadata": {},
     "output_type": "execute_result"
    }
   ],
   "source": [
    "s = {101: \"Rahul\", 102: \"Raj\", 103: \"Sonam\"}\n",
    "s"
   ]
  },
  {
   "cell_type": "code",
   "execution_count": 26,
   "id": "bab129dc-3c7d-4be7-98a3-37365c871cc2",
   "metadata": {},
   "outputs": [
    {
     "data": {
      "text/plain": [
       "'Raj'"
      ]
     },
     "execution_count": 26,
     "metadata": {},
     "output_type": "execute_result"
    }
   ],
   "source": [
    "s.setdefault(102) #it will return found value"
   ]
  },
  {
   "cell_type": "code",
   "execution_count": 27,
   "id": "46ac669a-2d5c-4c1c-bc9a-d58e15ea131e",
   "metadata": {},
   "outputs": [
    {
     "data": {
      "text/plain": [
       "{101: 'Rahul', 102: 'Raj', 103: 'Sonam'}"
      ]
     },
     "execution_count": 27,
     "metadata": {},
     "output_type": "execute_result"
    }
   ],
   "source": [
    "s"
   ]
  },
  {
   "cell_type": "code",
   "execution_count": 31,
   "id": "de84547e-3cba-44a5-affb-866a2062adae",
   "metadata": {},
   "outputs": [
    {
     "data": {
      "text/plain": [
       "'Abdul'"
      ]
     },
     "execution_count": 31,
     "metadata": {},
     "output_type": "execute_result"
    }
   ],
   "source": [
    "s.setdefault(104, \"Abdul\") #it will add value and return added value as well"
   ]
  },
  {
   "cell_type": "code",
   "execution_count": 36,
   "id": "b0d51d17-503f-4cbb-8f2d-05e4b652c134",
   "metadata": {},
   "outputs": [
    {
     "data": {
      "text/plain": [
       "{101: 'Rahul', 102: 'Raj', 103: 'Sonam', 104: 'Abdul', 109: 'Zoha'}"
      ]
     },
     "execution_count": 36,
     "metadata": {},
     "output_type": "execute_result"
    }
   ],
   "source": [
    "s"
   ]
  },
  {
   "cell_type": "markdown",
   "id": "af9491e9-8ba4-4b79-b7c4-99542e3e8314",
   "metadata": {},
   "source": [
    "<h2>Accessing dictionary using for-loop</h2>"
   ]
  },
  {
   "cell_type": "code",
   "execution_count": 37,
   "id": "6dd7f209-fad7-4279-9bea-7d8dbb06b1e7",
   "metadata": {},
   "outputs": [
    {
     "data": {
      "text/plain": [
       "{101: 'Rahul', 102: 'Raj', 103: 'Sonam', 104: 'Abdul', 109: 'Zoha'}"
      ]
     },
     "execution_count": 37,
     "metadata": {},
     "output_type": "execute_result"
    }
   ],
   "source": [
    "s = {101: 'Rahul', 102: 'Raj', 103: 'Sonam', 104: 'Abdul', 109: 'Zoha'}\n",
    "s"
   ]
  },
  {
   "cell_type": "code",
   "execution_count": 38,
   "id": "432ce4f4-7dfc-4069-baea-f8472ba757c1",
   "metadata": {},
   "outputs": [
    {
     "name": "stdout",
     "output_type": "stream",
     "text": [
      "101\n",
      "102\n",
      "103\n",
      "104\n",
      "109\n"
     ]
    }
   ],
   "source": [
    "for i in s:\n",
    "    print(i)"
   ]
  },
  {
   "cell_type": "code",
   "execution_count": 39,
   "id": "a0a621d0-b6d5-49e4-8630-2244843293d2",
   "metadata": {},
   "outputs": [
    {
     "name": "stdout",
     "output_type": "stream",
     "text": [
      "Rahul\n",
      "Raj\n",
      "Sonam\n",
      "Abdul\n",
      "Zoha\n"
     ]
    }
   ],
   "source": [
    "for i in s:\n",
    "    print(s[i])"
   ]
  },
  {
   "cell_type": "code",
   "execution_count": 40,
   "id": "2ac83bf3-8887-4d66-8835-5b6061566c1a",
   "metadata": {},
   "outputs": [
    {
     "name": "stdout",
     "output_type": "stream",
     "text": [
      "101: Rahul\n",
      "102: Raj\n",
      "103: Sonam\n",
      "104: Abdul\n",
      "109: Zoha\n"
     ]
    }
   ],
   "source": [
    "for i in s:\n",
    "    print(f\"{i}: {s[i]}\")"
   ]
  },
  {
   "cell_type": "markdown",
   "id": "f90dc031-17c2-49e1-a698-28f5b2443931",
   "metadata": {},
   "source": [
    "<h2>Getting dictionary input from user</h2>"
   ]
  },
  {
   "cell_type": "code",
   "execution_count": 41,
   "id": "ba2ce532-6014-4cd1-b515-8da42bb72760",
   "metadata": {},
   "outputs": [
    {
     "name": "stdin",
     "output_type": "stream",
     "text": [
      "Enter the number of elements:  4\n",
      "Enter the key:  101\n",
      "Enter the value:  Abdul Zoha\n",
      "Enter the key:  102\n",
      "Enter the value:  Rahul\n",
      "Enter the key:  103\n",
      "Enter the value:  Akbar\n",
      "Enter the key:  104\n",
      "Enter the value:  Javed\n"
     ]
    },
    {
     "data": {
      "text/plain": [
       "{'101': 'Abdul Zoha', '102': 'Rahul', '103': 'Akbar', '104': 'Javed'}"
      ]
     },
     "execution_count": 41,
     "metadata": {},
     "output_type": "execute_result"
    }
   ],
   "source": [
    "s = {}\n",
    "n = int(input(\"Enter the number of elements: \"))\n",
    "for i in range(n):\n",
    "    key = input(\"Enter the key: \")\n",
    "    value = input(\"Enter the value: \")\n",
    "    s.update({key: value})\n",
    "s"
   ]
  },
  {
   "cell_type": "markdown",
   "id": "add0d3dd-f4ca-42c8-accc-8f0316a25548",
   "metadata": {},
   "source": [
    "<h2>Nested dictionary</h2>\n",
    "<p>A dictionary within another dictionary is called as nested dictionary or nesting of a dictionary.</p>"
   ]
  },
  {
   "cell_type": "markdown",
   "id": "3ac7556a-bbbc-472a-b411-bb30dc3216df",
   "metadata": {},
   "source": [
    "<h3>Creating a nested dictionary</h3>"
   ]
  },
  {
   "cell_type": "code",
   "execution_count": 10,
   "id": "cb1c6e3b-4161-45a7-98e5-06b6353ecba0",
   "metadata": {},
   "outputs": [],
   "source": [
    "a = {\"Course\": \"Python\", \"Fees\": 15000, 1: {\"Course\": \"JavaScript\", \"Fees\": 10000}}"
   ]
  },
  {
   "cell_type": "markdown",
   "id": "fe9dfe25-5d49-45b8-97e1-9598131b6662",
   "metadata": {},
   "source": [
    "<h3>Accessing the nested dictionary</h3>"
   ]
  },
  {
   "cell_type": "code",
   "execution_count": 11,
   "id": "21bf571b-912e-4b1c-831e-5334079ea173",
   "metadata": {},
   "outputs": [
    {
     "name": "stdout",
     "output_type": "stream",
     "text": [
      "{'Course': 'Python', 'Fees': 15000, 1: {'Course': 'JavaScript', 'Fees': 10000}}\n",
      "\n",
      "Python\n",
      "\n",
      "{'Course': 'JavaScript', 'Fees': 10000}\n",
      "\n",
      "10000\n"
     ]
    }
   ],
   "source": [
    "print(a)\n",
    "print()\n",
    "print(a[\"Course\"])\n",
    "print()\n",
    "print(a[1])\n",
    "print()\n",
    "print(a[1][\"Fees\"])"
   ]
  },
  {
   "cell_type": "markdown",
   "id": "e89b8944-0049-4dc8-a889-b8084f6ea6db",
   "metadata": {},
   "source": [
    "<h3>Modifying nested dictionary</h3>"
   ]
  },
  {
   "cell_type": "code",
   "execution_count": 12,
   "id": "56d8bd8c-204c-42fb-ab7c-6787a3f47727",
   "metadata": {},
   "outputs": [
    {
     "name": "stdout",
     "output_type": "stream",
     "text": [
      "{'Course': 'Machine Learning', 'Fees': 15000, 1: {'Course': 'JavaScript', 'Fees': 10000}}\n"
     ]
    }
   ],
   "source": [
    "a[\"Course\"] = \"Machine Learning\" #to modify dictionary\n",
    "print(a)"
   ]
  },
  {
   "cell_type": "code",
   "execution_count": 13,
   "id": "c5f54c11-dfc0-4e5d-9d99-e2b48f66c36f",
   "metadata": {},
   "outputs": [
    {
     "name": "stdout",
     "output_type": "stream",
     "text": [
      "{'Course': 'Machine Learning', 'Fees': 15000, 1: {'Course': 'JavaScript', 'Fees': 25000}}\n"
     ]
    }
   ],
   "source": [
    "a[1][\"Fees\"] = 25000\n",
    "print(a)"
   ]
  },
  {
   "cell_type": "markdown",
   "id": "a6690145-975a-4565-b496-deb14aeff920",
   "metadata": {},
   "source": [
    "<h3>Deleting element from nested dictionary</h3>"
   ]
  },
  {
   "cell_type": "code",
   "execution_count": 14,
   "id": "382df50b-4b80-4609-8511-85c2a28ccc71",
   "metadata": {},
   "outputs": [
    {
     "name": "stdout",
     "output_type": "stream",
     "text": [
      "{'Course': 'Machine Learning', 'Fees': 15000, 1: {'Fees': 25000}}\n"
     ]
    }
   ],
   "source": [
    "del a[1][\"Course\"]\n",
    "print(a)"
   ]
  },
  {
   "cell_type": "markdown",
   "id": "1bd3ed60-d31f-48ac-95fe-98f4a467f5fb",
   "metadata": {},
   "source": [
    "<h3>Adding element to nested dictionary</h3>"
   ]
  },
  {
   "cell_type": "code",
   "execution_count": 15,
   "id": "37ae9727-e2aa-45b3-8dfc-2d7e0dd2a337",
   "metadata": {},
   "outputs": [
    {
     "name": "stdout",
     "output_type": "stream",
     "text": [
      "{'Course': 'Machine Learning', 'Fees': 15000, 1: {'Fees': 25000, 'Duration': '6 Months'}}\n"
     ]
    }
   ],
   "source": [
    "a[1][\"Duration\"] = \"6 Months\"\n",
    "print(a)"
   ]
  },
  {
   "cell_type": "markdown",
   "id": "e89e3661-05da-435c-b460-f331578a0379",
   "metadata": {},
   "source": [
    "<h3>Adding dictionary into nested dictionary</h3>"
   ]
  },
  {
   "cell_type": "code",
   "execution_count": 16,
   "id": "2de95ab0-2fe5-4c53-8d28-0eabfca1c63b",
   "metadata": {},
   "outputs": [
    {
     "name": "stdout",
     "output_type": "stream",
     "text": [
      "{'Course': 'Machine Learning', 'Fees': 15000, 1: {'Fees': 25000, 'Duration': '6 Months'}, 2: {'Course': 'ReactsJS', 'Fees': 30000}}\n"
     ]
    }
   ],
   "source": [
    "a[2] = {\"Course\": \"ReactsJS\", \"Fees\": 30000}\n",
    "print(a)"
   ]
  },
  {
   "cell_type": "code",
   "execution_count": 17,
   "id": "4403b909-bec6-47a7-9313-1b6a7e7b1aaf",
   "metadata": {},
   "outputs": [
    {
     "name": "stdout",
     "output_type": "stream",
     "text": [
      "{'Course': 'Machine Learning', 'Fees': 15000, 1: {'Fees': 25000, 'Duration': '6 Months', 2: {'Course': 'CSS', 'Fees': 6000}}, 2: {'Course': 'ReactsJS', 'Fees': 30000}}\n"
     ]
    }
   ],
   "source": [
    "a[1][2] = {\"Course\": \"CSS\", \"Fees\": 6000}\n",
    "print(a)"
   ]
  },
  {
   "cell_type": "code",
   "execution_count": null,
   "id": "69f118fb-dba8-4e72-ab70-173c81b22765",
   "metadata": {},
   "outputs": [],
   "source": []
  }
 ],
 "metadata": {
  "kernelspec": {
   "display_name": "Python [conda env:base] *",
   "language": "python",
   "name": "conda-base-py"
  },
  "language_info": {
   "codemirror_mode": {
    "name": "ipython",
    "version": 3
   },
   "file_extension": ".py",
   "mimetype": "text/x-python",
   "name": "python",
   "nbconvert_exporter": "python",
   "pygments_lexer": "ipython3",
   "version": "3.12.7"
  }
 },
 "nbformat": 4,
 "nbformat_minor": 5
}
