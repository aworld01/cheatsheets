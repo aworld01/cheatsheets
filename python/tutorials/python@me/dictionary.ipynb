{
 "cells": [
  {
   "cell_type": "markdown",
   "id": "ae7db881-5015-400d-8449-a86349d9f80c",
   "metadata": {},
   "source": [
    "<p>\n",
    "A Dictionary represents a group of elements in the form of key value pairs.<br>\n",
    "Dictionary in python is an unordered collection.<br>\n",
    "Dictionaries are mutable so we can modify it's item, without changing their identity.<br>\n",
    "Dictionaries are represented using curly bracket {}.<br><br>\n",
    "\n",
    "A Dictionary is created in the form of key-value pair where keys can't be repeated and must be immutable and values can be of any datatype and can be duplicated.<br>\n",
    "Keys are case sensitive.<br>\n",
    "\n",
    "We can access the value of a dictionary by referring to its key name, inside square brackets.<br>\n",
    "    ex:- a = {101:'Rahul', 102:'Raj', 103:'Sonam'}<br>\n",
    "    print(a[101])<br><br>\n",
    "    \n",
    "<b>While writing key we must follow the following rules:</b><br>\n",
    "Key should be unique.<br>\n",
    "If we mention same key again, the old key will be overwritten.<br>\n",
    "Key should be immutable type ex:- integer, string, or tuple.<br>\n",
    "We can't use list or dictionary as a key.<br>\n",
    "</p>"
   ]
  },
  {
   "cell_type": "markdown",
   "id": "7c1edb2b-49fb-40fa-af05-8bfe48769234",
   "metadata": {},
   "source": [
    "<h2>Creating a dictionary</h2>"
   ]
  },
  {
   "cell_type": "code",
   "execution_count": 2,
   "id": "c178b02f-5684-4bec-9733-715895a4c3b9",
   "metadata": {},
   "outputs": [
    {
     "data": {
      "text/plain": [
       "({}, dict)"
      ]
     },
     "execution_count": 2,
     "metadata": {},
     "output_type": "execute_result"
    }
   ],
   "source": [
    "a = {} #creating an empty dictionary\n",
    "a, type(a)"
   ]
  },
  {
   "cell_type": "code",
   "execution_count": 3,
   "id": "4ddbfb70-2bc2-4290-a396-37e4366947c5",
   "metadata": {},
   "outputs": [
    {
     "data": {
      "text/plain": [
       "({101: 'Rahul', 102: 'Raj', 103: 'Sonam'}, dict)"
      ]
     },
     "execution_count": 3,
     "metadata": {},
     "output_type": "execute_result"
    }
   ],
   "source": [
    "a = {101: \"Rahul\", 102: \"Raj\", 103: \"Sonam\"}\n",
    "a, type(a)"
   ]
  },
  {
   "cell_type": "code",
   "execution_count": 6,
   "id": "7df4a1b2-3f8d-4fc7-b1e8-33c50929a1f3",
   "metadata": {},
   "outputs": [],
   "source": [
    "fees = {\"Rahul\": 2000, \"Raj\": 3000, \"Sonam\": 8000, \"raj\": 1000}"
   ]
  },
  {
   "cell_type": "markdown",
   "id": "bdb67349-3438-414f-964d-69403af33be3",
   "metadata": {},
   "source": [
    "<h2>Accessing dictionary</h2>"
   ]
  },
  {
   "cell_type": "code",
   "execution_count": 7,
   "id": "aab2e585-9555-40b3-9b9c-7d93d31f9ce2",
   "metadata": {},
   "outputs": [
    {
     "data": {
      "text/plain": [
       "'Raj'"
      ]
     },
     "execution_count": 7,
     "metadata": {},
     "output_type": "execute_result"
    }
   ],
   "source": [
    "a[102]"
   ]
  },
  {
   "cell_type": "code",
   "execution_count": 13,
   "id": "0b948290-f615-48ca-8361-4732d55edc98",
   "metadata": {},
   "outputs": [
    {
     "data": {
      "text/plain": [
       "(8000, str)"
      ]
     },
     "execution_count": 13,
     "metadata": {},
     "output_type": "execute_result"
    }
   ],
   "source": [
    "fees[\"Sonam\"], type(\"Sonam\")"
   ]
  },
  {
   "cell_type": "markdown",
   "id": "76ada872-8f88-411b-8592-b7d4f2ae5d54",
   "metadata": {},
   "source": [
    "<h2>Modifying dictionary</h2>\n",
    "<p>We can modify the existing value of key by assigning a new value</p>"
   ]
  },
  {
   "cell_type": "code",
   "execution_count": 14,
   "id": "a8cb2617-c31a-41e3-b8c9-237d5d363c1a",
   "metadata": {},
   "outputs": [
    {
     "data": {
      "text/plain": [
       "({101: 'Rahul', 102: 'Raj', 103: 'Sonam'}, 2719018100096)"
      ]
     },
     "execution_count": 14,
     "metadata": {},
     "output_type": "execute_result"
    }
   ],
   "source": [
    "s = {101: \"Rahul\", 102: \"Raj\", 103: \"Sonam\"}\n",
    "s, id(s)"
   ]
  },
  {
   "cell_type": "code",
   "execution_count": 15,
   "id": "59e755cd-56fb-4f57-9be5-1e69c7c8f86e",
   "metadata": {},
   "outputs": [
    {
     "data": {
      "text/plain": [
       "({101: 'Rahul', 102: 'Kamal', 103: 'Sonam'}, 2719018100096)"
      ]
     },
     "execution_count": 15,
     "metadata": {},
     "output_type": "execute_result"
    }
   ],
   "source": [
    "s[102] = \"Kamal\"\n",
    "s, id(s)"
   ]
  },
  {
   "cell_type": "markdown",
   "id": "a34e05ff-36a8-4e09-9152-0448c566991e",
   "metadata": {},
   "source": [
    "<h2>Adding dictionary items</h2>\n",
    "<p>We can add an item to dictionary just by mentioning a new key-value pair into an existing dictionary.\n",
    "If we mention a key which is already exists in the dictionary then the value gets updated/modified rather then adding a new item.\n",
    "The new item may be added at any place in the dictionary as dictionary is an unordered collection.</p>"
   ]
  },
  {
   "cell_type": "code",
   "execution_count": 28,
   "id": "1a9c284d-9046-43b3-a00e-020a28800268",
   "metadata": {},
   "outputs": [
    {
     "data": {
      "text/plain": [
       "({101: 'Rahul', 102: 'Raj', 103: 'Sonam'}, 2719018479680)"
      ]
     },
     "execution_count": 28,
     "metadata": {},
     "output_type": "execute_result"
    }
   ],
   "source": [
    "s = {101: \"Rahul\", 102: \"Raj\", 103: \"Sonam\"}\n",
    "s, id(s)"
   ]
  },
  {
   "cell_type": "code",
   "execution_count": 29,
   "id": "7e1f41ca-13a6-40c2-a592-46c436ce4101",
   "metadata": {},
   "outputs": [
    {
     "data": {
      "text/plain": [
       "({101: 'Rahul', 102: 'Raj', 103: 'Sonam', 104: 'Abdul Zoha'}, 2719018479680)"
      ]
     },
     "execution_count": 29,
     "metadata": {},
     "output_type": "execute_result"
    }
   ],
   "source": [
    "s[104] = \"Abdul Zoha\" #to add an item\n",
    "s, id(s)"
   ]
  },
  {
   "cell_type": "markdown",
   "id": "f42992ab-977d-4b17-a31d-c3be30af1156",
   "metadata": {},
   "source": [
    "<h2>Deleting dictionary or it's items</h2>\n",
    "<p>We can delete an item of dictionary or entire dictionary using del statement.</p>"
   ]
  },
  {
   "cell_type": "code",
   "execution_count": 30,
   "id": "62bab505-eb61-4625-9684-05768b4ba6e2",
   "metadata": {},
   "outputs": [
    {
     "data": {
      "text/plain": [
       "{101: 'Rahul', 102: 'Raj', 103: 'Sonam', 104: 'Abdul Zoha'}"
      ]
     },
     "execution_count": 30,
     "metadata": {},
     "output_type": "execute_result"
    }
   ],
   "source": [
    "s = {101: \"Rahul\", 102: \"Raj\", 103: \"Sonam\", 104: \"Abdul Zoha\"}\n",
    "s"
   ]
  },
  {
   "cell_type": "code",
   "execution_count": 31,
   "id": "8926ef38-120c-4ee2-b7e3-905ece714cbe",
   "metadata": {},
   "outputs": [
    {
     "data": {
      "text/plain": [
       "{101: 'Rahul', 103: 'Sonam', 104: 'Abdul Zoha'}"
      ]
     },
     "execution_count": 31,
     "metadata": {},
     "output_type": "execute_result"
    }
   ],
   "source": [
    "del s[102] #to delete an item\n",
    "s"
   ]
  },
  {
   "cell_type": "code",
   "execution_count": 32,
   "id": "8d31bffd-4a7e-4e9f-abe0-070e2955abd3",
   "metadata": {},
   "outputs": [],
   "source": [
    "del s #to delete entire dictionary"
   ]
  },
  {
   "cell_type": "markdown",
   "id": "04f0f66a-bf0c-4f52-8691-96119380a598",
   "metadata": {},
   "source": [
    "<h2>Test dictionary's key exist or not</h2>\n",
    "<p>We can check whether a key is already exists in the dictionary or not, for this purpose we use membership operator.</p>"
   ]
  },
  {
   "cell_type": "code",
   "execution_count": null,
   "id": "5801329c-3682-4020-a351-0fd07ee8221f",
   "metadata": {},
   "outputs": [],
   "source": []
  }
 ],
 "metadata": {
  "kernelspec": {
   "display_name": "Python [conda env:base] *",
   "language": "python",
   "name": "conda-base-py"
  },
  "language_info": {
   "codemirror_mode": {
    "name": "ipython",
    "version": 3
   },
   "file_extension": ".py",
   "mimetype": "text/x-python",
   "name": "python",
   "nbconvert_exporter": "python",
   "pygments_lexer": "ipython3",
   "version": "3.12.7"
  }
 },
 "nbformat": 4,
 "nbformat_minor": 5
}
