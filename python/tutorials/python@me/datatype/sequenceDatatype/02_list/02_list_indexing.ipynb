{
 "cells": [
  {
   "cell_type": "code",
   "execution_count": 3,
   "metadata": {},
   "outputs": [
    {
     "data": {
      "text/plain": [
       "['apple', 'mango', 'banana', 'orange', 'grapes', 'guava']"
      ]
     },
     "execution_count": 3,
     "metadata": {},
     "output_type": "execute_result"
    }
   ],
   "source": [
    "fruits = [\"apple\", \"mango\", \"banana\", \"orange\", \"grapes\", \"guava\"]\n",
    "fruits"
   ]
  },
  {
   "cell_type": "markdown",
   "metadata": {},
   "source": [
    "0 => apple <br>\n",
    "1 => mango <br>\n",
    "2 => banana <br>\n",
    "3 => orange <br>\n",
    "4 => grapes <br>\n",
    "5 => guava <br>\n",
    "<hr>\n",
    "-1 => guava <br>\n",
    "-2 => grapes <br>\n",
    "-3 => orange <br>\n",
    "-4 => banana <br>\n",
    "-5 => mango <br>\n",
    "-6 => apple"
   ]
  },
  {
   "cell_type": "code",
   "execution_count": 9,
   "metadata": {},
   "outputs": [
    {
     "name": "stdout",
     "output_type": "stream",
     "text": [
      "apple\n",
      "guava\n",
      "orange\n",
      "grapes\n"
     ]
    }
   ],
   "source": [
    "print(fruits[0])\n",
    "print(fruits[-1])\n",
    "print(fruits[3])\n",
    "print(fruits[-2])"
   ]
  }
 ],
 "metadata": {
  "kernelspec": {
   "display_name": "Python 3",
   "language": "python",
   "name": "python3"
  },
  "language_info": {
   "codemirror_mode": {
    "name": "ipython",
    "version": 3
   },
   "file_extension": ".py",
   "mimetype": "text/x-python",
   "name": "python",
   "nbconvert_exporter": "python",
   "pygments_lexer": "ipython3",
   "version": "3.11.1"
  },
  "orig_nbformat": 4
 },
 "nbformat": 4,
 "nbformat_minor": 2
}
