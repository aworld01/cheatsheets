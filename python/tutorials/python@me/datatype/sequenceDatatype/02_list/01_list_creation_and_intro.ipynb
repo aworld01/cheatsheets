{
 "cells": [
  {
   "cell_type": "markdown",
   "metadata": {},
   "source": [
    "a => list creation <br>\n",
    "b => list indexing <br>\n",
    "c => list slicing <br>\n",
    "d => step argument <br>\n",
    "e => replacing items <br>\n",
    "f => deleting items"
   ]
  },
  {
   "cell_type": "code",
   "execution_count": 15,
   "metadata": {},
   "outputs": [],
   "source": [
    "\"\"\"list creation\"\"\"\n",
    "a = [] #empty list\n",
    "b = list(range(0, 11)) #creating list using range function\n",
    "c = list(range(10))\n",
    "num = 1,2,3,4\n",
    "fruits = [\"Apple\", \"Mango\", \"Banana\"]\n",
    "mixed = [\"Apple\", \"Mango\", 5, 6, 2.5, 3.2, [1,2,3,4], (5,6,7,8), None]"
   ]
  },
  {
   "cell_type": "code",
   "execution_count": 16,
   "metadata": {},
   "outputs": [
    {
     "name": "stdout",
     "output_type": "stream",
     "text": [
      "[] <class 'list'>\n",
      "[0, 1, 2, 3, 4, 5, 6, 7, 8, 9, 10] <class 'list'>\n",
      "[0, 1, 2, 3, 4, 5, 6, 7, 8, 9] <class 'list'>\n",
      "['Apple', 'Mango', 'Banana'] <class 'list'>\n",
      "['Apple', 'Mango', 5, 6, 2.5, 3.2, [1, 2, 3, 4], (5, 6, 7, 8), None] <class 'list'>\n"
     ]
    }
   ],
   "source": [
    "print(a, type(a))\n",
    "print(b, type(b))\n",
    "print(c, type(c))\n",
    "print(fruits, type(fruits))\n",
    "print(mixed, type(mixed))"
   ]
  }
 ],
 "metadata": {
  "kernelspec": {
   "display_name": "Python 3",
   "language": "python",
   "name": "python3"
  },
  "language_info": {
   "codemirror_mode": {
    "name": "ipython",
    "version": 3
   },
   "file_extension": ".py",
   "mimetype": "text/x-python",
   "name": "python",
   "nbconvert_exporter": "python",
   "pygments_lexer": "ipython3",
   "version": "3.11.1"
  },
  "orig_nbformat": 4
 },
 "nbformat": 4,
 "nbformat_minor": 2
}
