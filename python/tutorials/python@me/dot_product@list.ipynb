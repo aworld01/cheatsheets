{
 "cells": [
  {
   "cell_type": "markdown",
   "id": "02be8c10-4752-4c47-be1a-019c73e9837c",
   "metadata": {},
   "source": [
    "<h1>Dot product</h1>"
   ]
  },
  {
   "cell_type": "code",
   "execution_count": 2,
   "id": "2376877e-85e4-496e-8d50-9c9043c1b87a",
   "metadata": {},
   "outputs": [],
   "source": [
    "import numpy as np"
   ]
  },
  {
   "cell_type": "code",
   "execution_count": 3,
   "id": "3fa34eaf-99cb-4eec-8d6d-bc21ae4415ef",
   "metadata": {},
   "outputs": [],
   "source": [
    "a = [1,2,3]\n",
    "b = [2,3,4]"
   ]
  },
  {
   "cell_type": "markdown",
   "id": "7fc2e944-185e-4bc5-b413-c08dedb8a799",
   "metadata": {},
   "source": [
    "<h2>Example1</h2>"
   ]
  },
  {
   "cell_type": "markdown",
   "id": "cd8d36f2-49b0-43c0-88a0-1b6e45a424f4",
   "metadata": {},
   "source": [
    "<h3>with simple code</h3>"
   ]
  },
  {
   "cell_type": "code",
   "execution_count": 6,
   "id": "e415773b-d1ec-42ab-9709-55cb0df1a927",
   "metadata": {},
   "outputs": [
    {
     "data": {
      "text/plain": [
       "20"
      ]
     },
     "execution_count": 6,
     "metadata": {},
     "output_type": "execute_result"
    }
   ],
   "source": [
    "dot_product = a[0]*b[0]+a[1]*b[1]+a[2]*b[2]\n",
    "dot_product"
   ]
  },
  {
   "cell_type": "markdown",
   "id": "30521d08-c109-47fb-aad5-9036b262c90e",
   "metadata": {},
   "source": [
    "<h3>with for_loop</h3>"
   ]
  },
  {
   "cell_type": "code",
   "execution_count": 8,
   "id": "bc613319-c0b5-4710-99b8-adbcf2189f24",
   "metadata": {},
   "outputs": [
    {
     "data": {
      "text/plain": [
       "20"
      ]
     },
     "execution_count": 8,
     "metadata": {},
     "output_type": "execute_result"
    }
   ],
   "source": [
    "dot_product = 0\n",
    "for i in range(len(a)):\n",
    "    dot_product += a[i]*b[i]\n",
    "dot_product"
   ]
  },
  {
   "cell_type": "markdown",
   "id": "8a8babc9-26a2-4d1f-b843-cd1dc870a703",
   "metadata": {},
   "source": [
    "<h3>with numpy</h3>"
   ]
  },
  {
   "cell_type": "code",
   "execution_count": 10,
   "id": "14c872c1-2938-4f79-8631-30445ef25c32",
   "metadata": {},
   "outputs": [
    {
     "data": {
      "text/plain": [
       "20"
      ]
     },
     "execution_count": 10,
     "metadata": {},
     "output_type": "execute_result"
    }
   ],
   "source": [
    "np.dot(a,b)"
   ]
  },
  {
   "cell_type": "markdown",
   "id": "b633c9fe-24f9-41b0-b34d-b3b4b39b98b4",
   "metadata": {},
   "source": [
    "<h3>example2 with numpy</h3>"
   ]
  },
  {
   "cell_type": "code",
   "execution_count": 12,
   "id": "c6b643f1-9708-48ea-96c3-fa5a3a0f678a",
   "metadata": {},
   "outputs": [
    {
     "data": {
      "text/plain": [
       "20"
      ]
     },
     "execution_count": 12,
     "metadata": {},
     "output_type": "execute_result"
    }
   ],
   "source": [
    "a = np.array(a)\n",
    "b = np.array(b)\n",
    "a@b"
   ]
  },
  {
   "cell_type": "markdown",
   "id": "d8ab53ef-45ac-411a-a5d8-0d4d4e5c00b8",
   "metadata": {},
   "source": [
    "<h2>Example2 (Machine Learning)</h2>"
   ]
  },
  {
   "cell_type": "code",
   "execution_count": 14,
   "id": "0d3bc07a-fec8-4775-a309-8f0a0595e98c",
   "metadata": {},
   "outputs": [],
   "source": [
    "inputs = [1,2,3,2.5]\n",
    "weights = [0.2,0.8,-0.5,1.0]\n",
    "bias = 2"
   ]
  },
  {
   "cell_type": "markdown",
   "id": "379db3ce-7814-4ba7-aed8-0ab683ed5676",
   "metadata": {},
   "source": [
    "<h3>with simple code</h3>"
   ]
  },
  {
   "cell_type": "code",
   "execution_count": 16,
   "id": "aa3856cd-726b-4975-9e29-97260f7ff49b",
   "metadata": {},
   "outputs": [
    {
     "data": {
      "text/plain": [
       "4.8"
      ]
     },
     "execution_count": 16,
     "metadata": {},
     "output_type": "execute_result"
    }
   ],
   "source": [
    "dot_product = inputs[0]*weights[0]+inputs[1]*weights[1]+inputs[2]*weights[2]+inputs[3]*weights[3]+bias\n",
    "dot_product"
   ]
  },
  {
   "cell_type": "markdown",
   "id": "ec9b37f2-7517-4635-80ef-52b7badbaedb",
   "metadata": {},
   "source": [
    "<h3>with for_loop</h3>"
   ]
  },
  {
   "cell_type": "code",
   "execution_count": 18,
   "id": "867f948e-8f5c-4fd2-8c4d-b7fc5ff3e268",
   "metadata": {},
   "outputs": [
    {
     "data": {
      "text/plain": [
       "4.8"
      ]
     },
     "execution_count": 18,
     "metadata": {},
     "output_type": "execute_result"
    }
   ],
   "source": [
    "dot_product = 0\n",
    "for i in range(len(inputs)):\n",
    "    dot_product += inputs[i]*weights[i]\n",
    "dot_product+bias"
   ]
  },
  {
   "cell_type": "markdown",
   "id": "43697ea1-5ea4-4015-a211-dd48a944d840",
   "metadata": {},
   "source": [
    "<h3>with numpy</h3>"
   ]
  },
  {
   "cell_type": "code",
   "execution_count": 20,
   "id": "c063e9e2-701a-44f5-80f4-66560e6d7de2",
   "metadata": {},
   "outputs": [
    {
     "data": {
      "text/plain": [
       "4.8"
      ]
     },
     "execution_count": 20,
     "metadata": {},
     "output_type": "execute_result"
    }
   ],
   "source": [
    "dot_product = np.dot(weights,inputs)+bias\n",
    "dot_product"
   ]
  },
  {
   "cell_type": "markdown",
   "id": "3b3472be-8b38-4db3-9dc6-f27a3aec5acc",
   "metadata": {},
   "source": [
    "<h3>example2 with numpy</h3>"
   ]
  },
  {
   "cell_type": "code",
   "execution_count": 22,
   "id": "8f9ba207-a146-4dde-94cf-3ca4ce690f7f",
   "metadata": {},
   "outputs": [
    {
     "data": {
      "text/plain": [
       "4.8"
      ]
     },
     "execution_count": 22,
     "metadata": {},
     "output_type": "execute_result"
    }
   ],
   "source": [
    "inputs = np.array(inputs)\n",
    "weights = np.array(weights)\n",
    "weights@inputs+bias"
   ]
  },
  {
   "cell_type": "markdown",
   "id": "58bd80b9-8d75-4025-b7bc-b68d1389a6b1",
   "metadata": {},
   "source": [
    "<h2>Example2</h2>"
   ]
  },
  {
   "cell_type": "markdown",
   "id": "393a0044-24e8-4031-a118-b05fae8ea98f",
   "metadata": {},
   "source": [
    "<h3>with simple code</h3>"
   ]
  },
  {
   "cell_type": "code",
   "execution_count": 39,
   "id": "83d125d9-e691-471d-a0e1-fc32b1fa910d",
   "metadata": {},
   "outputs": [],
   "source": [
    "inputs = [1,2,3,2.5]\n",
    "\n",
    "weights1 = [0.2,0.8,-0.5,1.0]\n",
    "weights2 = [0.5,-0.91,0.26,-0.5]\n",
    "weights3 = [-0.26,-0.27,0.17,0.87]\n",
    "\n",
    "bias1 = 2\n",
    "bias2 = 3\n",
    "bias3 = 0.5"
   ]
  },
  {
   "cell_type": "code",
   "execution_count": 41,
   "id": "af0f59d0-ce96-467b-8a23-b62dc21e600f",
   "metadata": {},
   "outputs": [
    {
     "data": {
      "text/plain": [
       "[4.8, 1.21, 2.385]"
      ]
     },
     "execution_count": 41,
     "metadata": {},
     "output_type": "execute_result"
    }
   ],
   "source": [
    "dot_product = [inputs[0]*weights1[0]+inputs[1]*weights1[1]+inputs[2]*weights1[2]+inputs[3]*weights1[3]+bias1,\n",
    "               inputs[0]*weights2[0]+inputs[1]*weights2[1]+inputs[2]*weights2[2]+inputs[3]*weights2[3]+bias2,\n",
    "               inputs[0]*weights3[0]+inputs[1]*weights3[1]+inputs[2]*weights3[2]+inputs[3]*weights3[3]+bias3]\n",
    "dot_product"
   ]
  },
  {
   "cell_type": "markdown",
   "id": "ba6791d4-df99-40ae-950d-fe499578ec2d",
   "metadata": {},
   "source": [
    "<h3>example1 with for_loop</h3>"
   ]
  },
  {
   "cell_type": "code",
   "execution_count": 64,
   "id": "07618b72-a6f2-43c4-9cc2-e0613d2a6320",
   "metadata": {},
   "outputs": [],
   "source": [
    "inputs = [1,2,3,2.5]\n",
    "\n",
    "weights = [[0.2,0.8,-0.5,1.0],\n",
    "           [0.5,-0.91,0.26,-0.5],\n",
    "           [-0.26,-0.27,0.17,0.87]]\n",
    "\n",
    "biases = [2,3,0.5]"
   ]
  },
  {
   "cell_type": "code",
   "execution_count": 58,
   "id": "e88d6dc9-731b-4fac-bdb2-5cf1ae679eef",
   "metadata": {},
   "outputs": [
    {
     "data": {
      "text/plain": [
       "[4.8, 1.21, 2.385]"
      ]
     },
     "execution_count": 58,
     "metadata": {},
     "output_type": "execute_result"
    }
   ],
   "source": [
    "dot_product = []\n",
    "for index in range(len(weights)):\n",
    "    result = 0\n",
    "    for i in range(len(inputs)):\n",
    "        result += weights[index][i]*inputs[i]\n",
    "    result += biases[index]\n",
    "    dot_product.append(result)\n",
    "dot_product"
   ]
  },
  {
   "cell_type": "markdown",
   "id": "4873284f-b74e-49ae-b5d0-aec110565012",
   "metadata": {},
   "source": [
    "<h3>example2 with for_loop</h3>"
   ]
  },
  {
   "cell_type": "code",
   "execution_count": 60,
   "id": "2f1f798b-aba6-4dc9-a33f-ebb2401efa2f",
   "metadata": {},
   "outputs": [
    {
     "data": {
      "text/plain": [
       "[4.8, 1.21, 2.385]"
      ]
     },
     "execution_count": 60,
     "metadata": {},
     "output_type": "execute_result"
    }
   ],
   "source": [
    "n = len(inputs)\n",
    "m = len(weights)\n",
    "\n",
    "dot_product = []\n",
    "for index in range(m):\n",
    "    result = 0\n",
    "    for i in range(n):\n",
    "        weight = weights[index]\n",
    "        result += weight[i]*inputs[i]\n",
    "    result += biases[index]\n",
    "    dot_product.append(result)\n",
    "dot_product"
   ]
  },
  {
   "cell_type": "markdown",
   "id": "ebdd4c0c-7c4e-412c-9d5b-846fbd8c1408",
   "metadata": {},
   "source": [
    "<h3>example1 with numpy</h3>"
   ]
  },
  {
   "cell_type": "code",
   "execution_count": 71,
   "id": "aa3fa1c8-53b1-409e-81d3-886a55ce6ec6",
   "metadata": {},
   "outputs": [
    {
     "data": {
      "text/plain": [
       "array([4.8  , 1.21 , 2.385])"
      ]
     },
     "execution_count": 71,
     "metadata": {},
     "output_type": "execute_result"
    }
   ],
   "source": [
    "dot_product = np.dot(weights,inputs)+biases\n",
    "dot_product"
   ]
  },
  {
   "cell_type": "markdown",
   "id": "94a9eba8-748a-4807-a3f6-3c4fec647652",
   "metadata": {},
   "source": [
    "<h3>example2 with numpy</h3>"
   ]
  },
  {
   "cell_type": "code",
   "execution_count": 76,
   "id": "6853388f-a3c4-4fe6-b695-9e53a63bf427",
   "metadata": {},
   "outputs": [
    {
     "data": {
      "text/plain": [
       "array([4.8  , 1.21 , 2.385])"
      ]
     },
     "execution_count": 76,
     "metadata": {},
     "output_type": "execute_result"
    }
   ],
   "source": [
    "inputs = np.array(inputs)\n",
    "weights = np.array(weights)\n",
    "\n",
    "dot_product = weights@inputs+biases\n",
    "dot_product"
   ]
  },
  {
   "cell_type": "code",
   "execution_count": null,
   "id": "5219cae9-85cc-42d0-857a-de809610d348",
   "metadata": {},
   "outputs": [],
   "source": []
  }
 ],
 "metadata": {
  "kernelspec": {
   "display_name": "Python [conda env:base] *",
   "language": "python",
   "name": "conda-base-py"
  },
  "language_info": {
   "codemirror_mode": {
    "name": "ipython",
    "version": 3
   },
   "file_extension": ".py",
   "mimetype": "text/x-python",
   "name": "python",
   "nbconvert_exporter": "python",
   "pygments_lexer": "ipython3",
   "version": "3.12.7"
  }
 },
 "nbformat": 4,
 "nbformat_minor": 5
}
