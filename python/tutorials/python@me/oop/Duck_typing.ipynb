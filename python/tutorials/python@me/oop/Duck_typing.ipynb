{
 "cells": [
  {
   "cell_type": "code",
   "execution_count": 1,
   "id": "03221462-9589-4395-bf15-8358bbb13b42",
   "metadata": {},
   "outputs": [],
   "source": [
    "class Dog:\n",
    "    def speak(self):\n",
    "        return 'Woof!'\n",
    "class Cat:\n",
    "    def speak(self):\n",
    "        return 'Meow!'\n",
    "class Duck:\n",
    "    def speak(self):\n",
    "        return 'Quack!'\n",
    "def make_animal_speak(animal):\n",
    "    print(animal.speak())"
   ]
  },
  {
   "cell_type": "code",
   "execution_count": 3,
   "id": "f946d6de-f435-4745-9174-ade9e696e249",
   "metadata": {},
   "outputs": [],
   "source": [
    "my_dog = Dog()\n",
    "my_cat = Cat()\n",
    "my_duck = Duck()"
   ]
  },
  {
   "cell_type": "code",
   "execution_count": 5,
   "id": "e96be211-5566-4488-b614-fd6884e7c66c",
   "metadata": {},
   "outputs": [
    {
     "name": "stdout",
     "output_type": "stream",
     "text": [
      "Woof!\n",
      "Meow!\n",
      "Quack!\n"
     ]
    }
   ],
   "source": [
    "make_animal_speak(my_dog)\n",
    "make_animal_speak(my_cat)\n",
    "make_animal_speak(my_duck)"
   ]
  }
 ],
 "metadata": {
  "kernelspec": {
   "display_name": "Python [conda env:base] *",
   "language": "python",
   "name": "conda-base-py"
  },
  "language_info": {
   "codemirror_mode": {
    "name": "ipython",
    "version": 3
   },
   "file_extension": ".py",
   "mimetype": "text/x-python",
   "name": "python",
   "nbconvert_exporter": "python",
   "pygments_lexer": "ipython3",
   "version": "3.12.7"
  }
 },
 "nbformat": 4,
 "nbformat_minor": 5
}
