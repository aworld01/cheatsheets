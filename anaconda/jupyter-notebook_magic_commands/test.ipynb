{
 "cells": [
  {
   "cell_type": "code",
   "execution_count": 16,
   "id": "5d148ba3-6e7f-46e0-a877-c77ceeb70c56",
   "metadata": {},
   "outputs": [
    {
     "name": "stdout",
     "output_type": "stream",
     "text": [
      "Hello world! How are you?\n"
     ]
    }
   ],
   "source": [
    "%run hello.py"
   ]
  },
  {
   "cell_type": "code",
   "execution_count": 17,
   "id": "a309b71c-3976-4d41-968a-587d45ae245b",
   "metadata": {},
   "outputs": [
    {
     "name": "stdout",
     "output_type": "stream",
     "text": [
      "Hello world! How are you?\n"
     ]
    }
   ],
   "source": [
    "# %load hello.py\n",
    "print(\"Hello world! How are you?\")"
   ]
  },
  {
   "cell_type": "code",
   "execution_count": 18,
   "id": "6a569102-3abe-416f-8e6c-20d24df19f28",
   "metadata": {},
   "outputs": [],
   "source": [
    "#%save helllo.py"
   ]
  },
  {
   "cell_type": "code",
   "execution_count": null,
   "id": "f5c3ecfc-e941-450b-951c-40cd2cdc7ece",
   "metadata": {},
   "outputs": [],
   "source": []
  }
 ],
 "metadata": {
  "kernelspec": {
   "display_name": "Python 3 (ipykernel)",
   "language": "python",
   "name": "python3"
  },
  "language_info": {
   "codemirror_mode": {
    "name": "ipython",
    "version": 3
   },
   "file_extension": ".py",
   "mimetype": "text/x-python",
   "name": "python",
   "nbconvert_exporter": "python",
   "pygments_lexer": "ipython3",
   "version": "3.12.3"
  }
 },
 "nbformat": 4,
 "nbformat_minor": 5
}
