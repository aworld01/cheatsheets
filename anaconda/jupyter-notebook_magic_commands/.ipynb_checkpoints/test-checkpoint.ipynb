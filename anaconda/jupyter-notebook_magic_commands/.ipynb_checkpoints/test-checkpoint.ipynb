{
 "cells": [
  {
   "cell_type": "markdown",
   "id": "49410b97-7766-4470-b440-fd00bf14a64d",
   "metadata": {},
   "source": [
    "<h1>Run \"hello.py\" file</h1>"
   ]
  },
  {
   "cell_type": "code",
   "execution_count": 15,
   "id": "5d148ba3-6e7f-46e0-a877-c77ceeb70c56",
   "metadata": {},
   "outputs": [
    {
     "name": "stdout",
     "output_type": "stream",
     "text": [
      "Hello world! How are you?\n"
     ]
    }
   ],
   "source": [
    "%run hello.py"
   ]
  },
  {
   "cell_type": "markdown",
   "id": "c11441a3-8d8e-4575-8bad-d6720b754a26",
   "metadata": {},
   "source": [
    "<h1>Load \"hello.py\" file</h1>"
   ]
  },
  {
   "cell_type": "code",
   "execution_count": 18,
   "id": "a309b71c-3976-4d41-968a-587d45ae245b",
   "metadata": {},
   "outputs": [],
   "source": [
    "# %load hello.py\n",
    "print(\"Hello world! How are you??\")"
   ]
  },
  {
   "cell_type": "markdown",
   "id": "cd31c7b1-bd01-46de-aa2c-3f35618de905",
   "metadata": {},
   "source": [
    "<h1>Save \"hello.py\" file</h1>"
   ]
  },
  {
   "cell_type": "code",
   "execution_count": null,
   "id": "f5c3ecfc-e941-450b-951c-40cd2cdc7ece",
   "metadata": {},
   "outputs": [],
   "source": []
  }
 ],
 "metadata": {
  "kernelspec": {
   "display_name": "Python [conda env:base] *",
   "language": "python",
   "name": "conda-base-py"
  },
  "language_info": {
   "codemirror_mode": {
    "name": "ipython",
    "version": 3
   },
   "file_extension": ".py",
   "mimetype": "text/x-python",
   "name": "python",
   "nbconvert_exporter": "python",
   "pygments_lexer": "ipython3",
   "version": "3.12.7"
  }
 },
 "nbformat": 4,
 "nbformat_minor": 5
}
